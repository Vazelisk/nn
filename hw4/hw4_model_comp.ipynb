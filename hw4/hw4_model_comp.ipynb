{
 "cells": [
  {
   "cell_type": "code",
   "execution_count": 1,
   "id": "9e3c47e4",
   "metadata": {
    "execution": {
     "iopub.execute_input": "2022-03-27T15:56:28.925877Z",
     "iopub.status.busy": "2022-03-27T15:56:28.924183Z",
     "iopub.status.idle": "2022-03-27T15:56:35.478475Z",
     "shell.execute_reply": "2022-03-27T15:56:35.478915Z",
     "shell.execute_reply.started": "2022-03-27T15:49:44.795655Z"
    },
    "papermill": {
     "duration": 6.606538,
     "end_time": "2022-03-27T15:56:35.479177",
     "exception": false,
     "start_time": "2022-03-27T15:56:28.872639",
     "status": "completed"
    },
    "tags": []
   },
   "outputs": [],
   "source": [
    "import transformers\n",
    "from transformers import BertModel, AutoTokenizer, BertTokenizer, PreTrainedTokenizerFast, AdamW, get_linear_schedule_with_warmup, AutoModelForSequenceClassification\n",
    "import torch.nn.functional as F\n",
    "\n",
    "import torch\n",
    "import numpy as np\n",
    "import pandas as pd\n",
    "import seaborn as sns\n",
    "from pylab import rcParams\n",
    "import matplotlib.pyplot as plt\n",
    "from matplotlib import rc\n",
    "from sklearn.model_selection import train_test_split\n",
    "from sklearn.metrics import confusion_matrix, classification_report\n",
    "from collections import defaultdict\n",
    "from textwrap import wrap\n",
    "from torch import nn, optim\n",
    "from torch.nn.utils import clip_grad_norm_\n",
    "from torch.utils.data import Dataset, DataLoader\n",
    "from sklearn.model_selection import train_test_split\n",
    "\n",
    "\n",
    "RANDOM_SEED = 1\n",
    "np.random.seed(RANDOM_SEED)\n",
    "torch.manual_seed(RANDOM_SEED)\n",
    "device = torch.device(\"cuda:0\" if torch.cuda.is_available() else \"cpu\")"
   ]
  },
  {
   "cell_type": "code",
   "execution_count": 2,
   "id": "47a5d0e6",
   "metadata": {
    "execution": {
     "iopub.execute_input": "2022-03-27T15:56:35.579138Z",
     "iopub.status.busy": "2022-03-27T15:56:35.578558Z",
     "iopub.status.idle": "2022-03-27T15:56:35.766455Z",
     "shell.execute_reply": "2022-03-27T15:56:35.766969Z",
     "shell.execute_reply.started": "2022-03-27T15:49:44.809647Z"
    },
    "papermill": {
     "duration": 0.238826,
     "end_time": "2022-03-27T15:56:35.767129",
     "exception": false,
     "start_time": "2022-03-27T15:56:35.528303",
     "status": "completed"
    },
    "tags": []
   },
   "outputs": [],
   "source": [
    "df = pd.read_csv(\"../input/app-reviews/reviews.csv\")"
   ]
  },
  {
   "cell_type": "code",
   "execution_count": 3,
   "id": "be2afb37",
   "metadata": {
    "execution": {
     "iopub.execute_input": "2022-03-27T15:56:35.882944Z",
     "iopub.status.busy": "2022-03-27T15:56:35.882108Z",
     "iopub.status.idle": "2022-03-27T15:56:35.883908Z",
     "shell.execute_reply": "2022-03-27T15:56:35.884315Z",
     "shell.execute_reply.started": "2022-03-27T15:49:45.013275Z"
    },
    "papermill": {
     "duration": 0.070362,
     "end_time": "2022-03-27T15:56:35.884460",
     "exception": false,
     "start_time": "2022-03-27T15:56:35.814098",
     "status": "completed"
    },
    "scrolled": true,
    "tags": []
   },
   "outputs": [],
   "source": [
    "def to_sentiment(rating):\n",
    "    rating = int(rating)\n",
    "    if rating <= 2:\n",
    "        return 0\n",
    "    elif rating == 3:\n",
    "        return 1\n",
    "    else: \n",
    "        return 2\n",
    "\n",
    "df['sentiment'] = df.score.apply(to_sentiment)\n",
    "class_names = ['negative', 'neutral', 'positive']"
   ]
  },
  {
   "cell_type": "code",
   "execution_count": 4,
   "id": "7175630c",
   "metadata": {
    "execution": {
     "iopub.execute_input": "2022-03-27T15:56:35.987248Z",
     "iopub.status.busy": "2022-03-27T15:56:35.986432Z",
     "iopub.status.idle": "2022-03-27T15:56:36.003196Z",
     "shell.execute_reply": "2022-03-27T15:56:36.003626Z",
     "shell.execute_reply.started": "2022-03-27T15:49:45.040537Z"
    },
    "papermill": {
     "duration": 0.073565,
     "end_time": "2022-03-27T15:56:36.003766",
     "exception": false,
     "start_time": "2022-03-27T15:56:35.930201",
     "status": "completed"
    },
    "tags": []
   },
   "outputs": [
    {
     "data": {
      "text/html": [
       "<div>\n",
       "<style scoped>\n",
       "    .dataframe tbody tr th:only-of-type {\n",
       "        vertical-align: middle;\n",
       "    }\n",
       "\n",
       "    .dataframe tbody tr th {\n",
       "        vertical-align: top;\n",
       "    }\n",
       "\n",
       "    .dataframe thead th {\n",
       "        text-align: right;\n",
       "    }\n",
       "</style>\n",
       "<table border=\"1\" class=\"dataframe\">\n",
       "  <thead>\n",
       "    <tr style=\"text-align: right;\">\n",
       "      <th></th>\n",
       "      <th>userName</th>\n",
       "      <th>userImage</th>\n",
       "      <th>content</th>\n",
       "      <th>score</th>\n",
       "      <th>thumbsUpCount</th>\n",
       "      <th>reviewCreatedVersion</th>\n",
       "      <th>at</th>\n",
       "      <th>replyContent</th>\n",
       "      <th>repliedAt</th>\n",
       "      <th>sortOrder</th>\n",
       "      <th>appId</th>\n",
       "      <th>sentiment</th>\n",
       "    </tr>\n",
       "  </thead>\n",
       "  <tbody>\n",
       "    <tr>\n",
       "      <th>0</th>\n",
       "      <td>Andrew Thomas</td>\n",
       "      <td>https://lh3.googleusercontent.com/a-/AOh14GiHd...</td>\n",
       "      <td>Update: After getting a response from the deve...</td>\n",
       "      <td>1</td>\n",
       "      <td>21</td>\n",
       "      <td>4.17.0.3</td>\n",
       "      <td>2020-04-05 22:25:57</td>\n",
       "      <td>According to our TOS, and the term you have ag...</td>\n",
       "      <td>2020-04-05 15:10:24</td>\n",
       "      <td>most_relevant</td>\n",
       "      <td>com.anydo</td>\n",
       "      <td>0</td>\n",
       "    </tr>\n",
       "    <tr>\n",
       "      <th>1</th>\n",
       "      <td>Craig Haines</td>\n",
       "      <td>https://lh3.googleusercontent.com/-hoe0kwSJgPQ...</td>\n",
       "      <td>Used it for a fair amount of time without any ...</td>\n",
       "      <td>1</td>\n",
       "      <td>11</td>\n",
       "      <td>4.17.0.3</td>\n",
       "      <td>2020-04-04 13:40:01</td>\n",
       "      <td>It sounds like you logged in with a different ...</td>\n",
       "      <td>2020-04-05 15:11:35</td>\n",
       "      <td>most_relevant</td>\n",
       "      <td>com.anydo</td>\n",
       "      <td>0</td>\n",
       "    </tr>\n",
       "    <tr>\n",
       "      <th>2</th>\n",
       "      <td>steven adkins</td>\n",
       "      <td>https://lh3.googleusercontent.com/a-/AOh14GiXw...</td>\n",
       "      <td>Your app sucks now!!!!! Used to be good but no...</td>\n",
       "      <td>1</td>\n",
       "      <td>17</td>\n",
       "      <td>4.17.0.3</td>\n",
       "      <td>2020-04-01 16:18:13</td>\n",
       "      <td>This sounds odd! We are not aware of any issue...</td>\n",
       "      <td>2020-04-02 16:05:56</td>\n",
       "      <td>most_relevant</td>\n",
       "      <td>com.anydo</td>\n",
       "      <td>0</td>\n",
       "    </tr>\n",
       "    <tr>\n",
       "      <th>3</th>\n",
       "      <td>Lars Panzerbjørn</td>\n",
       "      <td>https://lh3.googleusercontent.com/a-/AOh14Gg-h...</td>\n",
       "      <td>It seems OK, but very basic. Recurring tasks n...</td>\n",
       "      <td>1</td>\n",
       "      <td>192</td>\n",
       "      <td>4.17.0.2</td>\n",
       "      <td>2020-03-12 08:17:34</td>\n",
       "      <td>We do offer this option as part of the Advance...</td>\n",
       "      <td>2020-03-15 06:20:13</td>\n",
       "      <td>most_relevant</td>\n",
       "      <td>com.anydo</td>\n",
       "      <td>0</td>\n",
       "    </tr>\n",
       "    <tr>\n",
       "      <th>4</th>\n",
       "      <td>Scott Prewitt</td>\n",
       "      <td>https://lh3.googleusercontent.com/-K-X1-YsVd6U...</td>\n",
       "      <td>Absolutely worthless. This app runs a prohibit...</td>\n",
       "      <td>1</td>\n",
       "      <td>42</td>\n",
       "      <td>4.17.0.2</td>\n",
       "      <td>2020-03-14 17:41:01</td>\n",
       "      <td>We're sorry you feel this way! 90% of the app ...</td>\n",
       "      <td>2020-03-15 23:45:51</td>\n",
       "      <td>most_relevant</td>\n",
       "      <td>com.anydo</td>\n",
       "      <td>0</td>\n",
       "    </tr>\n",
       "    <tr>\n",
       "      <th>...</th>\n",
       "      <td>...</td>\n",
       "      <td>...</td>\n",
       "      <td>...</td>\n",
       "      <td>...</td>\n",
       "      <td>...</td>\n",
       "      <td>...</td>\n",
       "      <td>...</td>\n",
       "      <td>...</td>\n",
       "      <td>...</td>\n",
       "      <td>...</td>\n",
       "      <td>...</td>\n",
       "      <td>...</td>\n",
       "    </tr>\n",
       "    <tr>\n",
       "      <th>15741</th>\n",
       "      <td>Tammy Kay</td>\n",
       "      <td>https://lh3.googleusercontent.com/a-/AOh14GhYP...</td>\n",
       "      <td>I believe that this is by far the best app wit...</td>\n",
       "      <td>5</td>\n",
       "      <td>0</td>\n",
       "      <td>NaN</td>\n",
       "      <td>2018-02-17 06:09:03</td>\n",
       "      <td>NaN</td>\n",
       "      <td>NaN</td>\n",
       "      <td>newest</td>\n",
       "      <td>com.appxy.planner</td>\n",
       "      <td>2</td>\n",
       "    </tr>\n",
       "    <tr>\n",
       "      <th>15742</th>\n",
       "      <td>Ysm Johan</td>\n",
       "      <td>https://lh3.googleusercontent.com/a-/AOh14Ggmd...</td>\n",
       "      <td>It sometimes crashes a lot!!</td>\n",
       "      <td>5</td>\n",
       "      <td>0</td>\n",
       "      <td>4.3.7</td>\n",
       "      <td>2018-02-15 10:45:22</td>\n",
       "      <td>NaN</td>\n",
       "      <td>NaN</td>\n",
       "      <td>newest</td>\n",
       "      <td>com.appxy.planner</td>\n",
       "      <td>2</td>\n",
       "    </tr>\n",
       "    <tr>\n",
       "      <th>15743</th>\n",
       "      <td>casey dearden</td>\n",
       "      <td>https://lh3.googleusercontent.com/a-/AOh14Gg2U...</td>\n",
       "      <td>Works well for what I need</td>\n",
       "      <td>5</td>\n",
       "      <td>0</td>\n",
       "      <td>4.3.7</td>\n",
       "      <td>2018-02-09 18:40:37</td>\n",
       "      <td>NaN</td>\n",
       "      <td>NaN</td>\n",
       "      <td>newest</td>\n",
       "      <td>com.appxy.planner</td>\n",
       "      <td>2</td>\n",
       "    </tr>\n",
       "    <tr>\n",
       "      <th>15744</th>\n",
       "      <td>Jerry G Tamate</td>\n",
       "      <td>https://lh3.googleusercontent.com/a-/AOh14GiTP...</td>\n",
       "      <td>Love it.</td>\n",
       "      <td>5</td>\n",
       "      <td>0</td>\n",
       "      <td>NaN</td>\n",
       "      <td>2018-02-06 12:36:17</td>\n",
       "      <td>NaN</td>\n",
       "      <td>NaN</td>\n",
       "      <td>newest</td>\n",
       "      <td>com.appxy.planner</td>\n",
       "      <td>2</td>\n",
       "    </tr>\n",
       "    <tr>\n",
       "      <th>15745</th>\n",
       "      <td>Ahmed elsalamouni</td>\n",
       "      <td>https://lh3.googleusercontent.com/-9QSxVUhCoDI...</td>\n",
       "      <td>Really amazing and helped me sooo much just i ...</td>\n",
       "      <td>5</td>\n",
       "      <td>6</td>\n",
       "      <td>4.3.7</td>\n",
       "      <td>2018-02-04 22:57:09</td>\n",
       "      <td>NaN</td>\n",
       "      <td>NaN</td>\n",
       "      <td>newest</td>\n",
       "      <td>com.appxy.planner</td>\n",
       "      <td>2</td>\n",
       "    </tr>\n",
       "  </tbody>\n",
       "</table>\n",
       "<p>15746 rows × 12 columns</p>\n",
       "</div>"
      ],
      "text/plain": [
       "                userName                                          userImage  \\\n",
       "0          Andrew Thomas  https://lh3.googleusercontent.com/a-/AOh14GiHd...   \n",
       "1           Craig Haines  https://lh3.googleusercontent.com/-hoe0kwSJgPQ...   \n",
       "2          steven adkins  https://lh3.googleusercontent.com/a-/AOh14GiXw...   \n",
       "3       Lars Panzerbjørn  https://lh3.googleusercontent.com/a-/AOh14Gg-h...   \n",
       "4          Scott Prewitt  https://lh3.googleusercontent.com/-K-X1-YsVd6U...   \n",
       "...                  ...                                                ...   \n",
       "15741          Tammy Kay  https://lh3.googleusercontent.com/a-/AOh14GhYP...   \n",
       "15742          Ysm Johan  https://lh3.googleusercontent.com/a-/AOh14Ggmd...   \n",
       "15743      casey dearden  https://lh3.googleusercontent.com/a-/AOh14Gg2U...   \n",
       "15744     Jerry G Tamate  https://lh3.googleusercontent.com/a-/AOh14GiTP...   \n",
       "15745  Ahmed elsalamouni  https://lh3.googleusercontent.com/-9QSxVUhCoDI...   \n",
       "\n",
       "                                                 content  score  \\\n",
       "0      Update: After getting a response from the deve...      1   \n",
       "1      Used it for a fair amount of time without any ...      1   \n",
       "2      Your app sucks now!!!!! Used to be good but no...      1   \n",
       "3      It seems OK, but very basic. Recurring tasks n...      1   \n",
       "4      Absolutely worthless. This app runs a prohibit...      1   \n",
       "...                                                  ...    ...   \n",
       "15741  I believe that this is by far the best app wit...      5   \n",
       "15742                       It sometimes crashes a lot!!      5   \n",
       "15743                         Works well for what I need      5   \n",
       "15744                                           Love it.      5   \n",
       "15745  Really amazing and helped me sooo much just i ...      5   \n",
       "\n",
       "       thumbsUpCount reviewCreatedVersion                   at  \\\n",
       "0                 21             4.17.0.3  2020-04-05 22:25:57   \n",
       "1                 11             4.17.0.3  2020-04-04 13:40:01   \n",
       "2                 17             4.17.0.3  2020-04-01 16:18:13   \n",
       "3                192             4.17.0.2  2020-03-12 08:17:34   \n",
       "4                 42             4.17.0.2  2020-03-14 17:41:01   \n",
       "...              ...                  ...                  ...   \n",
       "15741              0                  NaN  2018-02-17 06:09:03   \n",
       "15742              0                4.3.7  2018-02-15 10:45:22   \n",
       "15743              0                4.3.7  2018-02-09 18:40:37   \n",
       "15744              0                  NaN  2018-02-06 12:36:17   \n",
       "15745              6                4.3.7  2018-02-04 22:57:09   \n",
       "\n",
       "                                            replyContent            repliedAt  \\\n",
       "0      According to our TOS, and the term you have ag...  2020-04-05 15:10:24   \n",
       "1      It sounds like you logged in with a different ...  2020-04-05 15:11:35   \n",
       "2      This sounds odd! We are not aware of any issue...  2020-04-02 16:05:56   \n",
       "3      We do offer this option as part of the Advance...  2020-03-15 06:20:13   \n",
       "4      We're sorry you feel this way! 90% of the app ...  2020-03-15 23:45:51   \n",
       "...                                                  ...                  ...   \n",
       "15741                                                NaN                  NaN   \n",
       "15742                                                NaN                  NaN   \n",
       "15743                                                NaN                  NaN   \n",
       "15744                                                NaN                  NaN   \n",
       "15745                                                NaN                  NaN   \n",
       "\n",
       "           sortOrder              appId  sentiment  \n",
       "0      most_relevant          com.anydo          0  \n",
       "1      most_relevant          com.anydo          0  \n",
       "2      most_relevant          com.anydo          0  \n",
       "3      most_relevant          com.anydo          0  \n",
       "4      most_relevant          com.anydo          0  \n",
       "...              ...                ...        ...  \n",
       "15741         newest  com.appxy.planner          2  \n",
       "15742         newest  com.appxy.planner          2  \n",
       "15743         newest  com.appxy.planner          2  \n",
       "15744         newest  com.appxy.planner          2  \n",
       "15745         newest  com.appxy.planner          2  \n",
       "\n",
       "[15746 rows x 12 columns]"
      ]
     },
     "execution_count": 4,
     "metadata": {},
     "output_type": "execute_result"
    }
   ],
   "source": [
    "df"
   ]
  },
  {
   "cell_type": "code",
   "execution_count": 5,
   "id": "c9bf8d41",
   "metadata": {
    "execution": {
     "iopub.execute_input": "2022-03-27T15:56:36.104465Z",
     "iopub.status.busy": "2022-03-27T15:56:36.103660Z",
     "iopub.status.idle": "2022-03-27T15:56:36.287169Z",
     "shell.execute_reply": "2022-03-27T15:56:36.288339Z",
     "shell.execute_reply.started": "2022-03-27T15:49:45.071335Z"
    },
    "papermill": {
     "duration": 0.236997,
     "end_time": "2022-03-27T15:56:36.288583",
     "exception": false,
     "start_time": "2022-03-27T15:56:36.051586",
     "status": "completed"
    },
    "tags": []
   },
   "outputs": [
    {
     "name": "stderr",
     "output_type": "stream",
     "text": [
      "/opt/conda/lib/python3.7/site-packages/seaborn/_decorators.py:43: FutureWarning: Pass the following variable as a keyword arg: x. From version 0.12, the only valid positional argument will be `data`, and passing other arguments without an explicit keyword will result in an error or misinterpretation.\n",
      "  FutureWarning\n"
     ]
    },
    {
     "data": {
      "image/png": "[encoded data removed]",
      "text/plain": [
       "<Figure size 432x288 with 1 Axes>"
      ]
     },
     "metadata": {
      "needs_background": "light"
     },
     "output_type": "display_data"
    }
   ],
   "source": [
    "ax = sns.countplot(df.sentiment)\n",
    "plt.xlabel('review sentiment')\n",
    "ax.set_xticklabels(class_names);"
   ]
  },
  {
   "cell_type": "code",
   "execution_count": 6,
   "id": "a56a12ad",
   "metadata": {
    "execution": {
     "iopub.execute_input": "2022-03-27T15:56:36.393243Z",
     "iopub.status.busy": "2022-03-27T15:56:36.392260Z",
     "iopub.status.idle": "2022-03-27T15:56:36.401172Z",
     "shell.execute_reply": "2022-03-27T15:56:36.400749Z",
     "shell.execute_reply.started": "2022-03-27T15:49:45.266193Z"
    },
    "papermill": {
     "duration": 0.06365,
     "end_time": "2022-03-27T15:56:36.401296",
     "exception": false,
     "start_time": "2022-03-27T15:56:36.337646",
     "status": "completed"
    },
    "tags": []
   },
   "outputs": [],
   "source": [
    "df_train, df_test = train_test_split(df, test_size=0.1, random_state=RANDOM_SEED)\n",
    "df_val, df_test = train_test_split(df_test, test_size=0.5, random_state=RANDOM_SEED)"
   ]
  },
  {
   "cell_type": "markdown",
   "id": "9cfd7415",
   "metadata": {
    "papermill": {
     "duration": 0.048274,
     "end_time": "2022-03-27T15:56:36.498348",
     "exception": false,
     "start_time": "2022-03-27T15:56:36.450074",
     "status": "completed"
    },
    "tags": []
   },
   "source": [
    "Я пробовал другие модели, но засоряется видеопамять сильно на большое количество экспериментов в одной тетрадке"
   ]
  },
  {
   "cell_type": "code",
   "execution_count": 7,
   "id": "a0248945",
   "metadata": {
    "execution": {
     "iopub.execute_input": "2022-03-27T15:56:36.601431Z",
     "iopub.status.busy": "2022-03-27T15:56:36.600586Z",
     "iopub.status.idle": "2022-03-27T15:56:54.863104Z",
     "shell.execute_reply": "2022-03-27T15:56:54.863545Z",
     "shell.execute_reply.started": "2022-03-27T15:49:45.280654Z"
    },
    "papermill": {
     "duration": 18.31709,
     "end_time": "2022-03-27T15:56:54.863730",
     "exception": false,
     "start_time": "2022-03-27T15:56:36.546640",
     "status": "completed"
    },
    "tags": []
   },
   "outputs": [
    {
     "data": {
      "application/vnd.jupyter.widget-view+json": {
       "model_id": "6c381f16937242a2b4cd2b864a9c74fb",
       "version_major": 2,
       "version_minor": 0
      },
      "text/plain": [
       "Downloading:   0%|          | 0.00/294 [00:00<?, ?B/s]"
      ]
     },
     "metadata": {},
     "output_type": "display_data"
    },
    {
     "data": {
      "application/vnd.jupyter.widget-view+json": {
       "model_id": "a6e3339ecbc6423d94ab6aa98990418a",
       "version_major": 2,
       "version_minor": 0
      },
      "text/plain": [
       "Downloading:   0%|          | 0.00/0.98k [00:00<?, ?B/s]"
      ]
     },
     "metadata": {},
     "output_type": "display_data"
    },
    {
     "data": {
      "application/vnd.jupyter.widget-view+json": {
       "model_id": "769d9150b7ca4b5c8144dd00904c9bb1",
       "version_major": 2,
       "version_minor": 0
      },
      "text/plain": [
       "Downloading:   0%|          | 0.00/780k [00:00<?, ?B/s]"
      ]
     },
     "metadata": {},
     "output_type": "display_data"
    },
    {
     "data": {
      "application/vnd.jupyter.widget-view+json": {
       "model_id": "b05c33ff9e7749e58836aed5a5dc49e2",
       "version_major": 2,
       "version_minor": 0
      },
      "text/plain": [
       "Downloading:   0%|          | 0.00/446k [00:00<?, ?B/s]"
      ]
     },
     "metadata": {},
     "output_type": "display_data"
    },
    {
     "data": {
      "application/vnd.jupyter.widget-view+json": {
       "model_id": "05575e30b73645b2b9e8f74f10f29850",
       "version_major": 2,
       "version_minor": 0
      },
      "text/plain": [
       "Downloading:   0%|          | 0.00/1.29M [00:00<?, ?B/s]"
      ]
     },
     "metadata": {},
     "output_type": "display_data"
    },
    {
     "data": {
      "application/vnd.jupyter.widget-view+json": {
       "model_id": "97b40ba627a2417392ce91cefc26d216",
       "version_major": 2,
       "version_minor": 0
      },
      "text/plain": [
       "Downloading:   0%|          | 0.00/239 [00:00<?, ?B/s]"
      ]
     },
     "metadata": {},
     "output_type": "display_data"
    }
   ],
   "source": [
    "from transformers import AutoTokenizer, AutoModel\n",
    "model_name = 'j-hartmann/emotion-english-distilroberta-base'\n",
    "tokenizer = AutoTokenizer.from_pretrained(model_name)"
   ]
  },
  {
   "cell_type": "code",
   "execution_count": 8,
   "id": "f604c12d",
   "metadata": {
    "execution": {
     "iopub.execute_input": "2022-03-27T15:56:54.972266Z",
     "iopub.status.busy": "2022-03-27T15:56:54.971715Z",
     "iopub.status.idle": "2022-03-27T15:56:54.974942Z",
     "shell.execute_reply": "2022-03-27T15:56:54.974520Z",
     "shell.execute_reply.started": "2022-03-27T15:50:05.449165Z"
    },
    "papermill": {
     "duration": 0.059825,
     "end_time": "2022-03-27T15:56:54.975052",
     "exception": false,
     "start_time": "2022-03-27T15:56:54.915227",
     "status": "completed"
    },
    "tags": []
   },
   "outputs": [],
   "source": [
    "train_labels, val_labels, test_labels = list(df_train.sentiment), list(df_val.sentiment), list(df_test.sentiment)"
   ]
  },
  {
   "cell_type": "code",
   "execution_count": 9,
   "id": "290c1e9a",
   "metadata": {
    "execution": {
     "iopub.execute_input": "2022-03-27T15:56:55.084495Z",
     "iopub.status.busy": "2022-03-27T15:56:55.083772Z",
     "iopub.status.idle": "2022-03-27T15:56:55.085906Z",
     "shell.execute_reply": "2022-03-27T15:56:55.086287Z",
     "shell.execute_reply.started": "2022-03-27T15:50:05.458167Z"
    },
    "papermill": {
     "duration": 0.060234,
     "end_time": "2022-03-27T15:56:55.086432",
     "exception": false,
     "start_time": "2022-03-27T15:56:55.026198",
     "status": "completed"
    },
    "tags": []
   },
   "outputs": [],
   "source": [
    "train_texts, val_texts, test_texts = list(df_train.content), list(df_val.content), list(df_test.content)"
   ]
  },
  {
   "cell_type": "code",
   "execution_count": 10,
   "id": "51717d27",
   "metadata": {
    "execution": {
     "iopub.execute_input": "2022-03-27T15:56:55.190949Z",
     "iopub.status.busy": "2022-03-27T15:56:55.190147Z",
     "iopub.status.idle": "2022-03-27T15:56:58.078225Z",
     "shell.execute_reply": "2022-03-27T15:56:58.077755Z",
     "shell.execute_reply.started": "2022-03-27T15:50:05.472168Z"
    },
    "papermill": {
     "duration": 2.94117,
     "end_time": "2022-03-27T15:56:58.078358",
     "exception": false,
     "start_time": "2022-03-27T15:56:55.137188",
     "status": "completed"
    },
    "scrolled": true,
    "tags": []
   },
   "outputs": [],
   "source": [
    "train_encodings = tokenizer(train_texts, truncation=True, padding=True, return_token_type_ids=False, max_length=512, return_attention_mask = True)\n",
    "val_encodings = tokenizer(val_texts, truncation=True, padding=True, return_token_type_ids=False, max_length=512, return_attention_mask = True)\n",
    "test_encodings = tokenizer(test_texts, truncation=True, padding=True, return_token_type_ids=False, max_length=512, return_attention_mask = True)"
   ]
  },
  {
   "cell_type": "code",
   "execution_count": 11,
   "id": "311bd9c0",
   "metadata": {
    "execution": {
     "iopub.execute_input": "2022-03-27T15:56:58.188128Z",
     "iopub.status.busy": "2022-03-27T15:56:58.187330Z",
     "iopub.status.idle": "2022-03-27T15:56:58.189342Z",
     "shell.execute_reply": "2022-03-27T15:56:58.189811Z",
     "shell.execute_reply.started": "2022-03-27T15:50:08.329354Z"
    },
    "papermill": {
     "duration": 0.059177,
     "end_time": "2022-03-27T15:56:58.189940",
     "exception": false,
     "start_time": "2022-03-27T15:56:58.130763",
     "status": "completed"
    },
    "tags": []
   },
   "outputs": [],
   "source": [
    "class GPReviewDataset(torch.utils.data.Dataset):\n",
    "    def __init__(self, encodings, labels):\n",
    "        self.encodings = encodings\n",
    "        self.labels = labels\n",
    "\n",
    "    def __getitem__(self, idx):\n",
    "        item = {key: torch.tensor(val[idx]) for key, val in self.encodings.items()}\n",
    "        item['labels'] = torch.tensor(self.labels[idx])\n",
    "        return item\n",
    "\n",
    "    def __len__(self):\n",
    "        return len(self.labels)\n",
    "\n",
    "train_dataset = GPReviewDataset(train_encodings, train_labels)\n",
    "val_dataset = GPReviewDataset(val_encodings, val_labels)\n",
    "test_dataset = GPReviewDataset(test_encodings, test_labels)"
   ]
  },
  {
   "cell_type": "code",
   "execution_count": 12,
   "id": "81cb93c0",
   "metadata": {
    "execution": {
     "iopub.execute_input": "2022-03-27T15:56:58.300485Z",
     "iopub.status.busy": "2022-03-27T15:56:58.299890Z",
     "iopub.status.idle": "2022-03-27T15:56:58.304627Z",
     "shell.execute_reply": "2022-03-27T15:56:58.304071Z",
     "shell.execute_reply.started": "2022-03-27T15:50:08.338333Z"
    },
    "papermill": {
     "duration": 0.064751,
     "end_time": "2022-03-27T15:56:58.304742",
     "exception": false,
     "start_time": "2022-03-27T15:56:58.239991",
     "status": "completed"
    },
    "tags": []
   },
   "outputs": [],
   "source": [
    "batch_ex = next(iter(test_dataset))"
   ]
  },
  {
   "cell_type": "markdown",
   "id": "3e306e79",
   "metadata": {
    "papermill": {
     "duration": 0.050382,
     "end_time": "2022-03-27T15:56:58.405441",
     "exception": false,
     "start_time": "2022-03-27T15:56:58.355059",
     "status": "completed"
    },
    "tags": []
   },
   "source": [
    "### Вроде тут все стандартно, кроме того, что функция потерь считается внутри форварда для трейнера. Взято из примера huggingface на гитхабе"
   ]
  },
  {
   "cell_type": "code",
   "execution_count": 13,
   "id": "8143fbf5",
   "metadata": {
    "execution": {
     "iopub.execute_input": "2022-03-27T15:56:58.515763Z",
     "iopub.status.busy": "2022-03-27T15:56:58.515010Z",
     "iopub.status.idle": "2022-03-27T15:56:58.517196Z",
     "shell.execute_reply": "2022-03-27T15:56:58.517659Z",
     "shell.execute_reply.started": "2022-03-27T15:50:08.354447Z"
    },
    "papermill": {
     "duration": 0.062162,
     "end_time": "2022-03-27T15:56:58.517807",
     "exception": false,
     "start_time": "2022-03-27T15:56:58.455645",
     "status": "completed"
    },
    "tags": []
   },
   "outputs": [],
   "source": [
    "from torch.nn import BCEWithLogitsLoss, CrossEntropyLoss, MSELoss\n",
    "\n",
    "class SentimentClassifier(nn.Module):\n",
    "\n",
    "    def __init__(self, n_classes):\n",
    "        super().__init__()\n",
    "        self.bert = AutoModel.from_pretrained(model_name)\n",
    "        self.drop = nn.Dropout(p=0.3)\n",
    "        self.out = nn.Linear(self.bert.config.hidden_size, n_classes)\n",
    "        self.n_classes = n_classes\n",
    "  \n",
    "    def forward(\n",
    "        self,\n",
    "        input_ids=None,\n",
    "        attention_mask=None,\n",
    "        labels=None\n",
    "    ):\n",
    "        \n",
    "        last_hidden_state, pooled_output = self.bert(\n",
    "          input_ids=input_ids,\n",
    "          attention_mask=attention_mask,\n",
    "          return_dict=False\n",
    "        )\n",
    "        \n",
    "        output = self.drop(pooled_output)\n",
    "        logits = self.out(output)\n",
    "        loss = None\n",
    "        \n",
    "        if labels is not None:\n",
    "            loss_fct = CrossEntropyLoss()\n",
    "            loss = loss_fct(logits.view(-1, self.n_classes), labels.view(-1).to(device))        \n",
    "        output = (logits,)\n",
    "        \n",
    "        return ((loss,) + output) if loss is not None else output "
   ]
  },
  {
   "cell_type": "code",
   "execution_count": 14,
   "id": "57fba614",
   "metadata": {
    "execution": {
     "iopub.execute_input": "2022-03-27T15:56:58.623612Z",
     "iopub.status.busy": "2022-03-27T15:56:58.622805Z",
     "iopub.status.idle": "2022-03-27T15:57:28.057412Z",
     "shell.execute_reply": "2022-03-27T15:57:28.056882Z",
     "shell.execute_reply.started": "2022-03-27T15:50:08.365845Z"
    },
    "papermill": {
     "duration": 29.489429,
     "end_time": "2022-03-27T15:57:28.057537",
     "exception": false,
     "start_time": "2022-03-27T15:56:58.568108",
     "status": "completed"
    },
    "tags": []
   },
   "outputs": [
    {
     "data": {
      "application/vnd.jupyter.widget-view+json": {
       "model_id": "65ad9f5381124647b39ca548e47b41b5",
       "version_major": 2,
       "version_minor": 0
      },
      "text/plain": [
       "Downloading:   0%|          | 0.00/313M [00:00<?, ?B/s]"
      ]
     },
     "metadata": {},
     "output_type": "display_data"
    },
    {
     "name": "stderr",
     "output_type": "stream",
     "text": [
      "Some weights of the model checkpoint at j-hartmann/emotion-english-distilroberta-base were not used when initializing RobertaModel: ['classifier.dense.weight', 'classifier.out_proj.bias', 'classifier.dense.bias', 'classifier.out_proj.weight']\n",
      "- This IS expected if you are initializing RobertaModel from the checkpoint of a model trained on another task or with another architecture (e.g. initializing a BertForSequenceClassification model from a BertForPreTraining model).\n",
      "- This IS NOT expected if you are initializing RobertaModel from the checkpoint of a model that you expect to be exactly identical (initializing a BertForSequenceClassification model from a BertForSequenceClassification model).\n",
      "Some weights of RobertaModel were not initialized from the model checkpoint at j-hartmann/emotion-english-distilroberta-base and are newly initialized: ['roberta.pooler.dense.bias', 'roberta.pooler.dense.weight']\n",
      "You should probably TRAIN this model on a down-stream task to be able to use it for predictions and inference.\n"
     ]
    }
   ],
   "source": [
    "model = SentimentClassifier(len(class_names))\n",
    "model = model.to(device)"
   ]
  },
  {
   "cell_type": "markdown",
   "id": "14689cfb",
   "metadata": {
    "papermill": {
     "duration": 0.052479,
     "end_time": "2022-03-27T15:57:28.164555",
     "exception": false,
     "start_time": "2022-03-27T15:57:28.112076",
     "status": "completed"
    },
    "tags": []
   },
   "source": [
    "### Поставил weighed т.к. у нас три класса"
   ]
  },
  {
   "cell_type": "code",
   "execution_count": 15,
   "id": "d8e85e59",
   "metadata": {
    "execution": {
     "iopub.execute_input": "2022-03-27T15:57:28.276315Z",
     "iopub.status.busy": "2022-03-27T15:57:28.275444Z",
     "iopub.status.idle": "2022-03-27T15:57:28.277237Z",
     "shell.execute_reply": "2022-03-27T15:57:28.277692Z",
     "shell.execute_reply.started": "2022-03-27T15:50:38.441667Z"
    },
    "papermill": {
     "duration": 0.060578,
     "end_time": "2022-03-27T15:57:28.277831",
     "exception": false,
     "start_time": "2022-03-27T15:57:28.217253",
     "status": "completed"
    },
    "tags": []
   },
   "outputs": [],
   "source": [
    "from sklearn.metrics import precision_recall_fscore_support, accuracy_score\n",
    "\n",
    "def compute_metrics(pred):\n",
    "    labels = pred.label_ids\n",
    "    preds = pred.predictions.argmax(-1)\n",
    "    precision, recall, f1, _ = precision_recall_fscore_support(labels, preds, average='weighted')\n",
    "    acc = accuracy_score(labels, preds)\n",
    "    return {\n",
    "        'accuracy': acc,\n",
    "        'f1': f1,\n",
    "        'precision': precision,\n",
    "        'recall': recall\n",
    "    }"
   ]
  },
  {
   "cell_type": "markdown",
   "id": "659dc24d",
   "metadata": {
    "papermill": {
     "duration": 0.052863,
     "end_time": "2022-03-27T15:57:28.383406",
     "exception": false,
     "start_time": "2022-03-27T15:57:28.330543",
     "status": "completed"
    },
    "tags": []
   },
   "source": [
    "### Я тестировал на маленьком берте, а потом взял побольше и для сентимент. Так что 3 эпохи для хорошего размера должно хватить. Report_tо для запуска в кеггле"
   ]
  },
  {
   "cell_type": "code",
   "execution_count": 16,
   "id": "10b34e9f",
   "metadata": {
    "execution": {
     "iopub.execute_input": "2022-03-27T15:57:28.491854Z",
     "iopub.status.busy": "2022-03-27T15:57:28.491289Z",
     "iopub.status.idle": "2022-03-27T15:57:28.884943Z",
     "shell.execute_reply": "2022-03-27T15:57:28.884443Z",
     "shell.execute_reply.started": "2022-03-27T15:50:38.449508Z"
    },
    "papermill": {
     "duration": 0.450308,
     "end_time": "2022-03-27T15:57:28.885078",
     "exception": false,
     "start_time": "2022-03-27T15:57:28.434770",
     "status": "completed"
    },
    "tags": []
   },
   "outputs": [],
   "source": [
    "from transformers import Trainer, TrainingArguments\n",
    "\n",
    "training_args = TrainingArguments(\n",
    "    output_dir='./results',          # output directory\n",
    "    num_train_epochs=3,              # total number of training epochs\n",
    "    per_device_train_batch_size=16,  # batch size per device during training\n",
    "    per_device_eval_batch_size=16,   # batch size for evaluation\n",
    "    warmup_steps=500,                # number of warmup steps for learning rate scheduler\n",
    "    weight_decay=0.01,               # strength of weight decay\n",
    "    logging_dir='./logs',            # directory for storing logs\n",
    "    logging_steps=10,\n",
    "    report_to='tensorboard'\n",
    ")"
   ]
  },
  {
   "cell_type": "code",
   "execution_count": null,
   "id": "c2d052bc",
   "metadata": {
    "execution": {
     "iopub.execute_input": "2022-03-27T15:57:28.995227Z",
     "iopub.status.busy": "2022-03-27T15:57:28.994330Z",
     "iopub.status.idle": "2022-03-27T16:17:02.116504Z",
     "shell.execute_reply": "2022-03-27T16:17:02.116950Z",
     "shell.execute_reply.started": "2022-03-27T15:50:38.863362Z"
    },
    "papermill": {
     "duration": 1173.179931,
     "end_time": "2022-03-27T16:17:02.117112",
     "exception": false,
     "start_time": "2022-03-27T15:57:28.937181",
     "status": "completed"
    },
    "tags": []
   },
   "outputs": [],
   "source": [
    "trainer = Trainer(\n",
    "    model=model,                         # the instantiated 🤗 Transformers model to be trained\n",
    "    args=training_args,                  # training arguments, defined above\n",
    "    train_dataset=train_dataset,         # training dataset\n",
    "    eval_dataset=val_dataset,            # evaluation dataset\n",
    "    compute_metrics = compute_metrics\n",
    "    # metrics to evaluate\n",
    ")\n",
    "\n",
    "trainer.train()"
   ]
  },
  {
   "cell_type": "code",
   "execution_count": 18,
   "id": "f7523cc8",
   "metadata": {
    "execution": {
     "iopub.execute_input": "2022-03-27T16:17:02.238424Z",
     "iopub.status.busy": "2022-03-27T16:17:02.237473Z",
     "iopub.status.idle": "2022-03-27T16:17:09.634325Z",
     "shell.execute_reply": "2022-03-27T16:17:09.633903Z",
     "shell.execute_reply.started": "2022-03-27T15:56:01.756269Z"
    },
    "papermill": {
     "duration": 7.458898,
     "end_time": "2022-03-27T16:17:09.634477",
     "exception": false,
     "start_time": "2022-03-27T16:17:02.175579",
     "status": "completed"
    },
    "scrolled": true,
    "tags": []
   },
   "outputs": [
    {
     "name": "stderr",
     "output_type": "stream",
     "text": [
      "***** Running Evaluation *****\n",
      "  Num examples = 787\n",
      "  Batch size = 16\n"
     ]
    },
    {
     "data": {
      "text/html": [
       "\n",
       "    <div>\n",
       "      \n",
       "      <progress value='100' max='50' style='width:300px; height:20px; vertical-align: middle;'></progress>\n",
       "      [50/50 00:12]\n",
       "    </div>\n",
       "    "
      ],
      "text/plain": [
       "<IPython.core.display.HTML object>"
      ]
     },
     "metadata": {},
     "output_type": "display_data"
    },
    {
     "data": {
      "text/plain": [
       "{'eval_loss': 0.5106960535049438,\n",
       " 'eval_accuracy': 0.8398983481575604,\n",
       " 'eval_f1': 0.840202279383861,\n",
       " 'eval_precision': 0.8405905450202918,\n",
       " 'eval_recall': 0.8398983481575604,\n",
       " 'eval_runtime': 7.39,\n",
       " 'eval_samples_per_second': 106.496,\n",
       " 'eval_steps_per_second': 6.766,\n",
       " 'epoch': 3.0}"
      ]
     },
     "execution_count": 18,
     "metadata": {},
     "output_type": "execute_result"
    }
   ],
   "source": [
    "trainer.evaluate()"
   ]
  },
  {
   "cell_type": "code",
   "execution_count": 19,
   "id": "9aaac2ac",
   "metadata": {
    "execution": {
     "iopub.execute_input": "2022-03-27T16:17:09.769080Z",
     "iopub.status.busy": "2022-03-27T16:17:09.768208Z",
     "iopub.status.idle": "2022-03-27T16:17:14.963589Z",
     "shell.execute_reply": "2022-03-27T16:17:14.964280Z",
     "shell.execute_reply.started": "2022-03-27T15:56:01.757739Z"
    },
    "papermill": {
     "duration": 5.269327,
     "end_time": "2022-03-27T16:17:14.964599",
     "exception": false,
     "start_time": "2022-03-27T16:17:09.695272",
     "status": "completed"
    },
    "tags": []
   },
   "outputs": [
    {
     "name": "stderr",
     "output_type": "stream",
     "text": [
      "***** Running Evaluation *****\n",
      "  Num examples = 788\n",
      "  Batch size = 16\n"
     ]
    },
    {
     "data": {
      "text/plain": [
       "{'test_loss': 0.5052164793014526,\n",
       " 'test_accuracy': 0.8236040609137056,\n",
       " 'test_f1': 0.8251158318309084,\n",
       " 'test_precision': 0.8284370574570347,\n",
       " 'test_recall': 0.8236040609137056,\n",
       " 'test_runtime': 5.1886,\n",
       " 'test_samples_per_second': 151.872,\n",
       " 'test_steps_per_second': 9.637,\n",
       " 'epoch': 3.0}"
      ]
     },
     "execution_count": 19,
     "metadata": {},
     "output_type": "execute_result"
    }
   ],
   "source": [
    "trainer.evaluate(eval_dataset=test_dataset, metric_key_prefix=\"test\")"
   ]
  },
  {
   "cell_type": "code",
   "execution_count": 20,
   "id": "b4859eda",
   "metadata": {
    "execution": {
     "iopub.execute_input": "2022-03-27T16:17:15.382762Z",
     "iopub.status.busy": "2022-03-27T16:17:15.381905Z",
     "iopub.status.idle": "2022-03-27T16:17:15.384625Z",
     "shell.execute_reply": "2022-03-27T16:17:15.383853Z",
     "shell.execute_reply.started": "2022-03-27T15:56:01.759879Z"
    },
    "papermill": {
     "duration": 0.302855,
     "end_time": "2022-03-27T16:17:15.384760",
     "exception": false,
     "start_time": "2022-03-27T16:17:15.081905",
     "status": "completed"
    },
    "tags": []
   },
   "outputs": [],
   "source": [
    "del model\n",
    "torch.cuda.empty_cache()"
   ]
  },
  {
   "cell_type": "markdown",
   "id": "92dea9c0",
   "metadata": {
    "papermill": {
     "duration": 0.061013,
     "end_time": "2022-03-27T16:17:15.507959",
     "exception": false,
     "start_time": "2022-03-27T16:17:15.446946",
     "status": "completed"
    },
    "tags": []
   },
   "source": [
    "# Используем cls без линейного слоя"
   ]
  },
  {
   "cell_type": "code",
   "execution_count": 21,
   "id": "6470ceae",
   "metadata": {
    "execution": {
     "iopub.execute_input": "2022-03-27T16:17:15.640979Z",
     "iopub.status.busy": "2022-03-27T16:17:15.639411Z",
     "iopub.status.idle": "2022-03-27T16:17:15.641586Z",
     "shell.execute_reply": "2022-03-27T16:17:15.641987Z",
     "shell.execute_reply.started": "2022-03-27T15:56:01.761620Z"
    },
    "papermill": {
     "duration": 0.072805,
     "end_time": "2022-03-27T16:17:15.642115",
     "exception": false,
     "start_time": "2022-03-27T16:17:15.569310",
     "status": "completed"
    },
    "tags": []
   },
   "outputs": [],
   "source": [
    "from torch.nn import BCEWithLogitsLoss, CrossEntropyLoss, MSELoss\n",
    "\n",
    "class SentimentClassifierWithCLS(nn.Module):\n",
    "\n",
    "    def __init__(self, n_classes):\n",
    "        super().__init__()\n",
    "        self.bert = AutoModel.from_pretrained(model_name)\n",
    "        self.drop = nn.Dropout(p=0.3)\n",
    "        self.out = nn.Linear(self.bert.config.hidden_size*2, n_classes)\n",
    "        self.n_classes = n_classes\n",
    "  \n",
    "    def forward(\n",
    "        self,\n",
    "        input_ids=None,\n",
    "        attention_mask=None,\n",
    "        labels=None\n",
    "    ):\n",
    "        \n",
    "        last_hidden_state, pooled_output = self.bert(\n",
    "          input_ids=input_ids,\n",
    "          attention_mask=attention_mask,\n",
    "          return_dict=False\n",
    "        )\n",
    "        # первый токен\n",
    "        cls_token = last_hidden_state[:,0,:]\n",
    "        output = self.drop(pooled_output)\n",
    "        concated = torch.cat((cls_token, output), 1)\n",
    "        logits = self.out(concated)\n",
    "        loss = None\n",
    "        \n",
    "        if labels is not None:\n",
    "            loss_fct = CrossEntropyLoss()\n",
    "            loss = loss_fct(logits.view(-1, self.n_classes), labels.view(-1).to(device))        \n",
    "        output = (logits,)\n",
    "        \n",
    "        return ((loss,) + output) if loss is not None else output "
   ]
  },
  {
   "cell_type": "code",
   "execution_count": null,
   "id": "2251bb84",
   "metadata": {
    "execution": {
     "iopub.execute_input": "2022-03-27T16:17:15.772057Z",
     "iopub.status.busy": "2022-03-27T16:17:15.767774Z",
     "iopub.status.idle": "2022-03-27T16:17:19.248421Z",
     "shell.execute_reply": "2022-03-27T16:17:19.248900Z",
     "shell.execute_reply.started": "2022-03-27T15:56:01.763246Z"
    },
    "papermill": {
     "duration": 3.545895,
     "end_time": "2022-03-27T16:17:19.249058",
     "exception": false,
     "start_time": "2022-03-27T16:17:15.703163",
     "status": "completed"
    },
    "tags": []
   },
   "outputs": [],
   "source": [
    "model2 = SentimentClassifierWithCLS(3)"
   ]
  },
  {
   "cell_type": "code",
   "execution_count": null,
   "id": "f6f9f0fa",
   "metadata": {
    "execution": {
     "iopub.execute_input": "2022-03-27T16:17:19.381834Z",
     "iopub.status.busy": "2022-03-27T16:17:19.381129Z",
     "iopub.status.idle": "2022-03-27T16:36:55.719735Z",
     "shell.execute_reply": "2022-03-27T16:36:55.720218Z",
     "shell.execute_reply.started": "2022-03-27T15:56:01.765118Z"
    },
    "papermill": {
     "duration": 1176.407926,
     "end_time": "2022-03-27T16:36:55.720397",
     "exception": false,
     "start_time": "2022-03-27T16:17:19.312471",
     "status": "completed"
    },
    "tags": []
   },
   "outputs": [],
   "source": [
    "trainer = Trainer(\n",
    "    model=model2,                         # the instantiated 🤗 Transformers model to be trained\n",
    "    args=training_args,                  # training arguments, defined above\n",
    "    train_dataset=train_dataset,         # training dataset\n",
    "    eval_dataset=val_dataset,            # evaluation dataset\n",
    "    compute_metrics = compute_metrics\n",
    "    # metrics to evaluate\n",
    ")\n",
    "\n",
    "trainer.train()"
   ]
  },
  {
   "cell_type": "code",
   "execution_count": 24,
   "id": "757fb478",
   "metadata": {
    "execution": {
     "iopub.execute_input": "2022-03-27T16:36:55.869362Z",
     "iopub.status.busy": "2022-03-27T16:36:55.868523Z",
     "iopub.status.idle": "2022-03-27T16:37:03.246700Z",
     "shell.execute_reply": "2022-03-27T16:37:03.247648Z",
     "shell.execute_reply.started": "2022-03-27T15:56:01.767424Z"
    },
    "papermill": {
     "duration": 7.45594,
     "end_time": "2022-03-27T16:37:03.247854",
     "exception": false,
     "start_time": "2022-03-27T16:36:55.791914",
     "status": "completed"
    },
    "tags": []
   },
   "outputs": [
    {
     "name": "stderr",
     "output_type": "stream",
     "text": [
      "***** Running Evaluation *****\n",
      "  Num examples = 787\n",
      "  Batch size = 16\n"
     ]
    },
    {
     "data": {
      "text/html": [
       "\n",
       "    <div>\n",
       "      \n",
       "      <progress value='100' max='50' style='width:300px; height:20px; vertical-align: middle;'></progress>\n",
       "      [50/50 00:12]\n",
       "    </div>\n",
       "    "
      ],
      "text/plain": [
       "<IPython.core.display.HTML object>"
      ]
     },
     "metadata": {},
     "output_type": "display_data"
    },
    {
     "data": {
      "text/plain": [
       "{'eval_loss': 0.5467703938484192,\n",
       " 'eval_accuracy': 0.8360864040660737,\n",
       " 'eval_f1': 0.8367005779348139,\n",
       " 'eval_precision': 0.8376910090211003,\n",
       " 'eval_recall': 0.8360864040660737,\n",
       " 'eval_runtime': 7.3699,\n",
       " 'eval_samples_per_second': 106.786,\n",
       " 'eval_steps_per_second': 6.784,\n",
       " 'epoch': 3.0}"
      ]
     },
     "execution_count": 24,
     "metadata": {},
     "output_type": "execute_result"
    }
   ],
   "source": [
    "trainer.evaluate()"
   ]
  },
  {
   "cell_type": "code",
   "execution_count": 25,
   "id": "8444c5e9",
   "metadata": {
    "execution": {
     "iopub.execute_input": "2022-03-27T16:37:03.419666Z",
     "iopub.status.busy": "2022-03-27T16:37:03.418068Z",
     "iopub.status.idle": "2022-03-27T16:37:08.788737Z",
     "shell.execute_reply": "2022-03-27T16:37:08.788214Z",
     "shell.execute_reply.started": "2022-03-27T15:56:01.769474Z"
    },
    "papermill": {
     "duration": 5.448678,
     "end_time": "2022-03-27T16:37:08.788900",
     "exception": false,
     "start_time": "2022-03-27T16:37:03.340222",
     "status": "completed"
    },
    "tags": []
   },
   "outputs": [
    {
     "name": "stderr",
     "output_type": "stream",
     "text": [
      "***** Running Evaluation *****\n",
      "  Num examples = 788\n",
      "  Batch size = 16\n"
     ]
    }
   ],
   "source": [
    "trainer.evaluate(eval_dataset=test_dataset, metric_key_prefix=\"test\")\n",
    "del model2\n",
    "torch.cuda.empty_cache()"
   ]
  },
  {
   "cell_type": "markdown",
   "id": "0808adc4",
   "metadata": {
    "papermill": {
     "duration": 0.07293,
     "end_time": "2022-03-27T16:37:08.936834",
     "exception": false,
     "start_time": "2022-03-27T16:37:08.863904",
     "status": "completed"
    },
    "tags": []
   },
   "source": [
    "# Готовая голова"
   ]
  },
  {
   "cell_type": "code",
   "execution_count": null,
   "id": "2f0f1c8c",
   "metadata": {
    "execution": {
     "iopub.execute_input": "2022-03-27T16:37:09.090094Z",
     "iopub.status.busy": "2022-03-27T16:37:09.088352Z",
     "iopub.status.idle": "2022-03-27T16:37:12.539742Z",
     "shell.execute_reply": "2022-03-27T16:37:12.539245Z",
     "shell.execute_reply.started": "2022-03-27T15:56:01.771380Z"
    },
    "papermill": {
     "duration": 3.529422,
     "end_time": "2022-03-27T16:37:12.539872",
     "exception": false,
     "start_time": "2022-03-27T16:37:09.010450",
     "status": "completed"
    },
    "tags": []
   },
   "outputs": [],
   "source": [
    "model3 = AutoModelForSequenceClassification.from_pretrained(model_name, num_labels=3, ignore_mismatched_sizes=True)"
   ]
  },
  {
   "cell_type": "code",
   "execution_count": null,
   "id": "de0a9b9a",
   "metadata": {
    "execution": {
     "iopub.execute_input": "2022-03-27T16:37:12.696951Z",
     "iopub.status.busy": "2022-03-27T16:37:12.696159Z",
     "iopub.status.idle": "2022-03-27T16:56:51.697998Z",
     "shell.execute_reply": "2022-03-27T16:56:51.698518Z",
     "shell.execute_reply.started": "2022-03-27T15:56:01.773061Z"
    },
    "papermill": {
     "duration": 1179.08219,
     "end_time": "2022-03-27T16:56:51.698680",
     "exception": false,
     "start_time": "2022-03-27T16:37:12.616490",
     "status": "completed"
    },
    "tags": []
   },
   "outputs": [],
   "source": [
    "trainer = Trainer(\n",
    "    model=model3,                         # the instantiated 🤗 Transformers model to be trained\n",
    "    args=training_args,                  # training arguments, defined above\n",
    "    train_dataset=train_dataset,         # training dataset\n",
    "    eval_dataset=val_dataset,            # evaluation dataset\n",
    "    compute_metrics = compute_metrics\n",
    "    # metrics to evaluate\n",
    ")\n",
    "\n",
    "trainer.train()"
   ]
  },
  {
   "cell_type": "code",
   "execution_count": 28,
   "id": "f943606d",
   "metadata": {
    "execution": {
     "iopub.execute_input": "2022-03-27T16:56:51.875665Z",
     "iopub.status.busy": "2022-03-27T16:56:51.874799Z",
     "iopub.status.idle": "2022-03-27T16:56:59.242815Z",
     "shell.execute_reply": "2022-03-27T16:56:59.242164Z",
     "shell.execute_reply.started": "2022-03-27T15:56:01.774525Z"
    },
    "papermill": {
     "duration": 7.458297,
     "end_time": "2022-03-27T16:56:59.242940",
     "exception": false,
     "start_time": "2022-03-27T16:56:51.784643",
     "status": "completed"
    },
    "tags": []
   },
   "outputs": [
    {
     "name": "stderr",
     "output_type": "stream",
     "text": [
      "***** Running Evaluation *****\n",
      "  Num examples = 787\n",
      "  Batch size = 16\n"
     ]
    },
    {
     "data": {
      "text/html": [
       "\n",
       "    <div>\n",
       "      \n",
       "      <progress value='100' max='50' style='width:300px; height:20px; vertical-align: middle;'></progress>\n",
       "      [50/50 00:12]\n",
       "    </div>\n",
       "    "
      ],
      "text/plain": [
       "<IPython.core.display.HTML object>"
      ]
     },
     "metadata": {},
     "output_type": "display_data"
    },
    {
     "data": {
      "text/plain": [
       "{'eval_loss': 0.5260424017906189,\n",
       " 'eval_accuracy': 0.8284625158831004,\n",
       " 'eval_f1': 0.8290263473601113,\n",
       " 'eval_precision': 0.8297830860849251,\n",
       " 'eval_recall': 0.8284625158831004,\n",
       " 'eval_runtime': 7.3613,\n",
       " 'eval_samples_per_second': 106.911,\n",
       " 'eval_steps_per_second': 6.792,\n",
       " 'epoch': 3.0}"
      ]
     },
     "execution_count": 28,
     "metadata": {},
     "output_type": "execute_result"
    }
   ],
   "source": [
    "trainer.evaluate()"
   ]
  },
  {
   "cell_type": "code",
   "execution_count": 29,
   "id": "d336d2f5",
   "metadata": {
    "execution": {
     "iopub.execute_input": "2022-03-27T16:56:59.420237Z",
     "iopub.status.busy": "2022-03-27T16:56:59.419245Z",
     "iopub.status.idle": "2022-03-27T16:57:04.782330Z",
     "shell.execute_reply": "2022-03-27T16:57:04.781899Z",
     "shell.execute_reply.started": "2022-03-27T15:56:01.776607Z"
    },
    "papermill": {
     "duration": 5.453757,
     "end_time": "2022-03-27T16:57:04.782480",
     "exception": false,
     "start_time": "2022-03-27T16:56:59.328723",
     "status": "completed"
    },
    "tags": []
   },
   "outputs": [
    {
     "name": "stderr",
     "output_type": "stream",
     "text": [
      "***** Running Evaluation *****\n",
      "  Num examples = 788\n",
      "  Batch size = 16\n"
     ]
    }
   ],
   "source": [
    "trainer.evaluate(eval_dataset=test_dataset, metric_key_prefix=\"test\")\n",
    "del model3\n",
    "torch.cuda.empty_cache()"
   ]
  },
  {
   "cell_type": "markdown",
   "id": "ff829254",
   "metadata": {
    "papermill": {
     "duration": 0.086146,
     "end_time": "2022-03-27T16:57:04.957259",
     "exception": false,
     "start_time": "2022-03-27T16:57:04.871113",
     "status": "completed"
    },
    "tags": []
   },
   "source": [
    "# CLS на нескольких слоях"
   ]
  },
  {
   "cell_type": "markdown",
   "id": "e89bff2a",
   "metadata": {
    "execution": {
     "iopub.execute_input": "2022-03-27T12:46:05.548887Z",
     "iopub.status.busy": "2022-03-27T12:46:05.548353Z",
     "iopub.status.idle": "2022-03-27T12:46:05.554572Z",
     "shell.execute_reply": "2022-03-27T12:46:05.553566Z",
     "shell.execute_reply.started": "2022-03-27T12:46:05.548846Z"
    },
    "papermill": {
     "duration": 0.087004,
     "end_time": "2022-03-27T16:57:05.130968",
     "exception": false,
     "start_time": "2022-03-27T16:57:05.043964",
     "status": "completed"
    },
    "tags": []
   },
   "source": [
    "### Я соединю вектора и передам получившуюся длину в линейный слой"
   ]
  },
  {
   "cell_type": "code",
   "execution_count": 30,
   "id": "31ad3b1f",
   "metadata": {
    "execution": {
     "iopub.execute_input": "2022-03-27T16:57:05.314836Z",
     "iopub.status.busy": "2022-03-27T16:57:05.314062Z",
     "iopub.status.idle": "2022-03-27T16:57:05.316508Z",
     "shell.execute_reply": "2022-03-27T16:57:05.316058Z",
     "shell.execute_reply.started": "2022-03-27T15:56:01.778697Z"
    },
    "papermill": {
     "duration": 0.098842,
     "end_time": "2022-03-27T16:57:05.316622",
     "exception": false,
     "start_time": "2022-03-27T16:57:05.217780",
     "status": "completed"
    },
    "tags": []
   },
   "outputs": [],
   "source": [
    "from torch.nn import BCEWithLogitsLoss, CrossEntropyLoss, MSELoss\n",
    "\n",
    "class SentimentClassifierWithMultipleCLS(nn.Module):\n",
    "\n",
    "    def __init__(self, n_classes):\n",
    "        super().__init__()\n",
    "        self.bert = AutoModel.from_pretrained(model_name)\n",
    "        self.drop = nn.Dropout(p=0.3)\n",
    "        self.out = nn.Linear(self.bert.config.hidden_size*self.bert.config.num_hidden_layers, n_classes)\n",
    "        self.n_classes = n_classes\n",
    "  \n",
    "    def forward(\n",
    "        self,\n",
    "        input_ids=None,\n",
    "        attention_mask=None,\n",
    "        labels=None\n",
    "    ):\n",
    "        \n",
    "        last_hidden_state, pooled_output, hidden_states = self.bert(\n",
    "          input_ids=input_ids,\n",
    "          attention_mask=attention_mask,\n",
    "          return_dict=False,\n",
    "          output_hidden_states=True\n",
    "        )\n",
    "\n",
    "        concated = None\n",
    "        for state in hidden_states[1:]:\n",
    "            cls_token = state[:,0,:]\n",
    "            if concated is not None:\n",
    "                concated = torch.cat((cls_token, concated), 1)\n",
    "            else:\n",
    "                concated = cls_token\n",
    "        logits = self.out(concated)\n",
    "        loss = None\n",
    "        \n",
    "        if labels is not None:\n",
    "            loss_fct = CrossEntropyLoss()\n",
    "            loss = loss_fct(logits.view(-1, self.n_classes), labels.view(-1).to(device))        \n",
    "        output = (logits,)\n",
    "        \n",
    "        return ((loss,) + output) if loss is not None else output "
   ]
  },
  {
   "cell_type": "code",
   "execution_count": null,
   "id": "d39642e6",
   "metadata": {
    "execution": {
     "iopub.execute_input": "2022-03-27T16:57:05.496989Z",
     "iopub.status.busy": "2022-03-27T16:57:05.496445Z",
     "iopub.status.idle": "2022-03-27T16:57:08.185745Z",
     "shell.execute_reply": "2022-03-27T16:57:08.186284Z",
     "shell.execute_reply.started": "2022-03-27T15:56:01.780596Z"
    },
    "papermill": {
     "duration": 2.783593,
     "end_time": "2022-03-27T16:57:08.186499",
     "exception": false,
     "start_time": "2022-03-27T16:57:05.402906",
     "status": "completed"
    },
    "tags": []
   },
   "outputs": [],
   "source": [
    "model4 = SentimentClassifierWithMultipleCLS(3)"
   ]
  },
  {
   "cell_type": "code",
   "execution_count": 32,
   "id": "ab41c446",
   "metadata": {
    "execution": {
     "iopub.execute_input": "2022-03-27T16:57:08.373831Z",
     "iopub.status.busy": "2022-03-27T16:57:08.372849Z",
     "iopub.status.idle": "2022-03-27T16:57:08.376566Z",
     "shell.execute_reply": "2022-03-27T16:57:08.377136Z",
     "shell.execute_reply.started": "2022-03-27T15:56:01.782478Z"
    },
    "papermill": {
     "duration": 0.10007,
     "end_time": "2022-03-27T16:57:08.377317",
     "exception": false,
     "start_time": "2022-03-27T16:57:08.277247",
     "status": "completed"
    },
    "tags": []
   },
   "outputs": [
    {
     "name": "stderr",
     "output_type": "stream",
     "text": [
      "PyTorch: setting up devices\n"
     ]
    }
   ],
   "source": [
    "from transformers import Trainer, TrainingArguments\n",
    "\n",
    "training_args = TrainingArguments(\n",
    "    output_dir='./results',          # output directory\n",
    "    num_train_epochs=3,              # total number of training epochs\n",
    "    per_device_train_batch_size=8,  # batch size per device during training\n",
    "    per_device_eval_batch_size=8,   # batch size for evaluation\n",
    "    warmup_steps=500,                # number of warmup steps for learning rate scheduler\n",
    "    weight_decay=0.01,               # strength of weight decay\n",
    "    logging_dir='./logs',            # directory for storing logs\n",
    "    logging_steps=10,\n",
    "    report_to='tensorboard'\n",
    ")"
   ]
  },
  {
   "cell_type": "code",
   "execution_count": null,
   "id": "077bd852",
   "metadata": {
    "execution": {
     "iopub.execute_input": "2022-03-27T16:57:08.564002Z",
     "iopub.status.busy": "2022-03-27T16:57:08.563221Z",
     "iopub.status.idle": "2022-03-27T17:18:30.867926Z",
     "shell.execute_reply": "2022-03-27T17:18:30.868457Z",
     "shell.execute_reply.started": "2022-03-27T15:56:01.784157Z"
    },
    "papermill": {
     "duration": 1282.399918,
     "end_time": "2022-03-27T17:18:30.868622",
     "exception": false,
     "start_time": "2022-03-27T16:57:08.468704",
     "status": "completed"
    },
    "tags": []
   },
   "outputs": [],
   "source": [
    "trainer = Trainer(\n",
    "    model=model4,                         # the instantiated 🤗 Transformers model to be trained\n",
    "    args=training_args,                  # training arguments, defined above\n",
    "    train_dataset=train_dataset,         # training dataset\n",
    "    eval_dataset=val_dataset,            # evaluation dataset\n",
    "    compute_metrics = compute_metrics\n",
    "    # metrics to evaluate\n",
    ")\n",
    "\n",
    "trainer.train()"
   ]
  },
  {
   "cell_type": "code",
   "execution_count": 34,
   "id": "10536451",
   "metadata": {
    "execution": {
     "iopub.execute_input": "2022-03-27T17:18:31.105878Z",
     "iopub.status.busy": "2022-03-27T17:18:31.104859Z",
     "iopub.status.idle": "2022-03-27T17:18:38.782492Z",
     "shell.execute_reply": "2022-03-27T17:18:38.782035Z",
     "shell.execute_reply.started": "2022-03-27T15:56:01.786012Z"
    },
    "papermill": {
     "duration": 7.799295,
     "end_time": "2022-03-27T17:18:38.782623",
     "exception": false,
     "start_time": "2022-03-27T17:18:30.983328",
     "status": "completed"
    },
    "tags": []
   },
   "outputs": [
    {
     "name": "stderr",
     "output_type": "stream",
     "text": [
      "***** Running Evaluation *****\n",
      "  Num examples = 787\n",
      "  Batch size = 8\n"
     ]
    },
    {
     "data": {
      "text/html": [
       "\n",
       "    <div>\n",
       "      \n",
       "      <progress value='198' max='99' style='width:300px; height:20px; vertical-align: middle;'></progress>\n",
       "      [99/99 00:13]\n",
       "    </div>\n",
       "    "
      ],
      "text/plain": [
       "<IPython.core.display.HTML object>"
      ]
     },
     "metadata": {},
     "output_type": "display_data"
    },
    {
     "data": {
      "text/plain": [
       "{'eval_loss': 0.613969087600708,\n",
       " 'eval_accuracy': 0.8462515883100381,\n",
       " 'eval_f1': 0.8465191286496045,\n",
       " 'eval_precision': 0.8469955656169499,\n",
       " 'eval_recall': 0.8462515883100381,\n",
       " 'eval_runtime': 7.6705,\n",
       " 'eval_samples_per_second': 102.6,\n",
       " 'eval_steps_per_second': 12.907,\n",
       " 'epoch': 3.0}"
      ]
     },
     "execution_count": 34,
     "metadata": {},
     "output_type": "execute_result"
    }
   ],
   "source": [
    "trainer.evaluate()"
   ]
  },
  {
   "cell_type": "code",
   "execution_count": 35,
   "id": "2f9d120d",
   "metadata": {
    "execution": {
     "iopub.execute_input": "2022-03-27T17:18:39.011066Z",
     "iopub.status.busy": "2022-03-27T17:18:39.010038Z",
     "iopub.status.idle": "2022-03-27T17:18:44.854130Z",
     "shell.execute_reply": "2022-03-27T17:18:44.853601Z",
     "shell.execute_reply.started": "2022-03-27T15:56:01.788049Z"
    },
    "papermill": {
     "duration": 5.960721,
     "end_time": "2022-03-27T17:18:44.854275",
     "exception": false,
     "start_time": "2022-03-27T17:18:38.893554",
     "status": "completed"
    },
    "tags": []
   },
   "outputs": [
    {
     "name": "stderr",
     "output_type": "stream",
     "text": [
      "***** Running Evaluation *****\n",
      "  Num examples = 788\n",
      "  Batch size = 8\n"
     ]
    }
   ],
   "source": [
    "trainer.evaluate(eval_dataset=test_dataset, metric_key_prefix=\"test\")\n",
    "del model4\n",
    "torch.cuda.empty_cache()"
   ]
  },
  {
   "cell_type": "markdown",
   "id": "fd2e83c0",
   "metadata": {
    "execution": {
     "iopub.execute_input": "2022-03-27T11:42:00.894849Z",
     "iopub.status.busy": "2022-03-27T11:42:00.894588Z",
     "iopub.status.idle": "2022-03-27T11:42:00.919578Z",
     "shell.execute_reply": "2022-03-27T11:42:00.918494Z",
     "shell.execute_reply.started": "2022-03-27T11:42:00.894819Z"
    },
    "papermill": {
     "duration": 0.104175,
     "end_time": "2022-03-27T17:18:45.063319",
     "exception": false,
     "start_time": "2022-03-27T17:18:44.959144",
     "status": "completed"
    },
    "tags": []
   },
   "source": [
    "### Выше я конкатенировал векторы, теперь попробую взять среднее по всем"
   ]
  },
  {
   "cell_type": "code",
   "execution_count": 36,
   "id": "47e3348f",
   "metadata": {
    "execution": {
     "iopub.execute_input": "2022-03-27T17:18:45.290980Z",
     "iopub.status.busy": "2022-03-27T17:18:45.289920Z",
     "iopub.status.idle": "2022-03-27T17:18:45.291868Z",
     "shell.execute_reply": "2022-03-27T17:18:45.292451Z",
     "shell.execute_reply.started": "2022-03-27T15:56:01.789971Z"
    },
    "papermill": {
     "duration": 0.124762,
     "end_time": "2022-03-27T17:18:45.292603",
     "exception": false,
     "start_time": "2022-03-27T17:18:45.167841",
     "status": "completed"
    },
    "tags": []
   },
   "outputs": [],
   "source": [
    "from torch.nn import BCEWithLogitsLoss, CrossEntropyLoss, MSELoss\n",
    "\n",
    "class SentimentClassifierWithMultipleCLS2(nn.Module):\n",
    "\n",
    "    def __init__(self, n_classes):\n",
    "        super().__init__()\n",
    "        self.bert = AutoModel.from_pretrained(model_name)\n",
    "        self.drop = nn.Dropout(p=0.3)\n",
    "        self.out = nn.Linear(self.bert.config.hidden_size, n_classes)\n",
    "        self.n_classes = n_classes\n",
    "  \n",
    "    def forward(\n",
    "        self,\n",
    "        input_ids=None,\n",
    "        attention_mask=None,\n",
    "        labels=None\n",
    "    ):\n",
    "        \n",
    "        last_hidden_state, pooled_output, hidden_states = self.bert(\n",
    "          input_ids=input_ids,\n",
    "          attention_mask=attention_mask,\n",
    "          return_dict=False,\n",
    "          output_hidden_states=True\n",
    "        )\n",
    "\n",
    "        all_hidden_states = torch.stack(hidden_states)\n",
    "        cls_embs = torch.mean(all_hidden_states[:, :, 0], 0)\n",
    "        \n",
    "        logits = self.out(cls_embs)\n",
    "        loss = None\n",
    "        \n",
    "        if labels is not None:\n",
    "            loss_fct = CrossEntropyLoss()\n",
    "            loss = loss_fct(logits.view(-1, self.n_classes), labels.view(-1).to(device))        \n",
    "        output = (logits,)\n",
    "        \n",
    "        return ((loss,) + output) if loss is not None else output "
   ]
  },
  {
   "cell_type": "code",
   "execution_count": null,
   "id": "ddb4b328",
   "metadata": {
    "execution": {
     "iopub.execute_input": "2022-03-27T17:18:45.507612Z",
     "iopub.status.busy": "2022-03-27T17:18:45.506797Z",
     "iopub.status.idle": "2022-03-27T17:18:48.164874Z",
     "shell.execute_reply": "2022-03-27T17:18:48.165323Z",
     "shell.execute_reply.started": "2022-03-27T15:56:01.791759Z"
    },
    "papermill": {
     "duration": 2.765787,
     "end_time": "2022-03-27T17:18:48.165537",
     "exception": false,
     "start_time": "2022-03-27T17:18:45.399750",
     "status": "completed"
    },
    "tags": []
   },
   "outputs": [],
   "source": [
    "model5 = SentimentClassifierWithMultipleCLS2(3)"
   ]
  },
  {
   "cell_type": "code",
   "execution_count": null,
   "id": "136685cf",
   "metadata": {
    "execution": {
     "iopub.execute_input": "2022-03-27T17:18:48.391489Z",
     "iopub.status.busy": "2022-03-27T17:18:48.390709Z",
     "iopub.status.idle": "2022-03-27T17:40:20.636083Z",
     "shell.execute_reply": "2022-03-27T17:40:20.635618Z",
     "shell.execute_reply.started": "2022-03-27T15:56:01.793474Z"
    },
    "papermill": {
     "duration": 1292.354767,
     "end_time": "2022-03-27T17:40:20.636210",
     "exception": false,
     "start_time": "2022-03-27T17:18:48.281443",
     "status": "completed"
    },
    "tags": []
   },
   "outputs": [],
   "source": [
    "trainer = Trainer(\n",
    "    model=model5,                         # the instantiated 🤗 Transformers model to be trained\n",
    "    args=training_args,                  # training arguments, defined above\n",
    "    train_dataset=train_dataset,         # training dataset\n",
    "    eval_dataset=val_dataset,            # evaluation dataset\n",
    "    compute_metrics = compute_metrics\n",
    "    # metrics to evaluate\n",
    ")\n",
    "\n",
    "trainer.train()"
   ]
  },
  {
   "cell_type": "code",
   "execution_count": 39,
   "id": "f37c6e46",
   "metadata": {
    "execution": {
     "iopub.execute_input": "2022-03-27T17:40:20.884556Z",
     "iopub.status.busy": "2022-03-27T17:40:20.883697Z",
     "iopub.status.idle": "2022-03-27T17:40:28.636466Z",
     "shell.execute_reply": "2022-03-27T17:40:28.635777Z",
     "shell.execute_reply.started": "2022-03-27T15:56:01.795412Z"
    },
    "papermill": {
     "duration": 7.8804,
     "end_time": "2022-03-27T17:40:28.636596",
     "exception": false,
     "start_time": "2022-03-27T17:40:20.756196",
     "status": "completed"
    },
    "tags": []
   },
   "outputs": [
    {
     "name": "stderr",
     "output_type": "stream",
     "text": [
      "***** Running Evaluation *****\n",
      "  Num examples = 787\n",
      "  Batch size = 8\n"
     ]
    },
    {
     "data": {
      "text/html": [
       "\n",
       "    <div>\n",
       "      \n",
       "      <progress value='198' max='99' style='width:300px; height:20px; vertical-align: middle;'></progress>\n",
       "      [99/99 00:13]\n",
       "    </div>\n",
       "    "
      ],
      "text/plain": [
       "<IPython.core.display.HTML object>"
      ]
     },
     "metadata": {},
     "output_type": "display_data"
    },
    {
     "data": {
      "text/plain": [
       "{'eval_loss': 0.5452734231948853,\n",
       " 'eval_accuracy': 0.8424396442185514,\n",
       " 'eval_f1': 0.8433133785893978,\n",
       " 'eval_precision': 0.8446799660244834,\n",
       " 'eval_recall': 0.8424396442185514,\n",
       " 'eval_runtime': 7.746,\n",
       " 'eval_samples_per_second': 101.6,\n",
       " 'eval_steps_per_second': 12.781,\n",
       " 'epoch': 3.0}"
      ]
     },
     "execution_count": 39,
     "metadata": {},
     "output_type": "execute_result"
    }
   ],
   "source": [
    "trainer.evaluate()"
   ]
  },
  {
   "cell_type": "code",
   "execution_count": 40,
   "id": "b3013168",
   "metadata": {
    "execution": {
     "iopub.execute_input": "2022-03-27T17:40:29.021533Z",
     "iopub.status.busy": "2022-03-27T17:40:29.020678Z",
     "iopub.status.idle": "2022-03-27T17:40:34.853785Z",
     "shell.execute_reply": "2022-03-27T17:40:34.854213Z",
     "shell.execute_reply.started": "2022-03-27T15:56:01.797323Z"
    },
    "papermill": {
     "duration": 6.054157,
     "end_time": "2022-03-27T17:40:34.854358",
     "exception": false,
     "start_time": "2022-03-27T17:40:28.800201",
     "status": "completed"
    },
    "tags": []
   },
   "outputs": [
    {
     "name": "stderr",
     "output_type": "stream",
     "text": [
      "***** Running Evaluation *****\n",
      "  Num examples = 788\n",
      "  Batch size = 8\n"
     ]
    }
   ],
   "source": [
    "trainer.evaluate(eval_dataset=test_dataset, metric_key_prefix=\"test\")\n",
    "del model5\n",
    "torch.cuda.empty_cache()"
   ]
  },
  {
   "cell_type": "markdown",
   "id": "a2481a70",
   "metadata": {
    "papermill": {
     "duration": 0.134307,
     "end_time": "2022-03-27T17:40:35.109607",
     "exception": false,
     "start_time": "2022-03-27T17:40:34.975300",
     "status": "completed"
    },
    "tags": []
   },
   "source": [
    "# Тест на отзывах"
   ]
  },
  {
   "cell_type": "code",
   "execution_count": 41,
   "id": "dbc846b9",
   "metadata": {
    "execution": {
     "iopub.execute_input": "2022-03-27T17:40:35.377646Z",
     "iopub.status.busy": "2022-03-27T17:40:35.376704Z",
     "iopub.status.idle": "2022-03-27T17:40:35.378542Z",
     "shell.execute_reply": "2022-03-27T17:40:35.378984Z",
     "shell.execute_reply.started": "2022-03-27T15:56:01.799310Z"
    },
    "papermill": {
     "duration": 0.136261,
     "end_time": "2022-03-27T17:40:35.379127",
     "exception": false,
     "start_time": "2022-03-27T17:40:35.242866",
     "status": "completed"
    },
    "tags": []
   },
   "outputs": [],
   "source": [
    "twostar = \"\"\"Why react isn't registering fast, I liked something and then scroll down, After sometime I saw the post and my reaction wasn't there. Not one time, this happens everytime. Don't blame the internet, it's pretty fast here.Fix the problem , otherwise I'm gonna decrease my rating even more.\"\"\""
   ]
  },
  {
   "cell_type": "code",
   "execution_count": 42,
   "id": "84aca4a9",
   "metadata": {
    "execution": {
     "iopub.execute_input": "2022-03-27T17:40:35.631420Z",
     "iopub.status.busy": "2022-03-27T17:40:35.630791Z",
     "iopub.status.idle": "2022-03-27T17:40:35.633169Z",
     "shell.execute_reply": "2022-03-27T17:40:35.633621Z",
     "shell.execute_reply.started": "2022-03-27T15:56:01.800997Z"
    },
    "papermill": {
     "duration": 0.126607,
     "end_time": "2022-03-27T17:40:35.633775",
     "exception": false,
     "start_time": "2022-03-27T17:40:35.507168",
     "status": "completed"
    },
    "tags": []
   },
   "outputs": [],
   "source": [
    "fivestar = \"\"\"Hi I really love this app cause it's light on storage, less data consumption but you said it work in any network condition ahh. No it's not working on any network condition even in 4G network still slow. And this issue I encounter is so annoying . When I'm watching videos and when I'm at the best moment or best scene of the video it kicks me out of the app and automatically back to start where I open the app and I can't find the video so please fix this issue 😊\"\"\""
   ]
  },
  {
   "cell_type": "code",
   "execution_count": 43,
   "id": "21666009",
   "metadata": {
    "execution": {
     "iopub.execute_input": "2022-03-27T17:40:35.878926Z",
     "iopub.status.busy": "2022-03-27T17:40:35.878197Z",
     "iopub.status.idle": "2022-03-27T17:40:35.880477Z",
     "shell.execute_reply": "2022-03-27T17:40:35.880859Z",
     "shell.execute_reply.started": "2022-03-27T15:56:01.802988Z"
    },
    "papermill": {
     "duration": 0.127653,
     "end_time": "2022-03-27T17:40:35.880999",
     "exception": false,
     "start_time": "2022-03-27T17:40:35.753346",
     "status": "completed"
    },
    "tags": []
   },
   "outputs": [],
   "source": [
    "threestar = \"\"\"Hi, good evening. I have a challenge. I've been trying to update my profile, and upload my stories but it's not working. And whenever i tried to do so, it automatically exits. Please help me out. Thanks, though your app is amazing, but i think there should be more features like . Been able to change my color, just the way I can switch to night mode.\"\"\""
   ]
  },
  {
   "cell_type": "code",
   "execution_count": 44,
   "id": "468d4fc3",
   "metadata": {
    "execution": {
     "iopub.execute_input": "2022-03-27T17:40:36.147291Z",
     "iopub.status.busy": "2022-03-27T17:40:36.146295Z",
     "iopub.status.idle": "2022-03-27T17:40:36.148399Z",
     "shell.execute_reply": "2022-03-27T17:40:36.148861Z",
     "shell.execute_reply.started": "2022-03-27T15:56:01.804665Z"
    },
    "papermill": {
     "duration": 0.14585,
     "end_time": "2022-03-27T17:40:36.149006",
     "exception": false,
     "start_time": "2022-03-27T17:40:36.003156",
     "status": "completed"
    },
    "tags": []
   },
   "outputs": [],
   "source": [
    "from torch.nn.functional import softmax\n",
    "\n",
    "def get_sent(sentence, model):\n",
    "    encoding = tokenizer.encode_plus(\n",
    "      sentence,\n",
    "      max_length=512,\n",
    "      add_special_tokens=True, \n",
    "      return_token_type_ids=True,\n",
    "      padding='max_length',\n",
    "      return_attention_mask=True,\n",
    "      return_tensors='pt',  \n",
    "      truncation=True\n",
    "    ).to(device)\n",
    "    \n",
    "    return softmax(model(input_ids=encoding['input_ids'], attention_mask=encoding['attention_mask'])[0], dim=1)"
   ]
  },
  {
   "cell_type": "code",
   "execution_count": 45,
   "id": "60fa2b86",
   "metadata": {
    "execution": {
     "iopub.execute_input": "2022-03-27T17:40:36.420415Z",
     "iopub.status.busy": "2022-03-27T17:40:36.419802Z",
     "iopub.status.idle": "2022-03-27T17:40:37.000871Z",
     "shell.execute_reply": "2022-03-27T17:40:37.000302Z",
     "shell.execute_reply.started": "2022-03-27T15:56:01.806595Z"
    },
    "papermill": {
     "duration": 0.71558,
     "end_time": "2022-03-27T17:40:37.001128",
     "exception": true,
     "start_time": "2022-03-27T17:40:36.285548",
     "status": "failed"
    },
    "tags": []
   },
   "outputs": [
    {
     "ename": "NameError",
     "evalue": "name 'model' is not defined",
     "output_type": "error",
     "traceback": [
      "\u001b[0;31m---------------------------------------------------------------------------\u001b[0m",
      "\u001b[0;31mNameError\u001b[0m                                 Traceback (most recent call last)",
      "\u001b[0;32m/tmp/ipykernel_30/2152977446.py\u001b[0m in \u001b[0;36m<module>\u001b[0;34m\u001b[0m\n\u001b[0;32m----> 1\u001b[0;31m \u001b[0mget_sent\u001b[0m\u001b[0;34m(\u001b[0m\u001b[0mtwostar\u001b[0m\u001b[0;34m,\u001b[0m \u001b[0mmodel\u001b[0m\u001b[0;34m)\u001b[0m\u001b[0;34m\u001b[0m\u001b[0;34m\u001b[0m\u001b[0m\n\u001b[0m",
      "\u001b[0;31mNameError\u001b[0m: name 'model' is not defined"
     ]
    }
   ],
   "source": [
    "get_sent(twostar, model)"
   ]
  },
  {
   "cell_type": "code",
   "execution_count": null,
   "id": "4e1134b3",
   "metadata": {
    "execution": {
     "iopub.status.busy": "2022-03-27T15:56:01.809051Z",
     "iopub.status.idle": "2022-03-27T15:56:01.809804Z",
     "shell.execute_reply": "2022-03-27T15:56:01.809544Z",
     "shell.execute_reply.started": "2022-03-27T15:56:01.809515Z"
    },
    "papermill": {
     "duration": null,
     "end_time": null,
     "exception": null,
     "start_time": null,
     "status": "pending"
    },
    "tags": []
   },
   "outputs": [],
   "source": [
    "get_sent(threestar, model4)"
   ]
  },
  {
   "cell_type": "code",
   "execution_count": null,
   "id": "f3608059",
   "metadata": {
    "execution": {
     "iopub.status.busy": "2022-03-27T15:56:01.810974Z",
     "iopub.status.idle": "2022-03-27T15:56:01.811613Z",
     "shell.execute_reply": "2022-03-27T15:56:01.811389Z",
     "shell.execute_reply.started": "2022-03-27T15:56:01.811363Z"
    },
    "papermill": {
     "duration": null,
     "end_time": null,
     "exception": null,
     "start_time": null,
     "status": "pending"
    },
    "tags": []
   },
   "outputs": [],
   "source": [
    "get_sent(fivestar, model4)"
   ]
  },
  {
   "cell_type": "code",
   "execution_count": null,
   "id": "cf1a689d",
   "metadata": {
    "execution": {
     "iopub.status.busy": "2022-03-27T15:56:01.812814Z",
     "iopub.status.idle": "2022-03-27T15:56:01.813472Z",
     "shell.execute_reply": "2022-03-27T15:56:01.813251Z",
     "shell.execute_reply.started": "2022-03-27T15:56:01.813225Z"
    },
    "papermill": {
     "duration": null,
     "end_time": null,
     "exception": null,
     "start_time": null,
     "status": "pending"
    },
    "tags": []
   },
   "outputs": [],
   "source": [
    "fivestar_2 = \"\"\"Great experience when one uses the face life app. It's the best of the season. We encourage everyone to share it with friends and family as well as with the different social media groups. Its good for business, social activities, relationships, friends search, research, marketing, learning new ideas. This is a global market for the season. It's free for people with open minded ideas about life ideas. It's an opportunity for jobs and creativity. It's a meeting place for tourists and visiting\"\"\""
   ]
  },
  {
   "cell_type": "code",
   "execution_count": null,
   "id": "3e73f3c9",
   "metadata": {
    "execution": {
     "iopub.status.busy": "2022-03-27T15:56:01.814642Z",
     "iopub.status.idle": "2022-03-27T15:56:01.815268Z",
     "shell.execute_reply": "2022-03-27T15:56:01.815046Z",
     "shell.execute_reply.started": "2022-03-27T15:56:01.815021Z"
    },
    "papermill": {
     "duration": null,
     "end_time": null,
     "exception": null,
     "start_time": null,
     "status": "pending"
    },
    "tags": []
   },
   "outputs": [],
   "source": [
    "get_sent(fivestar_2, model4)"
   ]
  },
  {
   "cell_type": "code",
   "execution_count": null,
   "id": "bd9f6abd",
   "metadata": {
    "papermill": {
     "duration": null,
     "end_time": null,
     "exception": null,
     "start_time": null,
     "status": "pending"
    },
    "tags": []
   },
   "outputs": [],
   "source": []
  },
  {
   "cell_type": "code",
   "execution_count": null,
   "id": "3a7ccf57",
   "metadata": {
    "papermill": {
     "duration": null,
     "end_time": null,
     "exception": null,
     "start_time": null,
     "status": "pending"
    },
    "tags": []
   },
   "outputs": [],
   "source": []
  }
 ],
 "metadata": {
  "kernelspec": {
   "display_name": "Python 3 (ipykernel)",
   "language": "python",
   "name": "python3"
  },
  "language_info": {
   "codemirror_mode": {
    "name": "ipython",
    "version": 3
   },
   "file_extension": ".py",
   "mimetype": "text/x-python",
   "name": "python",
   "nbconvert_exporter": "python",
   "pygments_lexer": "ipython3",
   "version": "3.9.7"
  },
  "papermill": {
   "default_parameters": {},
   "duration": 6260.120262,
   "end_time": "2022-03-27T17:40:40.860394",
   "environment_variables": {},
   "exception": true,
   "input_path": "__notebook__.ipynb",
   "output_path": "__notebook__.ipynb",
   "parameters": {},
   "start_time": "2022-03-27T15:56:20.740132",
   "version": "2.3.3"
  },
  "widgets": {
   "application/vnd.jupyter.widget-state+json": {
    "state": {
     "00e8e9d3489d44b78d4ea50db2353d86": {
      "model_module": "@jupyter-widgets/controls",
      "model_module_version": "1.5.0",
      "model_name": "HTMLModel",
      "state": {
       "_dom_classes": [],
       "_model_module": "@jupyter-widgets/controls",
       "_model_module_version": "1.5.0",
       "_model_name": "HTMLModel",
       "_view_count": null,
       "_view_module": "@jupyter-widgets/controls",
       "_view_module_version": "1.5.0",
       "_view_name": "HTMLView",
       "description": "",
       "description_tooltip": null,
       "layout": "IPY_MODEL_a294f3bb853e4f1fb56da16807783842",
       "placeholder": "​",
       "style": "IPY_MODEL_dc6b7085001344e29210d06cb2ff36d0",
       "value": " 313M/313M [00:21&lt;00:00, 18.2MB/s]"
      }
     },
     "02c79c72f8b844fb81a42aa52eb3a620": {
      "model_module": "@jupyter-widgets/controls",
      "model_module_version": "1.5.0",
      "model_name": "DescriptionStyleModel",
      "state": {
       "_model_module": "@jupyter-widgets/controls",
       "_model_module_version": "1.5.0",
       "_model_name": "DescriptionStyleModel",
       "_view_count": null,
       "_view_module": "@jupyter-widgets/base",
       "_view_module_version": "1.2.0",
       "_view_name": "StyleView",
       "description_width": ""
      }
     },
     "04675d96ef7a4f2bb8fa2be75b715296": {
      "model_module": "@jupyter-widgets/controls",
      "model_module_version": "1.5.0",
      "model_name": "ProgressStyleModel",
      "state": {
       "_model_module": "@jupyter-widgets/controls",
       "_model_module_version": "1.5.0",
       "_model_name": "ProgressStyleModel",
       "_view_count": null,
       "_view_module": "@jupyter-widgets/base",
       "_view_module_version": "1.2.0",
       "_view_name": "StyleView",
       "bar_color": null,
       "description_width": ""
      }
     },
     "05575e30b73645b2b9e8f74f10f29850": {
      "model_module": "@jupyter-widgets/controls",
      "model_module_version": "1.5.0",
      "model_name": "HBoxModel",
      "state": {
       "_dom_classes": [],
       "_model_module": "@jupyter-widgets/controls",
       "_model_module_version": "1.5.0",
       "_model_name": "HBoxModel",
       "_view_count": null,
       "_view_module": "@jupyter-widgets/controls",
       "_view_module_version": "1.5.0",
       "_view_name": "HBoxView",
       "box_style": "",
       "children": [
        "IPY_MODEL_11b471a9ebce4a7381a1709350a29564",
        "IPY_MODEL_6cf61a3033724fe4ab27d0fcf0cd0469",
        "IPY_MODEL_53f22fd271684f3ca3aea2c5471491bf"
       ],
       "layout": "IPY_MODEL_231ec18e7fc4478d8a2d55bfb7f109ba"
      }
     },
     "076fc42f798c4683a8fe8fb4ef4e72cc": {
      "model_module": "@jupyter-widgets/base",
      "model_module_version": "1.2.0",
      "model_name": "LayoutModel",
      "state": {
       "_model_module": "@jupyter-widgets/base",
       "_model_module_version": "1.2.0",
       "_model_name": "LayoutModel",
       "_view_count": null,
       "_view_module": "@jupyter-widgets/base",
       "_view_module_version": "1.2.0",
       "_view_name": "LayoutView",
       "align_content": null,
       "align_items": null,
       "align_self": null,
       "border": null,
       "bottom": null,
       "display": null,
       "flex": null,
       "flex_flow": null,
       "grid_area": null,
       "grid_auto_columns": null,
       "grid_auto_flow": null,
       "grid_auto_rows": null,
       "grid_column": null,
       "grid_gap": null,
       "grid_row": null,
       "grid_template_areas": null,
       "grid_template_columns": null,
       "grid_template_rows": null,
       "height": null,
       "justify_content": null,
       "justify_items": null,
       "left": null,
       "margin": null,
       "max_height": null,
       "max_width": null,
       "min_height": null,
       "min_width": null,
       "object_fit": null,
       "object_position": null,
       "order": null,
       "overflow": null,
       "overflow_x": null,
       "overflow_y": null,
       "padding": null,
       "right": null,
       "top": null,
       "visibility": null,
       "width": null
      }
     },
     "0961c6f17dc0416e8cb1075080f977bd": {
      "model_module": "@jupyter-widgets/controls",
      "model_module_version": "1.5.0",
      "model_name": "HTMLModel",
      "state": {
       "_dom_classes": [],
       "_model_module": "@jupyter-widgets/controls",
       "_model_module_version": "1.5.0",
       "_model_name": "HTMLModel",
       "_view_count": null,
       "_view_module": "@jupyter-widgets/controls",
       "_view_module_version": "1.5.0",
       "_view_name": "HTMLView",
       "description": "",
       "description_tooltip": null,
       "layout": "IPY_MODEL_b92c4467aa344e3f93448147f02e734c",
       "placeholder": "​",
       "style": "IPY_MODEL_92a6d7834de64437a5d55d44a464c6c1",
       "value": "Downloading: 100%"
      }
     },
     "0ae2d24218df4e7db5786a006e6d7722": {
      "model_module": "@jupyter-widgets/base",
      "model_module_version": "1.2.0",
      "model_name": "LayoutModel",
      "state": {
       "_model_module": "@jupyter-widgets/base",
       "_model_module_version": "1.2.0",
       "_model_name": "LayoutModel",
       "_view_count": null,
       "_view_module": "@jupyter-widgets/base",
       "_view_module_version": "1.2.0",
       "_view_name": "LayoutView",
       "align_content": null,
       "align_items": null,
       "align_self": null,
       "border": null,
       "bottom": null,
       "display": null,
       "flex": null,
       "flex_flow": null,
       "grid_area": null,
       "grid_auto_columns": null,
       "grid_auto_flow": null,
       "grid_auto_rows": null,
       "grid_column": null,
       "grid_gap": null,
       "grid_row": null,
       "grid_template_areas": null,
       "grid_template_columns": null,
       "grid_template_rows": null,
       "height": null,
       "justify_content": null,
       "justify_items": null,
       "left": null,
       "margin": null,
       "max_height": null,
       "max_width": null,
       "min_height": null,
       "min_width": null,
       "object_fit": null,
       "object_position": null,
       "order": null,
       "overflow": null,
       "overflow_x": null,
       "overflow_y": null,
       "padding": null,
       "right": null,
       "top": null,
       "visibility": null,
       "width": null
      }
     },
     "11b471a9ebce4a7381a1709350a29564": {
      "model_module": "@jupyter-widgets/controls",
      "model_module_version": "1.5.0",
      "model_name": "HTMLModel",
      "state": {
       "_dom_classes": [],
       "_model_module": "@jupyter-widgets/controls",
       "_model_module_version": "1.5.0",
       "_model_name": "HTMLModel",
       "_view_count": null,
       "_view_module": "@jupyter-widgets/controls",
       "_view_module_version": "1.5.0",
       "_view_name": "HTMLView",
       "description": "",
       "description_tooltip": null,
       "layout": "IPY_MODEL_fde8608cc56c42ff8d341b2e31b0174e",
       "placeholder": "​",
       "style": "IPY_MODEL_2eedaca3b8334765ae92e88648faf560",
       "value": "Downloading: 100%"
      }
     },
     "14cfeb88dda54de390c4e3e4ccd49054": {
      "model_module": "@jupyter-widgets/controls",
      "model_module_version": "1.5.0",
      "model_name": "FloatProgressModel",
      "state": {
       "_dom_classes": [],
       "_model_module": "@jupyter-widgets/controls",
       "_model_module_version": "1.5.0",
       "_model_name": "FloatProgressModel",
       "_view_count": null,
       "_view_module": "@jupyter-widgets/controls",
       "_view_module_version": "1.5.0",
       "_view_name": "ProgressView",
       "bar_style": "success",
       "description": "",
       "description_tooltip": null,
       "layout": "IPY_MODEL_4ea7d10a21db4fa5b3449d4294a050b7",
       "max": 328544361,
       "min": 0,
       "orientation": "horizontal",
       "style": "IPY_MODEL_04675d96ef7a4f2bb8fa2be75b715296",
       "value": 328544361
      }
     },
     "164ecce3b7804fcdb91ba7dfc1a89c18": {
      "model_module": "@jupyter-widgets/base",
      "model_module_version": "1.2.0",
      "model_name": "LayoutModel",
      "state": {
       "_model_module": "@jupyter-widgets/base",
       "_model_module_version": "1.2.0",
       "_model_name": "LayoutModel",
       "_view_count": null,
       "_view_module": "@jupyter-widgets/base",
       "_view_module_version": "1.2.0",
       "_view_name": "LayoutView",
       "align_content": null,
       "align_items": null,
       "align_self": null,
       "border": null,
       "bottom": null,
       "display": null,
       "flex": null,
       "flex_flow": null,
       "grid_area": null,
       "grid_auto_columns": null,
       "grid_auto_flow": null,
       "grid_auto_rows": null,
       "grid_column": null,
       "grid_gap": null,
       "grid_row": null,
       "grid_template_areas": null,
       "grid_template_columns": null,
       "grid_template_rows": null,
       "height": null,
       "justify_content": null,
       "justify_items": null,
       "left": null,
       "margin": null,
       "max_height": null,
       "max_width": null,
       "min_height": null,
       "min_width": null,
       "object_fit": null,
       "object_position": null,
       "order": null,
       "overflow": null,
       "overflow_x": null,
       "overflow_y": null,
       "padding": null,
       "right": null,
       "top": null,
       "visibility": null,
       "width": null
      }
     },
     "1d12004ead81494e83b30c04fab2839e": {
      "model_module": "@jupyter-widgets/controls",
      "model_module_version": "1.5.0",
      "model_name": "HTMLModel",
      "state": {
       "_dom_classes": [],
       "_model_module": "@jupyter-widgets/controls",
       "_model_module_version": "1.5.0",
       "_model_name": "HTMLModel",
       "_view_count": null,
       "_view_module": "@jupyter-widgets/controls",
       "_view_module_version": "1.5.0",
       "_view_name": "HTMLView",
       "description": "",
       "description_tooltip": null,
       "layout": "IPY_MODEL_a2a3a99f68964200822449582116c1d8",
       "placeholder": "​",
       "style": "IPY_MODEL_a539705d952a440287006f3cacedcb52",
       "value": "Downloading: 100%"
      }
     },
     "231ec18e7fc4478d8a2d55bfb7f109ba": {
      "model_module": "@jupyter-widgets/base",
      "model_module_version": "1.2.0",
      "model_name": "LayoutModel",
      "state": {
       "_model_module": "@jupyter-widgets/base",
       "_model_module_version": "1.2.0",
       "_model_name": "LayoutModel",
       "_view_count": null,
       "_view_module": "@jupyter-widgets/base",
       "_view_module_version": "1.2.0",
       "_view_name": "LayoutView",
       "align_content": null,
       "align_items": null,
       "align_self": null,
       "border": null,
       "bottom": null,
       "display": null,
       "flex": null,
       "flex_flow": null,
       "grid_area": null,
       "grid_auto_columns": null,
       "grid_auto_flow": null,
       "grid_auto_rows": null,
       "grid_column": null,
       "grid_gap": null,
       "grid_row": null,
       "grid_template_areas": null,
       "grid_template_columns": null,
       "grid_template_rows": null,
       "height": null,
       "justify_content": null,
       "justify_items": null,
       "left": null,
       "margin": null,
       "max_height": null,
       "max_width": null,
       "min_height": null,
       "min_width": null,
       "object_fit": null,
       "object_position": null,
       "order": null,
       "overflow": null,
       "overflow_x": null,
       "overflow_y": null,
       "padding": null,
       "right": null,
       "top": null,
       "visibility": null,
       "width": null
      }
     },
     "23b983d0d8384282bf0270f15839f21f": {
      "model_module": "@jupyter-widgets/controls",
      "model_module_version": "1.5.0",
      "model_name": "FloatProgressModel",
      "state": {
       "_dom_classes": [],
       "_model_module": "@jupyter-widgets/controls",
       "_model_module_version": "1.5.0",
       "_model_name": "FloatProgressModel",
       "_view_count": null,
       "_view_module": "@jupyter-widgets/controls",
       "_view_module_version": "1.5.0",
       "_view_name": "ProgressView",
       "bar_style": "success",
       "description": "",
       "description_tooltip": null,
       "layout": "IPY_MODEL_7b456cdfaac44a3ca4fbd8c2c4dc2f6f",
       "max": 1005,
       "min": 0,
       "orientation": "horizontal",
       "style": "IPY_MODEL_b027730e3a9442da9ae753f419f8868f",
       "value": 1005
      }
     },
     "264221c753ab493eba815972be237591": {
      "model_module": "@jupyter-widgets/controls",
      "model_module_version": "1.5.0",
      "model_name": "HTMLModel",
      "state": {
       "_dom_classes": [],
       "_model_module": "@jupyter-widgets/controls",
       "_model_module_version": "1.5.0",
       "_model_name": "HTMLModel",
       "_view_count": null,
       "_view_module": "@jupyter-widgets/controls",
       "_view_module_version": "1.5.0",
       "_view_name": "HTMLView",
       "description": "",
       "description_tooltip": null,
       "layout": "IPY_MODEL_8471f5e2fee14b1a90a00c72b46c7eef",
       "placeholder": "​",
       "style": "IPY_MODEL_ea6b9e1d8ed14b38966f84278cb4ac21",
       "value": "Downloading: 100%"
      }
     },
     "2aae996f065b4b5e9cd23fb4755e1b9d": {
      "model_module": "@jupyter-widgets/base",
      "model_module_version": "1.2.0",
      "model_name": "LayoutModel",
      "state": {
       "_model_module": "@jupyter-widgets/base",
       "_model_module_version": "1.2.0",
       "_model_name": "LayoutModel",
       "_view_count": null,
       "_view_module": "@jupyter-widgets/base",
       "_view_module_version": "1.2.0",
       "_view_name": "LayoutView",
       "align_content": null,
       "align_items": null,
       "align_self": null,
       "border": null,
       "bottom": null,
       "display": null,
       "flex": null,
       "flex_flow": null,
       "grid_area": null,
       "grid_auto_columns": null,
       "grid_auto_flow": null,
       "grid_auto_rows": null,
       "grid_column": null,
       "grid_gap": null,
       "grid_row": null,
       "grid_template_areas": null,
       "grid_template_columns": null,
       "grid_template_rows": null,
       "height": null,
       "justify_content": null,
       "justify_items": null,
       "left": null,
       "margin": null,
       "max_height": null,
       "max_width": null,
       "min_height": null,
       "min_width": null,
       "object_fit": null,
       "object_position": null,
       "order": null,
       "overflow": null,
       "overflow_x": null,
       "overflow_y": null,
       "padding": null,
       "right": null,
       "top": null,
       "visibility": null,
       "width": null
      }
     },
     "2eedaca3b8334765ae92e88648faf560": {
      "model_module": "@jupyter-widgets/controls",
      "model_module_version": "1.5.0",
      "model_name": "DescriptionStyleModel",
      "state": {
       "_model_module": "@jupyter-widgets/controls",
       "_model_module_version": "1.5.0",
       "_model_name": "DescriptionStyleModel",
       "_view_count": null,
       "_view_module": "@jupyter-widgets/base",
       "_view_module_version": "1.2.0",
       "_view_name": "StyleView",
       "description_width": ""
      }
     },
     "30df476e034d4176b06c44e545ed99ef": {
      "model_module": "@jupyter-widgets/base",
      "model_module_version": "1.2.0",
      "model_name": "LayoutModel",
      "state": {
       "_model_module": "@jupyter-widgets/base",
       "_model_module_version": "1.2.0",
       "_model_name": "LayoutModel",
       "_view_count": null,
       "_view_module": "@jupyter-widgets/base",
       "_view_module_version": "1.2.0",
       "_view_name": "LayoutView",
       "align_content": null,
       "align_items": null,
       "align_self": null,
       "border": null,
       "bottom": null,
       "display": null,
       "flex": null,
       "flex_flow": null,
       "grid_area": null,
       "grid_auto_columns": null,
       "grid_auto_flow": null,
       "grid_auto_rows": null,
       "grid_column": null,
       "grid_gap": null,
       "grid_row": null,
       "grid_template_areas": null,
       "grid_template_columns": null,
       "grid_template_rows": null,
       "height": null,
       "justify_content": null,
       "justify_items": null,
       "left": null,
       "margin": null,
       "max_height": null,
       "max_width": null,
       "min_height": null,
       "min_width": null,
       "object_fit": null,
       "object_position": null,
       "order": null,
       "overflow": null,
       "overflow_x": null,
       "overflow_y": null,
       "padding": null,
       "right": null,
       "top": null,
       "visibility": null,
       "width": null
      }
     },
     "317e1848d54647cb8e7a74fa920b606a": {
      "model_module": "@jupyter-widgets/controls",
      "model_module_version": "1.5.0",
      "model_name": "HTMLModel",
      "state": {
       "_dom_classes": [],
       "_model_module": "@jupyter-widgets/controls",
       "_model_module_version": "1.5.0",
       "_model_name": "HTMLModel",
       "_view_count": null,
       "_view_module": "@jupyter-widgets/controls",
       "_view_module_version": "1.5.0",
       "_view_name": "HTMLView",
       "description": "",
       "description_tooltip": null,
       "layout": "IPY_MODEL_fd65db12e3484bd1a95d1e1968860363",
       "placeholder": "​",
       "style": "IPY_MODEL_f64daef4473240e5b3c0a3cf453b7842",
       "value": " 780k/780k [00:00&lt;00:00, 668kB/s]"
      }
     },
     "3331dfec60dd4fd089ae90fb959cc56b": {
      "model_module": "@jupyter-widgets/controls",
      "model_module_version": "1.5.0",
      "model_name": "FloatProgressModel",
      "state": {
       "_dom_classes": [],
       "_model_module": "@jupyter-widgets/controls",
       "_model_module_version": "1.5.0",
       "_model_name": "FloatProgressModel",
       "_view_count": null,
       "_view_module": "@jupyter-widgets/controls",
       "_view_module_version": "1.5.0",
       "_view_name": "ProgressView",
       "bar_style": "success",
       "description": "",
       "description_tooltip": null,
       "layout": "IPY_MODEL_c385ff1663f54410a3639232ab6af03e",
       "max": 456356,
       "min": 0,
       "orientation": "horizontal",
       "style": "IPY_MODEL_7bff382b0b3c4e53b1b3d40400edd463",
       "value": 456356
      }
     },
     "342036b07aea4d42961e95cc340aa875": {
      "model_module": "@jupyter-widgets/controls",
      "model_module_version": "1.5.0",
      "model_name": "HTMLModel",
      "state": {
       "_dom_classes": [],
       "_model_module": "@jupyter-widgets/controls",
       "_model_module_version": "1.5.0",
       "_model_name": "HTMLModel",
       "_view_count": null,
       "_view_module": "@jupyter-widgets/controls",
       "_view_module_version": "1.5.0",
       "_view_name": "HTMLView",
       "description": "",
       "description_tooltip": null,
       "layout": "IPY_MODEL_621427a1723045c293b897edbc18a9be",
       "placeholder": "​",
       "style": "IPY_MODEL_bdeed625ca454f39a90cf63a1a747609",
       "value": " 0.98k/0.98k [00:00&lt;00:00, 40.6kB/s]"
      }
     },
     "3536c5e869c14f229bd9233b6a414798": {
      "model_module": "@jupyter-widgets/controls",
      "model_module_version": "1.5.0",
      "model_name": "HTMLModel",
      "state": {
       "_dom_classes": [],
       "_model_module": "@jupyter-widgets/controls",
       "_model_module_version": "1.5.0",
       "_model_name": "HTMLModel",
       "_view_count": null,
       "_view_module": "@jupyter-widgets/controls",
       "_view_module_version": "1.5.0",
       "_view_name": "HTMLView",
       "description": "",
       "description_tooltip": null,
       "layout": "IPY_MODEL_713beb656a784edd8f8332867b93a88b",
       "placeholder": "​",
       "style": "IPY_MODEL_f5b5d07769dd478db545a38fd489876c",
       "value": " 446k/446k [00:00&lt;00:00, 640kB/s]"
      }
     },
     "39380227a5764889a5e303665768a688": {
      "model_module": "@jupyter-widgets/controls",
      "model_module_version": "1.5.0",
      "model_name": "ProgressStyleModel",
      "state": {
       "_model_module": "@jupyter-widgets/controls",
       "_model_module_version": "1.5.0",
       "_model_name": "ProgressStyleModel",
       "_view_count": null,
       "_view_module": "@jupyter-widgets/base",
       "_view_module_version": "1.2.0",
       "_view_name": "StyleView",
       "bar_color": null,
       "description_width": ""
      }
     },
     "3ea339b9cdec479eace5d690c65d6403": {
      "model_module": "@jupyter-widgets/base",
      "model_module_version": "1.2.0",
      "model_name": "LayoutModel",
      "state": {
       "_model_module": "@jupyter-widgets/base",
       "_model_module_version": "1.2.0",
       "_model_name": "LayoutModel",
       "_view_count": null,
       "_view_module": "@jupyter-widgets/base",
       "_view_module_version": "1.2.0",
       "_view_name": "LayoutView",
       "align_content": null,
       "align_items": null,
       "align_self": null,
       "border": null,
       "bottom": null,
       "display": null,
       "flex": null,
       "flex_flow": null,
       "grid_area": null,
       "grid_auto_columns": null,
       "grid_auto_flow": null,
       "grid_auto_rows": null,
       "grid_column": null,
       "grid_gap": null,
       "grid_row": null,
       "grid_template_areas": null,
       "grid_template_columns": null,
       "grid_template_rows": null,
       "height": null,
       "justify_content": null,
       "justify_items": null,
       "left": null,
       "margin": null,
       "max_height": null,
       "max_width": null,
       "min_height": null,
       "min_width": null,
       "object_fit": null,
       "object_position": null,
       "order": null,
       "overflow": null,
       "overflow_x": null,
       "overflow_y": null,
       "padding": null,
       "right": null,
       "top": null,
       "visibility": null,
       "width": null
      }
     },
     "4b5c0e6817894c1682497ed0df15ee9d": {
      "model_module": "@jupyter-widgets/controls",
      "model_module_version": "1.5.0",
      "model_name": "DescriptionStyleModel",
      "state": {
       "_model_module": "@jupyter-widgets/controls",
       "_model_module_version": "1.5.0",
       "_model_name": "DescriptionStyleModel",
       "_view_count": null,
       "_view_module": "@jupyter-widgets/base",
       "_view_module_version": "1.2.0",
       "_view_name": "StyleView",
       "description_width": ""
      }
     },
     "4d1fcf7ccdae438f82f94f6b7c49be03": {
      "model_module": "@jupyter-widgets/base",
      "model_module_version": "1.2.0",
      "model_name": "LayoutModel",
      "state": {
       "_model_module": "@jupyter-widgets/base",
       "_model_module_version": "1.2.0",
       "_model_name": "LayoutModel",
       "_view_count": null,
       "_view_module": "@jupyter-widgets/base",
       "_view_module_version": "1.2.0",
       "_view_name": "LayoutView",
       "align_content": null,
       "align_items": null,
       "align_self": null,
       "border": null,
       "bottom": null,
       "display": null,
       "flex": null,
       "flex_flow": null,
       "grid_area": null,
       "grid_auto_columns": null,
       "grid_auto_flow": null,
       "grid_auto_rows": null,
       "grid_column": null,
       "grid_gap": null,
       "grid_row": null,
       "grid_template_areas": null,
       "grid_template_columns": null,
       "grid_template_rows": null,
       "height": null,
       "justify_content": null,
       "justify_items": null,
       "left": null,
       "margin": null,
       "max_height": null,
       "max_width": null,
       "min_height": null,
       "min_width": null,
       "object_fit": null,
       "object_position": null,
       "order": null,
       "overflow": null,
       "overflow_x": null,
       "overflow_y": null,
       "padding": null,
       "right": null,
       "top": null,
       "visibility": null,
       "width": null
      }
     },
     "4ea7d10a21db4fa5b3449d4294a050b7": {
      "model_module": "@jupyter-widgets/base",
      "model_module_version": "1.2.0",
      "model_name": "LayoutModel",
      "state": {
       "_model_module": "@jupyter-widgets/base",
       "_model_module_version": "1.2.0",
       "_model_name": "LayoutModel",
       "_view_count": null,
       "_view_module": "@jupyter-widgets/base",
       "_view_module_version": "1.2.0",
       "_view_name": "LayoutView",
       "align_content": null,
       "align_items": null,
       "align_self": null,
       "border": null,
       "bottom": null,
       "display": null,
       "flex": null,
       "flex_flow": null,
       "grid_area": null,
       "grid_auto_columns": null,
       "grid_auto_flow": null,
       "grid_auto_rows": null,
       "grid_column": null,
       "grid_gap": null,
       "grid_row": null,
       "grid_template_areas": null,
       "grid_template_columns": null,
       "grid_template_rows": null,
       "height": null,
       "justify_content": null,
       "justify_items": null,
       "left": null,
       "margin": null,
       "max_height": null,
       "max_width": null,
       "min_height": null,
       "min_width": null,
       "object_fit": null,
       "object_position": null,
       "order": null,
       "overflow": null,
       "overflow_x": null,
       "overflow_y": null,
       "padding": null,
       "right": null,
       "top": null,
       "visibility": null,
       "width": null
      }
     },
     "53f22fd271684f3ca3aea2c5471491bf": {
      "model_module": "@jupyter-widgets/controls",
      "model_module_version": "1.5.0",
      "model_name": "HTMLModel",
      "state": {
       "_dom_classes": [],
       "_model_module": "@jupyter-widgets/controls",
       "_model_module_version": "1.5.0",
       "_model_name": "HTMLModel",
       "_view_count": null,
       "_view_module": "@jupyter-widgets/controls",
       "_view_module_version": "1.5.0",
       "_view_name": "HTMLView",
       "description": "",
       "description_tooltip": null,
       "layout": "IPY_MODEL_076fc42f798c4683a8fe8fb4ef4e72cc",
       "placeholder": "​",
       "style": "IPY_MODEL_fbf0c17ca81e4bc5ba53615d2ed0be2e",
       "value": " 1.29M/1.29M [00:01&lt;00:00, 1.80MB/s]"
      }
     },
     "5a7e5b8c29cf48efbd7105604f4a303f": {
      "model_module": "@jupyter-widgets/controls",
      "model_module_version": "1.5.0",
      "model_name": "HTMLModel",
      "state": {
       "_dom_classes": [],
       "_model_module": "@jupyter-widgets/controls",
       "_model_module_version": "1.5.0",
       "_model_name": "HTMLModel",
       "_view_count": null,
       "_view_module": "@jupyter-widgets/controls",
       "_view_module_version": "1.5.0",
       "_view_name": "HTMLView",
       "description": "",
       "description_tooltip": null,
       "layout": "IPY_MODEL_4d1fcf7ccdae438f82f94f6b7c49be03",
       "placeholder": "​",
       "style": "IPY_MODEL_7d229e1a36904c2ba7536be47fa3685b",
       "value": " 294/294 [00:00&lt;00:00, 11.3kB/s]"
      }
     },
     "5b533863ffc04992b98ebd85c2e98cf2": {
      "model_module": "@jupyter-widgets/base",
      "model_module_version": "1.2.0",
      "model_name": "LayoutModel",
      "state": {
       "_model_module": "@jupyter-widgets/base",
       "_model_module_version": "1.2.0",
       "_model_name": "LayoutModel",
       "_view_count": null,
       "_view_module": "@jupyter-widgets/base",
       "_view_module_version": "1.2.0",
       "_view_name": "LayoutView",
       "align_content": null,
       "align_items": null,
       "align_self": null,
       "border": null,
       "bottom": null,
       "display": null,
       "flex": null,
       "flex_flow": null,
       "grid_area": null,
       "grid_auto_columns": null,
       "grid_auto_flow": null,
       "grid_auto_rows": null,
       "grid_column": null,
       "grid_gap": null,
       "grid_row": null,
       "grid_template_areas": null,
       "grid_template_columns": null,
       "grid_template_rows": null,
       "height": null,
       "justify_content": null,
       "justify_items": null,
       "left": null,
       "margin": null,
       "max_height": null,
       "max_width": null,
       "min_height": null,
       "min_width": null,
       "object_fit": null,
       "object_position": null,
       "order": null,
       "overflow": null,
       "overflow_x": null,
       "overflow_y": null,
       "padding": null,
       "right": null,
       "top": null,
       "visibility": null,
       "width": null
      }
     },
     "621427a1723045c293b897edbc18a9be": {
      "model_module": "@jupyter-widgets/base",
      "model_module_version": "1.2.0",
      "model_name": "LayoutModel",
      "state": {
       "_model_module": "@jupyter-widgets/base",
       "_model_module_version": "1.2.0",
       "_model_name": "LayoutModel",
       "_view_count": null,
       "_view_module": "@jupyter-widgets/base",
       "_view_module_version": "1.2.0",
       "_view_name": "LayoutView",
       "align_content": null,
       "align_items": null,
       "align_self": null,
       "border": null,
       "bottom": null,
       "display": null,
       "flex": null,
       "flex_flow": null,
       "grid_area": null,
       "grid_auto_columns": null,
       "grid_auto_flow": null,
       "grid_auto_rows": null,
       "grid_column": null,
       "grid_gap": null,
       "grid_row": null,
       "grid_template_areas": null,
       "grid_template_columns": null,
       "grid_template_rows": null,
       "height": null,
       "justify_content": null,
       "justify_items": null,
       "left": null,
       "margin": null,
       "max_height": null,
       "max_width": null,
       "min_height": null,
       "min_width": null,
       "object_fit": null,
       "object_position": null,
       "order": null,
       "overflow": null,
       "overflow_x": null,
       "overflow_y": null,
       "padding": null,
       "right": null,
       "top": null,
       "visibility": null,
       "width": null
      }
     },
     "65ad9f5381124647b39ca548e47b41b5": {
      "model_module": "@jupyter-widgets/controls",
      "model_module_version": "1.5.0",
      "model_name": "HBoxModel",
      "state": {
       "_dom_classes": [],
       "_model_module": "@jupyter-widgets/controls",
       "_model_module_version": "1.5.0",
       "_model_name": "HBoxModel",
       "_view_count": null,
       "_view_module": "@jupyter-widgets/controls",
       "_view_module_version": "1.5.0",
       "_view_name": "HBoxView",
       "box_style": "",
       "children": [
        "IPY_MODEL_684dd774a30a435099b0399c9e3e1f8e",
        "IPY_MODEL_14cfeb88dda54de390c4e3e4ccd49054",
        "IPY_MODEL_00e8e9d3489d44b78d4ea50db2353d86"
       ],
       "layout": "IPY_MODEL_92b7e7aaccf04d74a1c2b64f09c38647"
      }
     },
     "684dd774a30a435099b0399c9e3e1f8e": {
      "model_module": "@jupyter-widgets/controls",
      "model_module_version": "1.5.0",
      "model_name": "HTMLModel",
      "state": {
       "_dom_classes": [],
       "_model_module": "@jupyter-widgets/controls",
       "_model_module_version": "1.5.0",
       "_model_name": "HTMLModel",
       "_view_count": null,
       "_view_module": "@jupyter-widgets/controls",
       "_view_module_version": "1.5.0",
       "_view_name": "HTMLView",
       "description": "",
       "description_tooltip": null,
       "layout": "IPY_MODEL_eee16dd9296941f280dedb45547503d6",
       "placeholder": "​",
       "style": "IPY_MODEL_93657b4eeb654ba39ff1515b297e3860",
       "value": "Downloading: 100%"
      }
     },
     "6c381f16937242a2b4cd2b864a9c74fb": {
      "model_module": "@jupyter-widgets/controls",
      "model_module_version": "1.5.0",
      "model_name": "HBoxModel",
      "state": {
       "_dom_classes": [],
       "_model_module": "@jupyter-widgets/controls",
       "_model_module_version": "1.5.0",
       "_model_name": "HBoxModel",
       "_view_count": null,
       "_view_module": "@jupyter-widgets/controls",
       "_view_module_version": "1.5.0",
       "_view_name": "HBoxView",
       "box_style": "",
       "children": [
        "IPY_MODEL_1d12004ead81494e83b30c04fab2839e",
        "IPY_MODEL_ee6d22a85d994ba8855c3a46f05c1813",
        "IPY_MODEL_5a7e5b8c29cf48efbd7105604f4a303f"
       ],
       "layout": "IPY_MODEL_0ae2d24218df4e7db5786a006e6d7722"
      }
     },
     "6cf61a3033724fe4ab27d0fcf0cd0469": {
      "model_module": "@jupyter-widgets/controls",
      "model_module_version": "1.5.0",
      "model_name": "FloatProgressModel",
      "state": {
       "_dom_classes": [],
       "_model_module": "@jupyter-widgets/controls",
       "_model_module_version": "1.5.0",
       "_model_name": "FloatProgressModel",
       "_view_count": null,
       "_view_module": "@jupyter-widgets/controls",
       "_view_module_version": "1.5.0",
       "_view_name": "ProgressView",
       "bar_style": "success",
       "description": "",
       "description_tooltip": null,
       "layout": "IPY_MODEL_907551d79d2440c387f9b17c8d9e3af4",
       "max": 1356047,
       "min": 0,
       "orientation": "horizontal",
       "style": "IPY_MODEL_c54cf1effe284d219c2ee91b65d0e97a",
       "value": 1356047
      }
     },
     "713beb656a784edd8f8332867b93a88b": {
      "model_module": "@jupyter-widgets/base",
      "model_module_version": "1.2.0",
      "model_name": "LayoutModel",
      "state": {
       "_model_module": "@jupyter-widgets/base",
       "_model_module_version": "1.2.0",
       "_model_name": "LayoutModel",
       "_view_count": null,
       "_view_module": "@jupyter-widgets/base",
       "_view_module_version": "1.2.0",
       "_view_name": "LayoutView",
       "align_content": null,
       "align_items": null,
       "align_self": null,
       "border": null,
       "bottom": null,
       "display": null,
       "flex": null,
       "flex_flow": null,
       "grid_area": null,
       "grid_auto_columns": null,
       "grid_auto_flow": null,
       "grid_auto_rows": null,
       "grid_column": null,
       "grid_gap": null,
       "grid_row": null,
       "grid_template_areas": null,
       "grid_template_columns": null,
       "grid_template_rows": null,
       "height": null,
       "justify_content": null,
       "justify_items": null,
       "left": null,
       "margin": null,
       "max_height": null,
       "max_width": null,
       "min_height": null,
       "min_width": null,
       "object_fit": null,
       "object_position": null,
       "order": null,
       "overflow": null,
       "overflow_x": null,
       "overflow_y": null,
       "padding": null,
       "right": null,
       "top": null,
       "visibility": null,
       "width": null
      }
     },
     "7357c4fbb8b0445faff78c963bdc2cab": {
      "model_module": "@jupyter-widgets/controls",
      "model_module_version": "1.5.0",
      "model_name": "ProgressStyleModel",
      "state": {
       "_model_module": "@jupyter-widgets/controls",
       "_model_module_version": "1.5.0",
       "_model_name": "ProgressStyleModel",
       "_view_count": null,
       "_view_module": "@jupyter-widgets/base",
       "_view_module_version": "1.2.0",
       "_view_name": "StyleView",
       "bar_color": null,
       "description_width": ""
      }
     },
     "769d9150b7ca4b5c8144dd00904c9bb1": {
      "model_module": "@jupyter-widgets/controls",
      "model_module_version": "1.5.0",
      "model_name": "HBoxModel",
      "state": {
       "_dom_classes": [],
       "_model_module": "@jupyter-widgets/controls",
       "_model_module_version": "1.5.0",
       "_model_name": "HBoxModel",
       "_view_count": null,
       "_view_module": "@jupyter-widgets/controls",
       "_view_module_version": "1.5.0",
       "_view_name": "HBoxView",
       "box_style": "",
       "children": [
        "IPY_MODEL_ceeb2dbcef6f47f8b1862daa5f70326d",
        "IPY_MODEL_d9dcd8e87b4d43af88025a98413a5c25",
        "IPY_MODEL_317e1848d54647cb8e7a74fa920b606a"
       ],
       "layout": "IPY_MODEL_2aae996f065b4b5e9cd23fb4755e1b9d"
      }
     },
     "7b456cdfaac44a3ca4fbd8c2c4dc2f6f": {
      "model_module": "@jupyter-widgets/base",
      "model_module_version": "1.2.0",
      "model_name": "LayoutModel",
      "state": {
       "_model_module": "@jupyter-widgets/base",
       "_model_module_version": "1.2.0",
       "_model_name": "LayoutModel",
       "_view_count": null,
       "_view_module": "@jupyter-widgets/base",
       "_view_module_version": "1.2.0",
       "_view_name": "LayoutView",
       "align_content": null,
       "align_items": null,
       "align_self": null,
       "border": null,
       "bottom": null,
       "display": null,
       "flex": null,
       "flex_flow": null,
       "grid_area": null,
       "grid_auto_columns": null,
       "grid_auto_flow": null,
       "grid_auto_rows": null,
       "grid_column": null,
       "grid_gap": null,
       "grid_row": null,
       "grid_template_areas": null,
       "grid_template_columns": null,
       "grid_template_rows": null,
       "height": null,
       "justify_content": null,
       "justify_items": null,
       "left": null,
       "margin": null,
       "max_height": null,
       "max_width": null,
       "min_height": null,
       "min_width": null,
       "object_fit": null,
       "object_position": null,
       "order": null,
       "overflow": null,
       "overflow_x": null,
       "overflow_y": null,
       "padding": null,
       "right": null,
       "top": null,
       "visibility": null,
       "width": null
      }
     },
     "7bff382b0b3c4e53b1b3d40400edd463": {
      "model_module": "@jupyter-widgets/controls",
      "model_module_version": "1.5.0",
      "model_name": "ProgressStyleModel",
      "state": {
       "_model_module": "@jupyter-widgets/controls",
       "_model_module_version": "1.5.0",
       "_model_name": "ProgressStyleModel",
       "_view_count": null,
       "_view_module": "@jupyter-widgets/base",
       "_view_module_version": "1.2.0",
       "_view_name": "StyleView",
       "bar_color": null,
       "description_width": ""
      }
     },
     "7c5dd706c3c5427e9bc9aa9d353c99c3": {
      "model_module": "@jupyter-widgets/controls",
      "model_module_version": "1.5.0",
      "model_name": "ProgressStyleModel",
      "state": {
       "_model_module": "@jupyter-widgets/controls",
       "_model_module_version": "1.5.0",
       "_model_name": "ProgressStyleModel",
       "_view_count": null,
       "_view_module": "@jupyter-widgets/base",
       "_view_module_version": "1.2.0",
       "_view_name": "StyleView",
       "bar_color": null,
       "description_width": ""
      }
     },
     "7d229e1a36904c2ba7536be47fa3685b": {
      "model_module": "@jupyter-widgets/controls",
      "model_module_version": "1.5.0",
      "model_name": "DescriptionStyleModel",
      "state": {
       "_model_module": "@jupyter-widgets/controls",
       "_model_module_version": "1.5.0",
       "_model_name": "DescriptionStyleModel",
       "_view_count": null,
       "_view_module": "@jupyter-widgets/base",
       "_view_module_version": "1.2.0",
       "_view_name": "StyleView",
       "description_width": ""
      }
     },
     "8471f5e2fee14b1a90a00c72b46c7eef": {
      "model_module": "@jupyter-widgets/base",
      "model_module_version": "1.2.0",
      "model_name": "LayoutModel",
      "state": {
       "_model_module": "@jupyter-widgets/base",
       "_model_module_version": "1.2.0",
       "_model_name": "LayoutModel",
       "_view_count": null,
       "_view_module": "@jupyter-widgets/base",
       "_view_module_version": "1.2.0",
       "_view_name": "LayoutView",
       "align_content": null,
       "align_items": null,
       "align_self": null,
       "border": null,
       "bottom": null,
       "display": null,
       "flex": null,
       "flex_flow": null,
       "grid_area": null,
       "grid_auto_columns": null,
       "grid_auto_flow": null,
       "grid_auto_rows": null,
       "grid_column": null,
       "grid_gap": null,
       "grid_row": null,
       "grid_template_areas": null,
       "grid_template_columns": null,
       "grid_template_rows": null,
       "height": null,
       "justify_content": null,
       "justify_items": null,
       "left": null,
       "margin": null,
       "max_height": null,
       "max_width": null,
       "min_height": null,
       "min_width": null,
       "object_fit": null,
       "object_position": null,
       "order": null,
       "overflow": null,
       "overflow_x": null,
       "overflow_y": null,
       "padding": null,
       "right": null,
       "top": null,
       "visibility": null,
       "width": null
      }
     },
     "8503fcaa107a401588d761391c8efe17": {
      "model_module": "@jupyter-widgets/controls",
      "model_module_version": "1.5.0",
      "model_name": "DescriptionStyleModel",
      "state": {
       "_model_module": "@jupyter-widgets/controls",
       "_model_module_version": "1.5.0",
       "_model_name": "DescriptionStyleModel",
       "_view_count": null,
       "_view_module": "@jupyter-widgets/base",
       "_view_module_version": "1.2.0",
       "_view_name": "StyleView",
       "description_width": ""
      }
     },
     "879a6158db9d498282656fcd5eb2690f": {
      "model_module": "@jupyter-widgets/base",
      "model_module_version": "1.2.0",
      "model_name": "LayoutModel",
      "state": {
       "_model_module": "@jupyter-widgets/base",
       "_model_module_version": "1.2.0",
       "_model_name": "LayoutModel",
       "_view_count": null,
       "_view_module": "@jupyter-widgets/base",
       "_view_module_version": "1.2.0",
       "_view_name": "LayoutView",
       "align_content": null,
       "align_items": null,
       "align_self": null,
       "border": null,
       "bottom": null,
       "display": null,
       "flex": null,
       "flex_flow": null,
       "grid_area": null,
       "grid_auto_columns": null,
       "grid_auto_flow": null,
       "grid_auto_rows": null,
       "grid_column": null,
       "grid_gap": null,
       "grid_row": null,
       "grid_template_areas": null,
       "grid_template_columns": null,
       "grid_template_rows": null,
       "height": null,
       "justify_content": null,
       "justify_items": null,
       "left": null,
       "margin": null,
       "max_height": null,
       "max_width": null,
       "min_height": null,
       "min_width": null,
       "object_fit": null,
       "object_position": null,
       "order": null,
       "overflow": null,
       "overflow_x": null,
       "overflow_y": null,
       "padding": null,
       "right": null,
       "top": null,
       "visibility": null,
       "width": null
      }
     },
     "9054d58461064dc1ad9d43bcd9d31ea4": {
      "model_module": "@jupyter-widgets/base",
      "model_module_version": "1.2.0",
      "model_name": "LayoutModel",
      "state": {
       "_model_module": "@jupyter-widgets/base",
       "_model_module_version": "1.2.0",
       "_model_name": "LayoutModel",
       "_view_count": null,
       "_view_module": "@jupyter-widgets/base",
       "_view_module_version": "1.2.0",
       "_view_name": "LayoutView",
       "align_content": null,
       "align_items": null,
       "align_self": null,
       "border": null,
       "bottom": null,
       "display": null,
       "flex": null,
       "flex_flow": null,
       "grid_area": null,
       "grid_auto_columns": null,
       "grid_auto_flow": null,
       "grid_auto_rows": null,
       "grid_column": null,
       "grid_gap": null,
       "grid_row": null,
       "grid_template_areas": null,
       "grid_template_columns": null,
       "grid_template_rows": null,
       "height": null,
       "justify_content": null,
       "justify_items": null,
       "left": null,
       "margin": null,
       "max_height": null,
       "max_width": null,
       "min_height": null,
       "min_width": null,
       "object_fit": null,
       "object_position": null,
       "order": null,
       "overflow": null,
       "overflow_x": null,
       "overflow_y": null,
       "padding": null,
       "right": null,
       "top": null,
       "visibility": null,
       "width": null
      }
     },
     "907551d79d2440c387f9b17c8d9e3af4": {
      "model_module": "@jupyter-widgets/base",
      "model_module_version": "1.2.0",
      "model_name": "LayoutModel",
      "state": {
       "_model_module": "@jupyter-widgets/base",
       "_model_module_version": "1.2.0",
       "_model_name": "LayoutModel",
       "_view_count": null,
       "_view_module": "@jupyter-widgets/base",
       "_view_module_version": "1.2.0",
       "_view_name": "LayoutView",
       "align_content": null,
       "align_items": null,
       "align_self": null,
       "border": null,
       "bottom": null,
       "display": null,
       "flex": null,
       "flex_flow": null,
       "grid_area": null,
       "grid_auto_columns": null,
       "grid_auto_flow": null,
       "grid_auto_rows": null,
       "grid_column": null,
       "grid_gap": null,
       "grid_row": null,
       "grid_template_areas": null,
       "grid_template_columns": null,
       "grid_template_rows": null,
       "height": null,
       "justify_content": null,
       "justify_items": null,
       "left": null,
       "margin": null,
       "max_height": null,
       "max_width": null,
       "min_height": null,
       "min_width": null,
       "object_fit": null,
       "object_position": null,
       "order": null,
       "overflow": null,
       "overflow_x": null,
       "overflow_y": null,
       "padding": null,
       "right": null,
       "top": null,
       "visibility": null,
       "width": null
      }
     },
     "92a6d7834de64437a5d55d44a464c6c1": {
      "model_module": "@jupyter-widgets/controls",
      "model_module_version": "1.5.0",
      "model_name": "DescriptionStyleModel",
      "state": {
       "_model_module": "@jupyter-widgets/controls",
       "_model_module_version": "1.5.0",
       "_model_name": "DescriptionStyleModel",
       "_view_count": null,
       "_view_module": "@jupyter-widgets/base",
       "_view_module_version": "1.2.0",
       "_view_name": "StyleView",
       "description_width": ""
      }
     },
     "92b7e7aaccf04d74a1c2b64f09c38647": {
      "model_module": "@jupyter-widgets/base",
      "model_module_version": "1.2.0",
      "model_name": "LayoutModel",
      "state": {
       "_model_module": "@jupyter-widgets/base",
       "_model_module_version": "1.2.0",
       "_model_name": "LayoutModel",
       "_view_count": null,
       "_view_module": "@jupyter-widgets/base",
       "_view_module_version": "1.2.0",
       "_view_name": "LayoutView",
       "align_content": null,
       "align_items": null,
       "align_self": null,
       "border": null,
       "bottom": null,
       "display": null,
       "flex": null,
       "flex_flow": null,
       "grid_area": null,
       "grid_auto_columns": null,
       "grid_auto_flow": null,
       "grid_auto_rows": null,
       "grid_column": null,
       "grid_gap": null,
       "grid_row": null,
       "grid_template_areas": null,
       "grid_template_columns": null,
       "grid_template_rows": null,
       "height": null,
       "justify_content": null,
       "justify_items": null,
       "left": null,
       "margin": null,
       "max_height": null,
       "max_width": null,
       "min_height": null,
       "min_width": null,
       "object_fit": null,
       "object_position": null,
       "order": null,
       "overflow": null,
       "overflow_x": null,
       "overflow_y": null,
       "padding": null,
       "right": null,
       "top": null,
       "visibility": null,
       "width": null
      }
     },
     "93657b4eeb654ba39ff1515b297e3860": {
      "model_module": "@jupyter-widgets/controls",
      "model_module_version": "1.5.0",
      "model_name": "DescriptionStyleModel",
      "state": {
       "_model_module": "@jupyter-widgets/controls",
       "_model_module_version": "1.5.0",
       "_model_name": "DescriptionStyleModel",
       "_view_count": null,
       "_view_module": "@jupyter-widgets/base",
       "_view_module_version": "1.2.0",
       "_view_name": "StyleView",
       "description_width": ""
      }
     },
     "97b40ba627a2417392ce91cefc26d216": {
      "model_module": "@jupyter-widgets/controls",
      "model_module_version": "1.5.0",
      "model_name": "HBoxModel",
      "state": {
       "_dom_classes": [],
       "_model_module": "@jupyter-widgets/controls",
       "_model_module_version": "1.5.0",
       "_model_name": "HBoxModel",
       "_view_count": null,
       "_view_module": "@jupyter-widgets/controls",
       "_view_module_version": "1.5.0",
       "_view_name": "HBoxView",
       "box_style": "",
       "children": [
        "IPY_MODEL_0961c6f17dc0416e8cb1075080f977bd",
        "IPY_MODEL_df78544aced8412e8a6c17d86d50260b",
        "IPY_MODEL_da69cc0e65a54caabf8e9716c3d65ce5"
       ],
       "layout": "IPY_MODEL_9054d58461064dc1ad9d43bcd9d31ea4"
      }
     },
     "a294f3bb853e4f1fb56da16807783842": {
      "model_module": "@jupyter-widgets/base",
      "model_module_version": "1.2.0",
      "model_name": "LayoutModel",
      "state": {
       "_model_module": "@jupyter-widgets/base",
       "_model_module_version": "1.2.0",
       "_model_name": "LayoutModel",
       "_view_count": null,
       "_view_module": "@jupyter-widgets/base",
       "_view_module_version": "1.2.0",
       "_view_name": "LayoutView",
       "align_content": null,
       "align_items": null,
       "align_self": null,
       "border": null,
       "bottom": null,
       "display": null,
       "flex": null,
       "flex_flow": null,
       "grid_area": null,
       "grid_auto_columns": null,
       "grid_auto_flow": null,
       "grid_auto_rows": null,
       "grid_column": null,
       "grid_gap": null,
       "grid_row": null,
       "grid_template_areas": null,
       "grid_template_columns": null,
       "grid_template_rows": null,
       "height": null,
       "justify_content": null,
       "justify_items": null,
       "left": null,
       "margin": null,
       "max_height": null,
       "max_width": null,
       "min_height": null,
       "min_width": null,
       "object_fit": null,
       "object_position": null,
       "order": null,
       "overflow": null,
       "overflow_x": null,
       "overflow_y": null,
       "padding": null,
       "right": null,
       "top": null,
       "visibility": null,
       "width": null
      }
     },
     "a2a3a99f68964200822449582116c1d8": {
      "model_module": "@jupyter-widgets/base",
      "model_module_version": "1.2.0",
      "model_name": "LayoutModel",
      "state": {
       "_model_module": "@jupyter-widgets/base",
       "_model_module_version": "1.2.0",
       "_model_name": "LayoutModel",
       "_view_count": null,
       "_view_module": "@jupyter-widgets/base",
       "_view_module_version": "1.2.0",
       "_view_name": "LayoutView",
       "align_content": null,
       "align_items": null,
       "align_self": null,
       "border": null,
       "bottom": null,
       "display": null,
       "flex": null,
       "flex_flow": null,
       "grid_area": null,
       "grid_auto_columns": null,
       "grid_auto_flow": null,
       "grid_auto_rows": null,
       "grid_column": null,
       "grid_gap": null,
       "grid_row": null,
       "grid_template_areas": null,
       "grid_template_columns": null,
       "grid_template_rows": null,
       "height": null,
       "justify_content": null,
       "justify_items": null,
       "left": null,
       "margin": null,
       "max_height": null,
       "max_width": null,
       "min_height": null,
       "min_width": null,
       "object_fit": null,
       "object_position": null,
       "order": null,
       "overflow": null,
       "overflow_x": null,
       "overflow_y": null,
       "padding": null,
       "right": null,
       "top": null,
       "visibility": null,
       "width": null
      }
     },
     "a539705d952a440287006f3cacedcb52": {
      "model_module": "@jupyter-widgets/controls",
      "model_module_version": "1.5.0",
      "model_name": "DescriptionStyleModel",
      "state": {
       "_model_module": "@jupyter-widgets/controls",
       "_model_module_version": "1.5.0",
       "_model_name": "DescriptionStyleModel",
       "_view_count": null,
       "_view_module": "@jupyter-widgets/base",
       "_view_module_version": "1.2.0",
       "_view_name": "StyleView",
       "description_width": ""
      }
     },
     "a6e3339ecbc6423d94ab6aa98990418a": {
      "model_module": "@jupyter-widgets/controls",
      "model_module_version": "1.5.0",
      "model_name": "HBoxModel",
      "state": {
       "_dom_classes": [],
       "_model_module": "@jupyter-widgets/controls",
       "_model_module_version": "1.5.0",
       "_model_name": "HBoxModel",
       "_view_count": null,
       "_view_module": "@jupyter-widgets/controls",
       "_view_module_version": "1.5.0",
       "_view_name": "HBoxView",
       "box_style": "",
       "children": [
        "IPY_MODEL_e7577a28d5be47e09964462f05d856d9",
        "IPY_MODEL_23b983d0d8384282bf0270f15839f21f",
        "IPY_MODEL_342036b07aea4d42961e95cc340aa875"
       ],
       "layout": "IPY_MODEL_abe3f93791d44392802fb84c4ac7bd5e"
      }
     },
     "abe3f93791d44392802fb84c4ac7bd5e": {
      "model_module": "@jupyter-widgets/base",
      "model_module_version": "1.2.0",
      "model_name": "LayoutModel",
      "state": {
       "_model_module": "@jupyter-widgets/base",
       "_model_module_version": "1.2.0",
       "_model_name": "LayoutModel",
       "_view_count": null,
       "_view_module": "@jupyter-widgets/base",
       "_view_module_version": "1.2.0",
       "_view_name": "LayoutView",
       "align_content": null,
       "align_items": null,
       "align_self": null,
       "border": null,
       "bottom": null,
       "display": null,
       "flex": null,
       "flex_flow": null,
       "grid_area": null,
       "grid_auto_columns": null,
       "grid_auto_flow": null,
       "grid_auto_rows": null,
       "grid_column": null,
       "grid_gap": null,
       "grid_row": null,
       "grid_template_areas": null,
       "grid_template_columns": null,
       "grid_template_rows": null,
       "height": null,
       "justify_content": null,
       "justify_items": null,
       "left": null,
       "margin": null,
       "max_height": null,
       "max_width": null,
       "min_height": null,
       "min_width": null,
       "object_fit": null,
       "object_position": null,
       "order": null,
       "overflow": null,
       "overflow_x": null,
       "overflow_y": null,
       "padding": null,
       "right": null,
       "top": null,
       "visibility": null,
       "width": null
      }
     },
     "b027730e3a9442da9ae753f419f8868f": {
      "model_module": "@jupyter-widgets/controls",
      "model_module_version": "1.5.0",
      "model_name": "ProgressStyleModel",
      "state": {
       "_model_module": "@jupyter-widgets/controls",
       "_model_module_version": "1.5.0",
       "_model_name": "ProgressStyleModel",
       "_view_count": null,
       "_view_module": "@jupyter-widgets/base",
       "_view_module_version": "1.2.0",
       "_view_name": "StyleView",
       "bar_color": null,
       "description_width": ""
      }
     },
     "b05c33ff9e7749e58836aed5a5dc49e2": {
      "model_module": "@jupyter-widgets/controls",
      "model_module_version": "1.5.0",
      "model_name": "HBoxModel",
      "state": {
       "_dom_classes": [],
       "_model_module": "@jupyter-widgets/controls",
       "_model_module_version": "1.5.0",
       "_model_name": "HBoxModel",
       "_view_count": null,
       "_view_module": "@jupyter-widgets/controls",
       "_view_module_version": "1.5.0",
       "_view_name": "HBoxView",
       "box_style": "",
       "children": [
        "IPY_MODEL_264221c753ab493eba815972be237591",
        "IPY_MODEL_3331dfec60dd4fd089ae90fb959cc56b",
        "IPY_MODEL_3536c5e869c14f229bd9233b6a414798"
       ],
       "layout": "IPY_MODEL_879a6158db9d498282656fcd5eb2690f"
      }
     },
     "b92c4467aa344e3f93448147f02e734c": {
      "model_module": "@jupyter-widgets/base",
      "model_module_version": "1.2.0",
      "model_name": "LayoutModel",
      "state": {
       "_model_module": "@jupyter-widgets/base",
       "_model_module_version": "1.2.0",
       "_model_name": "LayoutModel",
       "_view_count": null,
       "_view_module": "@jupyter-widgets/base",
       "_view_module_version": "1.2.0",
       "_view_name": "LayoutView",
       "align_content": null,
       "align_items": null,
       "align_self": null,
       "border": null,
       "bottom": null,
       "display": null,
       "flex": null,
       "flex_flow": null,
       "grid_area": null,
       "grid_auto_columns": null,
       "grid_auto_flow": null,
       "grid_auto_rows": null,
       "grid_column": null,
       "grid_gap": null,
       "grid_row": null,
       "grid_template_areas": null,
       "grid_template_columns": null,
       "grid_template_rows": null,
       "height": null,
       "justify_content": null,
       "justify_items": null,
       "left": null,
       "margin": null,
       "max_height": null,
       "max_width": null,
       "min_height": null,
       "min_width": null,
       "object_fit": null,
       "object_position": null,
       "order": null,
       "overflow": null,
       "overflow_x": null,
       "overflow_y": null,
       "padding": null,
       "right": null,
       "top": null,
       "visibility": null,
       "width": null
      }
     },
     "bdeed625ca454f39a90cf63a1a747609": {
      "model_module": "@jupyter-widgets/controls",
      "model_module_version": "1.5.0",
      "model_name": "DescriptionStyleModel",
      "state": {
       "_model_module": "@jupyter-widgets/controls",
       "_model_module_version": "1.5.0",
       "_model_name": "DescriptionStyleModel",
       "_view_count": null,
       "_view_module": "@jupyter-widgets/base",
       "_view_module_version": "1.2.0",
       "_view_name": "StyleView",
       "description_width": ""
      }
     },
     "c138ee02f906484cb6b5f1760741d54e": {
      "model_module": "@jupyter-widgets/base",
      "model_module_version": "1.2.0",
      "model_name": "LayoutModel",
      "state": {
       "_model_module": "@jupyter-widgets/base",
       "_model_module_version": "1.2.0",
       "_model_name": "LayoutModel",
       "_view_count": null,
       "_view_module": "@jupyter-widgets/base",
       "_view_module_version": "1.2.0",
       "_view_name": "LayoutView",
       "align_content": null,
       "align_items": null,
       "align_self": null,
       "border": null,
       "bottom": null,
       "display": null,
       "flex": null,
       "flex_flow": null,
       "grid_area": null,
       "grid_auto_columns": null,
       "grid_auto_flow": null,
       "grid_auto_rows": null,
       "grid_column": null,
       "grid_gap": null,
       "grid_row": null,
       "grid_template_areas": null,
       "grid_template_columns": null,
       "grid_template_rows": null,
       "height": null,
       "justify_content": null,
       "justify_items": null,
       "left": null,
       "margin": null,
       "max_height": null,
       "max_width": null,
       "min_height": null,
       "min_width": null,
       "object_fit": null,
       "object_position": null,
       "order": null,
       "overflow": null,
       "overflow_x": null,
       "overflow_y": null,
       "padding": null,
       "right": null,
       "top": null,
       "visibility": null,
       "width": null
      }
     },
     "c148b75718564cff83bc58c1407a957a": {
      "model_module": "@jupyter-widgets/base",
      "model_module_version": "1.2.0",
      "model_name": "LayoutModel",
      "state": {
       "_model_module": "@jupyter-widgets/base",
       "_model_module_version": "1.2.0",
       "_model_name": "LayoutModel",
       "_view_count": null,
       "_view_module": "@jupyter-widgets/base",
       "_view_module_version": "1.2.0",
       "_view_name": "LayoutView",
       "align_content": null,
       "align_items": null,
       "align_self": null,
       "border": null,
       "bottom": null,
       "display": null,
       "flex": null,
       "flex_flow": null,
       "grid_area": null,
       "grid_auto_columns": null,
       "grid_auto_flow": null,
       "grid_auto_rows": null,
       "grid_column": null,
       "grid_gap": null,
       "grid_row": null,
       "grid_template_areas": null,
       "grid_template_columns": null,
       "grid_template_rows": null,
       "height": null,
       "justify_content": null,
       "justify_items": null,
       "left": null,
       "margin": null,
       "max_height": null,
       "max_width": null,
       "min_height": null,
       "min_width": null,
       "object_fit": null,
       "object_position": null,
       "order": null,
       "overflow": null,
       "overflow_x": null,
       "overflow_y": null,
       "padding": null,
       "right": null,
       "top": null,
       "visibility": null,
       "width": null
      }
     },
     "c385ff1663f54410a3639232ab6af03e": {
      "model_module": "@jupyter-widgets/base",
      "model_module_version": "1.2.0",
      "model_name": "LayoutModel",
      "state": {
       "_model_module": "@jupyter-widgets/base",
       "_model_module_version": "1.2.0",
       "_model_name": "LayoutModel",
       "_view_count": null,
       "_view_module": "@jupyter-widgets/base",
       "_view_module_version": "1.2.0",
       "_view_name": "LayoutView",
       "align_content": null,
       "align_items": null,
       "align_self": null,
       "border": null,
       "bottom": null,
       "display": null,
       "flex": null,
       "flex_flow": null,
       "grid_area": null,
       "grid_auto_columns": null,
       "grid_auto_flow": null,
       "grid_auto_rows": null,
       "grid_column": null,
       "grid_gap": null,
       "grid_row": null,
       "grid_template_areas": null,
       "grid_template_columns": null,
       "grid_template_rows": null,
       "height": null,
       "justify_content": null,
       "justify_items": null,
       "left": null,
       "margin": null,
       "max_height": null,
       "max_width": null,
       "min_height": null,
       "min_width": null,
       "object_fit": null,
       "object_position": null,
       "order": null,
       "overflow": null,
       "overflow_x": null,
       "overflow_y": null,
       "padding": null,
       "right": null,
       "top": null,
       "visibility": null,
       "width": null
      }
     },
     "c54cf1effe284d219c2ee91b65d0e97a": {
      "model_module": "@jupyter-widgets/controls",
      "model_module_version": "1.5.0",
      "model_name": "ProgressStyleModel",
      "state": {
       "_model_module": "@jupyter-widgets/controls",
       "_model_module_version": "1.5.0",
       "_model_name": "ProgressStyleModel",
       "_view_count": null,
       "_view_module": "@jupyter-widgets/base",
       "_view_module_version": "1.2.0",
       "_view_name": "StyleView",
       "bar_color": null,
       "description_width": ""
      }
     },
     "ceeb2dbcef6f47f8b1862daa5f70326d": {
      "model_module": "@jupyter-widgets/controls",
      "model_module_version": "1.5.0",
      "model_name": "HTMLModel",
      "state": {
       "_dom_classes": [],
       "_model_module": "@jupyter-widgets/controls",
       "_model_module_version": "1.5.0",
       "_model_name": "HTMLModel",
       "_view_count": null,
       "_view_module": "@jupyter-widgets/controls",
       "_view_module_version": "1.5.0",
       "_view_name": "HTMLView",
       "description": "",
       "description_tooltip": null,
       "layout": "IPY_MODEL_164ecce3b7804fcdb91ba7dfc1a89c18",
       "placeholder": "​",
       "style": "IPY_MODEL_8503fcaa107a401588d761391c8efe17",
       "value": "Downloading: 100%"
      }
     },
     "d9dcd8e87b4d43af88025a98413a5c25": {
      "model_module": "@jupyter-widgets/controls",
      "model_module_version": "1.5.0",
      "model_name": "FloatProgressModel",
      "state": {
       "_dom_classes": [],
       "_model_module": "@jupyter-widgets/controls",
       "_model_module_version": "1.5.0",
       "_model_name": "FloatProgressModel",
       "_view_count": null,
       "_view_module": "@jupyter-widgets/controls",
       "_view_module_version": "1.5.0",
       "_view_name": "ProgressView",
       "bar_style": "success",
       "description": "",
       "description_tooltip": null,
       "layout": "IPY_MODEL_c148b75718564cff83bc58c1407a957a",
       "max": 798293,
       "min": 0,
       "orientation": "horizontal",
       "style": "IPY_MODEL_7c5dd706c3c5427e9bc9aa9d353c99c3",
       "value": 798293
      }
     },
     "da69cc0e65a54caabf8e9716c3d65ce5": {
      "model_module": "@jupyter-widgets/controls",
      "model_module_version": "1.5.0",
      "model_name": "HTMLModel",
      "state": {
       "_dom_classes": [],
       "_model_module": "@jupyter-widgets/controls",
       "_model_module_version": "1.5.0",
       "_model_name": "HTMLModel",
       "_view_count": null,
       "_view_module": "@jupyter-widgets/controls",
       "_view_module_version": "1.5.0",
       "_view_name": "HTMLView",
       "description": "",
       "description_tooltip": null,
       "layout": "IPY_MODEL_30df476e034d4176b06c44e545ed99ef",
       "placeholder": "​",
       "style": "IPY_MODEL_02c79c72f8b844fb81a42aa52eb3a620",
       "value": " 239/239 [00:00&lt;00:00, 3.85kB/s]"
      }
     },
     "dc6b7085001344e29210d06cb2ff36d0": {
      "model_module": "@jupyter-widgets/controls",
      "model_module_version": "1.5.0",
      "model_name": "DescriptionStyleModel",
      "state": {
       "_model_module": "@jupyter-widgets/controls",
       "_model_module_version": "1.5.0",
       "_model_name": "DescriptionStyleModel",
       "_view_count": null,
       "_view_module": "@jupyter-widgets/base",
       "_view_module_version": "1.2.0",
       "_view_name": "StyleView",
       "description_width": ""
      }
     },
     "df78544aced8412e8a6c17d86d50260b": {
      "model_module": "@jupyter-widgets/controls",
      "model_module_version": "1.5.0",
      "model_name": "FloatProgressModel",
      "state": {
       "_dom_classes": [],
       "_model_module": "@jupyter-widgets/controls",
       "_model_module_version": "1.5.0",
       "_model_name": "FloatProgressModel",
       "_view_count": null,
       "_view_module": "@jupyter-widgets/controls",
       "_view_module_version": "1.5.0",
       "_view_name": "ProgressView",
       "bar_style": "success",
       "description": "",
       "description_tooltip": null,
       "layout": "IPY_MODEL_c138ee02f906484cb6b5f1760741d54e",
       "max": 239,
       "min": 0,
       "orientation": "horizontal",
       "style": "IPY_MODEL_39380227a5764889a5e303665768a688",
       "value": 239
      }
     },
     "e7577a28d5be47e09964462f05d856d9": {
      "model_module": "@jupyter-widgets/controls",
      "model_module_version": "1.5.0",
      "model_name": "HTMLModel",
      "state": {
       "_dom_classes": [],
       "_model_module": "@jupyter-widgets/controls",
       "_model_module_version": "1.5.0",
       "_model_name": "HTMLModel",
       "_view_count": null,
       "_view_module": "@jupyter-widgets/controls",
       "_view_module_version": "1.5.0",
       "_view_name": "HTMLView",
       "description": "",
       "description_tooltip": null,
       "layout": "IPY_MODEL_3ea339b9cdec479eace5d690c65d6403",
       "placeholder": "​",
       "style": "IPY_MODEL_4b5c0e6817894c1682497ed0df15ee9d",
       "value": "Downloading: 100%"
      }
     },
     "ea6b9e1d8ed14b38966f84278cb4ac21": {
      "model_module": "@jupyter-widgets/controls",
      "model_module_version": "1.5.0",
      "model_name": "DescriptionStyleModel",
      "state": {
       "_model_module": "@jupyter-widgets/controls",
       "_model_module_version": "1.5.0",
       "_model_name": "DescriptionStyleModel",
       "_view_count": null,
       "_view_module": "@jupyter-widgets/base",
       "_view_module_version": "1.2.0",
       "_view_name": "StyleView",
       "description_width": ""
      }
     },
     "ee6d22a85d994ba8855c3a46f05c1813": {
      "model_module": "@jupyter-widgets/controls",
      "model_module_version": "1.5.0",
      "model_name": "FloatProgressModel",
      "state": {
       "_dom_classes": [],
       "_model_module": "@jupyter-widgets/controls",
       "_model_module_version": "1.5.0",
       "_model_name": "FloatProgressModel",
       "_view_count": null,
       "_view_module": "@jupyter-widgets/controls",
       "_view_module_version": "1.5.0",
       "_view_name": "ProgressView",
       "bar_style": "success",
       "description": "",
       "description_tooltip": null,
       "layout": "IPY_MODEL_5b533863ffc04992b98ebd85c2e98cf2",
       "max": 294,
       "min": 0,
       "orientation": "horizontal",
       "style": "IPY_MODEL_7357c4fbb8b0445faff78c963bdc2cab",
       "value": 294
      }
     },
     "eee16dd9296941f280dedb45547503d6": {
      "model_module": "@jupyter-widgets/base",
      "model_module_version": "1.2.0",
      "model_name": "LayoutModel",
      "state": {
       "_model_module": "@jupyter-widgets/base",
       "_model_module_version": "1.2.0",
       "_model_name": "LayoutModel",
       "_view_count": null,
       "_view_module": "@jupyter-widgets/base",
       "_view_module_version": "1.2.0",
       "_view_name": "LayoutView",
       "align_content": null,
       "align_items": null,
       "align_self": null,
       "border": null,
       "bottom": null,
       "display": null,
       "flex": null,
       "flex_flow": null,
       "grid_area": null,
       "grid_auto_columns": null,
       "grid_auto_flow": null,
       "grid_auto_rows": null,
       "grid_column": null,
       "grid_gap": null,
       "grid_row": null,
       "grid_template_areas": null,
       "grid_template_columns": null,
       "grid_template_rows": null,
       "height": null,
       "justify_content": null,
       "justify_items": null,
       "left": null,
       "margin": null,
       "max_height": null,
       "max_width": null,
       "min_height": null,
       "min_width": null,
       "object_fit": null,
       "object_position": null,
       "order": null,
       "overflow": null,
       "overflow_x": null,
       "overflow_y": null,
       "padding": null,
       "right": null,
       "top": null,
       "visibility": null,
       "width": null
      }
     },
     "f5b5d07769dd478db545a38fd489876c": {
      "model_module": "@jupyter-widgets/controls",
      "model_module_version": "1.5.0",
      "model_name": "DescriptionStyleModel",
      "state": {
       "_model_module": "@jupyter-widgets/controls",
       "_model_module_version": "1.5.0",
       "_model_name": "DescriptionStyleModel",
       "_view_count": null,
       "_view_module": "@jupyter-widgets/base",
       "_view_module_version": "1.2.0",
       "_view_name": "StyleView",
       "description_width": ""
      }
     },
     "f64daef4473240e5b3c0a3cf453b7842": {
      "model_module": "@jupyter-widgets/controls",
      "model_module_version": "1.5.0",
      "model_name": "DescriptionStyleModel",
      "state": {
       "_model_module": "@jupyter-widgets/controls",
       "_model_module_version": "1.5.0",
       "_model_name": "DescriptionStyleModel",
       "_view_count": null,
       "_view_module": "@jupyter-widgets/base",
       "_view_module_version": "1.2.0",
       "_view_name": "StyleView",
       "description_width": ""
      }
     },
     "fbf0c17ca81e4bc5ba53615d2ed0be2e": {
      "model_module": "@jupyter-widgets/controls",
      "model_module_version": "1.5.0",
      "model_name": "DescriptionStyleModel",
      "state": {
       "_model_module": "@jupyter-widgets/controls",
       "_model_module_version": "1.5.0",
       "_model_name": "DescriptionStyleModel",
       "_view_count": null,
       "_view_module": "@jupyter-widgets/base",
       "_view_module_version": "1.2.0",
       "_view_name": "StyleView",
       "description_width": ""
      }
     },
     "fd65db12e3484bd1a95d1e1968860363": {
      "model_module": "@jupyter-widgets/base",
      "model_module_version": "1.2.0",
      "model_name": "LayoutModel",
      "state": {
       "_model_module": "@jupyter-widgets/base",
       "_model_module_version": "1.2.0",
       "_model_name": "LayoutModel",
       "_view_count": null,
       "_view_module": "@jupyter-widgets/base",
       "_view_module_version": "1.2.0",
       "_view_name": "LayoutView",
       "align_content": null,
       "align_items": null,
       "align_self": null,
       "border": null,
       "bottom": null,
       "display": null,
       "flex": null,
       "flex_flow": null,
       "grid_area": null,
       "grid_auto_columns": null,
       "grid_auto_flow": null,
       "grid_auto_rows": null,
       "grid_column": null,
       "grid_gap": null,
       "grid_row": null,
       "grid_template_areas": null,
       "grid_template_columns": null,
       "grid_template_rows": null,
       "height": null,
       "justify_content": null,
       "justify_items": null,
       "left": null,
       "margin": null,
       "max_height": null,
       "max_width": null,
       "min_height": null,
       "min_width": null,
       "object_fit": null,
       "object_position": null,
       "order": null,
       "overflow": null,
       "overflow_x": null,
       "overflow_y": null,
       "padding": null,
       "right": null,
       "top": null,
       "visibility": null,
       "width": null
      }
     },
     "fde8608cc56c42ff8d341b2e31b0174e": {
      "model_module": "@jupyter-widgets/base",
      "model_module_version": "1.2.0",
      "model_name": "LayoutModel",
      "state": {
       "_model_module": "@jupyter-widgets/base",
       "_model_module_version": "1.2.0",
       "_model_name": "LayoutModel",
       "_view_count": null,
       "_view_module": "@jupyter-widgets/base",
       "_view_module_version": "1.2.0",
       "_view_name": "LayoutView",
       "align_content": null,
       "align_items": null,
       "align_self": null,
       "border": null,
       "bottom": null,
       "display": null,
       "flex": null,
       "flex_flow": null,
       "grid_area": null,
       "grid_auto_columns": null,
       "grid_auto_flow": null,
       "grid_auto_rows": null,
       "grid_column": null,
       "grid_gap": null,
       "grid_row": null,
       "grid_template_areas": null,
       "grid_template_columns": null,
       "grid_template_rows": null,
       "height": null,
       "justify_content": null,
       "justify_items": null,
       "left": null,
       "margin": null,
       "max_height": null,
       "max_width": null,
       "min_height": null,
       "min_width": null,
       "object_fit": null,
       "object_position": null,
       "order": null,
       "overflow": null,
       "overflow_x": null,
       "overflow_y": null,
       "padding": null,
       "right": null,
       "top": null,
       "visibility": null,
       "width": null
      }
     }
    },
    "version_major": 2,
    "version_minor": 0
   }
  }
 },
 "nbformat": 4,
 "nbformat_minor": 5
}
