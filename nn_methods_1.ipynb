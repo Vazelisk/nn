{
 "cells": [
  {
   "cell_type": "code",
   "execution_count": 1,
   "id": "54b28b2e",
   "metadata": {},
   "outputs": [
    {
     "data": {
      "text/html": [
       "        <script type=\"text/javascript\">\n",
       "        window.PlotlyConfig = {MathJaxConfig: 'local'};\n",
       "        if (window.MathJax) {MathJax.Hub.Config({SVG: {font: \"STIX-Web\"}});}\n",
       "        if (typeof require !== 'undefined') {\n",
       "        require.undef(\"plotly\");\n",
       "        requirejs.config({\n",
       "            paths: {\n",
       "                'plotly': ['https://cdn.plot.ly/plotly-2.4.2.min']\n",
       "            }\n",
       "        });\n",
       "        require(['plotly'], function(Plotly) {\n",
       "            window._Plotly = Plotly;\n",
       "        });\n",
       "        }\n",
       "        </script>\n",
       "        "
      ]
     },
     "metadata": {},
     "output_type": "display_data"
    }
   ],
   "source": [
    "import numpy as np\n",
    "import pandas as pd\n",
    "pd.set_option('max_columns', None)\n",
    "import matplotlib.pyplot as plt\n",
    "import seaborn\n",
    "import plotly.offline as py\n",
    "py.init_notebook_mode(connected=True)\n",
    "import plotly.graph_objs as go\n",
    "import plotly.tools as tls\n",
    "from langdetect import detect\n",
    "%matplotlib inline"
   ]
  },
  {
   "cell_type": "code",
   "execution_count": 2,
   "id": "303aeb9c",
   "metadata": {},
   "outputs": [],
   "source": [
    "df = pd.read_csv('Shoes_Data.csv')"
   ]
  },
  {
   "cell_type": "code",
   "execution_count": 3,
   "id": "65a41695",
   "metadata": {},
   "outputs": [
    {
     "data": {
      "text/html": [
       "<div>\n",
       "<style scoped>\n",
       "    .dataframe tbody tr th:only-of-type {\n",
       "        vertical-align: middle;\n",
       "    }\n",
       "\n",
       "    .dataframe tbody tr th {\n",
       "        vertical-align: top;\n",
       "    }\n",
       "\n",
       "    .dataframe thead th {\n",
       "        text-align: right;\n",
       "    }\n",
       "</style>\n",
       "<table border=\"1\" class=\"dataframe\">\n",
       "  <thead>\n",
       "    <tr style=\"text-align: right;\">\n",
       "      <th></th>\n",
       "      <th>title</th>\n",
       "      <th>price</th>\n",
       "      <th>rating</th>\n",
       "      <th>total_reviews</th>\n",
       "      <th>product_description</th>\n",
       "      <th>reviews</th>\n",
       "      <th>reviews_rating</th>\n",
       "      <th>Shoe Type</th>\n",
       "    </tr>\n",
       "  </thead>\n",
       "  <tbody>\n",
       "    <tr>\n",
       "      <th>0</th>\n",
       "      <td>CLYMB Outdoor Sports Running Shoes for Mens Boy</td>\n",
       "      <td>₹279.00</td>\n",
       "      <td>2.9 out of 5 stars</td>\n",
       "      <td>2389 ratings</td>\n",
       "      <td>Elevate your style with this classy pair of Ru...</td>\n",
       "      <td>Not happy with product|| It's not as expected....</td>\n",
       "      <td>1.0 out of 5 stars|| 1.0 out of 5 stars|| 3.0 ...</td>\n",
       "      <td>Men</td>\n",
       "    </tr>\n",
       "    <tr>\n",
       "      <th>1</th>\n",
       "      <td>Bourge Men's Loire-z126 Running Shoes</td>\n",
       "      <td>₹479.00</td>\n",
       "      <td>3.9 out of 5 stars</td>\n",
       "      <td>11520 ratings</td>\n",
       "      <td>The product will be an excellent pick for you....</td>\n",
       "      <td>Memory cushioning in these shoes is the best f...</td>\n",
       "      <td>5.0 out of 5 stars|| 1.0 out of 5 stars|| 5.0 ...</td>\n",
       "      <td>Men</td>\n",
       "    </tr>\n",
       "    <tr>\n",
       "      <th>2</th>\n",
       "      <td>T-Rock Men's Sneaker</td>\n",
       "      <td>₹430.00</td>\n",
       "      <td>3.3 out of 5 stars</td>\n",
       "      <td>1251 ratings</td>\n",
       "      <td>Flaunt with these stylish and unique red casua...</td>\n",
       "      <td>Worth to its amount|| Go for it|| Perfect|| 5 ...</td>\n",
       "      <td>5.0 out of 5 stars|| 5.0 out of 5 stars|| 5.0 ...</td>\n",
       "      <td>Men</td>\n",
       "    </tr>\n",
       "    <tr>\n",
       "      <th>3</th>\n",
       "      <td>Robbie jones Sneakers Casual Canvas Fabric Col...</td>\n",
       "      <td>₹499.00</td>\n",
       "      <td>4.2 out of 5 stars</td>\n",
       "      <td>3 ratings</td>\n",
       "      <td>Robbie Jones Shoes Are Designed To Keeping In ...</td>\n",
       "      <td>Sup quality|| Good but not expected|| Awesome 👌.!</td>\n",
       "      <td>5.0 out of 5 stars|| 3.0 out of 5 stars|| 5.0 ...</td>\n",
       "      <td>Men</td>\n",
       "    </tr>\n",
       "    <tr>\n",
       "      <th>4</th>\n",
       "      <td>Sparx Men's Sd0323g Sneakers</td>\n",
       "      <td>₹499.00</td>\n",
       "      <td>4.2 out of 5 stars</td>\n",
       "      <td>20110 ratings</td>\n",
       "      <td>Sparx is a spectacular range of footwear from ...</td>\n",
       "      <td>Best|| Satisfied!|| Affordable beauty 😘😘😘😘 the...</td>\n",
       "      <td>5.0 out of 5 stars|| 5.0 out of 5 stars|| 5.0 ...</td>\n",
       "      <td>Men</td>\n",
       "    </tr>\n",
       "    <tr>\n",
       "      <th>...</th>\n",
       "      <td>...</td>\n",
       "      <td>...</td>\n",
       "      <td>...</td>\n",
       "      <td>...</td>\n",
       "      <td>...</td>\n",
       "      <td>...</td>\n",
       "      <td>...</td>\n",
       "      <td>...</td>\n",
       "    </tr>\n",
       "    <tr>\n",
       "      <th>1225</th>\n",
       "      <td>Nike Men's React Vision Running Shoes</td>\n",
       "      <td>₹7256.00</td>\n",
       "      <td>4.4 out of 5 stars</td>\n",
       "      <td>200 ratings</td>\n",
       "      <td>The Nike react vision is a STORY of surreal co...</td>\n",
       "      <td>Must buy|| not have a great fiting but great q...</td>\n",
       "      <td>5.0 out of 5 stars|| 3.0 out of 5 stars|| 5.0 ...</td>\n",
       "      <td>Women</td>\n",
       "    </tr>\n",
       "    <tr>\n",
       "      <th>1226</th>\n",
       "      <td>Puma Men's B.O.G Limitless Hi Evoknit Sneakers</td>\n",
       "      <td>₹5822.00</td>\n",
       "      <td>4.3 out of 5 stars</td>\n",
       "      <td>25 ratings</td>\n",
       "      <td>The B.O.G limitless is Puma's key style for th...</td>\n",
       "      <td>Worth buying !|| Classy Bold and Stylish !!|| ...</td>\n",
       "      <td>4.0 out of 5 stars|| 5.0 out of 5 stars|| 3.0 ...</td>\n",
       "      <td>Women</td>\n",
       "    </tr>\n",
       "    <tr>\n",
       "      <th>1227</th>\n",
       "      <td>new balance Women's FuelCell Echolucent Runnin...</td>\n",
       "      <td>₹5362.00</td>\n",
       "      <td>4.5 out of 5 stars</td>\n",
       "      <td>817 ratings</td>\n",
       "      <td>Lead the pack in New Balance’s Echolucent snea...</td>\n",
       "      <td>size variation in product recd n size chart|| ...</td>\n",
       "      <td>5.0 out of 5 stars|| 5.0 out of 5 stars|| 5.0 ...</td>\n",
       "      <td>Women</td>\n",
       "    </tr>\n",
       "    <tr>\n",
       "      <th>1228</th>\n",
       "      <td>Nike Women's WMNS Air Zoom Pegasus 37 Running ...</td>\n",
       "      <td>₹7480.00</td>\n",
       "      <td>4.5 out of 5 stars</td>\n",
       "      <td>67 ratings</td>\n",
       "      <td>Nike మహిళల రన్నింగ్ షూ ఫీల్స్ మరియు రూపం మృదువ...</td>\n",
       "      <td>Verified Purchase|| Verified Purchase|| Verifi...</td>\n",
       "      <td>5.0 out of 5 stars|| 5.0 out of 5 stars|| 4.0 ...</td>\n",
       "      <td>Women</td>\n",
       "    </tr>\n",
       "    <tr>\n",
       "      <th>1229</th>\n",
       "      <td>ASICS Women Gt-2000 7 Lite-Show Running Shoes</td>\n",
       "      <td>₹5719.00</td>\n",
       "      <td>4.1 out of 5 stars</td>\n",
       "      <td>210 ratings</td>\n",
       "      <td>The GT-2000 7 achieves a reassuringly firm rid...</td>\n",
       "      <td>Great shoe|| excellent quality|| Old manufactu...</td>\n",
       "      <td>5.0 out of 5 stars|| 5.0 out of 5 stars|| 3.0 ...</td>\n",
       "      <td>Women</td>\n",
       "    </tr>\n",
       "  </tbody>\n",
       "</table>\n",
       "<p>1230 rows × 8 columns</p>\n",
       "</div>"
      ],
      "text/plain": [
       "                                                  title     price  \\\n",
       "0       CLYMB Outdoor Sports Running Shoes for Mens Boy   ₹279.00   \n",
       "1                 Bourge Men's Loire-z126 Running Shoes   ₹479.00   \n",
       "2                                  T-Rock Men's Sneaker   ₹430.00   \n",
       "3     Robbie jones Sneakers Casual Canvas Fabric Col...   ₹499.00   \n",
       "4                          Sparx Men's Sd0323g Sneakers   ₹499.00   \n",
       "...                                                 ...       ...   \n",
       "1225              Nike Men's React Vision Running Shoes  ₹7256.00   \n",
       "1226     Puma Men's B.O.G Limitless Hi Evoknit Sneakers  ₹5822.00   \n",
       "1227  new balance Women's FuelCell Echolucent Runnin...  ₹5362.00   \n",
       "1228  Nike Women's WMNS Air Zoom Pegasus 37 Running ...  ₹7480.00   \n",
       "1229      ASICS Women Gt-2000 7 Lite-Show Running Shoes  ₹5719.00   \n",
       "\n",
       "                  rating  total_reviews  \\\n",
       "0     2.9 out of 5 stars   2389 ratings   \n",
       "1     3.9 out of 5 stars  11520 ratings   \n",
       "2     3.3 out of 5 stars   1251 ratings   \n",
       "3     4.2 out of 5 stars      3 ratings   \n",
       "4     4.2 out of 5 stars  20110 ratings   \n",
       "...                  ...            ...   \n",
       "1225  4.4 out of 5 stars    200 ratings   \n",
       "1226  4.3 out of 5 stars     25 ratings   \n",
       "1227  4.5 out of 5 stars    817 ratings   \n",
       "1228  4.5 out of 5 stars     67 ratings   \n",
       "1229  4.1 out of 5 stars    210 ratings   \n",
       "\n",
       "                                    product_description  \\\n",
       "0     Elevate your style with this classy pair of Ru...   \n",
       "1     The product will be an excellent pick for you....   \n",
       "2     Flaunt with these stylish and unique red casua...   \n",
       "3     Robbie Jones Shoes Are Designed To Keeping In ...   \n",
       "4     Sparx is a spectacular range of footwear from ...   \n",
       "...                                                 ...   \n",
       "1225  The Nike react vision is a STORY of surreal co...   \n",
       "1226  The B.O.G limitless is Puma's key style for th...   \n",
       "1227  Lead the pack in New Balance’s Echolucent snea...   \n",
       "1228  Nike మహిళల రన్నింగ్ షూ ఫీల్స్ మరియు రూపం మృదువ...   \n",
       "1229  The GT-2000 7 achieves a reassuringly firm rid...   \n",
       "\n",
       "                                                reviews  \\\n",
       "0     Not happy with product|| It's not as expected....   \n",
       "1     Memory cushioning in these shoes is the best f...   \n",
       "2     Worth to its amount|| Go for it|| Perfect|| 5 ...   \n",
       "3     Sup quality|| Good but not expected|| Awesome 👌.!   \n",
       "4     Best|| Satisfied!|| Affordable beauty 😘😘😘😘 the...   \n",
       "...                                                 ...   \n",
       "1225  Must buy|| not have a great fiting but great q...   \n",
       "1226  Worth buying !|| Classy Bold and Stylish !!|| ...   \n",
       "1227  size variation in product recd n size chart|| ...   \n",
       "1228  Verified Purchase|| Verified Purchase|| Verifi...   \n",
       "1229  Great shoe|| excellent quality|| Old manufactu...   \n",
       "\n",
       "                                         reviews_rating Shoe Type  \n",
       "0     1.0 out of 5 stars|| 1.0 out of 5 stars|| 3.0 ...       Men  \n",
       "1     5.0 out of 5 stars|| 1.0 out of 5 stars|| 5.0 ...       Men  \n",
       "2     5.0 out of 5 stars|| 5.0 out of 5 stars|| 5.0 ...       Men  \n",
       "3     5.0 out of 5 stars|| 3.0 out of 5 stars|| 5.0 ...       Men  \n",
       "4     5.0 out of 5 stars|| 5.0 out of 5 stars|| 5.0 ...       Men  \n",
       "...                                                 ...       ...  \n",
       "1225  5.0 out of 5 stars|| 3.0 out of 5 stars|| 5.0 ...     Women  \n",
       "1226  4.0 out of 5 stars|| 5.0 out of 5 stars|| 3.0 ...     Women  \n",
       "1227  5.0 out of 5 stars|| 5.0 out of 5 stars|| 5.0 ...     Women  \n",
       "1228  5.0 out of 5 stars|| 5.0 out of 5 stars|| 4.0 ...     Women  \n",
       "1229  5.0 out of 5 stars|| 5.0 out of 5 stars|| 3.0 ...     Women  \n",
       "\n",
       "[1230 rows x 8 columns]"
      ]
     },
     "execution_count": 3,
     "metadata": {},
     "output_type": "execute_result"
    }
   ],
   "source": [
    "df"
   ]
  },
  {
   "cell_type": "markdown",
   "id": "8c23f7e8",
   "metadata": {},
   "source": [
    "Преобразую числовые столбики в числа (откидываю кое-где части, т.к. они нули везде)"
   ]
  },
  {
   "cell_type": "code",
   "execution_count": 4,
   "id": "58e23bda",
   "metadata": {},
   "outputs": [
    {
     "name": "stderr",
     "output_type": "stream",
     "text": [
      "<ipython-input-4-9fab9b5371bc>:9: SettingWithCopyWarning:\n",
      "\n",
      "\n",
      "A value is trying to be set on a copy of a slice from a DataFrame\n",
      "\n",
      "See the caveats in the documentation: https://pandas.pydata.org/pandas-docs/stable/user_guide/indexing.html#returning-a-view-versus-a-copy\n",
      "\n"
     ]
    }
   ],
   "source": [
    "df['rating'] = [float(row.split()[0]) for row in df['rating']]\n",
    "\n",
    "for ind, row in enumerate(df['reviews_rating']):\n",
    "    splitted_row = row.split('|| ')\n",
    "    score = []\n",
    "    for review in splitted_row:\n",
    "        review = int(review[0:1])\n",
    "        score.append(review)\n",
    "    df['reviews_rating'][ind] = score"
   ]
  },
  {
   "cell_type": "code",
   "execution_count": 5,
   "id": "3c7d71c4",
   "metadata": {},
   "outputs": [],
   "source": [
    "df['price'] = [float(row[1:].split('.')[0]) for row in df['price']]"
   ]
  },
  {
   "cell_type": "markdown",
   "id": "de0775d3",
   "metadata": {},
   "source": [
    "А также разобью отзывы на один продукт на отдельные отзывы"
   ]
  },
  {
   "cell_type": "code",
   "execution_count": 6,
   "id": "446b026e",
   "metadata": {},
   "outputs": [
    {
     "name": "stderr",
     "output_type": "stream",
     "text": [
      "<ipython-input-6-c4adbc5fc585>:6: SettingWithCopyWarning:\n",
      "\n",
      "\n",
      "A value is trying to be set on a copy of a slice from a DataFrame\n",
      "\n",
      "See the caveats in the documentation: https://pandas.pydata.org/pandas-docs/stable/user_guide/indexing.html#returning-a-view-versus-a-copy\n",
      "\n"
     ]
    }
   ],
   "source": [
    "for ind, row in enumerate(df['reviews']):\n",
    "    splitted_row = row.split('|| ')\n",
    "    score = []\n",
    "    for review in splitted_row:\n",
    "        score.append(review)\n",
    "    df['reviews'][ind] = score"
   ]
  },
  {
   "cell_type": "code",
   "execution_count": 7,
   "id": "0642fdd5",
   "metadata": {},
   "outputs": [
    {
     "data": {
      "text/html": [
       "<div>\n",
       "<style scoped>\n",
       "    .dataframe tbody tr th:only-of-type {\n",
       "        vertical-align: middle;\n",
       "    }\n",
       "\n",
       "    .dataframe tbody tr th {\n",
       "        vertical-align: top;\n",
       "    }\n",
       "\n",
       "    .dataframe thead th {\n",
       "        text-align: right;\n",
       "    }\n",
       "</style>\n",
       "<table border=\"1\" class=\"dataframe\">\n",
       "  <thead>\n",
       "    <tr style=\"text-align: right;\">\n",
       "      <th></th>\n",
       "      <th>title</th>\n",
       "      <th>price</th>\n",
       "      <th>rating</th>\n",
       "      <th>total_reviews</th>\n",
       "      <th>product_description</th>\n",
       "      <th>reviews</th>\n",
       "      <th>reviews_rating</th>\n",
       "      <th>Shoe Type</th>\n",
       "    </tr>\n",
       "  </thead>\n",
       "  <tbody>\n",
       "    <tr>\n",
       "      <th>0</th>\n",
       "      <td>CLYMB Outdoor Sports Running Shoes for Mens Boy</td>\n",
       "      <td>279.0</td>\n",
       "      <td>2.9</td>\n",
       "      <td>2389 ratings</td>\n",
       "      <td>Elevate your style with this classy pair of Ru...</td>\n",
       "      <td>[Not happy with product, It's not as expected....</td>\n",
       "      <td>[1, 1, 3, 3, 3, 2, 1, 2, 1, 1]</td>\n",
       "      <td>Men</td>\n",
       "    </tr>\n",
       "    <tr>\n",
       "      <th>1</th>\n",
       "      <td>Bourge Men's Loire-z126 Running Shoes</td>\n",
       "      <td>479.0</td>\n",
       "      <td>3.9</td>\n",
       "      <td>11520 ratings</td>\n",
       "      <td>The product will be an excellent pick for you....</td>\n",
       "      <td>[Memory cushioning in these shoes is the best ...</td>\n",
       "      <td>[5, 1, 5, 5, 4, 5, 5, 5, 4, 5]</td>\n",
       "      <td>Men</td>\n",
       "    </tr>\n",
       "    <tr>\n",
       "      <th>2</th>\n",
       "      <td>T-Rock Men's Sneaker</td>\n",
       "      <td>430.0</td>\n",
       "      <td>3.3</td>\n",
       "      <td>1251 ratings</td>\n",
       "      <td>Flaunt with these stylish and unique red casua...</td>\n",
       "      <td>[Worth to its amount, Go for it, Perfect, 5 st...</td>\n",
       "      <td>[5, 5, 5, 5, 1, 1, 5, 4, 1, 1]</td>\n",
       "      <td>Men</td>\n",
       "    </tr>\n",
       "    <tr>\n",
       "      <th>3</th>\n",
       "      <td>Robbie jones Sneakers Casual Canvas Fabric Col...</td>\n",
       "      <td>499.0</td>\n",
       "      <td>4.2</td>\n",
       "      <td>3 ratings</td>\n",
       "      <td>Robbie Jones Shoes Are Designed To Keeping In ...</td>\n",
       "      <td>[Sup quality, Good but not expected, Awesome 👌.!]</td>\n",
       "      <td>[5, 3, 5]</td>\n",
       "      <td>Men</td>\n",
       "    </tr>\n",
       "    <tr>\n",
       "      <th>4</th>\n",
       "      <td>Sparx Men's Sd0323g Sneakers</td>\n",
       "      <td>499.0</td>\n",
       "      <td>4.2</td>\n",
       "      <td>20110 ratings</td>\n",
       "      <td>Sparx is a spectacular range of footwear from ...</td>\n",
       "      <td>[Best, Satisfied!, Affordable beauty 😘😘😘😘 the ...</td>\n",
       "      <td>[5, 5, 5, 5, 5, 5, 1, 3, 2, 5]</td>\n",
       "      <td>Men</td>\n",
       "    </tr>\n",
       "    <tr>\n",
       "      <th>...</th>\n",
       "      <td>...</td>\n",
       "      <td>...</td>\n",
       "      <td>...</td>\n",
       "      <td>...</td>\n",
       "      <td>...</td>\n",
       "      <td>...</td>\n",
       "      <td>...</td>\n",
       "      <td>...</td>\n",
       "    </tr>\n",
       "    <tr>\n",
       "      <th>1225</th>\n",
       "      <td>Nike Men's React Vision Running Shoes</td>\n",
       "      <td>7256.0</td>\n",
       "      <td>4.4</td>\n",
       "      <td>200 ratings</td>\n",
       "      <td>The Nike react vision is a STORY of surreal co...</td>\n",
       "      <td>[Must buy, not have a great fiting but great q...</td>\n",
       "      <td>[5, 3, 5, 5, 5, 5, 5, 2, 4, 5]</td>\n",
       "      <td>Women</td>\n",
       "    </tr>\n",
       "    <tr>\n",
       "      <th>1226</th>\n",
       "      <td>Puma Men's B.O.G Limitless Hi Evoknit Sneakers</td>\n",
       "      <td>5822.0</td>\n",
       "      <td>4.3</td>\n",
       "      <td>25 ratings</td>\n",
       "      <td>The B.O.G limitless is Puma's key style for th...</td>\n",
       "      <td>[Worth buying !, Classy Bold and Stylish !!, N...</td>\n",
       "      <td>[4, 5, 3, 5, 5, 5, 5, 5, 5, 5]</td>\n",
       "      <td>Women</td>\n",
       "    </tr>\n",
       "    <tr>\n",
       "      <th>1227</th>\n",
       "      <td>new balance Women's FuelCell Echolucent Runnin...</td>\n",
       "      <td>5362.0</td>\n",
       "      <td>4.5</td>\n",
       "      <td>817 ratings</td>\n",
       "      <td>Lead the pack in New Balance’s Echolucent snea...</td>\n",
       "      <td>[size variation in product recd n size chart, ...</td>\n",
       "      <td>[5, 5, 5, 5, 1, 5, 3, 2, 5, 5]</td>\n",
       "      <td>Women</td>\n",
       "    </tr>\n",
       "    <tr>\n",
       "      <th>1228</th>\n",
       "      <td>Nike Women's WMNS Air Zoom Pegasus 37 Running ...</td>\n",
       "      <td>7480.0</td>\n",
       "      <td>4.5</td>\n",
       "      <td>67 ratings</td>\n",
       "      <td>Nike మహిళల రన్నింగ్ షూ ఫీల్స్ మరియు రూపం మృదువ...</td>\n",
       "      <td>[Verified Purchase, Verified Purchase, Verifie...</td>\n",
       "      <td>[5, 5, 4, 5, 5, 5, 5, 3, 5, 1]</td>\n",
       "      <td>Women</td>\n",
       "    </tr>\n",
       "    <tr>\n",
       "      <th>1229</th>\n",
       "      <td>ASICS Women Gt-2000 7 Lite-Show Running Shoes</td>\n",
       "      <td>5719.0</td>\n",
       "      <td>4.1</td>\n",
       "      <td>210 ratings</td>\n",
       "      <td>The GT-2000 7 achieves a reassuringly firm rid...</td>\n",
       "      <td>[Great shoe, excellent quality, Old manufactur...</td>\n",
       "      <td>[5, 5, 3, 5, 1, 5, 5, 5, 5, 5]</td>\n",
       "      <td>Women</td>\n",
       "    </tr>\n",
       "  </tbody>\n",
       "</table>\n",
       "<p>1230 rows × 8 columns</p>\n",
       "</div>"
      ],
      "text/plain": [
       "                                                  title   price  rating  \\\n",
       "0       CLYMB Outdoor Sports Running Shoes for Mens Boy   279.0     2.9   \n",
       "1                 Bourge Men's Loire-z126 Running Shoes   479.0     3.9   \n",
       "2                                  T-Rock Men's Sneaker   430.0     3.3   \n",
       "3     Robbie jones Sneakers Casual Canvas Fabric Col...   499.0     4.2   \n",
       "4                          Sparx Men's Sd0323g Sneakers   499.0     4.2   \n",
       "...                                                 ...     ...     ...   \n",
       "1225              Nike Men's React Vision Running Shoes  7256.0     4.4   \n",
       "1226     Puma Men's B.O.G Limitless Hi Evoknit Sneakers  5822.0     4.3   \n",
       "1227  new balance Women's FuelCell Echolucent Runnin...  5362.0     4.5   \n",
       "1228  Nike Women's WMNS Air Zoom Pegasus 37 Running ...  7480.0     4.5   \n",
       "1229      ASICS Women Gt-2000 7 Lite-Show Running Shoes  5719.0     4.1   \n",
       "\n",
       "      total_reviews                                product_description  \\\n",
       "0      2389 ratings  Elevate your style with this classy pair of Ru...   \n",
       "1     11520 ratings  The product will be an excellent pick for you....   \n",
       "2      1251 ratings  Flaunt with these stylish and unique red casua...   \n",
       "3         3 ratings  Robbie Jones Shoes Are Designed To Keeping In ...   \n",
       "4     20110 ratings  Sparx is a spectacular range of footwear from ...   \n",
       "...             ...                                                ...   \n",
       "1225    200 ratings  The Nike react vision is a STORY of surreal co...   \n",
       "1226     25 ratings  The B.O.G limitless is Puma's key style for th...   \n",
       "1227    817 ratings  Lead the pack in New Balance’s Echolucent snea...   \n",
       "1228     67 ratings  Nike మహిళల రన్నింగ్ షూ ఫీల్స్ మరియు రూపం మృదువ...   \n",
       "1229    210 ratings  The GT-2000 7 achieves a reassuringly firm rid...   \n",
       "\n",
       "                                                reviews  \\\n",
       "0     [Not happy with product, It's not as expected....   \n",
       "1     [Memory cushioning in these shoes is the best ...   \n",
       "2     [Worth to its amount, Go for it, Perfect, 5 st...   \n",
       "3     [Sup quality, Good but not expected, Awesome 👌.!]   \n",
       "4     [Best, Satisfied!, Affordable beauty 😘😘😘😘 the ...   \n",
       "...                                                 ...   \n",
       "1225  [Must buy, not have a great fiting but great q...   \n",
       "1226  [Worth buying !, Classy Bold and Stylish !!, N...   \n",
       "1227  [size variation in product recd n size chart, ...   \n",
       "1228  [Verified Purchase, Verified Purchase, Verifie...   \n",
       "1229  [Great shoe, excellent quality, Old manufactur...   \n",
       "\n",
       "                      reviews_rating Shoe Type  \n",
       "0     [1, 1, 3, 3, 3, 2, 1, 2, 1, 1]       Men  \n",
       "1     [5, 1, 5, 5, 4, 5, 5, 5, 4, 5]       Men  \n",
       "2     [5, 5, 5, 5, 1, 1, 5, 4, 1, 1]       Men  \n",
       "3                          [5, 3, 5]       Men  \n",
       "4     [5, 5, 5, 5, 5, 5, 1, 3, 2, 5]       Men  \n",
       "...                              ...       ...  \n",
       "1225  [5, 3, 5, 5, 5, 5, 5, 2, 4, 5]     Women  \n",
       "1226  [4, 5, 3, 5, 5, 5, 5, 5, 5, 5]     Women  \n",
       "1227  [5, 5, 5, 5, 1, 5, 3, 2, 5, 5]     Women  \n",
       "1228  [5, 5, 4, 5, 5, 5, 5, 3, 5, 1]     Women  \n",
       "1229  [5, 5, 3, 5, 1, 5, 5, 5, 5, 5]     Women  \n",
       "\n",
       "[1230 rows x 8 columns]"
      ]
     },
     "execution_count": 7,
     "metadata": {},
     "output_type": "execute_result"
    }
   ],
   "source": [
    "df"
   ]
  },
  {
   "cell_type": "code",
   "execution_count": 8,
   "id": "37de8b4c",
   "metadata": {},
   "outputs": [],
   "source": [
    "df = df.drop(['total_reviews'], axis=1)\n",
    "df = df.drop(['Shoe Type'], axis=1)"
   ]
  },
  {
   "cell_type": "markdown",
   "id": "37460dc2",
   "metadata": {},
   "source": [
    "Сразу уберу неанлийский язык, потому что размер дф не оч большой, так что лангдетек простой и удобный способ"
   ]
  },
  {
   "cell_type": "code",
   "execution_count": 9,
   "id": "a9ad786d",
   "metadata": {},
   "outputs": [],
   "source": [
    "for ind, descr in enumerate(df['product_description']):\n",
    "    try:\n",
    "        if detect(descr) != 'en':\n",
    "            df = df.drop(ind)\n",
    "    except: # может быть LangDetectException, но она не встает на место исключения как ошибка\n",
    "        pass\n",
    "df = df.reset_index(drop=True)"
   ]
  },
  {
   "cell_type": "markdown",
   "id": "12837b04",
   "metadata": {},
   "source": [
    "Средний рейтинг тяготеет к 4, цена к 2000"
   ]
  },
  {
   "cell_type": "code",
   "execution_count": 10,
   "id": "059ba8e6",
   "metadata": {},
   "outputs": [
    {
     "data": {
      "text/html": [
       "<div>\n",
       "<style scoped>\n",
       "    .dataframe tbody tr th:only-of-type {\n",
       "        vertical-align: middle;\n",
       "    }\n",
       "\n",
       "    .dataframe tbody tr th {\n",
       "        vertical-align: top;\n",
       "    }\n",
       "\n",
       "    .dataframe thead th {\n",
       "        text-align: right;\n",
       "    }\n",
       "</style>\n",
       "<table border=\"1\" class=\"dataframe\">\n",
       "  <thead>\n",
       "    <tr style=\"text-align: right;\">\n",
       "      <th></th>\n",
       "      <th>price</th>\n",
       "      <th>rating</th>\n",
       "    </tr>\n",
       "  </thead>\n",
       "  <tbody>\n",
       "    <tr>\n",
       "      <th>count</th>\n",
       "      <td>1177.000000</td>\n",
       "      <td>1177.000000</td>\n",
       "    </tr>\n",
       "    <tr>\n",
       "      <th>mean</th>\n",
       "      <td>1964.823280</td>\n",
       "      <td>3.955310</td>\n",
       "    </tr>\n",
       "    <tr>\n",
       "      <th>std</th>\n",
       "      <td>1681.285015</td>\n",
       "      <td>0.460377</td>\n",
       "    </tr>\n",
       "    <tr>\n",
       "      <th>min</th>\n",
       "      <td>127.000000</td>\n",
       "      <td>1.000000</td>\n",
       "    </tr>\n",
       "    <tr>\n",
       "      <th>25%</th>\n",
       "      <td>608.000000</td>\n",
       "      <td>3.800000</td>\n",
       "    </tr>\n",
       "    <tr>\n",
       "      <th>50%</th>\n",
       "      <td>1509.000000</td>\n",
       "      <td>4.000000</td>\n",
       "    </tr>\n",
       "    <tr>\n",
       "      <th>75%</th>\n",
       "      <td>2748.000000</td>\n",
       "      <td>4.200000</td>\n",
       "    </tr>\n",
       "    <tr>\n",
       "      <th>max</th>\n",
       "      <td>7992.000000</td>\n",
       "      <td>5.000000</td>\n",
       "    </tr>\n",
       "  </tbody>\n",
       "</table>\n",
       "</div>"
      ],
      "text/plain": [
       "             price       rating\n",
       "count  1177.000000  1177.000000\n",
       "mean   1964.823280     3.955310\n",
       "std    1681.285015     0.460377\n",
       "min     127.000000     1.000000\n",
       "25%     608.000000     3.800000\n",
       "50%    1509.000000     4.000000\n",
       "75%    2748.000000     4.200000\n",
       "max    7992.000000     5.000000"
      ]
     },
     "execution_count": 10,
     "metadata": {},
     "output_type": "execute_result"
    }
   ],
   "source": [
    "df.describe()"
   ]
  },
  {
   "cell_type": "markdown",
   "id": "e95b318b",
   "metadata": {},
   "source": [
    "У цен есть заметные выбросы в высоком ценовом сегменте. Предполагаю, что для модели это создат трудности"
   ]
  },
  {
   "cell_type": "code",
   "execution_count": 13,
   "id": "de166ef8",
   "metadata": {},
   "outputs": [
    {
     "data": {
      "text/plain": [
       "<AxesSubplot:>"
      ]
     },
     "execution_count": 13,
     "metadata": {},
     "output_type": "execute_result"
    },
    {
     "data": {
      "image/png": "[encoded data removed]",
      "text/plain": [
       "<Figure size 432x288 with 1 Axes>"
      ]
     },
     "metadata": {
      "needs_background": "light"
     },
     "output_type": "display_data"
    }
   ],
   "source": [
    "import seaborn as sns\n",
    "\n",
    "sns.boxplot(data=df[['price']])"
   ]
  },
  {
   "cell_type": "markdown",
   "id": "e1f0810b",
   "metadata": {},
   "source": [
    "Рейтинги сосредоточены в 3-5 баллах, с выбросами в 1"
   ]
  },
  {
   "cell_type": "code",
   "execution_count": 14,
   "id": "3c362998",
   "metadata": {},
   "outputs": [
    {
     "data": {
      "image/png": "[encoded data removed]",
      "text/plain": [
       "<Figure size 432x288 with 1 Axes>"
      ]
     },
     "metadata": {
      "needs_background": "light"
     },
     "output_type": "display_data"
    }
   ],
   "source": [
    "ax = sns.boxplot(data=df[['rating']])"
   ]
  },
  {
   "cell_type": "markdown",
   "id": "c2868b3c",
   "metadata": {},
   "source": [
    "Я бы не назвал распределение оценок нормальным, но ничего критичного."
   ]
  },
  {
   "cell_type": "code",
   "execution_count": 15,
   "id": "cf74e087",
   "metadata": {},
   "outputs": [
    {
     "data": {
      "text/plain": [
       "<AxesSubplot:>"
      ]
     },
     "execution_count": 15,
     "metadata": {},
     "output_type": "execute_result"
    },
    {
     "data": {
      "image/png": "[encoded data removed]",
      "text/plain": [
       "<Figure size 432x288 with 1 Axes>"
      ]
     },
     "metadata": {
      "needs_background": "light"
     },
     "output_type": "display_data"
    }
   ],
   "source": [
    "df['rating'].value_counts().sort_index().plot.bar()"
   ]
  },
  {
   "cell_type": "markdown",
   "id": "9a79bcdb",
   "metadata": {},
   "source": [
    "А вот распределение цен сосредоточено в диапозоне 100-1000 евро.<br>\n",
    "Могу предположить, что для дорогих товаров будут какие-то специальные слова.<br>\n",
    "Или наоборот, дорогие товары не смогут предсказываться."
   ]
  },
  {
   "cell_type": "code",
   "execution_count": 16,
   "id": "5a181669",
   "metadata": {},
   "outputs": [
    {
     "data": {
      "text/plain": [
       "<AxesSubplot:>"
      ]
     },
     "execution_count": 16,
     "metadata": {},
     "output_type": "execute_result"
    },
    {
     "data": {
      "image/png": "[encoded data removed]",
      "text/plain": [
       "<Figure size 432x288 with 1 Axes>"
      ]
     },
     "metadata": {
      "needs_background": "light"
     },
     "output_type": "display_data"
    }
   ],
   "source": [
    "df['price'].value_counts().sort_index().plot()"
   ]
  },
  {
   "cell_type": "markdown",
   "id": "f3db8cd4",
   "metadata": {},
   "source": [
    "Длина описания ожидаема похожа на другие графики.<p>"
   ]
  },
  {
   "cell_type": "code",
   "execution_count": 17,
   "id": "a326a15e",
   "metadata": {},
   "outputs": [],
   "source": [
    "df['product_description_len'] = [len(descr) for descr in df['product_description']]"
   ]
  },
  {
   "cell_type": "code",
   "execution_count": 18,
   "id": "5a7b4c71",
   "metadata": {},
   "outputs": [
    {
     "data": {
      "text/plain": [
       "<AxesSubplot:>"
      ]
     },
     "execution_count": 18,
     "metadata": {},
     "output_type": "execute_result"
    },
    {
     "data": {
      "image/png": "[encoded data removed]",
      "text/plain": [
       "<Figure size 432x288 with 1 Axes>"
      ]
     },
     "metadata": {
      "needs_background": "light"
     },
     "output_type": "display_data"
    }
   ],
   "source": [
    "df['product_description_len'].value_counts().sort_index().plot()"
   ]
  },
  {
   "cell_type": "markdown",
   "id": "749de9cd",
   "metadata": {},
   "source": [
    "Длина отзывов обычно короткая, но с выбросами по несколько тысяч знаков"
   ]
  },
  {
   "cell_type": "code",
   "execution_count": 19,
   "id": "398cf062",
   "metadata": {},
   "outputs": [
    {
     "data": {
      "image/png": "[encoded data removed]",
      "text/plain": [
       "<Figure size 432x288 with 1 Axes>"
      ]
     },
     "metadata": {
      "needs_background": "light"
     },
     "output_type": "display_data"
    }
   ],
   "source": [
    "ax = sns.boxplot(data=df[['product_description_len']])"
   ]
  },
  {
   "cell_type": "markdown",
   "id": "20f92329",
   "metadata": {},
   "source": [
    "Корреляции довольно интересные (но они очень слабые!).<p>\n",
    "Чем больше цена, тем больше рейтинг.<p>\n",
    "Чем больше отзывов, тем меньше цена (массовость продукта)<p>\n",
    "Но чем больше пишут про продукт (в длине), тем он дороже."
   ]
  },
  {
   "cell_type": "code",
   "execution_count": 20,
   "id": "7e0f8561",
   "metadata": {},
   "outputs": [
    {
     "data": {
      "text/html": [
       "<div>\n",
       "<style scoped>\n",
       "    .dataframe tbody tr th:only-of-type {\n",
       "        vertical-align: middle;\n",
       "    }\n",
       "\n",
       "    .dataframe tbody tr th {\n",
       "        vertical-align: top;\n",
       "    }\n",
       "\n",
       "    .dataframe thead th {\n",
       "        text-align: right;\n",
       "    }\n",
       "</style>\n",
       "<table border=\"1\" class=\"dataframe\">\n",
       "  <thead>\n",
       "    <tr style=\"text-align: right;\">\n",
       "      <th></th>\n",
       "      <th>price</th>\n",
       "      <th>rating</th>\n",
       "      <th>product_description_len</th>\n",
       "    </tr>\n",
       "  </thead>\n",
       "  <tbody>\n",
       "    <tr>\n",
       "      <th>price</th>\n",
       "      <td>1.000000</td>\n",
       "      <td>0.206363</td>\n",
       "      <td>0.101196</td>\n",
       "    </tr>\n",
       "    <tr>\n",
       "      <th>rating</th>\n",
       "      <td>0.206363</td>\n",
       "      <td>1.000000</td>\n",
       "      <td>0.028356</td>\n",
       "    </tr>\n",
       "    <tr>\n",
       "      <th>product_description_len</th>\n",
       "      <td>0.101196</td>\n",
       "      <td>0.028356</td>\n",
       "      <td>1.000000</td>\n",
       "    </tr>\n",
       "  </tbody>\n",
       "</table>\n",
       "</div>"
      ],
      "text/plain": [
       "                            price    rating  product_description_len\n",
       "price                    1.000000  0.206363                 0.101196\n",
       "rating                   0.206363  1.000000                 0.028356\n",
       "product_description_len  0.101196  0.028356                 1.000000"
      ]
     },
     "execution_count": 20,
     "metadata": {},
     "output_type": "execute_result"
    }
   ],
   "source": [
    "df.corr()"
   ]
  },
  {
   "cell_type": "markdown",
   "id": "3cb12a9d",
   "metadata": {},
   "source": [
    "Подготовлю раздел описания. Очищу стопслова, лемматзирую. Мне кажется, вполне достаточно, это позволит найти уникальные слова для групп отзывов."
   ]
  },
  {
   "cell_type": "code",
   "execution_count": 21,
   "id": "2fbf4ec8",
   "metadata": {},
   "outputs": [
    {
     "name": "stderr",
     "output_type": "stream",
     "text": [
      "[nltk_data] Downloading package stopwords to\n",
      "[nltk_data]     C:\\Users\\trekc\\AppData\\Roaming\\nltk_data...\n",
      "[nltk_data]   Package stopwords is already up-to-date!\n"
     ]
    }
   ],
   "source": [
    "from string import punctuation\n",
    "punctuation += '...' + '—' + '…' + '«»'\n",
    "import nltk\n",
    "from nltk.corpus import stopwords\n",
    "import re\n",
    "nltk.download('stopwords')\n",
    "from sklearn.feature_extraction.text import TfidfVectorizer\n",
    "from sklearn.linear_model import LinearRegression, Ridge, Lasso, ElasticNet\n",
    "from sklearn.model_selection import train_test_split, KFold, cross_val_score, RepeatedKFold, GridSearchCV"
   ]
  },
  {
   "cell_type": "code",
   "execution_count": 22,
   "id": "36e8f254",
   "metadata": {},
   "outputs": [
    {
     "name": "stderr",
     "output_type": "stream",
     "text": [
      "0it [00:00, ?it/s]<ipython-input-22-9a1255b5b85e>:11: SettingWithCopyWarning:\n",
      "\n",
      "\n",
      "A value is trying to be set on a copy of a slice from a DataFrame\n",
      "\n",
      "See the caveats in the documentation: https://pandas.pydata.org/pandas-docs/stable/user_guide/indexing.html#returning-a-view-versus-a-copy\n",
      "\n",
      "1177it [00:21, 54.30it/s]\n"
     ]
    }
   ],
   "source": [
    "from nltk.stem import WordNetLemmatizer\n",
    "lemmatizer = WordNetLemmatizer()\n",
    "from tqdm import tqdm\n",
    "\n",
    "\n",
    "for ind, descr in tqdm(enumerate(df['product_description'])):\n",
    "    descr = [word.lower().strip().strip(punctuation) for word in nltk.word_tokenize(descr)]\n",
    "    descr = [lemmatizer.lemmatize(w) for w in descr]\n",
    "    descr = [word for word in descr if word != '' or word != ' ']\n",
    "    descr = ' '.join([x for x in descr if x not in stopwords.words('english')])   \n",
    "    df['product_description'][ind] = descr\n",
    "    if df['product_description'][ind] == '':\n",
    "        df = df.drop(ind)\n",
    "\n",
    "df = df.reset_index(drop=True)"
   ]
  },
  {
   "cell_type": "markdown",
   "id": "3b8588f1",
   "metadata": {},
   "source": [
    "Только TFIDF, т.к. не знал, что надо делить, а переделать не было времени <br>\n",
    "Train 0.7, т.к. довольно мало данных"
   ]
  },
  {
   "cell_type": "code",
   "execution_count": 23,
   "id": "c35c091e",
   "metadata": {},
   "outputs": [],
   "source": [
    "corpus = []\n",
    "for row in df['product_description']:\n",
    "    corpus.append(row)"
   ]
  },
  {
   "cell_type": "code",
   "execution_count": null,
   "id": "6c6e1be1",
   "metadata": {},
   "outputs": [],
   "source": [
    "#X1_train, X1_test, y1_train, y1_test = train_test_split(X, list(df['price']), test_size=0.70, random_state=42)"
   ]
  },
  {
   "cell_type": "code",
   "execution_count": 24,
   "id": "71c22f98",
   "metadata": {},
   "outputs": [],
   "source": [
    "\n",
    "#y2 = np.array(df2['reviews_rating'])\n",
    "vect = TfidfVectorizer()\n",
    "X = vect.fit_transform(corpus)\n",
    "X_train, X_test, y_train, y_test = train_test_split(X, list(df['price']), test_size=0.70, random_state=42)"
   ]
  },
  {
   "cell_type": "markdown",
   "id": "0afbf06e",
   "metadata": {},
   "source": [
    "### Функция скоринга"
   ]
  },
  {
   "cell_type": "code",
   "execution_count": 25,
   "id": "c6236194",
   "metadata": {},
   "outputs": [],
   "source": [
    "from sklearn.metrics import *\n",
    "def scoring(y_test, y_pred):\n",
    "    print('MRSE (0 is better): ', mean_squared_error(y_test, y_pred, squared=False))\n",
    "    print('MAE (0 is better): ', mean_absolute_error(y_test, y_pred))\n",
    "    print('EVS (1 is better): ', explained_variance_score(y_test, y_pred)) # 1 is better\n",
    "    print('ME (0 is better): ', max_error(y_test, y_pred)) #shock\n",
    "    print('R2 (1 is better): ', r2_score(y_test, y_pred)) # 1 is better\n",
    "    print('MAPE (0 is better): ', mean_absolute_percentage_error(y_test, y_pred)) # 0 is better"
   ]
  },
  {
   "cell_type": "code",
   "execution_count": 26,
   "id": "a75c61bd",
   "metadata": {},
   "outputs": [],
   "source": [
    "def get_cv_scores(model):\n",
    "    scores = cross_val_score(model,\n",
    "                             X_train,\n",
    "                             y_train,\n",
    "                             cv=3,\n",
    "                             scoring='r2')\n",
    "    \n",
    "    print('CV Mean: ', np.mean(scores))\n",
    "    print('STD: ', np.std(scores))\n",
    "    print('\\n')"
   ]
  },
  {
   "cell_type": "markdown",
   "id": "326681e0",
   "metadata": {},
   "source": [
    "Далее будет проблема того, как сказать модели, что нельзя негативные значения. Я хз"
   ]
  },
  {
   "cell_type": "code",
   "execution_count": 27,
   "id": "c331b1d7",
   "metadata": {},
   "outputs": [
    {
     "name": "stdout",
     "output_type": "stream",
     "text": [
      "Best Score: 0.3187162665393739\n",
      "Best Hyperparameters: {'fit_intercept': False, 'normalize': True, 'positive': False}\n"
     ]
    }
   ],
   "source": [
    "# почему-то возникала ошибка UserWarning:\n",
    "# One or more of the test scores are non-finite\n",
    "# но в трейне нет таких значений\n",
    "import warnings\n",
    "warnings.filterwarnings(\"ignore\")\n",
    "\n",
    "model = LinearRegression()\n",
    "# define evaluation\n",
    "cv = RepeatedKFold(n_splits=5, n_repeats=3, random_state=1)\n",
    "# define search space\n",
    "space = dict()\n",
    "space['fit_intercept'] = [True, False]\n",
    "space['positive'] = [True, False]\n",
    "space['normalize'] = [True, False]\n",
    "# define search\n",
    "search = GridSearchCV(model, space, scoring='r2', n_jobs=-1, cv=cv)\n",
    "# execute search\n",
    "result = search.fit(X_train, y_train)\n",
    "# summarize result\n",
    "print('Best Score: %s' % result.best_score_)\n",
    "print('Best Hyperparameters: %s' % result.best_params_)"
   ]
  },
  {
   "cell_type": "code",
   "execution_count": 28,
   "id": "41638232",
   "metadata": {},
   "outputs": [
    {
     "name": "stdout",
     "output_type": "stream",
     "text": [
      "MRSE (0 is better):  1217.1538467044336\n",
      "MAE (0 is better):  726.9333758895817\n",
      "EVS (1 is better):  0.4872007071112887\n",
      "ME (0 is better):  6664.6059910350705\n",
      "R2 (1 is better):  0.4669741204367742\n",
      "MAPE (0 is better):  0.5540635856995185\n",
      "CV Mean:  0.3749972658051839\n",
      "STD:  0.09080837642770187\n",
      "\n",
      "\n"
     ]
    }
   ],
   "source": [
    "lr = LinearRegression(fit_intercept=False, normalize=True, positive=False).fit(X_train, y_train)\n",
    "lr_y_pred = lr.predict(X_test)\n",
    "scoring(y_test, lr_y_pred)\n",
    "get_cv_scores(lr)"
   ]
  },
  {
   "cell_type": "markdown",
   "id": "4a7eb936",
   "metadata": {},
   "source": [
    "R2"
   ]
  },
  {
   "cell_type": "code",
   "execution_count": 29,
   "id": "fef12322",
   "metadata": {},
   "outputs": [
    {
     "name": "stdout",
     "output_type": "stream",
     "text": [
      "Best Score: 0.5938707035601917\n",
      "Best Hyperparameters: {'alpha': 0.1, 'fit_intercept': True, 'normalize': False, 'solver': 'sag'}\n"
     ]
    }
   ],
   "source": [
    "model = Ridge()\n",
    "# define evaluation\n",
    "cv = RepeatedKFold(n_splits=5, n_repeats=3, random_state=1)\n",
    "# define search space\n",
    "space = dict()\n",
    "space['solver'] = ['svd', 'cholesky', 'lsqr', 'sag']\n",
    "space['alpha'] = [1e-5, 1e-4, 1e-3, 1e-2, 1e-1, 1, 10, 100]\n",
    "space['fit_intercept'] = [True, False]\n",
    "space['normalize'] = [True, False]\n",
    "# define search\n",
    "search = GridSearchCV(model, space, scoring='r2', n_jobs=-1, cv=cv)\n",
    "# execute search\n",
    "result = search.fit(X_train, y_train)\n",
    "# summarize result\n",
    "print('Best Score: %s' % result.best_score_)\n",
    "print('Best Hyperparameters: %s' % result.best_params_)"
   ]
  },
  {
   "cell_type": "code",
   "execution_count": 30,
   "id": "c74eccda",
   "metadata": {},
   "outputs": [
    {
     "name": "stdout",
     "output_type": "stream",
     "text": [
      "MRSE (0 is better):  1078.743845963374\n",
      "MAE (0 is better):  707.4815737105945\n",
      "EVS (1 is better):  0.581378647958505\n",
      "ME (0 is better):  5433.527188067413\n",
      "R2 (1 is better):  0.5813086333948203\n",
      "MAPE (0 is better):  0.6359217449485592\n",
      "CV Mean:  0.5524472573520812\n",
      "STD:  0.06251226104686206\n",
      "\n",
      "\n"
     ]
    }
   ],
   "source": [
    "ridge = Ridge(alpha=0.1, fit_intercept=True, normalize=False, solver='sag').fit(X_train, y_train)\n",
    "ridge_y_pred = ridge.predict(X_test)\n",
    "scoring(y_test, ridge_y_pred)\n",
    "get_cv_scores(ridge)"
   ]
  },
  {
   "cell_type": "markdown",
   "id": "e622bb39",
   "metadata": {},
   "source": [
    "Я взял все параметры, но кроме альфы ничего не важно.\n",
    "Использовал R2, потому что при логарифме модель не работает."
   ]
  },
  {
   "cell_type": "code",
   "execution_count": 31,
   "id": "4cf92216",
   "metadata": {},
   "outputs": [
    {
     "name": "stdout",
     "output_type": "stream",
     "text": [
      "Best Score: 0.5747128261823573\n",
      "Best Hyperparameters: {'alpha': 1}\n"
     ]
    }
   ],
   "source": [
    "model = Lasso()\n",
    "# define evaluation\n",
    "cv = RepeatedKFold(n_splits=5, n_repeats=3, random_state=1)\n",
    "# define search space\n",
    "space = dict()\n",
    "#space['positive'] = [True, False]\n",
    "space['alpha'] = [1e-5, 1e-4, 1e-3, 1e-2, 1e-1, 1, 10, 100]\n",
    "#space['fit_intercept'] = [True, False]\n",
    "#space['normalize'] = [True, False]\n",
    "#space['precompute'] = [True, False]\n",
    "#space['selection'] = ['cyclic', 'random']\n",
    "\n",
    "# define search\n",
    "search = GridSearchCV(model, space, scoring='r2', n_jobs=-1, cv=cv)\n",
    "# execute search\n",
    "result = search.fit(X_train, y_train)\n",
    "# summarize result\n",
    "print('Best Score: %s' % result.best_score_)\n",
    "print('Best Hyperparameters: %s' % result.best_params_)"
   ]
  },
  {
   "cell_type": "code",
   "execution_count": 32,
   "id": "868cbba8",
   "metadata": {},
   "outputs": [
    {
     "name": "stdout",
     "output_type": "stream",
     "text": [
      "MRSE (0 is better):  1119.9109309624018\n",
      "MAE (0 is better):  743.6243025401566\n",
      "EVS (1 is better):  0.553894510813479\n",
      "ME (0 is better):  6435.94818820837\n",
      "R2 (1 is better):  0.5487426270342637\n",
      "MAPE (0 is better):  0.6099685167458548\n",
      "CV Mean:  0.5282504010192534\n",
      "STD:  0.07865266857930756\n",
      "\n",
      "\n"
     ]
    }
   ],
   "source": [
    "from sklearn.linear_model import Lasso\n",
    "lasso = Lasso(alpha=1).fit(X_train, y_train)\n",
    "lasso_y_pred = lasso.predict(X_test)\n",
    "scoring(y_test, lasso_y_pred)\n",
    "get_cv_scores(lasso)"
   ]
  },
  {
   "cell_type": "code",
   "execution_count": 33,
   "id": "fafff108",
   "metadata": {},
   "outputs": [
    {
     "name": "stdout",
     "output_type": "stream",
     "text": [
      "Fitting 5 folds for each of 77 candidates, totalling 385 fits\n",
      "Best Score:  0.5195123932388629\n",
      "Best Params:  {'alpha': 0.01, 'l1_ratio': 0.9}\n"
     ]
    }
   ],
   "source": [
    "from sklearn.linear_model import ElasticNet\n",
    "\n",
    "# find optimal alpha with grid search\n",
    "model = ElasticNet()\n",
    "param_grid = dict()\n",
    "param_grid['alpha'] = [0.001, 0.01, 0.1, 1, 10, 100, 1000]\n",
    "param_grid['l1_ratio'] = [0, 0.1, 0.2, 0.3, 0.4, 0.5, 0.6, 0.7, 0.8, 0.9, 1]\n",
    "#param_grid['fit_intercept'] = [True, False]\n",
    "#param_grid['normalize'] = [True, False]\n",
    "#param_grid['precompute'] = [True, False]\n",
    "#param_grid['selection'] = ['cyclic', 'random']\n",
    "#param_grid['positive'] = [True, False]\n",
    "\n",
    "grid = GridSearchCV(estimator=model, param_grid=param_grid, scoring='r2', verbose=1, n_jobs=-1)\n",
    "grid_result = grid.fit(X_train, y_train)\n",
    "print('Best Score: ', grid_result.best_score_)\n",
    "print('Best Params: ', grid_result.best_params_)"
   ]
  },
  {
   "cell_type": "code",
   "execution_count": 34,
   "id": "441a057e",
   "metadata": {},
   "outputs": [
    {
     "name": "stdout",
     "output_type": "stream",
     "text": [
      "MRSE (0 is better):  1089.6583004464705\n",
      "MAE (0 is better):  740.4811560543449\n",
      "EVS (1 is better):  0.5729649471014948\n",
      "ME (0 is better):  5536.312830039546\n",
      "R2 (1 is better):  0.5727933480410341\n",
      "MAPE (0 is better):  0.6702101392021252\n",
      "CV Mean:  0.5513654878976186\n",
      "STD:  0.05994427611794965\n",
      "\n",
      "\n"
     ]
    }
   ],
   "source": [
    "elastic_net = ElasticNet(alpha=0.01, l1_ratio=0.9).fit(X_train, y_train)\n",
    "elastic_y_pred = elastic_net.predict(X_test)\n",
    "scoring(y_test, elastic_y_pred)\n",
    "get_cv_scores(elastic_net)"
   ]
  },
  {
   "cell_type": "markdown",
   "id": "c54c697c",
   "metadata": {},
   "source": [
    "По показателям лучшая модель Ridge и Elastic. Без понятия, почему именно они справились лучше (нам не поясняли про эти модели), но, учитывая, что на самом деле все модели показали схожий результат, это не так важно."
   ]
  },
  {
   "cell_type": "code",
   "execution_count": 35,
   "id": "ab22ab57",
   "metadata": {},
   "outputs": [],
   "source": [
    "ridge_df={'price': ridge_y_pred}\n",
    "lr_df={'price': lr_y_pred}\n",
    "lasso_df={'price': lasso_y_pred}\n",
    "elastic_df={'price': elastic_y_pred}"
   ]
  },
  {
   "cell_type": "code",
   "execution_count": 36,
   "id": "43b913ee",
   "metadata": {},
   "outputs": [],
   "source": [
    "ridge_df = pd.DataFrame.from_dict(ridge_df)\n",
    "lr_df = pd.DataFrame.from_dict(lr_df)\n",
    "lasso_df = pd.DataFrame.from_dict(lasso_df)\n",
    "elastic_df = pd.DataFrame.from_dict(elastic_df)"
   ]
  },
  {
   "cell_type": "markdown",
   "id": "1c20e9f8",
   "metadata": {},
   "source": [
    "Если сравнивать с исходными данными, то результаты очень даже ничего.<br>\n",
    "Основная масса данных в 1-3к, выбросы после 6к<br>\n",
    "Основной массив данных чуть сузился, выбросов стало поменьше (но они не исчезли - то есть модель умеет их предсказывать, что очень даже хорошо)! <br>\n",
    "Все модели справляются хорошо, но поточнее будет Ridge, Lasso и Elastic."
   ]
  },
  {
   "cell_type": "code",
   "execution_count": 37,
   "id": "1c9a8c28",
   "metadata": {},
   "outputs": [
    {
     "data": {
      "image/png": "[encoded data removed]",
      "text/plain": [
       "<Figure size 1080x432 with 1 Axes>"
      ]
     },
     "metadata": {
      "needs_background": "light"
     },
     "output_type": "display_data"
    }
   ],
   "source": [
    "plt.figure(figsize=(15, 6))\n",
    "plt.boxplot([df['price'], ridge_df['price'], lr_df['price'], lasso_df['price'], elastic_df['price']])\n",
    "plt.show()"
   ]
  },
  {
   "cell_type": "markdown",
   "id": "5f8d5364",
   "metadata": {},
   "source": [
    "Если посмотреть на линейный график, то все в принципе тоже похоже. Но я предположу, что все же небольшие выбросы моя модель не всегда угадывает, поэтому общий результат не очень.\n",
    "Пик между 4-5к уловило более или менее Lasso"
   ]
  },
  {
   "cell_type": "code",
   "execution_count": 38,
   "id": "2f0be696",
   "metadata": {},
   "outputs": [
    {
     "data": {
      "text/plain": [
       "<AxesSubplot:>"
      ]
     },
     "execution_count": 38,
     "metadata": {},
     "output_type": "execute_result"
    },
    {
     "data": {
      "image/png": "[encoded data removed]",
      "text/plain": [
       "<Figure size 432x288 with 1 Axes>"
      ]
     },
     "metadata": {
      "needs_background": "light"
     },
     "output_type": "display_data"
    }
   ],
   "source": [
    "df['price'].value_counts().sort_index().plot()"
   ]
  },
  {
   "cell_type": "code",
   "execution_count": 40,
   "id": "b30e3311",
   "metadata": {},
   "outputs": [
    {
     "data": {
      "text/plain": [
       "<AxesSubplot:>"
      ]
     },
     "execution_count": 40,
     "metadata": {},
     "output_type": "execute_result"
    },
    {
     "data": {
      "image/png": "[encoded data removed]",
      "text/plain": [
       "<Figure size 432x288 with 1 Axes>"
      ]
     },
     "metadata": {
      "needs_background": "light"
     },
     "output_type": "display_data"
    }
   ],
   "source": [
    "lr_df['price'].value_counts().sort_index().plot()"
   ]
  },
  {
   "cell_type": "code",
   "execution_count": 39,
   "id": "b1fd1c59",
   "metadata": {},
   "outputs": [
    {
     "data": {
      "text/plain": [
       "<AxesSubplot:>"
      ]
     },
     "execution_count": 39,
     "metadata": {},
     "output_type": "execute_result"
    },
    {
     "data": {
      "image/png": "[encoded data removed]",
      "text/plain": [
       "<Figure size 432x288 with 1 Axes>"
      ]
     },
     "metadata": {
      "needs_background": "light"
     },
     "output_type": "display_data"
    }
   ],
   "source": [
    "ridge_df['price'].value_counts().sort_index().plot()"
   ]
  },
  {
   "cell_type": "code",
   "execution_count": 41,
   "id": "fc5759e7",
   "metadata": {},
   "outputs": [
    {
     "data": {
      "text/plain": [
       "<AxesSubplot:>"
      ]
     },
     "execution_count": 41,
     "metadata": {},
     "output_type": "execute_result"
    },
    {
     "data": {
      "image/png": "[encoded data removed]",
      "text/plain": [
       "<Figure size 432x288 with 1 Axes>"
      ]
     },
     "metadata": {
      "needs_background": "light"
     },
     "output_type": "display_data"
    }
   ],
   "source": [
    "lasso_df['price'].value_counts().sort_index().plot()"
   ]
  },
  {
   "cell_type": "code",
   "execution_count": 42,
   "id": "44108d22",
   "metadata": {},
   "outputs": [
    {
     "data": {
      "text/plain": [
       "<AxesSubplot:>"
      ]
     },
     "execution_count": 42,
     "metadata": {},
     "output_type": "execute_result"
    },
    {
     "data": {
      "image/png": "[encoded data removed]",
      "text/plain": [
       "<Figure size 432x288 with 1 Axes>"
      ]
     },
     "metadata": {
      "needs_background": "light"
     },
     "output_type": "display_data"
    }
   ],
   "source": [
    "elastic_df['price'].value_counts().sort_index().plot()"
   ]
  },
  {
   "cell_type": "markdown",
   "id": "509c649d",
   "metadata": {},
   "source": [
    "Все модели предсказали отрицательные значения, но лучше всего справилось Lasso:"
   ]
  },
  {
   "cell_type": "code",
   "execution_count": 44,
   "id": "8657719e",
   "metadata": {},
   "outputs": [
    {
     "name": "stdout",
     "output_type": "stream",
     "text": [
      "127.0\n",
      "-652.6657784550903\n",
      "-1637.5379813426387\n",
      "-156.26997884167213\n",
      "-220.9391017857629\n"
     ]
    }
   ],
   "source": [
    "print(df['price'].min())\n",
    "print(ridge_df['price'].min())\n",
    "print(lr_df['price'].min())\n",
    "print(lasso_df['price'].min())\n",
    "print(elastic_df['price'].min())"
   ]
  },
  {
   "cell_type": "markdown",
   "id": "248e61e4",
   "metadata": {},
   "source": [
    "С макс значениями все близки, но получше будет линейная регрессия."
   ]
  },
  {
   "cell_type": "code",
   "execution_count": 45,
   "id": "1b3aebb3",
   "metadata": {},
   "outputs": [
    {
     "name": "stdout",
     "output_type": "stream",
     "text": [
      "7992.0\n",
      "7549.506350172851\n",
      "7702.000063601798\n",
      "7493.017064027715\n",
      "7218.246686511648\n"
     ]
    }
   ],
   "source": [
    "print(df['price'].max())\n",
    "print(ridge_df['price'].max())\n",
    "print(lr_df['price'].max())\n",
    "print(lasso_df['price'].max())\n",
    "print(elastic_df['price'].max())"
   ]
  },
  {
   "cell_type": "markdown",
   "id": "7a45203a",
   "metadata": {},
   "source": [
    "Я бы выбрал <b>Lasso</b>, потому что в общем плане он же все же ближе к истине, судя по графикам. Да и оценки модели у него почти лучшие.<br> Хотя, от раза в раз, показатели меняются, и иногда лучше себя показывает Elastic или Ridge<br>"
   ]
  },
  {
   "cell_type": "markdown",
   "id": "e7711063",
   "metadata": {},
   "source": [
    "* Улучшить модели можно было бы, если сказать им, что нельзя предсказывать отрицательные значения\n",
    "* Можно было бы разделить на BoW & TF IDF\n",
    "* Можно иначе лемматизировать (не убирать стопслова, например)"
   ]
  },
  {
   "cell_type": "markdown",
   "id": "afc5db11",
   "metadata": {},
   "source": [
    "Слабые места: <br>\n",
    "* Отрицательные значения\n",
    "* Выбросы <p>"
   ]
  },
  {
   "cell_type": "markdown",
   "id": "261b2814",
   "metadata": {},
   "source": [
    "Сильные места: <br>\n",
    "* В общем предсказывает правильно\n",
    "* Некоторые высокие цены все же отгадала"
   ]
  },
  {
   "cell_type": "markdown",
   "id": "d0bebcfb",
   "metadata": {},
   "source": [
    "# Часть 2"
   ]
  },
  {
   "cell_type": "markdown",
   "id": "af4eb63b",
   "metadata": {},
   "source": [
    "Конвертирую дф во что-то более удобное"
   ]
  },
  {
   "cell_type": "code",
   "execution_count": 46,
   "id": "9e512926",
   "metadata": {},
   "outputs": [],
   "source": [
    "df2 = df[['reviews', 'reviews_rating']].copy()"
   ]
  },
  {
   "cell_type": "code",
   "execution_count": 47,
   "id": "44b56eea",
   "metadata": {},
   "outputs": [],
   "source": [
    "revs = list()\n",
    "revs = [rev for li in df2['reviews'] for rev in li]\n",
    "\n",
    "rats = list()\n",
    "rats = [rev for li in df2['reviews_rating'] for rev in li]"
   ]
  },
  {
   "cell_type": "code",
   "execution_count": 48,
   "id": "e39991e4",
   "metadata": {},
   "outputs": [],
   "source": [
    "df2 = pd.DataFrame(list(zip(revs, rats)),\n",
    "                  columns=['reviews', 'reviews_rating'])"
   ]
  },
  {
   "cell_type": "code",
   "execution_count": 49,
   "id": "982fcf01",
   "metadata": {},
   "outputs": [
    {
     "data": {
      "text/html": [
       "<div>\n",
       "<style scoped>\n",
       "    .dataframe tbody tr th:only-of-type {\n",
       "        vertical-align: middle;\n",
       "    }\n",
       "\n",
       "    .dataframe tbody tr th {\n",
       "        vertical-align: top;\n",
       "    }\n",
       "\n",
       "    .dataframe thead th {\n",
       "        text-align: right;\n",
       "    }\n",
       "</style>\n",
       "<table border=\"1\" class=\"dataframe\">\n",
       "  <thead>\n",
       "    <tr style=\"text-align: right;\">\n",
       "      <th></th>\n",
       "      <th>reviews</th>\n",
       "      <th>reviews_rating</th>\n",
       "    </tr>\n",
       "  </thead>\n",
       "  <tbody>\n",
       "    <tr>\n",
       "      <th>0</th>\n",
       "      <td>Not happy with product</td>\n",
       "      <td>1</td>\n",
       "    </tr>\n",
       "    <tr>\n",
       "      <th>1</th>\n",
       "      <td>It's not as expected.</td>\n",
       "      <td>1</td>\n",
       "    </tr>\n",
       "    <tr>\n",
       "      <th>2</th>\n",
       "      <td>AVERAGE PRODUCT</td>\n",
       "      <td>3</td>\n",
       "    </tr>\n",
       "    <tr>\n",
       "      <th>3</th>\n",
       "      <td>Pic more beautiful</td>\n",
       "      <td>3</td>\n",
       "    </tr>\n",
       "    <tr>\n",
       "      <th>4</th>\n",
       "      <td>Got damage product. But quality is average for...</td>\n",
       "      <td>3</td>\n",
       "    </tr>\n",
       "    <tr>\n",
       "      <th>...</th>\n",
       "      <td>...</td>\n",
       "      <td>...</td>\n",
       "    </tr>\n",
       "    <tr>\n",
       "      <th>9570</th>\n",
       "      <td>Go for it!</td>\n",
       "      <td>5</td>\n",
       "    </tr>\n",
       "    <tr>\n",
       "      <th>9571</th>\n",
       "      <td>Excellent product</td>\n",
       "      <td>5</td>\n",
       "    </tr>\n",
       "    <tr>\n",
       "      <th>9572</th>\n",
       "      <td>Nice shoe</td>\n",
       "      <td>5</td>\n",
       "    </tr>\n",
       "    <tr>\n",
       "      <th>9573</th>\n",
       "      <td>Nice</td>\n",
       "      <td>5</td>\n",
       "    </tr>\n",
       "    <tr>\n",
       "      <th>9574</th>\n",
       "      <td>Asics shoes are the best</td>\n",
       "      <td>5</td>\n",
       "    </tr>\n",
       "  </tbody>\n",
       "</table>\n",
       "<p>9575 rows × 2 columns</p>\n",
       "</div>"
      ],
      "text/plain": [
       "                                                reviews  reviews_rating\n",
       "0                                Not happy with product               1\n",
       "1                                 It's not as expected.               1\n",
       "2                                       AVERAGE PRODUCT               3\n",
       "3                                    Pic more beautiful               3\n",
       "4     Got damage product. But quality is average for...               3\n",
       "...                                                 ...             ...\n",
       "9570                                         Go for it!               5\n",
       "9571                                  Excellent product               5\n",
       "9572                                          Nice shoe               5\n",
       "9573                                               Nice               5\n",
       "9574                           Asics shoes are the best               5\n",
       "\n",
       "[9575 rows x 2 columns]"
      ]
     },
     "execution_count": 49,
     "metadata": {},
     "output_type": "execute_result"
    }
   ],
   "source": [
    "df2"
   ]
  },
  {
   "cell_type": "markdown",
   "id": "8179db85",
   "metadata": {},
   "source": [
    "Что можно сказать? Обычно оценки либо очень хорошие, либо очень плохие. Но истина как всегда чуть больше середины"
   ]
  },
  {
   "cell_type": "code",
   "execution_count": 50,
   "id": "176a31ca",
   "metadata": {},
   "outputs": [
    {
     "data": {
      "text/html": [
       "<div>\n",
       "<style scoped>\n",
       "    .dataframe tbody tr th:only-of-type {\n",
       "        vertical-align: middle;\n",
       "    }\n",
       "\n",
       "    .dataframe tbody tr th {\n",
       "        vertical-align: top;\n",
       "    }\n",
       "\n",
       "    .dataframe thead th {\n",
       "        text-align: right;\n",
       "    }\n",
       "</style>\n",
       "<table border=\"1\" class=\"dataframe\">\n",
       "  <thead>\n",
       "    <tr style=\"text-align: right;\">\n",
       "      <th></th>\n",
       "      <th>reviews_rating</th>\n",
       "    </tr>\n",
       "  </thead>\n",
       "  <tbody>\n",
       "    <tr>\n",
       "      <th>count</th>\n",
       "      <td>9575.000000</td>\n",
       "    </tr>\n",
       "    <tr>\n",
       "      <th>mean</th>\n",
       "      <td>3.763446</td>\n",
       "    </tr>\n",
       "    <tr>\n",
       "      <th>std</th>\n",
       "      <td>1.531345</td>\n",
       "    </tr>\n",
       "    <tr>\n",
       "      <th>min</th>\n",
       "      <td>1.000000</td>\n",
       "    </tr>\n",
       "    <tr>\n",
       "      <th>25%</th>\n",
       "      <td>3.000000</td>\n",
       "    </tr>\n",
       "    <tr>\n",
       "      <th>50%</th>\n",
       "      <td>4.000000</td>\n",
       "    </tr>\n",
       "    <tr>\n",
       "      <th>75%</th>\n",
       "      <td>5.000000</td>\n",
       "    </tr>\n",
       "    <tr>\n",
       "      <th>max</th>\n",
       "      <td>5.000000</td>\n",
       "    </tr>\n",
       "  </tbody>\n",
       "</table>\n",
       "</div>"
      ],
      "text/plain": [
       "       reviews_rating\n",
       "count     9575.000000\n",
       "mean         3.763446\n",
       "std          1.531345\n",
       "min          1.000000\n",
       "25%          3.000000\n",
       "50%          4.000000\n",
       "75%          5.000000\n",
       "max          5.000000"
      ]
     },
     "execution_count": 50,
     "metadata": {},
     "output_type": "execute_result"
    }
   ],
   "source": [
    "df2.describe()"
   ]
  },
  {
   "cell_type": "code",
   "execution_count": 51,
   "id": "19529726",
   "metadata": {},
   "outputs": [
    {
     "data": {
      "image/png": "[encoded data removed]",
      "text/plain": [
       "<Figure size 432x288 with 1 Axes>"
      ]
     },
     "metadata": {
      "needs_background": "light"
     },
     "output_type": "display_data"
    }
   ],
   "source": [
    "ax = sns.boxplot(data=df2[['reviews_rating']])"
   ]
  },
  {
   "cell_type": "markdown",
   "id": "d611a1e1",
   "metadata": {},
   "source": [
    "##### Судя по графикам, надо использовать микро-скоринги (несбалансированные графики)"
   ]
  },
  {
   "cell_type": "code",
   "execution_count": 52,
   "id": "faee42b4",
   "metadata": {},
   "outputs": [
    {
     "data": {
      "text/plain": [
       "<AxesSubplot:>"
      ]
     },
     "execution_count": 52,
     "metadata": {},
     "output_type": "execute_result"
    },
    {
     "data": {
      "image/png": "[encoded data removed]",
      "text/plain": [
       "<Figure size 432x288 with 1 Axes>"
      ]
     },
     "metadata": {
      "needs_background": "light"
     },
     "output_type": "display_data"
    }
   ],
   "source": [
    "df2['reviews_rating'].value_counts().sort_index().plot.bar()"
   ]
  },
  {
   "cell_type": "code",
   "execution_count": 53,
   "id": "ff47c6c6",
   "metadata": {},
   "outputs": [
    {
     "name": "stderr",
     "output_type": "stream",
     "text": [
      "9575it [00:12, 762.84it/s] \n"
     ]
    }
   ],
   "source": [
    "for ind, descr in tqdm(enumerate(df2['reviews'])):\n",
    "    descr = [word.lower().strip().strip(punctuation) for word in nltk.word_tokenize(descr)]\n",
    "    descr = [lemmatizer.lemmatize(w) for w in descr]\n",
    "    descr = [word for word in descr if word != '' or word != ' ']\n",
    "    descr = ' '.join([x for x in descr if x not in stopwords.words('english')])   \n",
    "    df2['reviews'][ind] = descr\n",
    "    if df2['reviews'][ind] == '':\n",
    "        df2 = df2.drop(ind)\n",
    "\n",
    "df2 = df2.reset_index(drop=True)"
   ]
  },
  {
   "cell_type": "markdown",
   "id": "1769329f",
   "metadata": {},
   "source": [
    "Попробовав разные варианты, я решил, что лучше ничего особо не чистить. Могут встречаться смайлики, а они вполне влияют на отзыв (например, смайлики ❤😍 показывают, что отзыв вероятно положительный).<br>\n",
    "Было бы вообще интересно поизучать это."
   ]
  },
  {
   "cell_type": "code",
   "execution_count": 54,
   "id": "ea133065",
   "metadata": {},
   "outputs": [],
   "source": [
    "def scoring2(predicted,  y2_test):\n",
    "    acc = accuracy_score(predicted, y2_test)\n",
    "    micro_f1 = f1_score(predicted, y2_test, average = 'micro')\n",
    "    micro_p = precision_score(predicted, y2_test, average = 'micro')\n",
    "    micro_r = recall_score(predicted, y2_test, average = 'micro')\n",
    "    macro_f1 = f1_score(predicted, y2_test, average = 'macro')\n",
    "    macro_p = precision_score(predicted, y2_test, average = 'macro')\n",
    "    macro_r = recall_score(predicted, y2_test, average = 'macro')\n",
    "    print('acc={0:1.4f}'.format(acc))\n",
    "    print('micro F1={0:1.4f}, micro P={1:1.4f}, micro R={2:1.4f}'.format(micro_f1, micro_p, micro_r))\n",
    "    print('macro F1={0:1.4f}, macro P={1:1.4f}, macro R={2:1.4f}\\n'.format(macro_f1, macro_p, macro_r))"
   ]
  },
  {
   "cell_type": "code",
   "execution_count": 55,
   "id": "05d1dc09",
   "metadata": {},
   "outputs": [],
   "source": [
    "corpus2 = []\n",
    "for row in df2['reviews']:\n",
    "    corpus2.append(row)"
   ]
  },
  {
   "cell_type": "code",
   "execution_count": 56,
   "id": "78d5d61d",
   "metadata": {},
   "outputs": [],
   "source": [
    "y2 = np.array(df2['reviews_rating'])"
   ]
  },
  {
   "cell_type": "markdown",
   "id": "329f2bbd",
   "metadata": {},
   "source": [
    "### TF IDF"
   ]
  },
  {
   "cell_type": "code",
   "execution_count": 57,
   "id": "f6bccfd6",
   "metadata": {},
   "outputs": [],
   "source": [
    "vect2 = TfidfVectorizer()\n",
    "X2 = vect2.fit_transform(corpus2)\n",
    "X2_train, X2_test, y2_train, y2_test = train_test_split(X2, y2, test_size=0.5, random_state=42)"
   ]
  },
  {
   "cell_type": "markdown",
   "id": "1da80720",
   "metadata": {},
   "source": [
    "### CountVectorizer"
   ]
  },
  {
   "cell_type": "code",
   "execution_count": 59,
   "id": "bc6d617b",
   "metadata": {},
   "outputs": [],
   "source": [
    "from sklearn.feature_extraction.text import CountVectorizer\n",
    "vect3 = CountVectorizer()\n",
    "X3 = vect3.fit_transform(corpus2)\n",
    "X3_train, X3_test, y3_train, y3_test = train_test_split(X3, y2, test_size=0.5, random_state=42)"
   ]
  },
  {
   "cell_type": "markdown",
   "id": "aead9112",
   "metadata": {},
   "source": [
    "### KNN"
   ]
  },
  {
   "cell_type": "code",
   "execution_count": 60,
   "id": "f5f05e2e",
   "metadata": {},
   "outputs": [],
   "source": [
    "from sklearn.neighbors import KNeighborsClassifier"
   ]
  },
  {
   "cell_type": "code",
   "execution_count": 61,
   "id": "afe7556f",
   "metadata": {},
   "outputs": [],
   "source": [
    "def KNC(x_train, y_train):\n",
    "    model = KNeighborsClassifier()\n",
    "    cv = RepeatedKFold(n_splits=5, n_repeats=3, random_state=1)\n",
    "\n",
    "    space = dict()\n",
    "    space['n_neighbors'] = [1, 2, 3, 4, 5, 6, 7, 8, 9, 10]\n",
    "    space['weights'] = ['uniform', 'distance']\n",
    "    space['p'] = [1, 2]\n",
    "    space['metric'] = ['euclidean', 'manhattan', 'chebyshev', 'minkowski', 'wminkowski', 'seuclidean', 'mahalanobis']\n",
    "\n",
    "    search = GridSearchCV(model, space, scoring='f1_micro', n_jobs=-1, cv=cv)\n",
    "    result = search.fit(x_train, y_train)\n",
    "    print('Best Score: %s' % result.best_score_)\n",
    "    print('Best Hyperparameters: %s' % result.best_params_)"
   ]
  },
  {
   "cell_type": "code",
   "execution_count": 62,
   "id": "79816034",
   "metadata": {},
   "outputs": [
    {
     "name": "stdout",
     "output_type": "stream",
     "text": [
      "Best Score: 0.5809422620288964\n",
      "Best Hyperparameters: {'metric': 'euclidean', 'n_neighbors': 10, 'p': 1, 'weights': 'distance'}\n"
     ]
    }
   ],
   "source": [
    "KNC(X2_train, y2_train)"
   ]
  },
  {
   "cell_type": "code",
   "execution_count": 63,
   "id": "6a9a4e7b",
   "metadata": {},
   "outputs": [
    {
     "name": "stdout",
     "output_type": "stream",
     "text": [
      "Best Score: 0.5921201810325588\n",
      "Best Hyperparameters: {'metric': 'euclidean', 'n_neighbors': 10, 'p': 1, 'weights': 'distance'}\n"
     ]
    }
   ],
   "source": [
    "KNC(X3_train, y3_train)"
   ]
  },
  {
   "cell_type": "code",
   "execution_count": 65,
   "id": "e63caf20",
   "metadata": {},
   "outputs": [
    {
     "name": "stdout",
     "output_type": "stream",
     "text": [
      "acc=0.6081\n",
      "micro F1=0.6081, micro P=0.6081, micro R=0.6081\n",
      "macro F1=0.4294, macro P=0.4001, macro R=0.5527\n",
      "\n"
     ]
    }
   ],
   "source": [
    "KNC_TFIDF = KNeighborsClassifier(metric='euclidean', n_neighbors=10, p=1, weights='distance').fit(X2_train, y2_train)\n",
    "KNC_TFIDF_predicted = KNC_TFIDF.predict(X2_test)\n",
    "scoring2(KNC_TFIDF_predicted, y2_test)"
   ]
  },
  {
   "cell_type": "code",
   "execution_count": 67,
   "id": "5b95ad16",
   "metadata": {},
   "outputs": [
    {
     "name": "stdout",
     "output_type": "stream",
     "text": [
      "acc=0.5918\n",
      "micro F1=0.5918, micro P=0.5918, micro R=0.5918\n",
      "macro F1=0.4342, macro P=0.4007, macro R=0.5707\n",
      "\n"
     ]
    }
   ],
   "source": [
    "KNC_TFIDF_BoW = KNeighborsClassifier(metric='euclidean', n_neighbors=10, p=1, weights='distance').fit(X3_train, y3_train)\n",
    "KNC_TFIDF_BoW_predicted = KNC_TFIDF_BoW.predict(X3_test)\n",
    "scoring2(KNC_TFIDF_BoW_predicted, y3_test)"
   ]
  },
  {
   "cell_type": "markdown",
   "id": "bf47ea1b",
   "metadata": {},
   "source": [
    "# MultinomialNB"
   ]
  },
  {
   "cell_type": "code",
   "execution_count": 69,
   "id": "47654178",
   "metadata": {},
   "outputs": [],
   "source": [
    "from sklearn.naive_bayes import MultinomialNB\n",
    "\n",
    "def MNB(x_train, y_train):\n",
    "    model = MultinomialNB()\n",
    "    cv = RepeatedKFold(n_splits=5, n_repeats=3, random_state=1)\n",
    "\n",
    "    space = dict()\n",
    "    space['class_prior'] = [None, 0, 1, 2]\n",
    "    space['alpha'] = [1e-5, 1e-4, 1e-3, 1e-2, 1e-1, 1, 10, 100]\n",
    "    space['fit_prior'] = [True, False]\n",
    "\n",
    "    search = GridSearchCV(model, space, scoring='f1_micro', n_jobs=-1, cv=cv)\n",
    "    result = search.fit(x_train, y_train)\n",
    "    print('Best Score: %s' % result.best_score_)\n",
    "    print('Best Hyperparameters: %s' % result.best_params_)"
   ]
  },
  {
   "cell_type": "code",
   "execution_count": 70,
   "id": "a3439dd0",
   "metadata": {},
   "outputs": [
    {
     "name": "stdout",
     "output_type": "stream",
     "text": [
      "Best Score: 0.6110536694948432\n",
      "Best Hyperparameters: {'alpha': 0.1, 'class_prior': None, 'fit_prior': True}\n"
     ]
    }
   ],
   "source": [
    "MNB(X2_train, y2_train)"
   ]
  },
  {
   "cell_type": "code",
   "execution_count": 71,
   "id": "8938d65a",
   "metadata": {},
   "outputs": [
    {
     "name": "stdout",
     "output_type": "stream",
     "text": [
      "Best Score: 0.6095877009084556\n",
      "Best Hyperparameters: {'alpha': 1, 'class_prior': None, 'fit_prior': True}\n"
     ]
    }
   ],
   "source": [
    "MNB(X3_train, y3_train)"
   ]
  },
  {
   "cell_type": "code",
   "execution_count": 74,
   "id": "be4c43f5",
   "metadata": {},
   "outputs": [
    {
     "name": "stdout",
     "output_type": "stream",
     "text": [
      "acc=0.6264\n",
      "micro F1=0.6264, micro P=0.6264, micro R=0.6264\n",
      "macro F1=0.4302, macro P=0.4166, macro R=0.4965\n",
      "\n"
     ]
    }
   ],
   "source": [
    "MultinomialNB_TFIDF = MultinomialNB(alpha=0.1, class_prior=None, fit_prior=True).fit(X2_train, y2_train)\n",
    "MultinomialNB_TFIDF_predicted = MultinomialNB_TFIDF.predict(X2_test)\n",
    "scoring2(MultinomialNB_TFIDF_predicted, y2_test)"
   ]
  },
  {
   "cell_type": "code",
   "execution_count": 76,
   "id": "5487f63f",
   "metadata": {},
   "outputs": [
    {
     "name": "stdout",
     "output_type": "stream",
     "text": [
      "acc=0.6222\n",
      "micro F1=0.6222, micro P=0.6222, micro R=0.6222\n",
      "macro F1=0.3829, macro P=0.3817, macro R=0.4992\n",
      "\n"
     ]
    }
   ],
   "source": [
    "MultinomialNB_BoW = MultinomialNB(alpha=1, class_prior=None, fit_prior=True).fit(X3_train, y3_train)\n",
    "MultinomialNB_BoW_predicted = MultinomialNB_BoW.predict(X3_test)\n",
    "scoring2(MultinomialNB_BoW_predicted, y3_test)"
   ]
  },
  {
   "cell_type": "markdown",
   "id": "d636b408",
   "metadata": {},
   "source": [
    "# Logistic Regression"
   ]
  },
  {
   "cell_type": "markdown",
   "id": "c1bff1ed",
   "metadata": {},
   "source": [
    "Я тестировал разные параметры, убрал очень ресурсоемкие и незначительные"
   ]
  },
  {
   "cell_type": "code",
   "execution_count": 78,
   "id": "607e1c46",
   "metadata": {},
   "outputs": [],
   "source": [
    "from sklearn.linear_model import LogisticRegression\n",
    "\n",
    "def LR(x_train, y_train):\n",
    "    model = LogisticRegression()\n",
    "    cv = RepeatedKFold(n_splits=5, n_repeats=3, random_state=1)\n",
    "\n",
    "    space = dict()\n",
    "    space['penalty'] = ['l1', 'l2', 'elasticnet']\n",
    "    #space['dual'] = [True, False]\n",
    "    space['C'] = [1e-2, 1e-1, 1, 10, 100]\n",
    "    #space['fit_intercept'] = [True, False]\n",
    "    space['solver'] = ['newton-cg', 'lbfgs', 'sag', 'saga']\n",
    "    #space['warm_start'] = [True, False]\n",
    "    #space['l1_ratio'] = [1e-5, 1e-4, 1e-3, 1e-2, 1e-1, 1]\n",
    " \n",
    "    \n",
    "    search = GridSearchCV(model, space, scoring='f1_micro', n_jobs=-1, cv=cv)\n",
    "    result = search.fit(x_train, y_train)\n",
    "    print('Best Score: %s' % result.best_score_)\n",
    "    print('Best Hyperparameters: %s' % result.best_params_)"
   ]
  },
  {
   "cell_type": "code",
   "execution_count": 79,
   "id": "29943460",
   "metadata": {},
   "outputs": [
    {
     "name": "stdout",
     "output_type": "stream",
     "text": [
      "Best Score: 0.6178319997365735\n",
      "Best Hyperparameters: {'C': 10, 'penalty': 'l2', 'solver': 'newton-cg'}\n"
     ]
    }
   ],
   "source": [
    "LR(X2_train, y2_train)"
   ]
  },
  {
   "cell_type": "code",
   "execution_count": 80,
   "id": "7b7ec32c",
   "metadata": {},
   "outputs": [
    {
     "name": "stdout",
     "output_type": "stream",
     "text": [
      "Best Score: 0.6178314143443057\n",
      "Best Hyperparameters: {'C': 10, 'penalty': 'l2', 'solver': 'saga'}\n"
     ]
    }
   ],
   "source": [
    "LR(X3_train, y3_train)"
   ]
  },
  {
   "cell_type": "code",
   "execution_count": 83,
   "id": "4b7efc51",
   "metadata": {},
   "outputs": [
    {
     "name": "stdout",
     "output_type": "stream",
     "text": [
      "acc=0.6213\n",
      "micro F1=0.6213, micro P=0.6213, micro R=0.6213\n",
      "macro F1=0.4274, macro P=0.4152, macro R=0.4936\n",
      "\n"
     ]
    }
   ],
   "source": [
    "Log_R_TFIDF = LogisticRegression(C=10, penalty='l2', solver='newton-cg').fit(X2_train, y2_train)\n",
    "Log_R_TFIDF_predicted = Log_R_TFIDF.predict(X2_test)\n",
    "scoring2(Log_R_TFIDF_predicted, y2_test)"
   ]
  },
  {
   "cell_type": "code",
   "execution_count": 84,
   "id": "9204c940",
   "metadata": {},
   "outputs": [
    {
     "name": "stdout",
     "output_type": "stream",
     "text": [
      "acc=0.6236\n",
      "micro F1=0.6236, micro P=0.6236, micro R=0.6236\n",
      "macro F1=0.4351, macro P=0.4221, macro R=0.4923\n",
      "\n"
     ]
    }
   ],
   "source": [
    "Log_R_BoW = LogisticRegression(C=10, penalty='l2', solver='saga').fit(X3_train, y3_train)\n",
    "Log_R_BoW_predicted = Log_R_BoW.predict(X3_test)\n",
    "scoring2(Log_R_BoW_predicted, y3_test)"
   ]
  },
  {
   "cell_type": "markdown",
   "id": "d44c5490",
   "metadata": {},
   "source": [
    "# RidgeCl"
   ]
  },
  {
   "cell_type": "code",
   "execution_count": 86,
   "id": "def8e362",
   "metadata": {},
   "outputs": [],
   "source": [
    "from sklearn.linear_model import RidgeClassifier"
   ]
  },
  {
   "cell_type": "code",
   "execution_count": 87,
   "id": "40482fcc",
   "metadata": {},
   "outputs": [],
   "source": [
    "def RidgeCl(x_train, y_train):\n",
    "    model = RidgeClassifier()\n",
    "    cv = RepeatedKFold(n_splits=5, n_repeats=3, random_state=1)\n",
    "\n",
    "    space = dict()\n",
    "    space['alpha'] = [0.001, 0.01, 0.1, 1, 10, 100, 1000]\n",
    "    space['fit_intercept'] = [True, False]\n",
    "    space['normalize'] = [True, False]\n",
    "    space['solver'] = ['auto', 'svd', 'cholesky', 'lsqr', 'sparse_cg', 'sag', 'saga', 'lbfgs']\n",
    "    #space['warm_start'] = [True, False]\n",
    "    #space['l1_ratio'] = [1e-5, 1e-4, 1e-3, 1e-2, 1e-1, 1]\n",
    " \n",
    "    \n",
    "    search = GridSearchCV(model, space, scoring='f1_micro', n_jobs=-1, cv=cv)\n",
    "    result = search.fit(x_train, y_train)\n",
    "    print('Best Score: %s' % result.best_score_)\n",
    "    print('Best Hyperparameters: %s' % result.best_params_)"
   ]
  },
  {
   "cell_type": "code",
   "execution_count": 88,
   "id": "383d3cdf",
   "metadata": {},
   "outputs": [
    {
     "name": "stdout",
     "output_type": "stream",
     "text": [
      "Best Score: 0.6171329681949062\n",
      "Best Hyperparameters: {'alpha': 1, 'fit_intercept': True, 'normalize': False, 'solver': 'auto'}\n"
     ]
    }
   ],
   "source": [
    "RidgeCl(X2_train, y2_train)"
   ]
  },
  {
   "cell_type": "code",
   "execution_count": 89,
   "id": "0f4a451b",
   "metadata": {},
   "outputs": [
    {
     "name": "stdout",
     "output_type": "stream",
     "text": [
      "Best Score: 0.6118228017605672\n",
      "Best Hyperparameters: {'alpha': 1, 'fit_intercept': True, 'normalize': False, 'solver': 'sag'}\n"
     ]
    }
   ],
   "source": [
    "RidgeCl(X3_train, y3_train)"
   ]
  },
  {
   "cell_type": "code",
   "execution_count": 90,
   "id": "fc85bd9f",
   "metadata": {},
   "outputs": [
    {
     "name": "stdout",
     "output_type": "stream",
     "text": [
      "acc=0.6274\n",
      "micro F1=0.6274, micro P=0.6274, micro R=0.6274\n",
      "macro F1=0.4114, macro P=0.4018, macro R=0.5260\n",
      "\n"
     ]
    }
   ],
   "source": [
    "RC_TFIDF = RidgeClassifier(alpha=1, fit_intercept=True, solver='auto', normalize=False).fit(X2_train, y2_train)\n",
    "RC_TFIDF_predicted = RC_TFIDF.predict(X2_test)\n",
    "scoring2(RC_TFIDF_predicted, y2_test)"
   ]
  },
  {
   "cell_type": "code",
   "execution_count": 91,
   "id": "accedecb",
   "metadata": {},
   "outputs": [
    {
     "name": "stdout",
     "output_type": "stream",
     "text": [
      "acc=0.6234\n",
      "micro F1=0.6234, micro P=0.6234, micro R=0.6234\n",
      "macro F1=0.4197, macro P=0.4057, macro R=0.5066\n",
      "\n"
     ]
    }
   ],
   "source": [
    "RC_BoW = RidgeClassifier(alpha=1, fit_intercept=True, solver='sag', normalize=False).fit(X3_train, y3_train)\n",
    "RC_BoW_predicted = RC_BoW.predict(X3_test)\n",
    "scoring2(RC_BoW_predicted, y3_test)"
   ]
  },
  {
   "cell_type": "code",
   "execution_count": 97,
   "id": "381e40c0",
   "metadata": {},
   "outputs": [
    {
     "data": {
      "image/png": "[encoded data removed]",
      "text/plain": [
       "<Figure size 432x288 with 1 Axes>"
      ]
     },
     "metadata": {
      "needs_background": "light"
     },
     "output_type": "display_data"
    }
   ],
   "source": [
    "sns.heatmap(data=confusion_matrix(RC_TFIDF_predicted, y3_test), annot=True, fmt=\"d\", cbar=False)\n",
    "plt.title(\"RC_TFIDF Confusion matrix\")\n",
    "plt.show()"
   ]
  },
  {
   "cell_type": "code",
   "execution_count": 96,
   "id": "6e6e312e",
   "metadata": {},
   "outputs": [
    {
     "data": {
      "image/png": "[encoded data removed]",
      "text/plain": [
       "<Figure size 432x288 with 1 Axes>"
      ]
     },
     "metadata": {
      "needs_background": "light"
     },
     "output_type": "display_data"
    }
   ],
   "source": [
    "sns.heatmap(data=confusion_matrix(MultinomialNB_TFIDF_predicted, y2_test), annot=True, fmt=\"d\", cbar=False)\n",
    "plt.title(\"MultinomialNB Confusion matrix\")\n",
    "plt.show()"
   ]
  },
  {
   "cell_type": "code",
   "execution_count": 99,
   "id": "835a1d97",
   "metadata": {},
   "outputs": [
    {
     "data": {
      "image/png": "[encoded data removed]",
      "text/plain": [
       "<Figure size 432x288 with 1 Axes>"
      ]
     },
     "metadata": {
      "needs_background": "light"
     },
     "output_type": "display_data"
    }
   ],
   "source": [
    "sns.heatmap(data=confusion_matrix(KNC_TFIDF_predicted, y2_test), annot=True, fmt=\"d\", cbar=False)\n",
    "plt.title(\"KNC_TFIDF Confusion matrix\")\n",
    "plt.show()"
   ]
  },
  {
   "cell_type": "code",
   "execution_count": 103,
   "id": "bab2bc7c",
   "metadata": {},
   "outputs": [
    {
     "data": {
      "image/png": "[encoded data removed]",
      "text/plain": [
       "<Figure size 432x288 with 1 Axes>"
      ]
     },
     "metadata": {
      "needs_background": "light"
     },
     "output_type": "display_data"
    }
   ],
   "source": [
    "sns.heatmap(data=confusion_matrix(Log_R_BoW_predicted, y3_test), annot=True, fmt=\"d\", cbar=False)\n",
    "plt.title(\"Log_R Confusion matrix\")\n",
    "plt.show()"
   ]
  },
  {
   "cell_type": "markdown",
   "id": "7e23a2b5",
   "metadata": {},
   "source": [
    "Лучше всего справилась <b>логистическая регрессия</b> - у неё меньше всего неправильно предсказанных классов.<br>"
   ]
  },
  {
   "cell_type": "markdown",
   "id": "6d01340a",
   "metadata": {},
   "source": [
    "Минусы:\n",
    "* Неправильно предсказывается 4 звезды + вместо 5 звезд ставится 1\n",
    "* Долгий серч"
   ]
  },
  {
   "cell_type": "markdown",
   "id": "d82c4113",
   "metadata": {},
   "source": [
    "Плюсы:\n",
    "* В основном она попала (то есть хорошо различает плохие отзывы и нормально хорошие)"
   ]
  },
  {
   "cell_type": "markdown",
   "id": "39483308",
   "metadata": {},
   "source": [
    "Что улучшить? <br>\n",
    "* Нормализовать классы\n",
    "* Не удалять стопслова"
   ]
  }
 ],
 "metadata": {
  "kernelspec": {
   "display_name": "Python 3",
   "language": "python",
   "name": "python3"
  },
  "language_info": {
   "codemirror_mode": {
    "name": "ipython",
    "version": 3
   },
   "file_extension": ".py",
   "mimetype": "text/x-python",
   "name": "python",
   "nbconvert_exporter": "python",
   "pygments_lexer": "ipython3",
   "version": "3.8.5"
  }
 },
 "nbformat": 4,
 "nbformat_minor": 5
}
