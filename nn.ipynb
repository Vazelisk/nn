{
 "cells": [
  {
   "cell_type": "code",
   "execution_count": 1,
   "id": "54b28b2e",
   "metadata": {},
   "outputs": [
    {
     "data": {
      "text/html": [
       "        <script type=\"text/javascript\">\n",
       "        window.PlotlyConfig = {MathJaxConfig: 'local'};\n",
       "        if (window.MathJax) {MathJax.Hub.Config({SVG: {font: \"STIX-Web\"}});}\n",
       "        if (typeof require !== 'undefined') {\n",
       "        require.undef(\"plotly\");\n",
       "        requirejs.config({\n",
       "            paths: {\n",
       "                'plotly': ['https://cdn.plot.ly/plotly-2.4.2.min']\n",
       "            }\n",
       "        });\n",
       "        require(['plotly'], function(Plotly) {\n",
       "            window._Plotly = Plotly;\n",
       "        });\n",
       "        }\n",
       "        </script>\n",
       "        "
      ]
     },
     "metadata": {},
     "output_type": "display_data"
    }
   ],
   "source": [
    "import os\n",
    "import json\n",
    "import ast\n",
    "import time\n",
    "import datetime\n",
    "import numpy as np\n",
    "import pandas as pd\n",
    "pd.set_option('max_columns', None)\n",
    "import matplotlib.pyplot as plt\n",
    "import seaborn\n",
    "import plotly.offline as py\n",
    "py.init_notebook_mode(connected=True)\n",
    "import plotly.graph_objs as go\n",
    "import plotly.tools as tls\n",
    "from langdetect import detect\n"
   ]
  },
  {
   "cell_type": "code",
   "execution_count": 2,
   "id": "303aeb9c",
   "metadata": {},
   "outputs": [],
   "source": [
    "import pandas as pd\n",
    "df = pd.read_csv('Shoes_Data.csv')"
   ]
  },
  {
   "cell_type": "code",
   "execution_count": 3,
   "id": "65a41695",
   "metadata": {},
   "outputs": [
    {
     "data": {
      "text/html": [
       "<div>\n",
       "<style scoped>\n",
       "    .dataframe tbody tr th:only-of-type {\n",
       "        vertical-align: middle;\n",
       "    }\n",
       "\n",
       "    .dataframe tbody tr th {\n",
       "        vertical-align: top;\n",
       "    }\n",
       "\n",
       "    .dataframe thead th {\n",
       "        text-align: right;\n",
       "    }\n",
       "</style>\n",
       "<table border=\"1\" class=\"dataframe\">\n",
       "  <thead>\n",
       "    <tr style=\"text-align: right;\">\n",
       "      <th></th>\n",
       "      <th>title</th>\n",
       "      <th>price</th>\n",
       "      <th>rating</th>\n",
       "      <th>total_reviews</th>\n",
       "      <th>product_description</th>\n",
       "      <th>reviews</th>\n",
       "      <th>reviews_rating</th>\n",
       "      <th>Shoe Type</th>\n",
       "    </tr>\n",
       "  </thead>\n",
       "  <tbody>\n",
       "    <tr>\n",
       "      <th>0</th>\n",
       "      <td>CLYMB Outdoor Sports Running Shoes for Mens Boy</td>\n",
       "      <td>₹279.00</td>\n",
       "      <td>2.9 out of 5 stars</td>\n",
       "      <td>2389 ratings</td>\n",
       "      <td>Elevate your style with this classy pair of Ru...</td>\n",
       "      <td>Not happy with product|| It's not as expected....</td>\n",
       "      <td>1.0 out of 5 stars|| 1.0 out of 5 stars|| 3.0 ...</td>\n",
       "      <td>Men</td>\n",
       "    </tr>\n",
       "    <tr>\n",
       "      <th>1</th>\n",
       "      <td>Bourge Men's Loire-z126 Running Shoes</td>\n",
       "      <td>₹479.00</td>\n",
       "      <td>3.9 out of 5 stars</td>\n",
       "      <td>11520 ratings</td>\n",
       "      <td>The product will be an excellent pick for you....</td>\n",
       "      <td>Memory cushioning in these shoes is the best f...</td>\n",
       "      <td>5.0 out of 5 stars|| 1.0 out of 5 stars|| 5.0 ...</td>\n",
       "      <td>Men</td>\n",
       "    </tr>\n",
       "    <tr>\n",
       "      <th>2</th>\n",
       "      <td>T-Rock Men's Sneaker</td>\n",
       "      <td>₹430.00</td>\n",
       "      <td>3.3 out of 5 stars</td>\n",
       "      <td>1251 ratings</td>\n",
       "      <td>Flaunt with these stylish and unique red casua...</td>\n",
       "      <td>Worth to its amount|| Go for it|| Perfect|| 5 ...</td>\n",
       "      <td>5.0 out of 5 stars|| 5.0 out of 5 stars|| 5.0 ...</td>\n",
       "      <td>Men</td>\n",
       "    </tr>\n",
       "    <tr>\n",
       "      <th>3</th>\n",
       "      <td>Robbie jones Sneakers Casual Canvas Fabric Col...</td>\n",
       "      <td>₹499.00</td>\n",
       "      <td>4.2 out of 5 stars</td>\n",
       "      <td>3 ratings</td>\n",
       "      <td>Robbie Jones Shoes Are Designed To Keeping In ...</td>\n",
       "      <td>Sup quality|| Good but not expected|| Awesome 👌.!</td>\n",
       "      <td>5.0 out of 5 stars|| 3.0 out of 5 stars|| 5.0 ...</td>\n",
       "      <td>Men</td>\n",
       "    </tr>\n",
       "    <tr>\n",
       "      <th>4</th>\n",
       "      <td>Sparx Men's Sd0323g Sneakers</td>\n",
       "      <td>₹499.00</td>\n",
       "      <td>4.2 out of 5 stars</td>\n",
       "      <td>20110 ratings</td>\n",
       "      <td>Sparx is a spectacular range of footwear from ...</td>\n",
       "      <td>Best|| Satisfied!|| Affordable beauty 😘😘😘😘 the...</td>\n",
       "      <td>5.0 out of 5 stars|| 5.0 out of 5 stars|| 5.0 ...</td>\n",
       "      <td>Men</td>\n",
       "    </tr>\n",
       "    <tr>\n",
       "      <th>...</th>\n",
       "      <td>...</td>\n",
       "      <td>...</td>\n",
       "      <td>...</td>\n",
       "      <td>...</td>\n",
       "      <td>...</td>\n",
       "      <td>...</td>\n",
       "      <td>...</td>\n",
       "      <td>...</td>\n",
       "    </tr>\n",
       "    <tr>\n",
       "      <th>1225</th>\n",
       "      <td>Nike Men's React Vision Running Shoes</td>\n",
       "      <td>₹7256.00</td>\n",
       "      <td>4.4 out of 5 stars</td>\n",
       "      <td>200 ratings</td>\n",
       "      <td>The Nike react vision is a STORY of surreal co...</td>\n",
       "      <td>Must buy|| not have a great fiting but great q...</td>\n",
       "      <td>5.0 out of 5 stars|| 3.0 out of 5 stars|| 5.0 ...</td>\n",
       "      <td>Women</td>\n",
       "    </tr>\n",
       "    <tr>\n",
       "      <th>1226</th>\n",
       "      <td>Puma Men's B.O.G Limitless Hi Evoknit Sneakers</td>\n",
       "      <td>₹5822.00</td>\n",
       "      <td>4.3 out of 5 stars</td>\n",
       "      <td>25 ratings</td>\n",
       "      <td>The B.O.G limitless is Puma's key style for th...</td>\n",
       "      <td>Worth buying !|| Classy Bold and Stylish !!|| ...</td>\n",
       "      <td>4.0 out of 5 stars|| 5.0 out of 5 stars|| 3.0 ...</td>\n",
       "      <td>Women</td>\n",
       "    </tr>\n",
       "    <tr>\n",
       "      <th>1227</th>\n",
       "      <td>new balance Women's FuelCell Echolucent Runnin...</td>\n",
       "      <td>₹5362.00</td>\n",
       "      <td>4.5 out of 5 stars</td>\n",
       "      <td>817 ratings</td>\n",
       "      <td>Lead the pack in New Balance’s Echolucent snea...</td>\n",
       "      <td>size variation in product recd n size chart|| ...</td>\n",
       "      <td>5.0 out of 5 stars|| 5.0 out of 5 stars|| 5.0 ...</td>\n",
       "      <td>Women</td>\n",
       "    </tr>\n",
       "    <tr>\n",
       "      <th>1228</th>\n",
       "      <td>Nike Women's WMNS Air Zoom Pegasus 37 Running ...</td>\n",
       "      <td>₹7480.00</td>\n",
       "      <td>4.5 out of 5 stars</td>\n",
       "      <td>67 ratings</td>\n",
       "      <td>Nike మహిళల రన్నింగ్ షూ ఫీల్స్ మరియు రూపం మృదువ...</td>\n",
       "      <td>Verified Purchase|| Verified Purchase|| Verifi...</td>\n",
       "      <td>5.0 out of 5 stars|| 5.0 out of 5 stars|| 4.0 ...</td>\n",
       "      <td>Women</td>\n",
       "    </tr>\n",
       "    <tr>\n",
       "      <th>1229</th>\n",
       "      <td>ASICS Women Gt-2000 7 Lite-Show Running Shoes</td>\n",
       "      <td>₹5719.00</td>\n",
       "      <td>4.1 out of 5 stars</td>\n",
       "      <td>210 ratings</td>\n",
       "      <td>The GT-2000 7 achieves a reassuringly firm rid...</td>\n",
       "      <td>Great shoe|| excellent quality|| Old manufactu...</td>\n",
       "      <td>5.0 out of 5 stars|| 5.0 out of 5 stars|| 3.0 ...</td>\n",
       "      <td>Women</td>\n",
       "    </tr>\n",
       "  </tbody>\n",
       "</table>\n",
       "<p>1230 rows × 8 columns</p>\n",
       "</div>"
      ],
      "text/plain": [
       "                                                  title     price  \\\n",
       "0       CLYMB Outdoor Sports Running Shoes for Mens Boy   ₹279.00   \n",
       "1                 Bourge Men's Loire-z126 Running Shoes   ₹479.00   \n",
       "2                                  T-Rock Men's Sneaker   ₹430.00   \n",
       "3     Robbie jones Sneakers Casual Canvas Fabric Col...   ₹499.00   \n",
       "4                          Sparx Men's Sd0323g Sneakers   ₹499.00   \n",
       "...                                                 ...       ...   \n",
       "1225              Nike Men's React Vision Running Shoes  ₹7256.00   \n",
       "1226     Puma Men's B.O.G Limitless Hi Evoknit Sneakers  ₹5822.00   \n",
       "1227  new balance Women's FuelCell Echolucent Runnin...  ₹5362.00   \n",
       "1228  Nike Women's WMNS Air Zoom Pegasus 37 Running ...  ₹7480.00   \n",
       "1229      ASICS Women Gt-2000 7 Lite-Show Running Shoes  ₹5719.00   \n",
       "\n",
       "                  rating  total_reviews  \\\n",
       "0     2.9 out of 5 stars   2389 ratings   \n",
       "1     3.9 out of 5 stars  11520 ratings   \n",
       "2     3.3 out of 5 stars   1251 ratings   \n",
       "3     4.2 out of 5 stars      3 ratings   \n",
       "4     4.2 out of 5 stars  20110 ratings   \n",
       "...                  ...            ...   \n",
       "1225  4.4 out of 5 stars    200 ratings   \n",
       "1226  4.3 out of 5 stars     25 ratings   \n",
       "1227  4.5 out of 5 stars    817 ratings   \n",
       "1228  4.5 out of 5 stars     67 ratings   \n",
       "1229  4.1 out of 5 stars    210 ratings   \n",
       "\n",
       "                                    product_description  \\\n",
       "0     Elevate your style with this classy pair of Ru...   \n",
       "1     The product will be an excellent pick for you....   \n",
       "2     Flaunt with these stylish and unique red casua...   \n",
       "3     Robbie Jones Shoes Are Designed To Keeping In ...   \n",
       "4     Sparx is a spectacular range of footwear from ...   \n",
       "...                                                 ...   \n",
       "1225  The Nike react vision is a STORY of surreal co...   \n",
       "1226  The B.O.G limitless is Puma's key style for th...   \n",
       "1227  Lead the pack in New Balance’s Echolucent snea...   \n",
       "1228  Nike మహిళల రన్నింగ్ షూ ఫీల్స్ మరియు రూపం మృదువ...   \n",
       "1229  The GT-2000 7 achieves a reassuringly firm rid...   \n",
       "\n",
       "                                                reviews  \\\n",
       "0     Not happy with product|| It's not as expected....   \n",
       "1     Memory cushioning in these shoes is the best f...   \n",
       "2     Worth to its amount|| Go for it|| Perfect|| 5 ...   \n",
       "3     Sup quality|| Good but not expected|| Awesome 👌.!   \n",
       "4     Best|| Satisfied!|| Affordable beauty 😘😘😘😘 the...   \n",
       "...                                                 ...   \n",
       "1225  Must buy|| not have a great fiting but great q...   \n",
       "1226  Worth buying !|| Classy Bold and Stylish !!|| ...   \n",
       "1227  size variation in product recd n size chart|| ...   \n",
       "1228  Verified Purchase|| Verified Purchase|| Verifi...   \n",
       "1229  Great shoe|| excellent quality|| Old manufactu...   \n",
       "\n",
       "                                         reviews_rating Shoe Type  \n",
       "0     1.0 out of 5 stars|| 1.0 out of 5 stars|| 3.0 ...       Men  \n",
       "1     5.0 out of 5 stars|| 1.0 out of 5 stars|| 5.0 ...       Men  \n",
       "2     5.0 out of 5 stars|| 5.0 out of 5 stars|| 5.0 ...       Men  \n",
       "3     5.0 out of 5 stars|| 3.0 out of 5 stars|| 5.0 ...       Men  \n",
       "4     5.0 out of 5 stars|| 5.0 out of 5 stars|| 5.0 ...       Men  \n",
       "...                                                 ...       ...  \n",
       "1225  5.0 out of 5 stars|| 3.0 out of 5 stars|| 5.0 ...     Women  \n",
       "1226  4.0 out of 5 stars|| 5.0 out of 5 stars|| 3.0 ...     Women  \n",
       "1227  5.0 out of 5 stars|| 5.0 out of 5 stars|| 5.0 ...     Women  \n",
       "1228  5.0 out of 5 stars|| 5.0 out of 5 stars|| 4.0 ...     Women  \n",
       "1229  5.0 out of 5 stars|| 5.0 out of 5 stars|| 3.0 ...     Women  \n",
       "\n",
       "[1230 rows x 8 columns]"
      ]
     },
     "execution_count": 3,
     "metadata": {},
     "output_type": "execute_result"
    }
   ],
   "source": [
    "df"
   ]
  },
  {
   "cell_type": "code",
   "execution_count": 4,
   "id": "cdf893cf",
   "metadata": {},
   "outputs": [],
   "source": [
    "# pip install langdetect"
   ]
  },
  {
   "cell_type": "markdown",
   "id": "8c23f7e8",
   "metadata": {},
   "source": [
    "Преобразую числовые столбики в числа (откидываю сотые части, т.к. они нули везде)"
   ]
  },
  {
   "cell_type": "code",
   "execution_count": 5,
   "id": "58e23bda",
   "metadata": {},
   "outputs": [
    {
     "name": "stderr",
     "output_type": "stream",
     "text": [
      "<ipython-input-5-e67a6c00cfd8>:10: SettingWithCopyWarning:\n",
      "\n",
      "\n",
      "A value is trying to be set on a copy of a slice from a DataFrame\n",
      "\n",
      "See the caveats in the documentation: https://pandas.pydata.org/pandas-docs/stable/user_guide/indexing.html#returning-a-view-versus-a-copy\n",
      "\n",
      "<ipython-input-5-e67a6c00cfd8>:17: SettingWithCopyWarning:\n",
      "\n",
      "\n",
      "A value is trying to be set on a copy of a slice from a DataFrame\n",
      "\n",
      "See the caveats in the documentation: https://pandas.pydata.org/pandas-docs/stable/user_guide/indexing.html#returning-a-view-versus-a-copy\n",
      "\n"
     ]
    }
   ],
   "source": [
    "df = pd.read_csv('Shoes_Data.csv')\n",
    "df['rating'] = [float(row.split()[0]) for row in df['rating']]\n",
    "\n",
    "for ind, row in enumerate(df['reviews_rating']):\n",
    "    splitted_row = row.split('|| ')\n",
    "    score = []\n",
    "    for review in splitted_row:\n",
    "        review = int(review[0:1])\n",
    "        score.append(review)\n",
    "    df['reviews_rating'][ind] = score\n",
    "    \n",
    "for ind, row in enumerate(df['reviews']):\n",
    "    splitted_row = row.split('|| ')\n",
    "    score = []\n",
    "    for review in splitted_row:\n",
    "        score.append(review)\n",
    "    df['reviews'][ind] = score    \n",
    "\n",
    "df['price'] = [float(row[1:].split('.')[0]) for row in df['price']]\n",
    "df['total_reviews'] = [int(row.split()[0]) for row in df['total_reviews']]"
   ]
  },
  {
   "cell_type": "markdown",
   "id": "37460dc2",
   "metadata": {},
   "source": [
    "Размер дф не оч большой, так что лангдетек простой и удобный способ"
   ]
  },
  {
   "cell_type": "code",
   "execution_count": 6,
   "id": "a9ad786d",
   "metadata": {},
   "outputs": [],
   "source": [
    "for ind, descr in enumerate(df['product_description']):\n",
    "    try:\n",
    "        if detect(descr) != 'en':\n",
    "            df = df.drop(ind)\n",
    "    except: # может быть LangDetectException, но она не встает на место исключения как ошибка\n",
    "        pass\n",
    "df = df.reset_index(drop=True)"
   ]
  },
  {
   "cell_type": "code",
   "execution_count": 7,
   "id": "059ba8e6",
   "metadata": {},
   "outputs": [
    {
     "data": {
      "text/html": [
       "<div>\n",
       "<style scoped>\n",
       "    .dataframe tbody tr th:only-of-type {\n",
       "        vertical-align: middle;\n",
       "    }\n",
       "\n",
       "    .dataframe tbody tr th {\n",
       "        vertical-align: top;\n",
       "    }\n",
       "\n",
       "    .dataframe thead th {\n",
       "        text-align: right;\n",
       "    }\n",
       "</style>\n",
       "<table border=\"1\" class=\"dataframe\">\n",
       "  <thead>\n",
       "    <tr style=\"text-align: right;\">\n",
       "      <th></th>\n",
       "      <th>price</th>\n",
       "      <th>rating</th>\n",
       "      <th>total_reviews</th>\n",
       "    </tr>\n",
       "  </thead>\n",
       "  <tbody>\n",
       "    <tr>\n",
       "      <th>count</th>\n",
       "      <td>1178.000000</td>\n",
       "      <td>1178.000000</td>\n",
       "      <td>1178.000000</td>\n",
       "    </tr>\n",
       "    <tr>\n",
       "      <th>mean</th>\n",
       "      <td>1963.629881</td>\n",
       "      <td>3.955093</td>\n",
       "      <td>844.983871</td>\n",
       "    </tr>\n",
       "    <tr>\n",
       "      <th>std</th>\n",
       "      <td>1681.069712</td>\n",
       "      <td>0.460241</td>\n",
       "      <td>3180.615539</td>\n",
       "    </tr>\n",
       "    <tr>\n",
       "      <th>min</th>\n",
       "      <td>127.000000</td>\n",
       "      <td>1.000000</td>\n",
       "      <td>1.000000</td>\n",
       "    </tr>\n",
       "    <tr>\n",
       "      <th>25%</th>\n",
       "      <td>608.000000</td>\n",
       "      <td>3.800000</td>\n",
       "      <td>26.000000</td>\n",
       "    </tr>\n",
       "    <tr>\n",
       "      <th>50%</th>\n",
       "      <td>1509.000000</td>\n",
       "      <td>4.000000</td>\n",
       "      <td>121.000000</td>\n",
       "    </tr>\n",
       "    <tr>\n",
       "      <th>75%</th>\n",
       "      <td>2747.000000</td>\n",
       "      <td>4.200000</td>\n",
       "      <td>454.000000</td>\n",
       "    </tr>\n",
       "    <tr>\n",
       "      <th>max</th>\n",
       "      <td>7992.000000</td>\n",
       "      <td>5.000000</td>\n",
       "      <td>42193.000000</td>\n",
       "    </tr>\n",
       "  </tbody>\n",
       "</table>\n",
       "</div>"
      ],
      "text/plain": [
       "             price       rating  total_reviews\n",
       "count  1178.000000  1178.000000    1178.000000\n",
       "mean   1963.629881     3.955093     844.983871\n",
       "std    1681.069712     0.460241    3180.615539\n",
       "min     127.000000     1.000000       1.000000\n",
       "25%     608.000000     3.800000      26.000000\n",
       "50%    1509.000000     4.000000     121.000000\n",
       "75%    2747.000000     4.200000     454.000000\n",
       "max    7992.000000     5.000000   42193.000000"
      ]
     },
     "execution_count": 7,
     "metadata": {},
     "output_type": "execute_result"
    }
   ],
   "source": [
    "df.describe()"
   ]
  },
  {
   "cell_type": "code",
   "execution_count": 8,
   "id": "d20b71d5",
   "metadata": {},
   "outputs": [
    {
     "name": "stdout",
     "output_type": "stream",
     "text": [
      "<class 'pandas.core.frame.DataFrame'>\n",
      "RangeIndex: 1178 entries, 0 to 1177\n",
      "Data columns (total 8 columns):\n",
      " #   Column               Non-Null Count  Dtype  \n",
      "---  ------               --------------  -----  \n",
      " 0   title                1178 non-null   object \n",
      " 1   price                1178 non-null   float64\n",
      " 2   rating               1178 non-null   float64\n",
      " 3   total_reviews        1178 non-null   int64  \n",
      " 4   product_description  1178 non-null   object \n",
      " 5   reviews              1178 non-null   object \n",
      " 6   reviews_rating       1178 non-null   object \n",
      " 7   Shoe Type            1178 non-null   object \n",
      "dtypes: float64(2), int64(1), object(5)\n",
      "memory usage: 73.8+ KB\n"
     ]
    }
   ],
   "source": [
    "df.info()"
   ]
  },
  {
   "cell_type": "markdown",
   "id": "20f92329",
   "metadata": {},
   "source": [
    "Корреляции довольно интересные.<p>\n",
    "Чем больше цена, тем больше рейтинг.<p>\n",
    "Чем больше отзывов, тем меньше цена (массовость продукта)<p>\n",
    "Но чем больше пишут про продукт (в длине), тем он дороже."
   ]
  },
  {
   "cell_type": "code",
   "execution_count": 9,
   "id": "7e0f8561",
   "metadata": {},
   "outputs": [
    {
     "data": {
      "text/html": [
       "<div>\n",
       "<style scoped>\n",
       "    .dataframe tbody tr th:only-of-type {\n",
       "        vertical-align: middle;\n",
       "    }\n",
       "\n",
       "    .dataframe tbody tr th {\n",
       "        vertical-align: top;\n",
       "    }\n",
       "\n",
       "    .dataframe thead th {\n",
       "        text-align: right;\n",
       "    }\n",
       "</style>\n",
       "<table border=\"1\" class=\"dataframe\">\n",
       "  <thead>\n",
       "    <tr style=\"text-align: right;\">\n",
       "      <th></th>\n",
       "      <th>price</th>\n",
       "      <th>rating</th>\n",
       "      <th>total_reviews</th>\n",
       "    </tr>\n",
       "  </thead>\n",
       "  <tbody>\n",
       "    <tr>\n",
       "      <th>price</th>\n",
       "      <td>1.000000</td>\n",
       "      <td>0.206669</td>\n",
       "      <td>-0.019507</td>\n",
       "    </tr>\n",
       "    <tr>\n",
       "      <th>rating</th>\n",
       "      <td>0.206669</td>\n",
       "      <td>1.000000</td>\n",
       "      <td>0.088447</td>\n",
       "    </tr>\n",
       "    <tr>\n",
       "      <th>total_reviews</th>\n",
       "      <td>-0.019507</td>\n",
       "      <td>0.088447</td>\n",
       "      <td>1.000000</td>\n",
       "    </tr>\n",
       "  </tbody>\n",
       "</table>\n",
       "</div>"
      ],
      "text/plain": [
       "                  price    rating  total_reviews\n",
       "price          1.000000  0.206669      -0.019507\n",
       "rating         0.206669  1.000000       0.088447\n",
       "total_reviews -0.019507  0.088447       1.000000"
      ]
     },
     "execution_count": 9,
     "metadata": {},
     "output_type": "execute_result"
    }
   ],
   "source": [
    "df.corr()"
   ]
  },
  {
   "cell_type": "markdown",
   "id": "e95b318b",
   "metadata": {},
   "source": [
    "У цен есть выбросы у дорогих товаров"
   ]
  },
  {
   "cell_type": "code",
   "execution_count": 10,
   "id": "8f719b50",
   "metadata": {},
   "outputs": [],
   "source": [
    "import seaborn as sns\n",
    "import matplotlib.pyplot as plt\n",
    "%matplotlib inline"
   ]
  },
  {
   "cell_type": "code",
   "execution_count": 11,
   "id": "de166ef8",
   "metadata": {},
   "outputs": [
    {
     "data": {
      "image/png": "[encoded data removed]",
      "text/plain": [
       "<Figure size 432x288 with 1 Axes>"
      ]
     },
     "metadata": {
      "needs_background": "light"
     },
     "output_type": "display_data"
    }
   ],
   "source": [
    "ax = sns.boxplot(data=df[['price']])"
   ]
  },
  {
   "cell_type": "markdown",
   "id": "e1f0810b",
   "metadata": {},
   "source": [
    "Рейтинги сосредоточены в 3-5 баллах, с выбросами в 1"
   ]
  },
  {
   "cell_type": "code",
   "execution_count": 12,
   "id": "3c362998",
   "metadata": {},
   "outputs": [
    {
     "data": {
      "image/png": "[encoded data removed]",
      "text/plain": [
       "<Figure size 432x288 with 1 Axes>"
      ]
     },
     "metadata": {
      "needs_background": "light"
     },
     "output_type": "display_data"
    }
   ],
   "source": [
    "ax = sns.boxplot(data=df[['rating']])"
   ]
  },
  {
   "cell_type": "markdown",
   "id": "2917e9ac",
   "metadata": {},
   "source": [
    "Кол-во отзывов сосредеточено в 0, но есть довольно много данных 10000-25000, и выборы выше"
   ]
  },
  {
   "cell_type": "code",
   "execution_count": 13,
   "id": "2ee10628",
   "metadata": {},
   "outputs": [
    {
     "data": {
      "image/png": "[encoded data removed]",
      "text/plain": [
       "<Figure size 432x288 with 1 Axes>"
      ]
     },
     "metadata": {
      "needs_background": "light"
     },
     "output_type": "display_data"
    }
   ],
   "source": [
    "ax = sns.boxplot(data=df[['total_reviews']])"
   ]
  },
  {
   "cell_type": "markdown",
   "id": "c2868b3c",
   "metadata": {},
   "source": [
    "Я бы не назвал распределение оценок нормальным, но ничего критичного."
   ]
  },
  {
   "cell_type": "code",
   "execution_count": 14,
   "id": "cf74e087",
   "metadata": {},
   "outputs": [
    {
     "data": {
      "text/plain": [
       "<AxesSubplot:>"
      ]
     },
     "execution_count": 14,
     "metadata": {},
     "output_type": "execute_result"
    },
    {
     "data": {
      "image/png": "[encoded data removed]",
      "text/plain": [
       "<Figure size 432x288 with 1 Axes>"
      ]
     },
     "metadata": {
      "needs_background": "light"
     },
     "output_type": "display_data"
    }
   ],
   "source": [
    "df['rating'].value_counts().sort_index().plot.bar()"
   ]
  },
  {
   "cell_type": "markdown",
   "id": "9a79bcdb",
   "metadata": {},
   "source": [
    "А вот распределение цен сосредоточено в диапозоне 100-1000 евро.<p>\n",
    "Могу предположить, что для дорогих товаров будут какие-то специальные слова.<p>\n",
    "Или наоборот, дорогие товары не смогут предсказываться."
   ]
  },
  {
   "cell_type": "code",
   "execution_count": 15,
   "id": "5a181669",
   "metadata": {},
   "outputs": [
    {
     "data": {
      "text/plain": [
       "<AxesSubplot:>"
      ]
     },
     "execution_count": 15,
     "metadata": {},
     "output_type": "execute_result"
    },
    {
     "data": {
      "image/png": "[encoded data removed]",
      "text/plain": [
       "<Figure size 432x288 with 1 Axes>"
      ]
     },
     "metadata": {
      "needs_background": "light"
     },
     "output_type": "display_data"
    }
   ],
   "source": [
    "df['price'].value_counts().sort_index().plot()"
   ]
  },
  {
   "cell_type": "markdown",
   "id": "daf01b9e",
   "metadata": {},
   "source": [
    "Распределение количества отзывов тоже сосредоточено в небольших числах. <p>"
   ]
  },
  {
   "cell_type": "code",
   "execution_count": 16,
   "id": "52a17133",
   "metadata": {},
   "outputs": [
    {
     "data": {
      "text/plain": [
       "<AxesSubplot:>"
      ]
     },
     "execution_count": 16,
     "metadata": {},
     "output_type": "execute_result"
    },
    {
     "data": {
      "image/png": "[encoded data removed]",
      "text/plain": [
       "<Figure size 432x288 with 1 Axes>"
      ]
     },
     "metadata": {
      "needs_background": "light"
     },
     "output_type": "display_data"
    }
   ],
   "source": [
    "df['total_reviews'].value_counts().sort_index().plot()"
   ]
  },
  {
   "cell_type": "markdown",
   "id": "f3db8cd4",
   "metadata": {},
   "source": [
    "Длина описания ожидаема похожа на другие графики.<p>\n",
    "Хотя если сравнить с ценой товара, нельзя сказать, что есть корреляция между ценой и длинной описания."
   ]
  },
  {
   "cell_type": "code",
   "execution_count": 17,
   "id": "a326a15e",
   "metadata": {},
   "outputs": [],
   "source": [
    "df['product_description_len'] = [len(descr) for descr in df['product_description']]"
   ]
  },
  {
   "cell_type": "code",
   "execution_count": 18,
   "id": "5a7b4c71",
   "metadata": {},
   "outputs": [
    {
     "data": {
      "text/plain": [
       "<AxesSubplot:>"
      ]
     },
     "execution_count": 18,
     "metadata": {},
     "output_type": "execute_result"
    },
    {
     "data": {
      "image/png": "[encoded data removed]",
      "text/plain": [
       "<Figure size 432x288 with 1 Axes>"
      ]
     },
     "metadata": {
      "needs_background": "light"
     },
     "output_type": "display_data"
    }
   ],
   "source": [
    "df['product_description_len'].value_counts().sort_index().plot()"
   ]
  },
  {
   "cell_type": "markdown",
   "id": "749de9cd",
   "metadata": {},
   "source": [
    "Длина отзывов обычно короткая, но с выбросами по несколько тысяч знаков"
   ]
  },
  {
   "cell_type": "code",
   "execution_count": 19,
   "id": "398cf062",
   "metadata": {},
   "outputs": [
    {
     "data": {
      "image/png": "[encoded data removed]",
      "text/plain": [
       "<Figure size 432x288 with 1 Axes>"
      ]
     },
     "metadata": {
      "needs_background": "light"
     },
     "output_type": "display_data"
    }
   ],
   "source": [
    "ax = sns.boxplot(data=df[['product_description_len']])"
   ]
  },
  {
   "cell_type": "markdown",
   "id": "3cb12a9d",
   "metadata": {},
   "source": []
  },
  {
   "cell_type": "code",
   "execution_count": 20,
   "id": "2fbf4ec8",
   "metadata": {},
   "outputs": [
    {
     "name": "stderr",
     "output_type": "stream",
     "text": [
      "[nltk_data] Downloading package stopwords to\n",
      "[nltk_data]     C:\\Users\\trekc\\AppData\\Roaming\\nltk_data...\n",
      "[nltk_data]   Package stopwords is already up-to-date!\n"
     ]
    }
   ],
   "source": [
    "import os\n",
    "from pymystem3 import Mystem\n",
    "from string import punctuation\n",
    "punctuation += '...' + '—' + '…' + '«»'\n",
    "import nltk\n",
    "from nltk.corpus import stopwords\n",
    "import re\n",
    "nltk.download('stopwords')\n",
    "from sklearn.feature_extraction.text import TfidfVectorizer\n",
    "from sklearn.model_selection import train_test_split\n",
    "from sklearn.linear_model import SGDRegressor\n",
    "from sklearn.pipeline import Pipeline\n",
    "from sklearn.preprocessing import StandardScaler\n",
    "from sklearn import model_selection\n",
    "from sklearn.metrics import accuracy_score, roc_auc_score\n",
    "from sklearn import linear_model\n",
    "from sklearn.neighbors import NearestNeighbors\n",
    "from sklearn.linear_model import LinearRegression, Ridge, Lasso, ElasticNet\n",
    "from sklearn.model_selection import train_test_split, StratifiedKFold, KFold, cross_val_score, RepeatedKFold, GridSearchCV, RepeatedStratifiedKFold"
   ]
  },
  {
   "cell_type": "code",
   "execution_count": 21,
   "id": "36e8f254",
   "metadata": {},
   "outputs": [
    {
     "name": "stderr",
     "output_type": "stream",
     "text": [
      "0it [00:00, ?it/s]<ipython-input-21-4a1c33a2e974>:15: SettingWithCopyWarning:\n",
      "\n",
      "\n",
      "A value is trying to be set on a copy of a slice from a DataFrame\n",
      "\n",
      "See the caveats in the documentation: https://pandas.pydata.org/pandas-docs/stable/user_guide/indexing.html#returning-a-view-versus-a-copy\n",
      "\n",
      "1178it [00:24, 48.52it/s]\n"
     ]
    }
   ],
   "source": [
    "#df = pd.read_csv('Shoes_Data.csv')\n",
    "import nltk\n",
    "from nltk.stem import WordNetLemmatizer\n",
    "lemmatizer = WordNetLemmatizer()\n",
    "from tqdm import tqdm\n",
    "from sklearn.feature_extraction.text import TfidfVectorizer\n",
    "import numpy as np\n",
    "\n",
    "\n",
    "for ind, descr in tqdm(enumerate(df['product_description'])):\n",
    "    descr = [word.lower().strip().strip(punctuation) for word in nltk.word_tokenize(descr)]\n",
    "    descr = [lemmatizer.lemmatize(w) for w in descr]\n",
    "    descr = [word for word in descr if word != '' or word != ' ']\n",
    "    descr = ' '.join([x for x in descr if x not in stopwords.words('english')])   \n",
    "    df['product_description'][ind] = descr\n",
    "    if df['product_description'][ind] == '':\n",
    "        df = df.drop(ind)\n",
    "\n",
    "df = df.reset_index(drop=True)"
   ]
  },
  {
   "cell_type": "code",
   "execution_count": null,
   "id": "6d9fa9dc",
   "metadata": {},
   "outputs": [],
   "source": []
  },
  {
   "cell_type": "code",
   "execution_count": 24,
   "id": "d2267868",
   "metadata": {},
   "outputs": [
    {
     "data": {
      "text/plain": [
       "1175"
      ]
     },
     "execution_count": 24,
     "metadata": {},
     "output_type": "execute_result"
    }
   ],
   "source": [
    "len(list(df['price']))"
   ]
  },
  {
   "cell_type": "code",
   "execution_count": 25,
   "id": "71c22f98",
   "metadata": {},
   "outputs": [],
   "source": [
    "corpus = []\n",
    "for row in df['product_description']:\n",
    "    corpus.append(row)\n",
    "\n",
    "vect = TfidfVectorizer()\n",
    "X = vect.fit_transform(corpus)\n",
    "X_train, X_test, y_train, y_test = train_test_split(X, list(df['price']), test_size=0.70, random_state=42)"
   ]
  },
  {
   "cell_type": "markdown",
   "id": "0afbf06e",
   "metadata": {},
   "source": [
    "### Функция скоринга"
   ]
  },
  {
   "cell_type": "code",
   "execution_count": 26,
   "id": "c6236194",
   "metadata": {},
   "outputs": [],
   "source": [
    "from sklearn.metrics import *\n",
    "def scoring(y_test, y_pred):\n",
    "    print('MRSE (0 is better): ', mean_squared_error(y_test, y_pred, squared=False))\n",
    "    print('MAE (0 is better): ', mean_absolute_error(y_test, y_pred))\n",
    "    print('EVS (1 is better): ', explained_variance_score(y_test, y_pred)) # 1 is better\n",
    "    print('ME (0 is better): ', max_error(y_test, y_pred)) #shock\n",
    "   # print('MSLE (0 is better): ', mean_squared_log_error(y_test, y_pred)) # 0 is better\n",
    "    print('R2 (1 is better): ', r2_score(y_test, y_pred)) # 1 is better\n",
    "    print('MAPE (0 is better): ', mean_absolute_percentage_error(y_test, y_pred)) # 0 is better"
   ]
  },
  {
   "cell_type": "code",
   "execution_count": 27,
   "id": "a75c61bd",
   "metadata": {},
   "outputs": [],
   "source": [
    "from sklearn.model_selection import cross_val_score\n",
    "def get_cv_scores(model):\n",
    "    scores = cross_val_score(model,\n",
    "                             X_train,\n",
    "                             y_train,\n",
    "                             cv=3,\n",
    "                             scoring='r2')\n",
    "    \n",
    "    print('CV Mean: ', np.mean(scores))\n",
    "    print('STD: ', np.std(scores))\n",
    "    print('\\n')"
   ]
  },
  {
   "cell_type": "markdown",
   "id": "326681e0",
   "metadata": {},
   "source": [
    "Далее будет проблема того, как сказать модели, что нельзя негативные значения. Я хз"
   ]
  },
  {
   "cell_type": "code",
   "execution_count": 28,
   "id": "c331b1d7",
   "metadata": {},
   "outputs": [
    {
     "name": "stdout",
     "output_type": "stream",
     "text": [
      "Best Score: 0.3849792052566849\n",
      "Best Hyperparameters: {'fit_intercept': False, 'normalize': True, 'positive': False}\n"
     ]
    }
   ],
   "source": [
    "# почему-то возникала ошибка UserWarning:\n",
    "# One or more of the test scores are non-finite\n",
    "# но в трейне нет таких значений\n",
    "import warnings\n",
    "warnings.filterwarnings(\"ignore\")\n",
    "\n",
    "model = LinearRegression()\n",
    "# define evaluation\n",
    "cv = RepeatedKFold(n_splits=5, n_repeats=3, random_state=1)\n",
    "# define search space\n",
    "space = dict()\n",
    "space['fit_intercept'] = [True, False]\n",
    "space['positive'] = [True, False]\n",
    "space['normalize'] = [True, False]\n",
    "# define search\n",
    "search = GridSearchCV(model, space, scoring='r2', n_jobs=-1, cv=cv)\n",
    "# execute search\n",
    "result = search.fit(X_train, y_train)\n",
    "# summarize result\n",
    "print('Best Score: %s' % result.best_score_)\n",
    "print('Best Hyperparameters: %s' % result.best_params_)"
   ]
  },
  {
   "cell_type": "code",
   "execution_count": 29,
   "id": "41638232",
   "metadata": {},
   "outputs": [
    {
     "name": "stdout",
     "output_type": "stream",
     "text": [
      "MRSE (0 is better):  1251.9348332329366\n",
      "MAE (0 is better):  753.392944925378\n",
      "EVS (1 is better):  0.448191979679594\n",
      "ME (0 is better):  7053.709185497595\n",
      "R2 (1 is better):  0.41959950857604134\n",
      "MAPE (0 is better):  0.5423308929936851\n",
      "CV Mean:  0.341758230205851\n",
      "STD:  0.1478140735069901\n",
      "\n",
      "\n"
     ]
    }
   ],
   "source": [
    "lr = LinearRegression(fit_intercept=False, normalize=True, positive=False).fit(X_train, y_train)\n",
    "lr_y_pred = lr.predict(X_test)\n",
    "scoring(y_test, lr_y_pred)\n",
    "get_cv_scores(lr)"
   ]
  },
  {
   "cell_type": "markdown",
   "id": "4a7eb936",
   "metadata": {},
   "source": [
    "R2"
   ]
  },
  {
   "cell_type": "code",
   "execution_count": 30,
   "id": "fef12322",
   "metadata": {},
   "outputs": [
    {
     "name": "stdout",
     "output_type": "stream",
     "text": [
      "Best Score: 0.5591063673902588\n",
      "Best Hyperparameters: {'alpha': 0.1, 'fit_intercept': True, 'normalize': False, 'solver': 'sag'}\n"
     ]
    }
   ],
   "source": [
    "model = Ridge()\n",
    "# define evaluation\n",
    "cv = RepeatedKFold(n_splits=5, n_repeats=3, random_state=1)\n",
    "# define search space\n",
    "space = dict()\n",
    "space['solver'] = ['svd', 'cholesky', 'lsqr', 'sag']\n",
    "space['alpha'] = [1e-5, 1e-4, 1e-3, 1e-2, 1e-1, 1, 10, 100]\n",
    "space['fit_intercept'] = [True, False]\n",
    "space['normalize'] = [True, False]\n",
    "# define search\n",
    "search = GridSearchCV(model, space, scoring='r2', n_jobs=-1, cv=cv)\n",
    "# execute search\n",
    "result = search.fit(X_train, y_train)\n",
    "# summarize result\n",
    "print('Best Score: %s' % result.best_score_)\n",
    "print('Best Hyperparameters: %s' % result.best_params_)"
   ]
  },
  {
   "cell_type": "code",
   "execution_count": 31,
   "id": "c74eccda",
   "metadata": {},
   "outputs": [
    {
     "name": "stdout",
     "output_type": "stream",
     "text": [
      "MRSE (0 is better):  1079.6981635200377\n",
      "MAE (0 is better):  705.9905883640043\n",
      "EVS (1 is better):  0.568450117964598\n",
      "ME (0 is better):  5628.309434717454\n",
      "R2 (1 is better):  0.5683129203836184\n",
      "MAPE (0 is better):  0.6054538180243917\n",
      "CV Mean:  0.5471931785030754\n",
      "STD:  0.1190795707021868\n",
      "\n",
      "\n"
     ]
    }
   ],
   "source": [
    "ridge = Ridge(alpha=0.1, fit_intercept=True, normalize=False, solver='sag').fit(X_train, y_train)\n",
    "ridge_y_pred = ridge.predict(X_test)\n",
    "scoring(y_test, ridge_y_pred)\n",
    "get_cv_scores(ridge)"
   ]
  },
  {
   "cell_type": "markdown",
   "id": "e622bb39",
   "metadata": {},
   "source": [
    "Я взял все параметры, но кроме альфы ничего не важно.\n",
    "Использовал R2, потому что при логарифме модель не работает."
   ]
  },
  {
   "cell_type": "code",
   "execution_count": 32,
   "id": "4cf92216",
   "metadata": {},
   "outputs": [
    {
     "name": "stdout",
     "output_type": "stream",
     "text": [
      "Best Score: 0.5292390732215473\n",
      "Best Hyperparameters: {'alpha': 1}\n"
     ]
    }
   ],
   "source": [
    "model = Lasso()\n",
    "# define evaluation\n",
    "cv = RepeatedKFold(n_splits=5, n_repeats=3, random_state=1)\n",
    "# define search space\n",
    "space = dict()\n",
    "#space['positive'] = [True, False]\n",
    "space['alpha'] = [1e-5, 1e-4, 1e-3, 1e-2, 1e-1, 1, 10, 100]\n",
    "#space['fit_intercept'] = [True, False]\n",
    "#space['normalize'] = [True, False]\n",
    "#space['precompute'] = [True, False]\n",
    "#space['selection'] = ['cyclic', 'random']\n",
    "\n",
    "# define search\n",
    "search = GridSearchCV(model, space, scoring='r2', n_jobs=-1, cv=cv)\n",
    "# execute search\n",
    "result = search.fit(X_train, y_train)\n",
    "# summarize result\n",
    "print('Best Score: %s' % result.best_score_)\n",
    "print('Best Hyperparameters: %s' % result.best_params_)"
   ]
  },
  {
   "cell_type": "code",
   "execution_count": 33,
   "id": "868cbba8",
   "metadata": {},
   "outputs": [
    {
     "name": "stdout",
     "output_type": "stream",
     "text": [
      "MRSE (0 is better):  1161.9844170620777\n",
      "MAE (0 is better):  767.6885098641906\n",
      "EVS (1 is better):  0.5085536198230111\n",
      "ME (0 is better):  5898.03895551672\n",
      "R2 (1 is better):  0.5000058386185224\n",
      "MAPE (0 is better):  0.608375503958012\n",
      "CV Mean:  0.4646500611515762\n",
      "STD:  0.14358011482192656\n",
      "\n",
      "\n"
     ]
    }
   ],
   "source": [
    "from sklearn.linear_model import Lasso\n",
    "lasso = Lasso(alpha=1).fit(X_train, y_train)\n",
    "lasso_y_pred = lasso.predict(X_test)\n",
    "scoring(y_test, lasso_y_pred)\n",
    "get_cv_scores(lasso)"
   ]
  },
  {
   "cell_type": "code",
   "execution_count": 34,
   "id": "fafff108",
   "metadata": {},
   "outputs": [
    {
     "name": "stdout",
     "output_type": "stream",
     "text": [
      "Fitting 5 folds for each of 77 candidates, totalling 385 fits\n",
      "Best Score:  0.5076591870802958\n",
      "Best Params:  {'alpha': 0.001, 'l1_ratio': 0.8}\n"
     ]
    }
   ],
   "source": [
    "from sklearn.linear_model import ElasticNet\n",
    "\n",
    "# find optimal alpha with grid search\n",
    "model = ElasticNet()\n",
    "param_grid = dict()\n",
    "param_grid['alpha'] = [0.001, 0.01, 0.1, 1, 10, 100, 1000]\n",
    "param_grid['l1_ratio'] = [0, 0.1, 0.2, 0.3, 0.4, 0.5, 0.6, 0.7, 0.8, 0.9, 1]\n",
    "#param_grid['fit_intercept'] = [True, False]\n",
    "#param_grid['normalize'] = [True, False]\n",
    "#param_grid['precompute'] = [True, False]\n",
    "#param_grid['selection'] = ['cyclic', 'random']\n",
    "#param_grid['positive'] = [True, False]\n",
    "\n",
    "grid = GridSearchCV(estimator=model, param_grid=param_grid, scoring='r2', verbose=1, n_jobs=-1)\n",
    "grid_result = grid.fit(X_train, y_train)\n",
    "print('Best Score: ', grid_result.best_score_)\n",
    "print('Best Params: ', grid_result.best_params_)"
   ]
  },
  {
   "cell_type": "code",
   "execution_count": 35,
   "id": "441a057e",
   "metadata": {},
   "outputs": [
    {
     "name": "stdout",
     "output_type": "stream",
     "text": [
      "MRSE (0 is better):  1083.7553003906319\n",
      "MAE (0 is better):  750.3961326206022\n",
      "EVS (1 is better):  0.5651030453226991\n",
      "ME (0 is better):  5608.567518993834\n",
      "R2 (1 is better):  0.5650625598041412\n",
      "MAPE (0 is better):  0.6596355428178245\n",
      "CV Mean:  0.5482010952987434\n",
      "STD:  0.11421621084025918\n",
      "\n",
      "\n"
     ]
    }
   ],
   "source": [
    "elastic_net = ElasticNet(alpha=0.01, l1_ratio=0.9).fit(X_train, y_train)\n",
    "elastic_y_pred = elastic_net.predict(X_test)\n",
    "scoring(y_test, elastic_y_pred)\n",
    "get_cv_scores(elastic_net)"
   ]
  },
  {
   "cell_type": "markdown",
   "id": "c54c697c",
   "metadata": {},
   "source": [
    "По показателям лучшая модель Ridge. Без понятия, почему именно она справилась лучше (нам не поясняли про эти модели), но, учитывая, что на самом деле все модели показали схожий результат, это не так важно."
   ]
  },
  {
   "cell_type": "code",
   "execution_count": 36,
   "id": "ab22ab57",
   "metadata": {},
   "outputs": [],
   "source": [
    "ridge_df={'price': ridge_y_pred}\n",
    "lr_df={'price': lr_y_pred}\n",
    "lasso_df={'price': lasso_y_pred}\n",
    "elastic_df={'price': elastic_y_pred}"
   ]
  },
  {
   "cell_type": "code",
   "execution_count": 37,
   "id": "43b913ee",
   "metadata": {},
   "outputs": [],
   "source": [
    "ridge_df = pd.DataFrame.from_dict(ridge_df)\n",
    "lr_df = pd.DataFrame.from_dict(lr_df)\n",
    "lasso_df = pd.DataFrame.from_dict(lasso_df)\n",
    "elastic_df = pd.DataFrame.from_dict(elastic_df)"
   ]
  },
  {
   "cell_type": "markdown",
   "id": "1c20e9f8",
   "metadata": {},
   "source": [
    "Если сравнивать с исходными данными, то результаты очень даже ничего.<p>\n",
    "Основная масса данных в 1-3к, выбросы после 6к<p>\n",
    "Основной массив данных чуть сузился, выбросов стало поменьше (но они не исчезли - то есть модель умеет их предсказывать, что очень даже хорошо)! <p>\n",
    "Все модели справляются хорошо, но поточнее будет Ridge и Elastic."
   ]
  },
  {
   "cell_type": "markdown",
   "id": "5f8d5364",
   "metadata": {},
   "source": [
    "Если посмотреть на линейный график, то все в принципе тоже похоже. Но я предположу, что все же небольшие выбросы моя модель не всегда угадывает, поэтому общий результат не очень.\n",
    "Пик между 4-5к уловил более или менее Ridge"
   ]
  },
  {
   "cell_type": "code",
   "execution_count": 38,
   "id": "eefd4dda",
   "metadata": {},
   "outputs": [
    {
     "data": {
      "image/png": "[encoded data removed]",
      "text/plain": [
       "<Figure size 432x288 with 1 Axes>"
      ]
     },
     "metadata": {
      "needs_background": "light"
     },
     "output_type": "display_data"
    }
   ],
   "source": [
    "ax = sns.boxplot(data=df[['price']])"
   ]
  },
  {
   "cell_type": "code",
   "execution_count": 39,
   "id": "860cfba7",
   "metadata": {},
   "outputs": [
    {
     "data": {
      "image/png": "[encoded data removed]",
      "text/plain": [
       "<Figure size 432x288 with 1 Axes>"
      ]
     },
     "metadata": {
      "needs_background": "light"
     },
     "output_type": "display_data"
    }
   ],
   "source": [
    "ax = sns.boxplot(data=ridge_df[['price']])"
   ]
  },
  {
   "cell_type": "code",
   "execution_count": 40,
   "id": "e643511b",
   "metadata": {},
   "outputs": [
    {
     "data": {
      "image/png": "[encoded data removed]",
      "text/plain": [
       "<Figure size 432x288 with 1 Axes>"
      ]
     },
     "metadata": {
      "needs_background": "light"
     },
     "output_type": "display_data"
    }
   ],
   "source": [
    "ax = sns.boxplot(data=lr_df[['price']])"
   ]
  },
  {
   "cell_type": "code",
   "execution_count": 41,
   "id": "8e03f9cb",
   "metadata": {},
   "outputs": [
    {
     "data": {
      "image/png": "[encoded data removed]",
      "text/plain": [
       "<Figure size 432x288 with 1 Axes>"
      ]
     },
     "metadata": {
      "needs_background": "light"
     },
     "output_type": "display_data"
    }
   ],
   "source": [
    "ax = sns.boxplot(data=lasso_df[['price']])"
   ]
  },
  {
   "cell_type": "code",
   "execution_count": 42,
   "id": "29bf3bb7",
   "metadata": {},
   "outputs": [
    {
     "data": {
      "image/png": "[encoded data removed]",
      "text/plain": [
       "<Figure size 432x288 with 1 Axes>"
      ]
     },
     "metadata": {
      "needs_background": "light"
     },
     "output_type": "display_data"
    }
   ],
   "source": [
    "ax = sns.boxplot(data=elastic_df[['price']])"
   ]
  },
  {
   "cell_type": "code",
   "execution_count": 43,
   "id": "2f0be696",
   "metadata": {},
   "outputs": [
    {
     "data": {
      "text/plain": [
       "<AxesSubplot:>"
      ]
     },
     "execution_count": 43,
     "metadata": {},
     "output_type": "execute_result"
    },
    {
     "data": {
      "image/png": "[encoded data removed]",
      "text/plain": [
       "<Figure size 432x288 with 1 Axes>"
      ]
     },
     "metadata": {
      "needs_background": "light"
     },
     "output_type": "display_data"
    }
   ],
   "source": [
    "df['price'].value_counts().sort_index().plot()"
   ]
  },
  {
   "cell_type": "code",
   "execution_count": 44,
   "id": "b1fd1c59",
   "metadata": {},
   "outputs": [
    {
     "data": {
      "text/plain": [
       "<AxesSubplot:>"
      ]
     },
     "execution_count": 44,
     "metadata": {},
     "output_type": "execute_result"
    },
    {
     "data": {
      "image/png": "[encoded data removed]",
      "text/plain": [
       "<Figure size 432x288 with 1 Axes>"
      ]
     },
     "metadata": {
      "needs_background": "light"
     },
     "output_type": "display_data"
    }
   ],
   "source": [
    "ridge_df['price'].value_counts().sort_index().plot()"
   ]
  },
  {
   "cell_type": "code",
   "execution_count": 45,
   "id": "b30e3311",
   "metadata": {},
   "outputs": [
    {
     "data": {
      "text/plain": [
       "<AxesSubplot:>"
      ]
     },
     "execution_count": 45,
     "metadata": {},
     "output_type": "execute_result"
    },
    {
     "data": {
      "image/png": "[encoded data removed]",
      "text/plain": [
       "<Figure size 432x288 with 1 Axes>"
      ]
     },
     "metadata": {
      "needs_background": "light"
     },
     "output_type": "display_data"
    }
   ],
   "source": [
    "lr_df['price'].value_counts().sort_index().plot()"
   ]
  },
  {
   "cell_type": "code",
   "execution_count": 46,
   "id": "fc5759e7",
   "metadata": {},
   "outputs": [
    {
     "data": {
      "text/plain": [
       "<AxesSubplot:>"
      ]
     },
     "execution_count": 46,
     "metadata": {},
     "output_type": "execute_result"
    },
    {
     "data": {
      "image/png": "[encoded data removed]",
      "text/plain": [
       "<Figure size 432x288 with 1 Axes>"
      ]
     },
     "metadata": {
      "needs_background": "light"
     },
     "output_type": "display_data"
    }
   ],
   "source": [
    "lasso_df['price'].value_counts().sort_index().plot()"
   ]
  },
  {
   "cell_type": "code",
   "execution_count": 47,
   "id": "44108d22",
   "metadata": {},
   "outputs": [
    {
     "data": {
      "text/plain": [
       "<AxesSubplot:>"
      ]
     },
     "execution_count": 47,
     "metadata": {},
     "output_type": "execute_result"
    },
    {
     "data": {
      "image/png": "[encoded data removed]",
      "text/plain": [
       "<Figure size 432x288 with 1 Axes>"
      ]
     },
     "metadata": {
      "needs_background": "light"
     },
     "output_type": "display_data"
    }
   ],
   "source": [
    "elastic_df['price'].value_counts().sort_index().plot()"
   ]
  },
  {
   "cell_type": "markdown",
   "id": "509c649d",
   "metadata": {},
   "source": [
    "Все модели предсказали отрицательные значения, но лучше всего справилась elastic:"
   ]
  },
  {
   "cell_type": "code",
   "execution_count": 48,
   "id": "8657719e",
   "metadata": {},
   "outputs": [
    {
     "name": "stdout",
     "output_type": "stream",
     "text": [
      "127.0\n",
      "-333.1163332124197\n",
      "-887.6428324454989\n",
      "-695.4060479444674\n",
      "-55.39090958193583\n"
     ]
    }
   ],
   "source": [
    "print(df['price'].min())\n",
    "print(ridge_df['price'].min())\n",
    "print(lr_df['price'].min())\n",
    "print(lasso_df['price'].min())\n",
    "print(elastic_df['price'].min())"
   ]
  },
  {
   "cell_type": "markdown",
   "id": "248e61e4",
   "metadata": {},
   "source": [
    "С макс значениями все близки, но получше будет линейная регрессия."
   ]
  },
  {
   "cell_type": "code",
   "execution_count": 49,
   "id": "1b3aebb3",
   "metadata": {},
   "outputs": [
    {
     "name": "stdout",
     "output_type": "stream",
     "text": [
      "7992.0\n",
      "7557.230189326856\n",
      "7702.000037081664\n",
      "7493.004308897578\n",
      "7229.960402516193\n"
     ]
    }
   ],
   "source": [
    "print(df['price'].max())\n",
    "print(ridge_df['price'].max())\n",
    "print(lr_df['price'].max())\n",
    "print(lasso_df['price'].max())\n",
    "print(elastic_df['price'].max())"
   ]
  },
  {
   "cell_type": "markdown",
   "id": "7a45203a",
   "metadata": {},
   "source": [
    "Я бы выбрал Ridge, потому что в общем плане он же все же ближе к истине, судя по графикам. Да и оценки модели у него лучше. Хотя, от раза в раз, показатели меняются, и иногда лучше себя показывает Elastic<br>\n",
    "*Улучшить модели можно было бы, если сказать им, что нельзя предсказывать отрицательные значения. Но я не знаю как.*"
   ]
  },
  {
   "cell_type": "markdown",
   "id": "d0bebcfb",
   "metadata": {},
   "source": [
    "# Часть 2"
   ]
  },
  {
   "cell_type": "code",
   "execution_count": 50,
   "id": "9e512926",
   "metadata": {},
   "outputs": [],
   "source": [
    "df2 = df[['reviews', 'reviews_rating']].copy()"
   ]
  },
  {
   "cell_type": "code",
   "execution_count": 51,
   "id": "44b56eea",
   "metadata": {},
   "outputs": [],
   "source": [
    "revs = list()\n",
    "revs = [rev for li in df2['reviews'] for rev in li]\n",
    "\n",
    "rats = list()\n",
    "rats = [rev for li in df2['reviews_rating'] for rev in li]"
   ]
  },
  {
   "cell_type": "code",
   "execution_count": 52,
   "id": "e39991e4",
   "metadata": {},
   "outputs": [],
   "source": [
    "df2 = pd.DataFrame(list(zip(revs, rats)),\n",
    "                  columns=['reviews', 'reviews_rating'])"
   ]
  },
  {
   "cell_type": "code",
   "execution_count": 53,
   "id": "982fcf01",
   "metadata": {},
   "outputs": [
    {
     "data": {
      "text/html": [
       "<div>\n",
       "<style scoped>\n",
       "    .dataframe tbody tr th:only-of-type {\n",
       "        vertical-align: middle;\n",
       "    }\n",
       "\n",
       "    .dataframe tbody tr th {\n",
       "        vertical-align: top;\n",
       "    }\n",
       "\n",
       "    .dataframe thead th {\n",
       "        text-align: right;\n",
       "    }\n",
       "</style>\n",
       "<table border=\"1\" class=\"dataframe\">\n",
       "  <thead>\n",
       "    <tr style=\"text-align: right;\">\n",
       "      <th></th>\n",
       "      <th>reviews</th>\n",
       "      <th>reviews_rating</th>\n",
       "    </tr>\n",
       "  </thead>\n",
       "  <tbody>\n",
       "    <tr>\n",
       "      <th>0</th>\n",
       "      <td>Not happy with product</td>\n",
       "      <td>1</td>\n",
       "    </tr>\n",
       "    <tr>\n",
       "      <th>1</th>\n",
       "      <td>It's not as expected.</td>\n",
       "      <td>1</td>\n",
       "    </tr>\n",
       "    <tr>\n",
       "      <th>2</th>\n",
       "      <td>AVERAGE PRODUCT</td>\n",
       "      <td>3</td>\n",
       "    </tr>\n",
       "    <tr>\n",
       "      <th>3</th>\n",
       "      <td>Pic more beautiful</td>\n",
       "      <td>3</td>\n",
       "    </tr>\n",
       "    <tr>\n",
       "      <th>4</th>\n",
       "      <td>Got damage product. But quality is average for...</td>\n",
       "      <td>3</td>\n",
       "    </tr>\n",
       "    <tr>\n",
       "      <th>...</th>\n",
       "      <td>...</td>\n",
       "      <td>...</td>\n",
       "    </tr>\n",
       "    <tr>\n",
       "      <th>9580</th>\n",
       "      <td>Go for it!</td>\n",
       "      <td>5</td>\n",
       "    </tr>\n",
       "    <tr>\n",
       "      <th>9581</th>\n",
       "      <td>Excellent product</td>\n",
       "      <td>5</td>\n",
       "    </tr>\n",
       "    <tr>\n",
       "      <th>9582</th>\n",
       "      <td>Nice shoe</td>\n",
       "      <td>5</td>\n",
       "    </tr>\n",
       "    <tr>\n",
       "      <th>9583</th>\n",
       "      <td>Nice</td>\n",
       "      <td>5</td>\n",
       "    </tr>\n",
       "    <tr>\n",
       "      <th>9584</th>\n",
       "      <td>Asics shoes are the best</td>\n",
       "      <td>5</td>\n",
       "    </tr>\n",
       "  </tbody>\n",
       "</table>\n",
       "<p>9585 rows × 2 columns</p>\n",
       "</div>"
      ],
      "text/plain": [
       "                                                reviews  reviews_rating\n",
       "0                                Not happy with product               1\n",
       "1                                 It's not as expected.               1\n",
       "2                                       AVERAGE PRODUCT               3\n",
       "3                                    Pic more beautiful               3\n",
       "4     Got damage product. But quality is average for...               3\n",
       "...                                                 ...             ...\n",
       "9580                                         Go for it!               5\n",
       "9581                                  Excellent product               5\n",
       "9582                                          Nice shoe               5\n",
       "9583                                               Nice               5\n",
       "9584                           Asics shoes are the best               5\n",
       "\n",
       "[9585 rows x 2 columns]"
      ]
     },
     "execution_count": 53,
     "metadata": {},
     "output_type": "execute_result"
    }
   ],
   "source": [
    "df2"
   ]
  },
  {
   "cell_type": "markdown",
   "id": "8179db85",
   "metadata": {},
   "source": [
    "Что можно сказать? Обычно оценки либо очень хорошие, либо очень плохие"
   ]
  },
  {
   "cell_type": "code",
   "execution_count": 54,
   "id": "176a31ca",
   "metadata": {},
   "outputs": [
    {
     "data": {
      "text/html": [
       "<div>\n",
       "<style scoped>\n",
       "    .dataframe tbody tr th:only-of-type {\n",
       "        vertical-align: middle;\n",
       "    }\n",
       "\n",
       "    .dataframe tbody tr th {\n",
       "        vertical-align: top;\n",
       "    }\n",
       "\n",
       "    .dataframe thead th {\n",
       "        text-align: right;\n",
       "    }\n",
       "</style>\n",
       "<table border=\"1\" class=\"dataframe\">\n",
       "  <thead>\n",
       "    <tr style=\"text-align: right;\">\n",
       "      <th></th>\n",
       "      <th>reviews_rating</th>\n",
       "    </tr>\n",
       "  </thead>\n",
       "  <tbody>\n",
       "    <tr>\n",
       "      <th>count</th>\n",
       "      <td>9585.000000</td>\n",
       "    </tr>\n",
       "    <tr>\n",
       "      <th>mean</th>\n",
       "      <td>3.763380</td>\n",
       "    </tr>\n",
       "    <tr>\n",
       "      <th>std</th>\n",
       "      <td>1.531164</td>\n",
       "    </tr>\n",
       "    <tr>\n",
       "      <th>min</th>\n",
       "      <td>1.000000</td>\n",
       "    </tr>\n",
       "    <tr>\n",
       "      <th>25%</th>\n",
       "      <td>3.000000</td>\n",
       "    </tr>\n",
       "    <tr>\n",
       "      <th>50%</th>\n",
       "      <td>4.000000</td>\n",
       "    </tr>\n",
       "    <tr>\n",
       "      <th>75%</th>\n",
       "      <td>5.000000</td>\n",
       "    </tr>\n",
       "    <tr>\n",
       "      <th>max</th>\n",
       "      <td>5.000000</td>\n",
       "    </tr>\n",
       "  </tbody>\n",
       "</table>\n",
       "</div>"
      ],
      "text/plain": [
       "       reviews_rating\n",
       "count     9585.000000\n",
       "mean         3.763380\n",
       "std          1.531164\n",
       "min          1.000000\n",
       "25%          3.000000\n",
       "50%          4.000000\n",
       "75%          5.000000\n",
       "max          5.000000"
      ]
     },
     "execution_count": 54,
     "metadata": {},
     "output_type": "execute_result"
    }
   ],
   "source": [
    "df2.describe()"
   ]
  },
  {
   "cell_type": "code",
   "execution_count": 55,
   "id": "19529726",
   "metadata": {},
   "outputs": [
    {
     "data": {
      "image/png": "[encoded data removed]",
      "text/plain": [
       "<Figure size 432x288 with 1 Axes>"
      ]
     },
     "metadata": {
      "needs_background": "light"
     },
     "output_type": "display_data"
    }
   ],
   "source": [
    "ax = sns.boxplot(data=df2[['reviews_rating']])"
   ]
  },
  {
   "cell_type": "markdown",
   "id": "bb8ac70a",
   "metadata": {},
   "source": [
    "### Судя по графикам, надо использовать микро-скоринги"
   ]
  },
  {
   "cell_type": "code",
   "execution_count": 56,
   "id": "faee42b4",
   "metadata": {},
   "outputs": [
    {
     "data": {
      "text/plain": [
       "<AxesSubplot:>"
      ]
     },
     "execution_count": 56,
     "metadata": {},
     "output_type": "execute_result"
    },
    {
     "data": {
      "image/png": "[encoded data removed]",
      "text/plain": [
       "<Figure size 432x288 with 1 Axes>"
      ]
     },
     "metadata": {
      "needs_background": "light"
     },
     "output_type": "display_data"
    }
   ],
   "source": [
    "df2['reviews_rating'].value_counts().sort_index().plot.bar()"
   ]
  },
  {
   "cell_type": "code",
   "execution_count": 57,
   "id": "ff47c6c6",
   "metadata": {},
   "outputs": [
    {
     "name": "stderr",
     "output_type": "stream",
     "text": [
      "9585it [00:12, 796.16it/s] \n"
     ]
    }
   ],
   "source": [
    "for ind, descr in tqdm(enumerate(df2['reviews'])):\n",
    "    descr = [word.lower().strip().strip(punctuation) for word in nltk.word_tokenize(descr)]\n",
    "    descr = [lemmatizer.lemmatize(w) for w in descr]\n",
    "    descr = [word for word in descr if word != '' or word != ' ']\n",
    "    descr = ' '.join([x for x in descr if x not in stopwords.words('english')])   \n",
    "    df2['reviews'][ind] = descr\n",
    "    if df2['reviews'][ind] == '':\n",
    "        df2 = df2.drop(ind)\n",
    "\n",
    "df2 = df2.reset_index(drop=True)"
   ]
  },
  {
   "cell_type": "markdown",
   "id": "1769329f",
   "metadata": {},
   "source": [
    "Попробовав разные варианты, я решил, что лучше ничего не чистить. Потому что нам в принципе не важно, на каком языке написан отзыв (может такой отзыв вообще обычно лучше оценивается). А вязи очень мало"
   ]
  },
  {
   "cell_type": "code",
   "execution_count": 58,
   "id": "ce3ec007",
   "metadata": {},
   "outputs": [],
   "source": [
    "def scoring2(predicted,  y2_test):\n",
    "    acc = accuracy_score(predicted, y2_test)\n",
    "    micro_f1 = f1_score(predicted, y2_test, average = 'micro')\n",
    "    micro_p = precision_score(predicted, y2_test, average = 'micro')\n",
    "    micro_r = recall_score(predicted, y2_test, average = 'micro')\n",
    "    macro_f1 = f1_score(predicted, y2_test, average = 'macro')\n",
    "    macro_p = precision_score(predicted, y2_test, average = 'macro')\n",
    "    macro_r = recall_score(predicted, y2_test, average = 'macro')\n",
    "    print('acc={0:1.4f}'.format(acc))\n",
    "    print('micro F1={0:1.4f}, micro P={1:1.4f}, micro R={2:1.4f}'.format(micro_f1, micro_p, micro_r))\n",
    "    print('macro F1={0:1.4f}, macro P={1:1.4f}, macro R={2:1.4f}\\n'.format(macro_f1, macro_p, macro_r))"
   ]
  },
  {
   "cell_type": "code",
   "execution_count": 59,
   "id": "05d1dc09",
   "metadata": {},
   "outputs": [],
   "source": [
    "corpus2 = []\n",
    "for row in df2['reviews']:\n",
    "    corpus2.append(row)"
   ]
  },
  {
   "cell_type": "code",
   "execution_count": 60,
   "id": "26e3cff8",
   "metadata": {},
   "outputs": [],
   "source": [
    "y2 = np.array(df2['reviews_rating'])"
   ]
  },
  {
   "cell_type": "markdown",
   "id": "e5345657",
   "metadata": {},
   "source": [
    "### TF IDF"
   ]
  },
  {
   "cell_type": "code",
   "execution_count": 61,
   "id": "f6bccfd6",
   "metadata": {},
   "outputs": [],
   "source": [
    "vect2 = TfidfVectorizer()\n",
    "X2 = vect2.fit_transform(corpus2)\n",
    "X2_train, X2_test, y2_train, y2_test = train_test_split(X2, y2, test_size=0.5, random_state=42)"
   ]
  },
  {
   "cell_type": "markdown",
   "id": "4ec8f20c",
   "metadata": {},
   "source": [
    "### CountVectorizer"
   ]
  },
  {
   "cell_type": "code",
   "execution_count": 63,
   "id": "bc6d617b",
   "metadata": {},
   "outputs": [],
   "source": [
    "from sklearn.feature_extraction.text import CountVectorizer\n",
    "vect3 = CountVectorizer()\n",
    "X3 = vect3.fit_transform(corpus2)\n",
    "X3_train, X3_test, y3_train, y3_test = train_test_split(X3, y2, test_size=0.5, random_state=42)"
   ]
  },
  {
   "cell_type": "markdown",
   "id": "820b1bc0",
   "metadata": {},
   "source": [
    "### KNN"
   ]
  },
  {
   "cell_type": "code",
   "execution_count": 64,
   "id": "225924c6",
   "metadata": {},
   "outputs": [],
   "source": [
    "from sklearn.neighbors import KNeighborsClassifier"
   ]
  },
  {
   "cell_type": "code",
   "execution_count": 65,
   "id": "afe7556f",
   "metadata": {},
   "outputs": [],
   "source": [
    "def KNC(x_train, y_train):\n",
    "    model = KNeighborsClassifier()\n",
    "    cv = RepeatedKFold(n_splits=5, n_repeats=3, random_state=1)\n",
    "\n",
    "    space = dict()\n",
    "    #space['positive'] = [True, False]\n",
    "    space['n_neighbors'] = [1, 2, 3, 4, 5, 6, 7, 8, 9, 10]\n",
    "    space['weights'] = ['uniform', 'distance']\n",
    "    space['p'] = [1, 2]\n",
    "    space['metric'] = ['euclidean', 'manhattan', 'chebyshev', 'minkowski', 'wminkowski', 'seuclidean', 'mahalanobis']\n",
    "\n",
    "\n",
    "    search = GridSearchCV(model, space, scoring='f1_micro', n_jobs=-1, cv=cv)\n",
    "    result = search.fit(x_train, y_train)\n",
    "    print('Best Score: %s' % result.best_score_)\n",
    "    print('Best Hyperparameters: %s' % result.best_params_)"
   ]
  },
  {
   "cell_type": "code",
   "execution_count": 66,
   "id": "2d2ce8ba",
   "metadata": {},
   "outputs": [
    {
     "name": "stdout",
     "output_type": "stream",
     "text": [
      "Best Score: 0.5862648323804098\n",
      "Best Hyperparameters: {'metric': 'manhattan', 'n_neighbors': 10, 'p': 1, 'weights': 'distance'}\n"
     ]
    }
   ],
   "source": [
    "KNC(X2_train, y2_train)"
   ]
  },
  {
   "cell_type": "code",
   "execution_count": 67,
   "id": "411eb031",
   "metadata": {},
   "outputs": [
    {
     "name": "stdout",
     "output_type": "stream",
     "text": [
      "Best Score: 0.601616391742791\n",
      "Best Hyperparameters: {'metric': 'euclidean', 'n_neighbors': 10, 'p': 1, 'weights': 'distance'}\n"
     ]
    }
   ],
   "source": [
    "KNC(X3_train, y3_train)"
   ]
  },
  {
   "cell_type": "code",
   "execution_count": 69,
   "id": "91d8b868",
   "metadata": {},
   "outputs": [
    {
     "name": "stdout",
     "output_type": "stream",
     "text": [
      "acc=0.5845\n",
      "micro F1=0.5845, micro P=0.5845, micro R=0.5845\n",
      "macro F1=0.4408, macro P=0.4056, macro R=0.5612\n",
      "\n"
     ]
    }
   ],
   "source": [
    "clf = KNeighborsClassifier(metric='euclidean', n_neighbors=10, p=1, weights='distance').fit(X2_train, y2_train)\n",
    "predicted = clf.predict(X2_test)\n",
    "scoring2(predicted, y2_test)"
   ]
  },
  {
   "cell_type": "code",
   "execution_count": 70,
   "id": "ab8c3c2a",
   "metadata": {},
   "outputs": [
    {
     "name": "stdout",
     "output_type": "stream",
     "text": [
      "acc=0.6196\n",
      "micro F1=0.6196, micro P=0.6196, micro R=0.6196\n",
      "macro F1=0.4510, macro P=0.4204, macro R=0.5703\n",
      "\n"
     ]
    }
   ],
   "source": [
    "clf = KNeighborsClassifier(metric='manhattan', n_neighbors=9, p=1, weights='distance').fit(X3_train, y3_train)\n",
    "predicted = clf.predict(X3_test)\n",
    "scoring2(predicted, y3_test)"
   ]
  },
  {
   "cell_type": "code",
   "execution_count": null,
   "id": "f251c948",
   "metadata": {},
   "outputs": [],
   "source": []
  },
  {
   "cell_type": "markdown",
   "id": "fb409ce4",
   "metadata": {},
   "source": [
    "MultinomialNB"
   ]
  },
  {
   "cell_type": "code",
   "execution_count": 73,
   "id": "0c087187",
   "metadata": {},
   "outputs": [],
   "source": [
    "from sklearn.naive_bayes import MultinomialNB\n",
    "\n",
    "def MNB(x_train, y_train):\n",
    "    model = MultinomialNB()\n",
    "    cv = RepeatedKFold(n_splits=5, n_repeats=3, random_state=1)\n",
    "\n",
    "    space = dict()\n",
    "    space['class_prior'] = [None, 0, 1, 2]\n",
    "    space['alpha'] = [1e-5, 1e-4, 1e-3, 1e-2, 1e-1, 1, 10, 100]\n",
    "    space['fit_prior'] = [True, False]\n",
    "\n",
    "    search = GridSearchCV(model, space, scoring='f1_micro', n_jobs=-1, cv=cv)\n",
    "    result = search.fit(x_train, y_train)\n",
    "    print('Best Score: %s' % result.best_score_)\n",
    "    print('Best Hyperparameters: %s' % result.best_params_)"
   ]
  },
  {
   "cell_type": "code",
   "execution_count": 74,
   "id": "38dc242a",
   "metadata": {},
   "outputs": [
    {
     "name": "stdout",
     "output_type": "stream",
     "text": [
      "Best Score: 0.6166936113971099\n",
      "Best Hyperparameters: {'alpha': 0.1, 'class_prior': None, 'fit_prior': True}\n"
     ]
    }
   ],
   "source": [
    "MNB(X2_train, y2_train)"
   ]
  },
  {
   "cell_type": "code",
   "execution_count": 75,
   "id": "222eaef9",
   "metadata": {},
   "outputs": [
    {
     "name": "stdout",
     "output_type": "stream",
     "text": [
      "Best Score: 0.6177403667112096\n",
      "Best Hyperparameters: {'alpha': 1, 'class_prior': None, 'fit_prior': True}\n"
     ]
    }
   ],
   "source": [
    "MNB(X3_train, y3_train)"
   ]
  },
  {
   "cell_type": "code",
   "execution_count": 76,
   "id": "efddaff8",
   "metadata": {},
   "outputs": [
    {
     "name": "stdout",
     "output_type": "stream",
     "text": [
      "acc=0.6184\n",
      "micro F1=0.6184, micro P=0.6184, micro R=0.6184\n",
      "macro F1=0.4132, macro P=0.4056, macro R=0.4744\n",
      "\n"
     ]
    }
   ],
   "source": [
    "clf = MultinomialNB(alpha=0.1, class_prior=None, fit_prior=True).fit(X2_train, y2_train)\n",
    "predicted = clf.predict(X2_test)\n",
    "scoring2(predicted, y2_test)"
   ]
  },
  {
   "cell_type": "code",
   "execution_count": 77,
   "id": "a61d4194",
   "metadata": {},
   "outputs": [
    {
     "name": "stdout",
     "output_type": "stream",
     "text": [
      "acc=0.6192\n",
      "micro F1=0.6192, micro P=0.6192, micro R=0.6192\n",
      "macro F1=0.3903, macro P=0.3842, macro R=0.5189\n",
      "\n"
     ]
    }
   ],
   "source": [
    "clf = MultinomialNB(alpha=1, class_prior=None, fit_prior=True).fit(X3_train, y3_train)\n",
    "predicted = clf.predict(X3_test)\n",
    "scoring2(predicted, y3_test)"
   ]
  },
  {
   "cell_type": "code",
   "execution_count": 78,
   "id": "a9793ba7",
   "metadata": {},
   "outputs": [
    {
     "data": {
      "image/png": "[encoded data removed]",
      "text/plain": [
       "<Figure size 432x288 with 1 Axes>"
      ]
     },
     "metadata": {
      "needs_background": "light"
     },
     "output_type": "display_data"
    }
   ],
   "source": [
    "sns.heatmap(data=confusion_matrix(predicted, y3_test), annot=True, fmt=\"d\", cbar=False)\n",
    "plt.title(\"Confusion matrix\")\n",
    "plt.show()"
   ]
  },
  {
   "cell_type": "markdown",
   "id": "21cb1455",
   "metadata": {},
   "source": []
  },
  {
   "cell_type": "code",
   "execution_count": null,
   "id": "ff62e79f",
   "metadata": {},
   "outputs": [],
   "source": [
    "from sklearn.linear_model import LogisticRegression\n",
    "\n",
    "def LR(x_train, y_train):\n",
    "    model = LogisticRegression()\n",
    "    cv = RepeatedKFold(n_splits=5, n_repeats=3, random_state=1)\n",
    "\n",
    "    space = dict()\n",
    "    space['penalty'] = ['l1', 'l2', 'elasticnet', 'none']\n",
    "    space['dual'] = [True, False]\n",
    "    space['C'] = [1e-5, 1e-4, 1e-3, 1e-2, 1e-1, 1, 10, 100]\n",
    "    space['fit_intercept'] = [True, False]\n",
    "    space['solver'] = ['newton-cg', 'lbfgs', 'iblinear' 'sag', 'saga']\n",
    "    space['multi_class'] = ['auto', 'ovr', 'multinomial']\n",
    "    space['warm_start'] = [True, False]\n",
    "    space['l1_ratio'] = [1e-5, 1e-4, 1e-3, 1e-2, 1e-1, 1, 10, 100]\n",
    " \n",
    "    \n",
    "    search = GridSearchCV(model, space, scoring='f1_micro', n_jobs=-1, cv=cv)\n",
    "    result = search.fit(x_train, y_train)\n",
    "    print('Best Score: %s' % result.best_score_)\n",
    "    print('Best Hyperparameters: %s' % result.best_params_)"
   ]
  },
  {
   "cell_type": "code",
   "execution_count": null,
   "id": "a00229c9",
   "metadata": {},
   "outputs": [],
   "source": [
    "LR(X2_train, y2_train)"
   ]
  },
  {
   "cell_type": "code",
   "execution_count": null,
   "id": "02b0410f",
   "metadata": {},
   "outputs": [],
   "source": [
    "LR(X3_train, y3_train)"
   ]
  },
  {
   "cell_type": "code",
   "execution_count": null,
   "id": "13061cef",
   "metadata": {},
   "outputs": [],
   "source": []
  },
  {
   "cell_type": "markdown",
   "id": "e6f46615",
   "metadata": {},
   "source": [
    "# Новое"
   ]
  },
  {
   "cell_type": "code",
   "execution_count": null,
   "id": "a0249425",
   "metadata": {},
   "outputs": [],
   "source": [
    "from sklearn.feature_extraction.text import CountVectorizer, TfidfTransformer\n",
    "from sklearn.multiclass import OneVsRestClassifier\n",
    "from sklearn.svm import SVC\n",
    "from sklearn.svm import LinearSVC\n",
    "from sklearn.naive_bayes import BernoulliNB, MultinomialNB"
   ]
  },
  {
   "cell_type": "code",
   "execution_count": null,
   "id": "8097952c",
   "metadata": {},
   "outputs": [],
   "source": [
    "parameters = dict()\n",
    "parameters['vectorizer__ngram_range'] = [(1, 1), (1, 2), (2, 2), (2, 1)]\n",
    "parameters['tfidf__use_idf'] = (True, False)\n",
    "parameters['clf__estimator__alpha'] = [0.001, 0.01, 0.1, 1, 10, 100, 1000]\n",
    "parameters['fit_prior'] = (True, False)"
   ]
  },
  {
   "cell_type": "code",
   "execution_count": null,
   "id": "cdade037",
   "metadata": {},
   "outputs": [],
   "source": []
  },
  {
   "cell_type": "code",
   "execution_count": null,
   "id": "c7341e25",
   "metadata": {},
   "outputs": [],
   "source": []
  },
  {
   "cell_type": "code",
   "execution_count": null,
   "id": "3596c6cb",
   "metadata": {},
   "outputs": [],
   "source": []
  },
  {
   "cell_type": "code",
   "execution_count": null,
   "id": "6f0c3f14",
   "metadata": {},
   "outputs": [],
   "source": []
  },
  {
   "cell_type": "code",
   "execution_count": null,
   "id": "ca38f2a0",
   "metadata": {},
   "outputs": [],
   "source": []
  },
  {
   "cell_type": "code",
   "execution_count": null,
   "id": "92d66dd9",
   "metadata": {},
   "outputs": [],
   "source": []
  },
  {
   "cell_type": "code",
   "execution_count": null,
   "id": "bce320f4",
   "metadata": {},
   "outputs": [],
   "source": []
  },
  {
   "cell_type": "code",
   "execution_count": null,
   "id": "1012385d",
   "metadata": {},
   "outputs": [],
   "source": [
    "from sklearn.svm import LinearSVC\n",
    "from sklearn.linear_model import LogisticRegression\n",
    "from sklearn.ensemble import RandomForestClassifier\n",
    "from sklearn.neural_network import MLPClassifier\n",
    "from sklearn.model_selection import GridSearchCV\n",
    "from sklearn.model_selection import train_test_split"
   ]
  },
  {
   "cell_type": "code",
   "execution_count": null,
   "id": "0300176e",
   "metadata": {},
   "outputs": [],
   "source": []
  },
  {
   "cell_type": "code",
   "execution_count": null,
   "id": "1fa574b3",
   "metadata": {},
   "outputs": [],
   "source": []
  },
  {
   "cell_type": "code",
   "execution_count": null,
   "id": "eaf26a7a",
   "metadata": {},
   "outputs": [],
   "source": []
  },
  {
   "cell_type": "code",
   "execution_count": null,
   "id": "00bdac9f",
   "metadata": {},
   "outputs": [],
   "source": []
  },
  {
   "cell_type": "code",
   "execution_count": null,
   "id": "0c063469",
   "metadata": {},
   "outputs": [],
   "source": []
  },
  {
   "cell_type": "code",
   "execution_count": null,
   "id": "52053bf6",
   "metadata": {},
   "outputs": [],
   "source": []
  },
  {
   "cell_type": "code",
   "execution_count": null,
   "id": "8e9a7993",
   "metadata": {},
   "outputs": [],
   "source": []
  },
  {
   "cell_type": "code",
   "execution_count": null,
   "id": "fd255351",
   "metadata": {},
   "outputs": [],
   "source": []
  },
  {
   "cell_type": "code",
   "execution_count": null,
   "id": "3dee7311",
   "metadata": {},
   "outputs": [],
   "source": []
  },
  {
   "cell_type": "code",
   "execution_count": null,
   "id": "db177374",
   "metadata": {},
   "outputs": [],
   "source": []
  },
  {
   "cell_type": "code",
   "execution_count": null,
   "id": "fc42038a",
   "metadata": {},
   "outputs": [],
   "source": []
  },
  {
   "cell_type": "code",
   "execution_count": null,
   "id": "90e73ab6",
   "metadata": {},
   "outputs": [],
   "source": [
    "break"
   ]
  },
  {
   "cell_type": "code",
   "execution_count": null,
   "id": "254303b4",
   "metadata": {},
   "outputs": [],
   "source": [
    "vect = TfidfVectorizer()\n",
    "#X = vect.fit_transform(corpus)\n",
    "X_train, X_test, y_train, y_test = train_test_split(df['product_description'].values, list(df['price']), test_size=0.7, random_state=42)"
   ]
  },
  {
   "cell_type": "code",
   "execution_count": null,
   "id": "4c38bdac",
   "metadata": {},
   "outputs": [],
   "source": [
    "seed = 101\n",
    "def tokenizer(text):\n",
    "    if text:\n",
    "        result = re.findall('[a-z]{2,}', text.lower())\n",
    "    else:\n",
    "        result = []\n",
    "    return result"
   ]
  },
  {
   "cell_type": "code",
   "execution_count": null,
   "id": "72095c1c",
   "metadata": {},
   "outputs": [],
   "source": [
    "for ind, descr in tqdm(enumerate(df2['reviews'])):\n",
    "    try:\n",
    "        if detect(descr) != 'en':\n",
    "            df2 = df2.drop(ind)\n",
    "            print(detect(descr))\n",
    "            print([descr])\n",
    "    except: # может быть LangDetectException, но она не встает на место исключения как ошибка\n",
    "        pass\n",
    "df2 = df2.reset_index(drop=True)"
   ]
  },
  {
   "cell_type": "code",
   "execution_count": null,
   "id": "83ad0c5e",
   "metadata": {},
   "outputs": [],
   "source": [
    "vect = TfidfVectorizer()\n",
    "start = time.time()\n",
    "X_train_vect = vect.fit_transform(X_train)\n",
    "end = time.time()"
   ]
  },
  {
   "cell_type": "code",
   "execution_count": null,
   "id": "94b40630",
   "metadata": {},
   "outputs": [],
   "source": [
    "cv = RepeatedKFold(n_splits=5, n_repeats=3, random_state=1)"
   ]
  },
  {
   "cell_type": "code",
   "execution_count": null,
   "id": "b3217098",
   "metadata": {},
   "outputs": [],
   "source": [
    "model = SGDRegressor(loss='squared_epsilon_insensitive', penalty='l2', random_state=42, max_iter=30)\n",
    "params = {'penalty':['none','l2','l1'],\n",
    "          'alpha':[1e-4, 2e-4, 5e-4, 1e-3, 2e-3, 5e-3, 1e-2, 2e-2, 5e-2, 0.1]}\n",
    "gs = GridSearchCV(estimator=model,\n",
    "                  param_grid=params,\n",
    "                  scoring='explained_variance',\n",
    "                  n_jobs=-1,\n",
    "                  cv=cv,\n",
    "                  verbose=3)\n",
    "\n",
    "gs.fit(X_train_vect, y_train)\n",
    "\n",
    "model = gs.best_estimator_\n",
    "print(gs.best_params_)\n",
    "print(gs.best_score_)\n",
    "pipe = Pipeline([('vect',vect),('model',model)])\n",
    "y_pred = pipe.predict(X_test)\n",
    "scoring(y_test, y_pred)"
   ]
  },
  {
   "cell_type": "code",
   "execution_count": null,
   "id": "90034bdf",
   "metadata": {},
   "outputs": [],
   "source": []
  },
  {
   "cell_type": "code",
   "execution_count": null,
   "id": "096d3e7f",
   "metadata": {},
   "outputs": [],
   "source": []
  },
  {
   "cell_type": "code",
   "execution_count": null,
   "id": "689ef332",
   "metadata": {},
   "outputs": [],
   "source": []
  },
  {
   "cell_type": "code",
   "execution_count": null,
   "id": "735b94d7",
   "metadata": {},
   "outputs": [],
   "source": []
  },
  {
   "cell_type": "code",
   "execution_count": null,
   "id": "54ce1c82",
   "metadata": {},
   "outputs": [],
   "source": []
  },
  {
   "cell_type": "code",
   "execution_count": null,
   "id": "bcb75dd0",
   "metadata": {},
   "outputs": [],
   "source": []
  },
  {
   "cell_type": "code",
   "execution_count": null,
   "id": "a6e5767f",
   "metadata": {},
   "outputs": [],
   "source": []
  },
  {
   "cell_type": "code",
   "execution_count": null,
   "id": "0ceb2ed2",
   "metadata": {},
   "outputs": [],
   "source": []
  },
  {
   "cell_type": "code",
   "execution_count": null,
   "id": "98548014",
   "metadata": {},
   "outputs": [],
   "source": []
  },
  {
   "cell_type": "code",
   "execution_count": null,
   "id": "7525683b",
   "metadata": {},
   "outputs": [],
   "source": []
  },
  {
   "cell_type": "code",
   "execution_count": null,
   "id": "12f0ebbd",
   "metadata": {},
   "outputs": [],
   "source": []
  },
  {
   "cell_type": "code",
   "execution_count": null,
   "id": "9baf33fe",
   "metadata": {},
   "outputs": [],
   "source": []
  }
 ],
 "metadata": {
  "kernelspec": {
   "display_name": "Python 3",
   "language": "python",
   "name": "python3"
  },
  "language_info": {
   "codemirror_mode": {
    "name": "ipython",
    "version": 3
   },
   "file_extension": ".py",
   "mimetype": "text/x-python",
   "name": "python",
   "nbconvert_exporter": "python",
   "pygments_lexer": "ipython3",
   "version": "3.8.5"
  }
 },
 "nbformat": 4,
 "nbformat_minor": 5
}
