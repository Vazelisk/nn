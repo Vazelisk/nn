{
 "cells": [
  {
   "cell_type": "code",
   "execution_count": 1,
   "id": "54b28b2e",
   "metadata": {},
   "outputs": [
    {
     "data": {
      "text/html": [
       "        <script type=\"text/javascript\">\n",
       "        window.PlotlyConfig = {MathJaxConfig: 'local'};\n",
       "        if (window.MathJax) {MathJax.Hub.Config({SVG: {font: \"STIX-Web\"}});}\n",
       "        if (typeof require !== 'undefined') {\n",
       "        require.undef(\"plotly\");\n",
       "        requirejs.config({\n",
       "            paths: {\n",
       "                'plotly': ['https://cdn.plot.ly/plotly-2.4.2.min']\n",
       "            }\n",
       "        });\n",
       "        require(['plotly'], function(Plotly) {\n",
       "            window._Plotly = Plotly;\n",
       "        });\n",
       "        }\n",
       "        </script>\n",
       "        "
      ]
     },
     "metadata": {},
     "output_type": "display_data"
    }
   ],
   "source": [
    "import numpy as np\n",
    "import pandas as pd\n",
    "pd.set_option('max_columns', None)\n",
    "import matplotlib.pyplot as plt\n",
    "import seaborn\n",
    "import plotly.offline as py\n",
    "py.init_notebook_mode(connected=True)\n",
    "import plotly.graph_objs as go\n",
    "import plotly.tools as tls\n",
    "from langdetect import detect\n",
    "%matplotlib inline"
   ]
  },
  {
   "cell_type": "code",
   "execution_count": 2,
   "id": "303aeb9c",
   "metadata": {},
   "outputs": [],
   "source": [
    "df = pd.read_csv('Shoes_Data.csv')"
   ]
  },
  {
   "cell_type": "code",
   "execution_count": 3,
   "id": "65a41695",
   "metadata": {},
   "outputs": [
    {
     "data": {
      "text/html": [
       "<div>\n",
       "<style scoped>\n",
       "    .dataframe tbody tr th:only-of-type {\n",
       "        vertical-align: middle;\n",
       "    }\n",
       "\n",
       "    .dataframe tbody tr th {\n",
       "        vertical-align: top;\n",
       "    }\n",
       "\n",
       "    .dataframe thead th {\n",
       "        text-align: right;\n",
       "    }\n",
       "</style>\n",
       "<table border=\"1\" class=\"dataframe\">\n",
       "  <thead>\n",
       "    <tr style=\"text-align: right;\">\n",
       "      <th></th>\n",
       "      <th>title</th>\n",
       "      <th>price</th>\n",
       "      <th>rating</th>\n",
       "      <th>total_reviews</th>\n",
       "      <th>product_description</th>\n",
       "      <th>reviews</th>\n",
       "      <th>reviews_rating</th>\n",
       "      <th>Shoe Type</th>\n",
       "    </tr>\n",
       "  </thead>\n",
       "  <tbody>\n",
       "    <tr>\n",
       "      <th>0</th>\n",
       "      <td>CLYMB Outdoor Sports Running Shoes for Mens Boy</td>\n",
       "      <td>₹279.00</td>\n",
       "      <td>2.9 out of 5 stars</td>\n",
       "      <td>2389 ratings</td>\n",
       "      <td>Elevate your style with this classy pair of Ru...</td>\n",
       "      <td>Not happy with product|| It's not as expected....</td>\n",
       "      <td>1.0 out of 5 stars|| 1.0 out of 5 stars|| 3.0 ...</td>\n",
       "      <td>Men</td>\n",
       "    </tr>\n",
       "    <tr>\n",
       "      <th>1</th>\n",
       "      <td>Bourge Men's Loire-z126 Running Shoes</td>\n",
       "      <td>₹479.00</td>\n",
       "      <td>3.9 out of 5 stars</td>\n",
       "      <td>11520 ratings</td>\n",
       "      <td>The product will be an excellent pick for you....</td>\n",
       "      <td>Memory cushioning in these shoes is the best f...</td>\n",
       "      <td>5.0 out of 5 stars|| 1.0 out of 5 stars|| 5.0 ...</td>\n",
       "      <td>Men</td>\n",
       "    </tr>\n",
       "    <tr>\n",
       "      <th>2</th>\n",
       "      <td>T-Rock Men's Sneaker</td>\n",
       "      <td>₹430.00</td>\n",
       "      <td>3.3 out of 5 stars</td>\n",
       "      <td>1251 ratings</td>\n",
       "      <td>Flaunt with these stylish and unique red casua...</td>\n",
       "      <td>Worth to its amount|| Go for it|| Perfect|| 5 ...</td>\n",
       "      <td>5.0 out of 5 stars|| 5.0 out of 5 stars|| 5.0 ...</td>\n",
       "      <td>Men</td>\n",
       "    </tr>\n",
       "    <tr>\n",
       "      <th>3</th>\n",
       "      <td>Robbie jones Sneakers Casual Canvas Fabric Col...</td>\n",
       "      <td>₹499.00</td>\n",
       "      <td>4.2 out of 5 stars</td>\n",
       "      <td>3 ratings</td>\n",
       "      <td>Robbie Jones Shoes Are Designed To Keeping In ...</td>\n",
       "      <td>Sup quality|| Good but not expected|| Awesome 👌.!</td>\n",
       "      <td>5.0 out of 5 stars|| 3.0 out of 5 stars|| 5.0 ...</td>\n",
       "      <td>Men</td>\n",
       "    </tr>\n",
       "    <tr>\n",
       "      <th>4</th>\n",
       "      <td>Sparx Men's Sd0323g Sneakers</td>\n",
       "      <td>₹499.00</td>\n",
       "      <td>4.2 out of 5 stars</td>\n",
       "      <td>20110 ratings</td>\n",
       "      <td>Sparx is a spectacular range of footwear from ...</td>\n",
       "      <td>Best|| Satisfied!|| Affordable beauty 😘😘😘😘 the...</td>\n",
       "      <td>5.0 out of 5 stars|| 5.0 out of 5 stars|| 5.0 ...</td>\n",
       "      <td>Men</td>\n",
       "    </tr>\n",
       "    <tr>\n",
       "      <th>...</th>\n",
       "      <td>...</td>\n",
       "      <td>...</td>\n",
       "      <td>...</td>\n",
       "      <td>...</td>\n",
       "      <td>...</td>\n",
       "      <td>...</td>\n",
       "      <td>...</td>\n",
       "      <td>...</td>\n",
       "    </tr>\n",
       "    <tr>\n",
       "      <th>1225</th>\n",
       "      <td>Nike Men's React Vision Running Shoes</td>\n",
       "      <td>₹7256.00</td>\n",
       "      <td>4.4 out of 5 stars</td>\n",
       "      <td>200 ratings</td>\n",
       "      <td>The Nike react vision is a STORY of surreal co...</td>\n",
       "      <td>Must buy|| not have a great fiting but great q...</td>\n",
       "      <td>5.0 out of 5 stars|| 3.0 out of 5 stars|| 5.0 ...</td>\n",
       "      <td>Women</td>\n",
       "    </tr>\n",
       "    <tr>\n",
       "      <th>1226</th>\n",
       "      <td>Puma Men's B.O.G Limitless Hi Evoknit Sneakers</td>\n",
       "      <td>₹5822.00</td>\n",
       "      <td>4.3 out of 5 stars</td>\n",
       "      <td>25 ratings</td>\n",
       "      <td>The B.O.G limitless is Puma's key style for th...</td>\n",
       "      <td>Worth buying !|| Classy Bold and Stylish !!|| ...</td>\n",
       "      <td>4.0 out of 5 stars|| 5.0 out of 5 stars|| 3.0 ...</td>\n",
       "      <td>Women</td>\n",
       "    </tr>\n",
       "    <tr>\n",
       "      <th>1227</th>\n",
       "      <td>new balance Women's FuelCell Echolucent Runnin...</td>\n",
       "      <td>₹5362.00</td>\n",
       "      <td>4.5 out of 5 stars</td>\n",
       "      <td>817 ratings</td>\n",
       "      <td>Lead the pack in New Balance’s Echolucent snea...</td>\n",
       "      <td>size variation in product recd n size chart|| ...</td>\n",
       "      <td>5.0 out of 5 stars|| 5.0 out of 5 stars|| 5.0 ...</td>\n",
       "      <td>Women</td>\n",
       "    </tr>\n",
       "    <tr>\n",
       "      <th>1228</th>\n",
       "      <td>Nike Women's WMNS Air Zoom Pegasus 37 Running ...</td>\n",
       "      <td>₹7480.00</td>\n",
       "      <td>4.5 out of 5 stars</td>\n",
       "      <td>67 ratings</td>\n",
       "      <td>Nike మహిళల రన్నింగ్ షూ ఫీల్స్ మరియు రూపం మృదువ...</td>\n",
       "      <td>Verified Purchase|| Verified Purchase|| Verifi...</td>\n",
       "      <td>5.0 out of 5 stars|| 5.0 out of 5 stars|| 4.0 ...</td>\n",
       "      <td>Women</td>\n",
       "    </tr>\n",
       "    <tr>\n",
       "      <th>1229</th>\n",
       "      <td>ASICS Women Gt-2000 7 Lite-Show Running Shoes</td>\n",
       "      <td>₹5719.00</td>\n",
       "      <td>4.1 out of 5 stars</td>\n",
       "      <td>210 ratings</td>\n",
       "      <td>The GT-2000 7 achieves a reassuringly firm rid...</td>\n",
       "      <td>Great shoe|| excellent quality|| Old manufactu...</td>\n",
       "      <td>5.0 out of 5 stars|| 5.0 out of 5 stars|| 3.0 ...</td>\n",
       "      <td>Women</td>\n",
       "    </tr>\n",
       "  </tbody>\n",
       "</table>\n",
       "<p>1230 rows × 8 columns</p>\n",
       "</div>"
      ],
      "text/plain": [
       "                                                  title     price  \\\n",
       "0       CLYMB Outdoor Sports Running Shoes for Mens Boy   ₹279.00   \n",
       "1                 Bourge Men's Loire-z126 Running Shoes   ₹479.00   \n",
       "2                                  T-Rock Men's Sneaker   ₹430.00   \n",
       "3     Robbie jones Sneakers Casual Canvas Fabric Col...   ₹499.00   \n",
       "4                          Sparx Men's Sd0323g Sneakers   ₹499.00   \n",
       "...                                                 ...       ...   \n",
       "1225              Nike Men's React Vision Running Shoes  ₹7256.00   \n",
       "1226     Puma Men's B.O.G Limitless Hi Evoknit Sneakers  ₹5822.00   \n",
       "1227  new balance Women's FuelCell Echolucent Runnin...  ₹5362.00   \n",
       "1228  Nike Women's WMNS Air Zoom Pegasus 37 Running ...  ₹7480.00   \n",
       "1229      ASICS Women Gt-2000 7 Lite-Show Running Shoes  ₹5719.00   \n",
       "\n",
       "                  rating  total_reviews  \\\n",
       "0     2.9 out of 5 stars   2389 ratings   \n",
       "1     3.9 out of 5 stars  11520 ratings   \n",
       "2     3.3 out of 5 stars   1251 ratings   \n",
       "3     4.2 out of 5 stars      3 ratings   \n",
       "4     4.2 out of 5 stars  20110 ratings   \n",
       "...                  ...            ...   \n",
       "1225  4.4 out of 5 stars    200 ratings   \n",
       "1226  4.3 out of 5 stars     25 ratings   \n",
       "1227  4.5 out of 5 stars    817 ratings   \n",
       "1228  4.5 out of 5 stars     67 ratings   \n",
       "1229  4.1 out of 5 stars    210 ratings   \n",
       "\n",
       "                                    product_description  \\\n",
       "0     Elevate your style with this classy pair of Ru...   \n",
       "1     The product will be an excellent pick for you....   \n",
       "2     Flaunt with these stylish and unique red casua...   \n",
       "3     Robbie Jones Shoes Are Designed To Keeping In ...   \n",
       "4     Sparx is a spectacular range of footwear from ...   \n",
       "...                                                 ...   \n",
       "1225  The Nike react vision is a STORY of surreal co...   \n",
       "1226  The B.O.G limitless is Puma's key style for th...   \n",
       "1227  Lead the pack in New Balance’s Echolucent snea...   \n",
       "1228  Nike మహిళల రన్నింగ్ షూ ఫీల్స్ మరియు రూపం మృదువ...   \n",
       "1229  The GT-2000 7 achieves a reassuringly firm rid...   \n",
       "\n",
       "                                                reviews  \\\n",
       "0     Not happy with product|| It's not as expected....   \n",
       "1     Memory cushioning in these shoes is the best f...   \n",
       "2     Worth to its amount|| Go for it|| Perfect|| 5 ...   \n",
       "3     Sup quality|| Good but not expected|| Awesome 👌.!   \n",
       "4     Best|| Satisfied!|| Affordable beauty 😘😘😘😘 the...   \n",
       "...                                                 ...   \n",
       "1225  Must buy|| not have a great fiting but great q...   \n",
       "1226  Worth buying !|| Classy Bold and Stylish !!|| ...   \n",
       "1227  size variation in product recd n size chart|| ...   \n",
       "1228  Verified Purchase|| Verified Purchase|| Verifi...   \n",
       "1229  Great shoe|| excellent quality|| Old manufactu...   \n",
       "\n",
       "                                         reviews_rating Shoe Type  \n",
       "0     1.0 out of 5 stars|| 1.0 out of 5 stars|| 3.0 ...       Men  \n",
       "1     5.0 out of 5 stars|| 1.0 out of 5 stars|| 5.0 ...       Men  \n",
       "2     5.0 out of 5 stars|| 5.0 out of 5 stars|| 5.0 ...       Men  \n",
       "3     5.0 out of 5 stars|| 3.0 out of 5 stars|| 5.0 ...       Men  \n",
       "4     5.0 out of 5 stars|| 5.0 out of 5 stars|| 5.0 ...       Men  \n",
       "...                                                 ...       ...  \n",
       "1225  5.0 out of 5 stars|| 3.0 out of 5 stars|| 5.0 ...     Women  \n",
       "1226  4.0 out of 5 stars|| 5.0 out of 5 stars|| 3.0 ...     Women  \n",
       "1227  5.0 out of 5 stars|| 5.0 out of 5 stars|| 5.0 ...     Women  \n",
       "1228  5.0 out of 5 stars|| 5.0 out of 5 stars|| 4.0 ...     Women  \n",
       "1229  5.0 out of 5 stars|| 5.0 out of 5 stars|| 3.0 ...     Women  \n",
       "\n",
       "[1230 rows x 8 columns]"
      ]
     },
     "execution_count": 3,
     "metadata": {},
     "output_type": "execute_result"
    }
   ],
   "source": [
    "df"
   ]
  },
  {
   "cell_type": "markdown",
   "id": "8c23f7e8",
   "metadata": {},
   "source": [
    "Преобразую числовые столбики в числа (откидываю кое-где части, т.к. они нули везде)"
   ]
  },
  {
   "cell_type": "code",
   "execution_count": null,
   "id": "58e23bda",
   "metadata": {},
   "outputs": [],
   "source": [
    "df['rating'] = [float(row.split()[0]) for row in df['rating']]\n",
    "\n",
    "for ind, row in enumerate(df['reviews_rating']):\n",
    "    splitted_row = row.split('|| ')\n",
    "    score = []\n",
    "    for review in splitted_row:\n",
    "        review = int(review[0:1])\n",
    "        score.append(review)\n",
    "    df['reviews_rating'][ind] = score"
   ]
  },
  {
   "cell_type": "code",
   "execution_count": 5,
   "id": "ba2530c2",
   "metadata": {},
   "outputs": [],
   "source": [
    "df['price'] = [float(row[1:].split('.')[0]) for row in df['price']]"
   ]
  },
  {
   "cell_type": "markdown",
   "id": "d109bf9d",
   "metadata": {},
   "source": [
    "А также разобью отзывы на один продукт на отдельные отзывы"
   ]
  },
  {
   "cell_type": "code",
   "execution_count": null,
   "id": "ffb0f640",
   "metadata": {},
   "outputs": [],
   "source": [
    "for ind, row in enumerate(df['reviews']):\n",
    "    splitted_row = row.split('|| ')\n",
    "    score = []\n",
    "    for review in splitted_row:\n",
    "        score.append(review)\n",
    "    df['reviews'][ind] = score"
   ]
  },
  {
   "cell_type": "code",
   "execution_count": 7,
   "id": "a9afdcda",
   "metadata": {},
   "outputs": [
    {
     "data": {
      "text/html": [
       "<div>\n",
       "<style scoped>\n",
       "    .dataframe tbody tr th:only-of-type {\n",
       "        vertical-align: middle;\n",
       "    }\n",
       "\n",
       "    .dataframe tbody tr th {\n",
       "        vertical-align: top;\n",
       "    }\n",
       "\n",
       "    .dataframe thead th {\n",
       "        text-align: right;\n",
       "    }\n",
       "</style>\n",
       "<table border=\"1\" class=\"dataframe\">\n",
       "  <thead>\n",
       "    <tr style=\"text-align: right;\">\n",
       "      <th></th>\n",
       "      <th>title</th>\n",
       "      <th>price</th>\n",
       "      <th>rating</th>\n",
       "      <th>total_reviews</th>\n",
       "      <th>product_description</th>\n",
       "      <th>reviews</th>\n",
       "      <th>reviews_rating</th>\n",
       "      <th>Shoe Type</th>\n",
       "    </tr>\n",
       "  </thead>\n",
       "  <tbody>\n",
       "    <tr>\n",
       "      <th>0</th>\n",
       "      <td>CLYMB Outdoor Sports Running Shoes for Mens Boy</td>\n",
       "      <td>279.0</td>\n",
       "      <td>2.9</td>\n",
       "      <td>2389 ratings</td>\n",
       "      <td>Elevate your style with this classy pair of Ru...</td>\n",
       "      <td>[Not happy with product, It's not as expected....</td>\n",
       "      <td>[1, 1, 3, 3, 3, 2, 1, 2, 1, 1]</td>\n",
       "      <td>Men</td>\n",
       "    </tr>\n",
       "    <tr>\n",
       "      <th>1</th>\n",
       "      <td>Bourge Men's Loire-z126 Running Shoes</td>\n",
       "      <td>479.0</td>\n",
       "      <td>3.9</td>\n",
       "      <td>11520 ratings</td>\n",
       "      <td>The product will be an excellent pick for you....</td>\n",
       "      <td>[Memory cushioning in these shoes is the best ...</td>\n",
       "      <td>[5, 1, 5, 5, 4, 5, 5, 5, 4, 5]</td>\n",
       "      <td>Men</td>\n",
       "    </tr>\n",
       "    <tr>\n",
       "      <th>2</th>\n",
       "      <td>T-Rock Men's Sneaker</td>\n",
       "      <td>430.0</td>\n",
       "      <td>3.3</td>\n",
       "      <td>1251 ratings</td>\n",
       "      <td>Flaunt with these stylish and unique red casua...</td>\n",
       "      <td>[Worth to its amount, Go for it, Perfect, 5 st...</td>\n",
       "      <td>[5, 5, 5, 5, 1, 1, 5, 4, 1, 1]</td>\n",
       "      <td>Men</td>\n",
       "    </tr>\n",
       "    <tr>\n",
       "      <th>3</th>\n",
       "      <td>Robbie jones Sneakers Casual Canvas Fabric Col...</td>\n",
       "      <td>499.0</td>\n",
       "      <td>4.2</td>\n",
       "      <td>3 ratings</td>\n",
       "      <td>Robbie Jones Shoes Are Designed To Keeping In ...</td>\n",
       "      <td>[Sup quality, Good but not expected, Awesome 👌.!]</td>\n",
       "      <td>[5, 3, 5]</td>\n",
       "      <td>Men</td>\n",
       "    </tr>\n",
       "    <tr>\n",
       "      <th>4</th>\n",
       "      <td>Sparx Men's Sd0323g Sneakers</td>\n",
       "      <td>499.0</td>\n",
       "      <td>4.2</td>\n",
       "      <td>20110 ratings</td>\n",
       "      <td>Sparx is a spectacular range of footwear from ...</td>\n",
       "      <td>[Best, Satisfied!, Affordable beauty 😘😘😘😘 the ...</td>\n",
       "      <td>[5, 5, 5, 5, 5, 5, 1, 3, 2, 5]</td>\n",
       "      <td>Men</td>\n",
       "    </tr>\n",
       "    <tr>\n",
       "      <th>...</th>\n",
       "      <td>...</td>\n",
       "      <td>...</td>\n",
       "      <td>...</td>\n",
       "      <td>...</td>\n",
       "      <td>...</td>\n",
       "      <td>...</td>\n",
       "      <td>...</td>\n",
       "      <td>...</td>\n",
       "    </tr>\n",
       "    <tr>\n",
       "      <th>1225</th>\n",
       "      <td>Nike Men's React Vision Running Shoes</td>\n",
       "      <td>7256.0</td>\n",
       "      <td>4.4</td>\n",
       "      <td>200 ratings</td>\n",
       "      <td>The Nike react vision is a STORY of surreal co...</td>\n",
       "      <td>[Must buy, not have a great fiting but great q...</td>\n",
       "      <td>[5, 3, 5, 5, 5, 5, 5, 2, 4, 5]</td>\n",
       "      <td>Women</td>\n",
       "    </tr>\n",
       "    <tr>\n",
       "      <th>1226</th>\n",
       "      <td>Puma Men's B.O.G Limitless Hi Evoknit Sneakers</td>\n",
       "      <td>5822.0</td>\n",
       "      <td>4.3</td>\n",
       "      <td>25 ratings</td>\n",
       "      <td>The B.O.G limitless is Puma's key style for th...</td>\n",
       "      <td>[Worth buying !, Classy Bold and Stylish !!, N...</td>\n",
       "      <td>[4, 5, 3, 5, 5, 5, 5, 5, 5, 5]</td>\n",
       "      <td>Women</td>\n",
       "    </tr>\n",
       "    <tr>\n",
       "      <th>1227</th>\n",
       "      <td>new balance Women's FuelCell Echolucent Runnin...</td>\n",
       "      <td>5362.0</td>\n",
       "      <td>4.5</td>\n",
       "      <td>817 ratings</td>\n",
       "      <td>Lead the pack in New Balance’s Echolucent snea...</td>\n",
       "      <td>[size variation in product recd n size chart, ...</td>\n",
       "      <td>[5, 5, 5, 5, 1, 5, 3, 2, 5, 5]</td>\n",
       "      <td>Women</td>\n",
       "    </tr>\n",
       "    <tr>\n",
       "      <th>1228</th>\n",
       "      <td>Nike Women's WMNS Air Zoom Pegasus 37 Running ...</td>\n",
       "      <td>7480.0</td>\n",
       "      <td>4.5</td>\n",
       "      <td>67 ratings</td>\n",
       "      <td>Nike మహిళల రన్నింగ్ షూ ఫీల్స్ మరియు రూపం మృదువ...</td>\n",
       "      <td>[Verified Purchase, Verified Purchase, Verifie...</td>\n",
       "      <td>[5, 5, 4, 5, 5, 5, 5, 3, 5, 1]</td>\n",
       "      <td>Women</td>\n",
       "    </tr>\n",
       "    <tr>\n",
       "      <th>1229</th>\n",
       "      <td>ASICS Women Gt-2000 7 Lite-Show Running Shoes</td>\n",
       "      <td>5719.0</td>\n",
       "      <td>4.1</td>\n",
       "      <td>210 ratings</td>\n",
       "      <td>The GT-2000 7 achieves a reassuringly firm rid...</td>\n",
       "      <td>[Great shoe, excellent quality, Old manufactur...</td>\n",
       "      <td>[5, 5, 3, 5, 1, 5, 5, 5, 5, 5]</td>\n",
       "      <td>Women</td>\n",
       "    </tr>\n",
       "  </tbody>\n",
       "</table>\n",
       "<p>1230 rows × 8 columns</p>\n",
       "</div>"
      ],
      "text/plain": [
       "                                                  title   price  rating  \\\n",
       "0       CLYMB Outdoor Sports Running Shoes for Mens Boy   279.0     2.9   \n",
       "1                 Bourge Men's Loire-z126 Running Shoes   479.0     3.9   \n",
       "2                                  T-Rock Men's Sneaker   430.0     3.3   \n",
       "3     Robbie jones Sneakers Casual Canvas Fabric Col...   499.0     4.2   \n",
       "4                          Sparx Men's Sd0323g Sneakers   499.0     4.2   \n",
       "...                                                 ...     ...     ...   \n",
       "1225              Nike Men's React Vision Running Shoes  7256.0     4.4   \n",
       "1226     Puma Men's B.O.G Limitless Hi Evoknit Sneakers  5822.0     4.3   \n",
       "1227  new balance Women's FuelCell Echolucent Runnin...  5362.0     4.5   \n",
       "1228  Nike Women's WMNS Air Zoom Pegasus 37 Running ...  7480.0     4.5   \n",
       "1229      ASICS Women Gt-2000 7 Lite-Show Running Shoes  5719.0     4.1   \n",
       "\n",
       "      total_reviews                                product_description  \\\n",
       "0      2389 ratings  Elevate your style with this classy pair of Ru...   \n",
       "1     11520 ratings  The product will be an excellent pick for you....   \n",
       "2      1251 ratings  Flaunt with these stylish and unique red casua...   \n",
       "3         3 ratings  Robbie Jones Shoes Are Designed To Keeping In ...   \n",
       "4     20110 ratings  Sparx is a spectacular range of footwear from ...   \n",
       "...             ...                                                ...   \n",
       "1225    200 ratings  The Nike react vision is a STORY of surreal co...   \n",
       "1226     25 ratings  The B.O.G limitless is Puma's key style for th...   \n",
       "1227    817 ratings  Lead the pack in New Balance’s Echolucent snea...   \n",
       "1228     67 ratings  Nike మహిళల రన్నింగ్ షూ ఫీల్స్ మరియు రూపం మృదువ...   \n",
       "1229    210 ratings  The GT-2000 7 achieves a reassuringly firm rid...   \n",
       "\n",
       "                                                reviews  \\\n",
       "0     [Not happy with product, It's not as expected....   \n",
       "1     [Memory cushioning in these shoes is the best ...   \n",
       "2     [Worth to its amount, Go for it, Perfect, 5 st...   \n",
       "3     [Sup quality, Good but not expected, Awesome 👌.!]   \n",
       "4     [Best, Satisfied!, Affordable beauty 😘😘😘😘 the ...   \n",
       "...                                                 ...   \n",
       "1225  [Must buy, not have a great fiting but great q...   \n",
       "1226  [Worth buying !, Classy Bold and Stylish !!, N...   \n",
       "1227  [size variation in product recd n size chart, ...   \n",
       "1228  [Verified Purchase, Verified Purchase, Verifie...   \n",
       "1229  [Great shoe, excellent quality, Old manufactur...   \n",
       "\n",
       "                      reviews_rating Shoe Type  \n",
       "0     [1, 1, 3, 3, 3, 2, 1, 2, 1, 1]       Men  \n",
       "1     [5, 1, 5, 5, 4, 5, 5, 5, 4, 5]       Men  \n",
       "2     [5, 5, 5, 5, 1, 1, 5, 4, 1, 1]       Men  \n",
       "3                          [5, 3, 5]       Men  \n",
       "4     [5, 5, 5, 5, 5, 5, 1, 3, 2, 5]       Men  \n",
       "...                              ...       ...  \n",
       "1225  [5, 3, 5, 5, 5, 5, 5, 2, 4, 5]     Women  \n",
       "1226  [4, 5, 3, 5, 5, 5, 5, 5, 5, 5]     Women  \n",
       "1227  [5, 5, 5, 5, 1, 5, 3, 2, 5, 5]     Women  \n",
       "1228  [5, 5, 4, 5, 5, 5, 5, 3, 5, 1]     Women  \n",
       "1229  [5, 5, 3, 5, 1, 5, 5, 5, 5, 5]     Women  \n",
       "\n",
       "[1230 rows x 8 columns]"
      ]
     },
     "execution_count": 7,
     "metadata": {},
     "output_type": "execute_result"
    }
   ],
   "source": [
    "df"
   ]
  },
  {
   "cell_type": "code",
   "execution_count": 8,
   "id": "d19ec8d5",
   "metadata": {},
   "outputs": [],
   "source": [
    "df = df.drop(['total_reviews'], axis=1)\n",
    "df = df.drop(['Shoe Type'], axis=1)"
   ]
  },
  {
   "cell_type": "markdown",
   "id": "37460dc2",
   "metadata": {},
   "source": [
    "Сразу уберу неанлийский язык, потому что размер дф не оч большой, так что лангдетек простой и удобный способ"
   ]
  },
  {
   "cell_type": "code",
   "execution_count": 9,
   "id": "a9ad786d",
   "metadata": {},
   "outputs": [],
   "source": [
    "for ind, descr in enumerate(df['product_description']):\n",
    "    try:\n",
    "        if detect(descr) != 'en':\n",
    "            df = df.drop(ind)\n",
    "    except: # может быть LangDetectException, но она не встает на место исключения как ошибка\n",
    "        pass\n",
    "df = df.reset_index(drop=True)"
   ]
  },
  {
   "cell_type": "markdown",
   "id": "c035fcea",
   "metadata": {},
   "source": [
    "Средний рейтинг тяготеет к 4, цена к 2000"
   ]
  },
  {
   "cell_type": "code",
   "execution_count": 10,
   "id": "059ba8e6",
   "metadata": {},
   "outputs": [
    {
     "data": {
      "text/html": [
       "<div>\n",
       "<style scoped>\n",
       "    .dataframe tbody tr th:only-of-type {\n",
       "        vertical-align: middle;\n",
       "    }\n",
       "\n",
       "    .dataframe tbody tr th {\n",
       "        vertical-align: top;\n",
       "    }\n",
       "\n",
       "    .dataframe thead th {\n",
       "        text-align: right;\n",
       "    }\n",
       "</style>\n",
       "<table border=\"1\" class=\"dataframe\">\n",
       "  <thead>\n",
       "    <tr style=\"text-align: right;\">\n",
       "      <th></th>\n",
       "      <th>price</th>\n",
       "      <th>rating</th>\n",
       "    </tr>\n",
       "  </thead>\n",
       "  <tbody>\n",
       "    <tr>\n",
       "      <th>count</th>\n",
       "      <td>1177.000000</td>\n",
       "      <td>1177.000000</td>\n",
       "    </tr>\n",
       "    <tr>\n",
       "      <th>mean</th>\n",
       "      <td>1964.823280</td>\n",
       "      <td>3.955310</td>\n",
       "    </tr>\n",
       "    <tr>\n",
       "      <th>std</th>\n",
       "      <td>1681.285015</td>\n",
       "      <td>0.460377</td>\n",
       "    </tr>\n",
       "    <tr>\n",
       "      <th>min</th>\n",
       "      <td>127.000000</td>\n",
       "      <td>1.000000</td>\n",
       "    </tr>\n",
       "    <tr>\n",
       "      <th>25%</th>\n",
       "      <td>608.000000</td>\n",
       "      <td>3.800000</td>\n",
       "    </tr>\n",
       "    <tr>\n",
       "      <th>50%</th>\n",
       "      <td>1509.000000</td>\n",
       "      <td>4.000000</td>\n",
       "    </tr>\n",
       "    <tr>\n",
       "      <th>75%</th>\n",
       "      <td>2748.000000</td>\n",
       "      <td>4.200000</td>\n",
       "    </tr>\n",
       "    <tr>\n",
       "      <th>max</th>\n",
       "      <td>7992.000000</td>\n",
       "      <td>5.000000</td>\n",
       "    </tr>\n",
       "  </tbody>\n",
       "</table>\n",
       "</div>"
      ],
      "text/plain": [
       "             price       rating\n",
       "count  1177.000000  1177.000000\n",
       "mean   1964.823280     3.955310\n",
       "std    1681.285015     0.460377\n",
       "min     127.000000     1.000000\n",
       "25%     608.000000     3.800000\n",
       "50%    1509.000000     4.000000\n",
       "75%    2748.000000     4.200000\n",
       "max    7992.000000     5.000000"
      ]
     },
     "execution_count": 10,
     "metadata": {},
     "output_type": "execute_result"
    }
   ],
   "source": [
    "df.describe()"
   ]
  },
  {
   "cell_type": "markdown",
   "id": "e95b318b",
   "metadata": {},
   "source": [
    "У цен есть заметные выбросы в высоком ценовом сегменте. Предполагаю, что для модели это создат трудности"
   ]
  },
  {
   "cell_type": "code",
   "execution_count": 13,
   "id": "de166ef8",
   "metadata": {},
   "outputs": [
    {
     "data": {
      "text/plain": [
       "<AxesSubplot:>"
      ]
     },
     "execution_count": 13,
     "metadata": {},
     "output_type": "execute_result"
    },
    {
     "data": {
      "image/png": "[encoded data removed]",
      "text/plain": [
       "<Figure size 432x288 with 1 Axes>"
      ]
     },
     "metadata": {
      "needs_background": "light"
     },
     "output_type": "display_data"
    }
   ],
   "source": [
    "import seaborn as sns\n",
    "\n",
    "sns.boxplot(data=df[['price']])"
   ]
  },
  {
   "cell_type": "markdown",
   "id": "e1f0810b",
   "metadata": {},
   "source": [
    "Рейтинги сосредоточены в 3-5 баллах, с выбросами в 1"
   ]
  },
  {
   "cell_type": "code",
   "execution_count": 14,
   "id": "3c362998",
   "metadata": {},
   "outputs": [
    {
     "data": {
      "image/png": "[encoded data removed]",
      "text/plain": [
       "<Figure size 432x288 with 1 Axes>"
      ]
     },
     "metadata": {
      "needs_background": "light"
     },
     "output_type": "display_data"
    }
   ],
   "source": [
    "ax = sns.boxplot(data=df[['rating']])"
   ]
  },
  {
   "cell_type": "markdown",
   "id": "c2868b3c",
   "metadata": {},
   "source": [
    "Я бы не назвал распределение оценок нормальным, но ничего критичного."
   ]
  },
  {
   "cell_type": "code",
   "execution_count": 15,
   "id": "cf74e087",
   "metadata": {},
   "outputs": [
    {
     "data": {
      "text/plain": [
       "<AxesSubplot:>"
      ]
     },
     "execution_count": 15,
     "metadata": {},
     "output_type": "execute_result"
    },
    {
     "data": {
      "image/png": "[encoded data removed]",
      "text/plain": [
       "<Figure size 432x288 with 1 Axes>"
      ]
     },
     "metadata": {
      "needs_background": "light"
     },
     "output_type": "display_data"
    }
   ],
   "source": [
    "df['rating'].value_counts().sort_index().plot.bar()"
   ]
  },
  {
   "cell_type": "markdown",
   "id": "9a79bcdb",
   "metadata": {},
   "source": [
    "А вот распределение цен сосредоточено в диапозоне 100-1000 евро.<br>\n",
    "Могу предположить, что для дорогих товаров будут какие-то специальные слова.<br>\n",
    "Или наоборот, дорогие товары не смогут предсказываться."
   ]
  },
  {
   "cell_type": "code",
   "execution_count": 16,
   "id": "5a181669",
   "metadata": {},
   "outputs": [
    {
     "data": {
      "text/plain": [
       "<AxesSubplot:>"
      ]
     },
     "execution_count": 16,
     "metadata": {},
     "output_type": "execute_result"
    },
    {
     "data": {
      "image/png": "[encoded data removed]",
      "text/plain": [
       "<Figure size 432x288 with 1 Axes>"
      ]
     },
     "metadata": {
      "needs_background": "light"
     },
     "output_type": "display_data"
    }
   ],
   "source": [
    "df['price'].value_counts().sort_index().plot()"
   ]
  },
  {
   "cell_type": "markdown",
   "id": "f3db8cd4",
   "metadata": {},
   "source": [
    "Длина описания ожидаема похожа на другие графики.<p>"
   ]
  },
  {
   "cell_type": "code",
   "execution_count": 17,
   "id": "a326a15e",
   "metadata": {},
   "outputs": [],
   "source": [
    "df['product_description_len'] = [len(descr) for descr in df['product_description']]"
   ]
  },
  {
   "cell_type": "code",
   "execution_count": 18,
   "id": "5a7b4c71",
   "metadata": {},
   "outputs": [
    {
     "data": {
      "text/plain": [
       "<AxesSubplot:>"
      ]
     },
     "execution_count": 18,
     "metadata": {},
     "output_type": "execute_result"
    },
    {
     "data": {
      "image/png": "[encoded data removed]",
      "text/plain": [
       "<Figure size 432x288 with 1 Axes>"
      ]
     },
     "metadata": {
      "needs_background": "light"
     },
     "output_type": "display_data"
    }
   ],
   "source": [
    "df['product_description_len'].value_counts().sort_index().plot()"
   ]
  },
  {
   "cell_type": "markdown",
   "id": "749de9cd",
   "metadata": {},
   "source": [
    "Длина отзывов обычно короткая, но с выбросами по несколько тысяч знаков"
   ]
  },
  {
   "cell_type": "code",
   "execution_count": 19,
   "id": "398cf062",
   "metadata": {},
   "outputs": [
    {
     "data": {
      "image/png": "[encoded data removed]",
      "text/plain": [
       "<Figure size 432x288 with 1 Axes>"
      ]
     },
     "metadata": {
      "needs_background": "light"
     },
     "output_type": "display_data"
    }
   ],
   "source": [
    "ax = sns.boxplot(data=df[['product_description_len']])"
   ]
  },
  {
   "cell_type": "markdown",
   "id": "20f92329",
   "metadata": {},
   "source": [
    "Корреляции довольно интересные (но они очень слабые!).<p>\n",
    "Чем больше цена, тем больше рейтинг.<p>\n",
    "Чем больше отзывов, тем меньше цена (массовость продукта)<p>\n",
    "Но чем больше пишут про продукт (в длине), тем он дороже."
   ]
  },
  {
   "cell_type": "code",
   "execution_count": 20,
   "id": "7e0f8561",
   "metadata": {},
   "outputs": [
    {
     "data": {
      "text/html": [
       "<div>\n",
       "<style scoped>\n",
       "    .dataframe tbody tr th:only-of-type {\n",
       "        vertical-align: middle;\n",
       "    }\n",
       "\n",
       "    .dataframe tbody tr th {\n",
       "        vertical-align: top;\n",
       "    }\n",
       "\n",
       "    .dataframe thead th {\n",
       "        text-align: right;\n",
       "    }\n",
       "</style>\n",
       "<table border=\"1\" class=\"dataframe\">\n",
       "  <thead>\n",
       "    <tr style=\"text-align: right;\">\n",
       "      <th></th>\n",
       "      <th>price</th>\n",
       "      <th>rating</th>\n",
       "      <th>product_description_len</th>\n",
       "    </tr>\n",
       "  </thead>\n",
       "  <tbody>\n",
       "    <tr>\n",
       "      <th>price</th>\n",
       "      <td>1.000000</td>\n",
       "      <td>0.206363</td>\n",
       "      <td>0.101196</td>\n",
       "    </tr>\n",
       "    <tr>\n",
       "      <th>rating</th>\n",
       "      <td>0.206363</td>\n",
       "      <td>1.000000</td>\n",
       "      <td>0.028356</td>\n",
       "    </tr>\n",
       "    <tr>\n",
       "      <th>product_description_len</th>\n",
       "      <td>0.101196</td>\n",
       "      <td>0.028356</td>\n",
       "      <td>1.000000</td>\n",
       "    </tr>\n",
       "  </tbody>\n",
       "</table>\n",
       "</div>"
      ],
      "text/plain": [
       "                            price    rating  product_description_len\n",
       "price                    1.000000  0.206363                 0.101196\n",
       "rating                   0.206363  1.000000                 0.028356\n",
       "product_description_len  0.101196  0.028356                 1.000000"
      ]
     },
     "execution_count": 20,
     "metadata": {},
     "output_type": "execute_result"
    }
   ],
   "source": [
    "df.corr()"
   ]
  },
  {
   "cell_type": "markdown",
   "id": "3cb12a9d",
   "metadata": {},
   "source": [
    "Подготовлю раздел описания. Очищу стопслова, лемматзирую. Мне кажется, вполне достаточно, это позволит найти уникальные слова для групп отзывов."
   ]
  },
  {
   "cell_type": "code",
   "execution_count": 21,
   "id": "2fbf4ec8",
   "metadata": {},
   "outputs": [
    {
     "name": "stderr",
     "output_type": "stream",
     "text": [
      "[nltk_data] Downloading package stopwords to\n",
      "[nltk_data]     C:\\Users\\trekc\\AppData\\Roaming\\nltk_data...\n",
      "[nltk_data]   Package stopwords is already up-to-date!\n"
     ]
    }
   ],
   "source": [
    "from string import punctuation\n",
    "punctuation += '...' + '—' + '…' + '«»'\n",
    "import nltk\n",
    "from nltk.corpus import stopwords\n",
    "import re\n",
    "nltk.download('stopwords')\n",
    "from sklearn.feature_extraction.text import TfidfVectorizer\n",
    "from sklearn.linear_model import LinearRegression, Ridge, Lasso, ElasticNet\n",
    "from sklearn.model_selection import train_test_split, KFold, cross_val_score, RepeatedKFold, GridSearchCV"
   ]
  },
  {
   "cell_type": "code",
   "execution_count": null,
   "id": "36e8f254",
   "metadata": {},
   "outputs": [],
   "source": [
    "from nltk.stem import WordNetLemmatizer\n",
    "lemmatizer = WordNetLemmatizer()\n",
    "from tqdm import tqdm\n",
    "\n",
    "\n",
    "for ind, descr in tqdm(enumerate(df['product_description'])):\n",
    "    descr = [word.lower().strip().strip(punctuation) for word in nltk.word_tokenize(descr)]\n",
    "    descr = [lemmatizer.lemmatize(w) for w in descr]\n",
    "    descr = [word for word in descr if word != '' or word != ' ']\n",
    "    descr = ' '.join([x for x in descr if x not in stopwords.words('english')])   \n",
    "    df['product_description'][ind] = descr\n",
    "    if df['product_description'][ind] == '':\n",
    "        df = df.drop(ind)\n",
    "\n",
    "df = df.reset_index(drop=True)"
   ]
  },
  {
   "cell_type": "markdown",
   "id": "c964b1b7",
   "metadata": {},
   "source": [
    "Train либо автоматом ставится, либо 0.75, т.к. довольно мало данных"
   ]
  },
  {
   "cell_type": "code",
   "execution_count": 127,
   "id": "7ac7089f",
   "metadata": {},
   "outputs": [],
   "source": [
    "corpus = []\n",
    "for row in df['product_description']:\n",
    "    corpus.append(row)"
   ]
  },
  {
   "cell_type": "code",
   "execution_count": null,
   "id": "fcfe1073",
   "metadata": {},
   "outputs": [],
   "source": [
    "y = np.array(df['price'])"
   ]
  },
  {
   "cell_type": "code",
   "execution_count": null,
   "id": "466c8af3",
   "metadata": {},
   "outputs": [],
   "source": [
    "vect1 = CountVectorizer()\n",
    "X1 = vect1.fit_transform(corpus)\n",
    "\n",
    "X1_train, X1_test, y1_train, y1_test = train_test_split(X1, y, test_size=0.70, random_state=42)"
   ]
  },
  {
   "cell_type": "code",
   "execution_count": null,
   "id": "71c22f98",
   "metadata": {},
   "outputs": [],
   "source": [
    "vect = TfidfVectorizer()\n",
    "X = vect.fit_transform(corpus)\n",
    "\n",
    "X_train, X_test, y_train, y_test = train_test_split(X, y, test_size=0.70, random_state=42)"
   ]
  },
  {
   "cell_type": "markdown",
   "id": "0afbf06e",
   "metadata": {},
   "source": [
    "### Функция скоринга"
   ]
  },
  {
   "cell_type": "code",
   "execution_count": 25,
   "id": "c6236194",
   "metadata": {},
   "outputs": [],
   "source": [
    "from sklearn.metrics import *\n",
    "def scoring(y_test, y_pred):\n",
    "    print('MRSE (0 is better): ', mean_squared_error(y_test, y_pred, squared=False))\n",
    "    print('MAE (0 is better): ', mean_absolute_error(y_test, y_pred))\n",
    "    print('EVS (1 is better): ', explained_variance_score(y_test, y_pred)) # 1 is better\n",
    "    print('ME (0 is better): ', max_error(y_test, y_pred)) #shock\n",
    "    print('R2 (1 is better): ', r2_score(y_test, y_pred)) # 1 is better\n",
    "    print('MAPE (0 is better): ', mean_absolute_percentage_error(y_test, y_pred)) # 0 is better"
   ]
  },
  {
   "cell_type": "code",
   "execution_count": 26,
   "id": "a75c61bd",
   "metadata": {},
   "outputs": [],
   "source": [
    "def get_cv_scores(model):\n",
    "    scores = cross_val_score(model,\n",
    "                             X_train,\n",
    "                             y_train,\n",
    "                             cv=3,\n",
    "                             scoring='r2')\n",
    "    \n",
    "    print('CV Mean: ', np.mean(scores))\n",
    "    print('STD: ', np.std(scores))\n",
    "    print('\\n')"
   ]
  },
  {
   "cell_type": "markdown",
   "id": "326681e0",
   "metadata": {},
   "source": [
    "Далее будет проблема того, как сказать модели, что нельзя негативные значения. Я хз"
   ]
  },
  {
   "cell_type": "markdown",
   "id": "4686d216",
   "metadata": {},
   "source": [
    "# LR"
   ]
  },
  {
   "cell_type": "code",
   "execution_count": 190,
   "id": "c331b1d7",
   "metadata": {},
   "outputs": [],
   "source": [
    "# почему-то возникала ошибка UserWarning:\n",
    "# One or more of the test scores are non-finite\n",
    "# но в трейне нет таких значений\n",
    "import warnings\n",
    "warnings.filterwarnings(\"ignore\")\n",
    "\n",
    "def LR(X_train, y_train):\n",
    "    model = LinearRegression()\n",
    "\n",
    "    cv = RepeatedKFold(n_splits=5, n_repeats=3, random_state=1)\n",
    "\n",
    "    space = dict()\n",
    "    space['fit_intercept'] = [True, False]\n",
    "    space['positive'] = [True, False]\n",
    "    space['normalize'] = [True, False]\n",
    "\n",
    "    search = GridSearchCV(model, space, scoring='r2', n_jobs=-1, cv=cv)\n",
    "\n",
    "    result = search.fit(X_train, y_train)\n",
    "\n",
    "    print('Best Score: %s' % result.best_score_)\n",
    "    print('Best Hyperparameters: %s' % result.best_params_)"
   ]
  },
  {
   "cell_type": "code",
   "execution_count": 191,
   "id": "0285d99b",
   "metadata": {},
   "outputs": [
    {
     "name": "stdout",
     "output_type": "stream",
     "text": [
      "Best Score: 0.3187162665393739\n",
      "Best Hyperparameters: {'fit_intercept': False, 'normalize': True, 'positive': False}\n"
     ]
    }
   ],
   "source": [
    "LR(X_train, y_train)"
   ]
  },
  {
   "cell_type": "code",
   "execution_count": 192,
   "id": "0a448cb6",
   "metadata": {},
   "outputs": [
    {
     "name": "stdout",
     "output_type": "stream",
     "text": [
      "Best Score: -0.32124550610473623\n",
      "Best Hyperparameters: {'fit_intercept': False, 'normalize': True, 'positive': False}\n"
     ]
    }
   ],
   "source": [
    "LR(X1_train, y1_train)"
   ]
  },
  {
   "cell_type": "code",
   "execution_count": 193,
   "id": "41638232",
   "metadata": {},
   "outputs": [
    {
     "name": "stdout",
     "output_type": "stream",
     "text": [
      "MRSE (0 is better):  1217.1538467044336\n",
      "MAE (0 is better):  726.9333758895817\n",
      "EVS (1 is better):  0.4872007071112887\n",
      "ME (0 is better):  6664.6059910350705\n",
      "R2 (1 is better):  0.4669741204367742\n",
      "MAPE (0 is better):  0.5540635856995185\n",
      "CV Mean:  0.3749972658051839\n",
      "STD:  0.09080837642770187\n",
      "\n",
      "\n"
     ]
    }
   ],
   "source": [
    "lr_TFIDF = LinearRegression(fit_intercept=False, normalize=True, positive=False).fit(X_train, y_train)\n",
    "lr_TFIDF_pred = lr_TFIDF.predict(X_test)\n",
    "scoring(y_test, lr_TFIDF_pred)\n",
    "get_cv_scores(lr_TFIDF)"
   ]
  },
  {
   "cell_type": "code",
   "execution_count": 194,
   "id": "8dcaa5b7",
   "metadata": {},
   "outputs": [
    {
     "name": "stdout",
     "output_type": "stream",
     "text": [
      "MRSE (0 is better):  1701.4726314872394\n",
      "MAE (0 is better):  1047.1448577232088\n",
      "EVS (1 is better):  -0.040466645379102495\n",
      "ME (0 is better):  15217.823877966628\n",
      "R2 (1 is better):  -0.04161512872375184\n",
      "MAPE (0 is better):  0.9749145697361739\n",
      "CV Mean:  0.3749972658051839\n",
      "STD:  0.09080837642770187\n",
      "\n",
      "\n"
     ]
    }
   ],
   "source": [
    "lr_BoW = LinearRegression(fit_intercept=False, normalize=True, positive=False).fit(X1_train, y1_train)\n",
    "lr_BoW_pred = lr_BoW.predict(X1_test)\n",
    "scoring(y1_test, lr_BoW_pred)\n",
    "get_cv_scores(lr_BoW)"
   ]
  },
  {
   "cell_type": "markdown",
   "id": "4a7eb936",
   "metadata": {},
   "source": [
    "# Ridge"
   ]
  },
  {
   "cell_type": "code",
   "execution_count": 195,
   "id": "fef12322",
   "metadata": {},
   "outputs": [],
   "source": [
    "def RG(X_train, y_train):\n",
    "    model = Ridge()\n",
    "    cv = RepeatedKFold(n_splits=5, n_repeats=3, random_state=1)\n",
    "\n",
    "    space = dict()\n",
    "    space['solver'] = ['svd', 'cholesky', 'lsqr', 'sag']\n",
    "    space['alpha'] = [1e-5, 1e-4, 1e-3, 1e-2, 1e-1, 1, 10, 100]\n",
    "    space['fit_intercept'] = [True, False]\n",
    "    space['normalize'] = [True, False]\n",
    "\n",
    "    search = GridSearchCV(model, space, scoring='r2', n_jobs=-1, cv=cv)\n",
    "    result = search.fit(X_train, y_train)\n",
    "    \n",
    "    print('Best Score: %s' % result.best_score_)\n",
    "    print('Best Hyperparameters: %s' % result.best_params_)"
   ]
  },
  {
   "cell_type": "code",
   "execution_count": 196,
   "id": "f4222cd3",
   "metadata": {},
   "outputs": [
    {
     "name": "stdout",
     "output_type": "stream",
     "text": [
      "Best Score: 0.5939897390400513\n",
      "Best Hyperparameters: {'alpha': 0.1, 'fit_intercept': True, 'normalize': False, 'solver': 'sag'}\n"
     ]
    }
   ],
   "source": [
    "RG(X_train, y_train)"
   ]
  },
  {
   "cell_type": "code",
   "execution_count": 197,
   "id": "b3766b0a",
   "metadata": {},
   "outputs": [
    {
     "name": "stdout",
     "output_type": "stream",
     "text": [
      "Best Score: 0.4940560648773124\n",
      "Best Hyperparameters: {'alpha': 10, 'fit_intercept': True, 'normalize': False, 'solver': 'sag'}\n"
     ]
    }
   ],
   "source": [
    "RG(X1_train, y1_train)"
   ]
  },
  {
   "cell_type": "code",
   "execution_count": 207,
   "id": "c74eccda",
   "metadata": {},
   "outputs": [
    {
     "name": "stdout",
     "output_type": "stream",
     "text": [
      "MRSE (0 is better):  1078.7675752551172\n",
      "MAE (0 is better):  707.5466779789393\n",
      "EVS (1 is better):  0.5813583253248744\n",
      "ME (0 is better):  5432.236064657562\n",
      "R2 (1 is better):  0.5812902131574317\n",
      "MAPE (0 is better):  0.6360846273672415\n",
      "CV Mean:  0.552768467885747\n",
      "STD:  0.06259977647072519\n",
      "\n",
      "\n"
     ]
    }
   ],
   "source": [
    "ridge_TFIDF = Ridge(alpha=0.1, fit_intercept=True, normalize=False, solver='sag').fit(X_train, y_train)\n",
    "ridge_TFIDF_pred = ridge_TFIDF.predict(X_test)\n",
    "scoring(y_test, ridge_TFIDF_pred)\n",
    "get_cv_scores(ridge_TFIDF)"
   ]
  },
  {
   "cell_type": "code",
   "execution_count": 208,
   "id": "5b77b3d3",
   "metadata": {},
   "outputs": [
    {
     "name": "stdout",
     "output_type": "stream",
     "text": [
      "MRSE (0 is better):  1126.431871394959\n",
      "MAE (0 is better):  775.1630841188845\n",
      "EVS (1 is better):  0.5449294218626095\n",
      "ME (0 is better):  6136.407856588915\n",
      "R2 (1 is better):  0.5434722266529648\n",
      "MAPE (0 is better):  0.7058360936299258\n",
      "CV Mean:  0.21893189168007876\n",
      "STD:  0.016530853767925718\n",
      "\n",
      "\n"
     ]
    }
   ],
   "source": [
    "ridge_BoW = Ridge(alpha=10, fit_intercept=True, normalize=False, solver='sag').fit(X1_train, y1_train)\n",
    "ridge_BoW_pred = ridge_BoW.predict(X1_test)\n",
    "scoring(y1_test, ridge_BoW_pred)\n",
    "get_cv_scores(ridge_BoW)"
   ]
  },
  {
   "cell_type": "markdown",
   "id": "9b054025",
   "metadata": {},
   "source": [
    "# Lasso"
   ]
  },
  {
   "cell_type": "markdown",
   "id": "e622bb39",
   "metadata": {},
   "source": [
    "Я взял все параметры, но кроме альфы ничего не важно.\n",
    "Использовал R2, потому что при логарифме модель не работает."
   ]
  },
  {
   "cell_type": "code",
   "execution_count": 209,
   "id": "4cf92216",
   "metadata": {},
   "outputs": [],
   "source": [
    "from sklearn.linear_model import Lasso\n",
    "\n",
    "def lss(X_train, y_train):\n",
    "    model = Lasso()\n",
    "    cv = RepeatedKFold(n_splits=5, n_repeats=3, random_state=1)\n",
    "\n",
    "    space = dict()\n",
    "    #space['positive'] = [True, False]\n",
    "    space['alpha'] = [1e-5, 1e-4, 1e-3, 1e-2, 1e-1, 1, 10, 100]\n",
    "    #space['fit_intercept'] = [True, False]\n",
    "    #space['normalize'] = [True, False]\n",
    "    #space['precompute'] = [True, False]\n",
    "    #space['selection'] = ['cyclic', 'random']\n",
    "\n",
    "    search = GridSearchCV(model, space, scoring='r2', n_jobs=-1, cv=cv)\n",
    "    result = search.fit(X_train, y_train)\n",
    "\n",
    "    print('Best Score: %s' % result.best_score_)\n",
    "    print('Best Hyperparameters: %s' % result.best_params_)"
   ]
  },
  {
   "cell_type": "code",
   "execution_count": 210,
   "id": "985f4aee",
   "metadata": {},
   "outputs": [
    {
     "name": "stdout",
     "output_type": "stream",
     "text": [
      "Best Score: 0.5747128261823573\n",
      "Best Hyperparameters: {'alpha': 1}\n"
     ]
    }
   ],
   "source": [
    "lss(X_train, y_train)"
   ]
  },
  {
   "cell_type": "code",
   "execution_count": 211,
   "id": "b7304c7a",
   "metadata": {},
   "outputs": [
    {
     "name": "stdout",
     "output_type": "stream",
     "text": [
      "Best Score: 0.4014293077165\n",
      "Best Hyperparameters: {'alpha': 10}\n"
     ]
    }
   ],
   "source": [
    "lss(X1_train, y1_train)"
   ]
  },
  {
   "cell_type": "code",
   "execution_count": 212,
   "id": "868cbba8",
   "metadata": {},
   "outputs": [
    {
     "name": "stdout",
     "output_type": "stream",
     "text": [
      "MRSE (0 is better):  1119.9109309624018\n",
      "MAE (0 is better):  743.6243025401566\n",
      "EVS (1 is better):  0.553894510813479\n",
      "ME (0 is better):  6435.94818820837\n",
      "R2 (1 is better):  0.5487426270342637\n",
      "MAPE (0 is better):  0.6099685167458548\n",
      "CV Mean:  0.5282504010192534\n",
      "STD:  0.07865266857930756\n",
      "\n",
      "\n"
     ]
    }
   ],
   "source": [
    "lasso_TFIDF = Lasso(alpha=1).fit(X_train, y_train)\n",
    "lasso_TFIDF_pred = lasso_TFIDF.predict(X_test)\n",
    "scoring(y_test, lasso_TFIDF_pred)\n",
    "get_cv_scores(lasso_TFIDF)"
   ]
  },
  {
   "cell_type": "code",
   "execution_count": 219,
   "id": "1d056420",
   "metadata": {},
   "outputs": [
    {
     "name": "stdout",
     "output_type": "stream",
     "text": [
      "MRSE (0 is better):  1500.5256385952694\n",
      "MAE (0 is better):  935.1438493074423\n",
      "EVS (1 is better):  0.19002155468489867\n",
      "ME (0 is better):  8595.030179018377\n",
      "R2 (1 is better):  0.18988964350997595\n",
      "MAPE (0 is better):  0.9353370779231497\n",
      "CV Mean:  0.5282504010192534\n",
      "STD:  0.07865266857930756\n",
      "\n",
      "\n"
     ]
    }
   ],
   "source": [
    "lasso_BoW = Lasso(alpha=1).fit(X1_train, y1_train)\n",
    "lasso_BoW_pred = lasso_BoW.predict(X1_test)\n",
    "scoring(y1_test, lasso_BoW_pred)\n",
    "get_cv_scores(lasso_BoW)"
   ]
  },
  {
   "cell_type": "markdown",
   "id": "5756c20b",
   "metadata": {},
   "source": [
    "# Elastic"
   ]
  },
  {
   "cell_type": "code",
   "execution_count": 215,
   "id": "fafff108",
   "metadata": {},
   "outputs": [],
   "source": [
    "from sklearn.linear_model import ElasticNet\n",
    "\n",
    "def els(X_train, y_train):\n",
    "    model = ElasticNet()\n",
    "    param_grid = dict()\n",
    "    param_grid['alpha'] = [0.001, 0.01, 0.1, 1, 10, 100, 1000]\n",
    "    param_grid['l1_ratio'] = [0, 0.1, 0.2, 0.3, 0.4, 0.5, 0.6, 0.7, 0.8, 0.9, 1]\n",
    "    #param_grid['fit_intercept'] = [True, False]\n",
    "    #param_grid['normalize'] = [True, False]\n",
    "    #param_grid['precompute'] = [True, False]\n",
    "    #param_grid['selection'] = ['cyclic', 'random']\n",
    "    #param_grid['positive'] = [True, False]\n",
    "\n",
    "    grid = GridSearchCV(estimator=model, param_grid=param_grid, scoring='r2', verbose=1, n_jobs=-1)\n",
    "    grid_result = grid.fit(X_train, y_train)\n",
    "    print('Best Score: ', grid_result.best_score_)\n",
    "    print('Best Params: ', grid_result.best_params_)"
   ]
  },
  {
   "cell_type": "code",
   "execution_count": 216,
   "id": "e793d8bb",
   "metadata": {},
   "outputs": [
    {
     "name": "stdout",
     "output_type": "stream",
     "text": [
      "Fitting 5 folds for each of 77 candidates, totalling 385 fits\n",
      "Best Score:  0.5195123932388629\n",
      "Best Params:  {'alpha': 0.01, 'l1_ratio': 0.9}\n"
     ]
    }
   ],
   "source": [
    "els(X_train, y_train)"
   ]
  },
  {
   "cell_type": "code",
   "execution_count": 217,
   "id": "7dc0f155",
   "metadata": {},
   "outputs": [
    {
     "name": "stdout",
     "output_type": "stream",
     "text": [
      "Fitting 5 folds for each of 77 candidates, totalling 385 fits\n",
      "Best Score:  0.4256168203561871\n",
      "Best Params:  {'alpha': 0.1, 'l1_ratio': 0.5}\n"
     ]
    }
   ],
   "source": [
    "els(X1_train, y1_train)"
   ]
  },
  {
   "cell_type": "code",
   "execution_count": 221,
   "id": "8f470477",
   "metadata": {},
   "outputs": [
    {
     "name": "stdout",
     "output_type": "stream",
     "text": [
      "MRSE (0 is better):  1089.6583004464705\n",
      "MAE (0 is better):  740.4811560543449\n",
      "EVS (1 is better):  0.5729649471014948\n",
      "ME (0 is better):  5536.312830039546\n",
      "R2 (1 is better):  0.5727933480410341\n",
      "MAPE (0 is better):  0.6702101392021252\n",
      "CV Mean:  0.5513654878976186\n",
      "STD:  0.05994427611794965\n",
      "\n",
      "\n"
     ]
    }
   ],
   "source": [
    "elastic_TFIDF = ElasticNet(alpha=0.01, l1_ratio=0.9).fit(X_train, y_train)\n",
    "elastic_TFIDF_pred = elastic_TFIDF.predict(X_test)\n",
    "scoring(y_test, elastic_TFIDF_pred)\n",
    "get_cv_scores(elastic_TFIDF)"
   ]
  },
  {
   "cell_type": "code",
   "execution_count": 220,
   "id": "441a057e",
   "metadata": {},
   "outputs": [
    {
     "name": "stdout",
     "output_type": "stream",
     "text": [
      "MRSE (0 is better):  1141.8074191348967\n",
      "MAE (0 is better):  805.4118970010949\n",
      "EVS (1 is better):  0.531973462971844\n",
      "ME (0 is better):  5964.047508885765\n",
      "R2 (1 is better):  0.5309241602392748\n",
      "MAPE (0 is better):  0.7578541014307943\n",
      "CV Mean:  0.19842383033892555\n",
      "STD:  0.015619510394831539\n",
      "\n",
      "\n"
     ]
    }
   ],
   "source": [
    "elastic_BoW = ElasticNet(alpha=0.1, l1_ratio=0.5).fit(X1_train, y1_train)\n",
    "elastic_BoW_pred = elastic_BoW.predict(X1_test)\n",
    "scoring(y1_test, elastic_BoW_pred)\n",
    "get_cv_scores(elastic_BoW)"
   ]
  },
  {
   "cell_type": "markdown",
   "id": "e956a9db",
   "metadata": {},
   "source": [
    "TF IDF лучше по всем показателям, поэтому буду рассматривать дальше только его"
   ]
  },
  {
   "cell_type": "markdown",
   "id": "c54c697c",
   "metadata": {},
   "source": [
    "По показателям лучшая модель <b>Ridge</b>, <b>Lasso</b> и <b>Elastic</b>. Без понятия, почему именно они справились лучше (нам не поясняли про эти модели), но, учитывая, что на самом деле все модели показали схожий результат, это не так важно."
   ]
  },
  {
   "cell_type": "code",
   "execution_count": 222,
   "id": "ab22ab57",
   "metadata": {},
   "outputs": [],
   "source": [
    "ridge_df={'price': ridge_TFIDF_pred}\n",
    "lr_df={'price': lr_TFIDF_pred}\n",
    "lasso_df={'price': lasso_TFIDF_pred}\n",
    "elastic_df={'price': elastic_TFIDF_pred}"
   ]
  },
  {
   "cell_type": "code",
   "execution_count": 223,
   "id": "43b913ee",
   "metadata": {},
   "outputs": [],
   "source": [
    "ridge_df = pd.DataFrame.from_dict(ridge_df)\n",
    "lr_df = pd.DataFrame.from_dict(lr_df)\n",
    "lasso_df = pd.DataFrame.from_dict(lasso_df)\n",
    "elastic_df = pd.DataFrame.from_dict(elastic_df)"
   ]
  },
  {
   "cell_type": "markdown",
   "id": "1c20e9f8",
   "metadata": {},
   "source": [
    "Если сравнивать с исходными данными, то результаты очень даже ничего.<br>\n",
    "Основная масса данных в 1-3к, выбросы после 6к<br>\n",
    "Основной массив данных чуть сузился, выбросов стало поменьше (но они не исчезли - то есть модель умеет их предсказывать, что очень даже хорошо)! <br>\n",
    "Все модели справляются хорошо, но поточнее будет Ridge, Lasso и Elastic."
   ]
  },
  {
   "cell_type": "code",
   "execution_count": 224,
   "id": "4e7aff62",
   "metadata": {},
   "outputs": [
    {
     "data": {
      "image/png": "[encoded data removed]",
      "text/plain": [
       "<Figure size 1080x432 with 1 Axes>"
      ]
     },
     "metadata": {
      "needs_background": "light"
     },
     "output_type": "display_data"
    }
   ],
   "source": [
    "plt.figure(figsize=(15, 6))\n",
    "plt.boxplot([df['price'], ridge_df['price'], lr_df['price'], lasso_df['price'], elastic_df['price']])\n",
    "plt.show()"
   ]
  },
  {
   "cell_type": "markdown",
   "id": "5f8d5364",
   "metadata": {},
   "source": [
    "Если посмотреть на линейный график, то все в принципе тоже похоже. Но я предположу, что все же небольшие выбросы моя модель не всегда угадывает, поэтому общий результат не очень.<br>\n",
    "Пик между 4-5к более или менее уловила вышеупомянутая троица:"
   ]
  },
  {
   "cell_type": "code",
   "execution_count": 225,
   "id": "2f0be696",
   "metadata": {},
   "outputs": [
    {
     "data": {
      "text/plain": [
       "<AxesSubplot:>"
      ]
     },
     "execution_count": 225,
     "metadata": {},
     "output_type": "execute_result"
    },
    {
     "data": {
      "image/png": "[encoded data removed]",
      "text/plain": [
       "<Figure size 432x288 with 1 Axes>"
      ]
     },
     "metadata": {
      "needs_background": "light"
     },
     "output_type": "display_data"
    }
   ],
   "source": [
    "df['price'].value_counts().sort_index().plot()"
   ]
  },
  {
   "cell_type": "code",
   "execution_count": 226,
   "id": "b30e3311",
   "metadata": {},
   "outputs": [
    {
     "data": {
      "text/plain": [
       "<AxesSubplot:>"
      ]
     },
     "execution_count": 226,
     "metadata": {},
     "output_type": "execute_result"
    },
    {
     "data": {
      "image/png": "[encoded data removed]",
      "text/plain": [
       "<Figure size 432x288 with 1 Axes>"
      ]
     },
     "metadata": {
      "needs_background": "light"
     },
     "output_type": "display_data"
    }
   ],
   "source": [
    "lr_df['price'].value_counts().sort_index().plot()"
   ]
  },
  {
   "cell_type": "code",
   "execution_count": 227,
   "id": "b1fd1c59",
   "metadata": {},
   "outputs": [
    {
     "data": {
      "text/plain": [
       "<AxesSubplot:>"
      ]
     },
     "execution_count": 227,
     "metadata": {},
     "output_type": "execute_result"
    },
    {
     "data": {
      "image/png": "[encoded data removed]",
      "text/plain": [
       "<Figure size 432x288 with 1 Axes>"
      ]
     },
     "metadata": {
      "needs_background": "light"
     },
     "output_type": "display_data"
    }
   ],
   "source": [
    "ridge_df['price'].value_counts().sort_index().plot()"
   ]
  },
  {
   "cell_type": "code",
   "execution_count": 228,
   "id": "fc5759e7",
   "metadata": {},
   "outputs": [
    {
     "data": {
      "text/plain": [
       "<AxesSubplot:>"
      ]
     },
     "execution_count": 228,
     "metadata": {},
     "output_type": "execute_result"
    },
    {
     "data": {
      "image/png": "[encoded data removed]",
      "text/plain": [
       "<Figure size 432x288 with 1 Axes>"
      ]
     },
     "metadata": {
      "needs_background": "light"
     },
     "output_type": "display_data"
    }
   ],
   "source": [
    "lasso_df['price'].value_counts().sort_index().plot()"
   ]
  },
  {
   "cell_type": "code",
   "execution_count": 229,
   "id": "44108d22",
   "metadata": {},
   "outputs": [
    {
     "data": {
      "text/plain": [
       "<AxesSubplot:>"
      ]
     },
     "execution_count": 229,
     "metadata": {},
     "output_type": "execute_result"
    },
    {
     "data": {
      "image/png": "[encoded data removed]",
      "text/plain": [
       "<Figure size 432x288 with 1 Axes>"
      ]
     },
     "metadata": {
      "needs_background": "light"
     },
     "output_type": "display_data"
    }
   ],
   "source": [
    "elastic_df['price'].value_counts().sort_index().plot()"
   ]
  },
  {
   "cell_type": "markdown",
   "id": "509c649d",
   "metadata": {},
   "source": [
    "Все модели предсказали отрицательные значения, но лучше всего справилось Lasso:"
   ]
  },
  {
   "cell_type": "code",
   "execution_count": 230,
   "id": "8657719e",
   "metadata": {},
   "outputs": [
    {
     "name": "stdout",
     "output_type": "stream",
     "text": [
      "127.0\n",
      "-653.9577827987227\n",
      "-1637.5379813426387\n",
      "-156.26997884167213\n",
      "-220.9391017857629\n"
     ]
    }
   ],
   "source": [
    "print(df['price'].min())\n",
    "print(ridge_df['price'].min())\n",
    "print(lr_df['price'].min())\n",
    "print(lasso_df['price'].min())\n",
    "print(elastic_df['price'].min())"
   ]
  },
  {
   "cell_type": "markdown",
   "id": "248e61e4",
   "metadata": {},
   "source": [
    "С макс значениями все близки, но получше будет линейная регрессия."
   ]
  },
  {
   "cell_type": "code",
   "execution_count": 231,
   "id": "1b3aebb3",
   "metadata": {},
   "outputs": [
    {
     "name": "stdout",
     "output_type": "stream",
     "text": [
      "7992.0\n",
      "7549.6313568229725\n",
      "7702.000063601798\n",
      "7493.017064027715\n",
      "7218.246686511648\n"
     ]
    }
   ],
   "source": [
    "print(df['price'].max())\n",
    "print(ridge_df['price'].max())\n",
    "print(lr_df['price'].max())\n",
    "print(lasso_df['price'].max())\n",
    "print(elastic_df['price'].max())"
   ]
  },
  {
   "cell_type": "markdown",
   "id": "7a45203a",
   "metadata": {},
   "source": [
    "Я бы выбрал <b>Ridge</b>, потому что в общем плане он же все же ближе к истине, судя по графикам. Да и оценки модели у него почти лучшие.<br> Хотя, от раза в раз, показатели меняются, и иногда лучше себя показывает <b>Elastic</b> или <b>Lasso</b>"
   ]
  },
  {
   "cell_type": "markdown",
   "id": "694563e5",
   "metadata": {},
   "source": [
    "* Улучшить модели можно было бы, если сказать им, что нельзя предсказывать отрицательные значения\n",
    "* Можно иначе лемматизировать (не убирать стопслова, например)"
   ]
  },
  {
   "cell_type": "markdown",
   "id": "5cdf5e3b",
   "metadata": {},
   "source": [
    "Слабые места: <br>\n",
    "* Отрицательные значения\n",
    "* Выбросы <p>"
   ]
  },
  {
   "cell_type": "markdown",
   "id": "92fd8d13",
   "metadata": {},
   "source": [
    "Сильные места: <br>\n",
    "* В общем предсказывает правильно\n",
    "* Некоторые высокие цены все же отгадала"
   ]
  },
  {
   "cell_type": "markdown",
   "id": "d0bebcfb",
   "metadata": {},
   "source": [
    "# Часть 2"
   ]
  },
  {
   "cell_type": "markdown",
   "id": "08b00a4f",
   "metadata": {},
   "source": [
    "Конвертирую дф во что-то более удобное"
   ]
  },
  {
   "cell_type": "code",
   "execution_count": 46,
   "id": "9e512926",
   "metadata": {},
   "outputs": [],
   "source": [
    "df2 = df[['reviews', 'reviews_rating']].copy()"
   ]
  },
  {
   "cell_type": "code",
   "execution_count": 47,
   "id": "44b56eea",
   "metadata": {},
   "outputs": [],
   "source": [
    "revs = list()\n",
    "revs = [rev for li in df2['reviews'] for rev in li]\n",
    "\n",
    "rats = list()\n",
    "rats = [rev for li in df2['reviews_rating'] for rev in li]"
   ]
  },
  {
   "cell_type": "code",
   "execution_count": 48,
   "id": "e39991e4",
   "metadata": {},
   "outputs": [],
   "source": [
    "df2 = pd.DataFrame(list(zip(revs, rats)),\n",
    "                  columns=['reviews', 'reviews_rating'])"
   ]
  },
  {
   "cell_type": "code",
   "execution_count": 49,
   "id": "982fcf01",
   "metadata": {},
   "outputs": [
    {
     "data": {
      "text/html": [
       "<div>\n",
       "<style scoped>\n",
       "    .dataframe tbody tr th:only-of-type {\n",
       "        vertical-align: middle;\n",
       "    }\n",
       "\n",
       "    .dataframe tbody tr th {\n",
       "        vertical-align: top;\n",
       "    }\n",
       "\n",
       "    .dataframe thead th {\n",
       "        text-align: right;\n",
       "    }\n",
       "</style>\n",
       "<table border=\"1\" class=\"dataframe\">\n",
       "  <thead>\n",
       "    <tr style=\"text-align: right;\">\n",
       "      <th></th>\n",
       "      <th>reviews</th>\n",
       "      <th>reviews_rating</th>\n",
       "    </tr>\n",
       "  </thead>\n",
       "  <tbody>\n",
       "    <tr>\n",
       "      <th>0</th>\n",
       "      <td>Not happy with product</td>\n",
       "      <td>1</td>\n",
       "    </tr>\n",
       "    <tr>\n",
       "      <th>1</th>\n",
       "      <td>It's not as expected.</td>\n",
       "      <td>1</td>\n",
       "    </tr>\n",
       "    <tr>\n",
       "      <th>2</th>\n",
       "      <td>AVERAGE PRODUCT</td>\n",
       "      <td>3</td>\n",
       "    </tr>\n",
       "    <tr>\n",
       "      <th>3</th>\n",
       "      <td>Pic more beautiful</td>\n",
       "      <td>3</td>\n",
       "    </tr>\n",
       "    <tr>\n",
       "      <th>4</th>\n",
       "      <td>Got damage product. But quality is average for...</td>\n",
       "      <td>3</td>\n",
       "    </tr>\n",
       "    <tr>\n",
       "      <th>...</th>\n",
       "      <td>...</td>\n",
       "      <td>...</td>\n",
       "    </tr>\n",
       "    <tr>\n",
       "      <th>9570</th>\n",
       "      <td>Go for it!</td>\n",
       "      <td>5</td>\n",
       "    </tr>\n",
       "    <tr>\n",
       "      <th>9571</th>\n",
       "      <td>Excellent product</td>\n",
       "      <td>5</td>\n",
       "    </tr>\n",
       "    <tr>\n",
       "      <th>9572</th>\n",
       "      <td>Nice shoe</td>\n",
       "      <td>5</td>\n",
       "    </tr>\n",
       "    <tr>\n",
       "      <th>9573</th>\n",
       "      <td>Nice</td>\n",
       "      <td>5</td>\n",
       "    </tr>\n",
       "    <tr>\n",
       "      <th>9574</th>\n",
       "      <td>Asics shoes are the best</td>\n",
       "      <td>5</td>\n",
       "    </tr>\n",
       "  </tbody>\n",
       "</table>\n",
       "<p>9575 rows × 2 columns</p>\n",
       "</div>"
      ],
      "text/plain": [
       "                                                reviews  reviews_rating\n",
       "0                                Not happy with product               1\n",
       "1                                 It's not as expected.               1\n",
       "2                                       AVERAGE PRODUCT               3\n",
       "3                                    Pic more beautiful               3\n",
       "4     Got damage product. But quality is average for...               3\n",
       "...                                                 ...             ...\n",
       "9570                                         Go for it!               5\n",
       "9571                                  Excellent product               5\n",
       "9572                                          Nice shoe               5\n",
       "9573                                               Nice               5\n",
       "9574                           Asics shoes are the best               5\n",
       "\n",
       "[9575 rows x 2 columns]"
      ]
     },
     "execution_count": 49,
     "metadata": {},
     "output_type": "execute_result"
    }
   ],
   "source": [
    "df2"
   ]
  },
  {
   "cell_type": "markdown",
   "id": "8179db85",
   "metadata": {},
   "source": [
    "Что можно сказать? Обычно оценки либо очень хорошие, либо очень плохие. Но истина как всегда чуть больше середины"
   ]
  },
  {
   "cell_type": "code",
   "execution_count": 50,
   "id": "176a31ca",
   "metadata": {},
   "outputs": [
    {
     "data": {
      "text/html": [
       "<div>\n",
       "<style scoped>\n",
       "    .dataframe tbody tr th:only-of-type {\n",
       "        vertical-align: middle;\n",
       "    }\n",
       "\n",
       "    .dataframe tbody tr th {\n",
       "        vertical-align: top;\n",
       "    }\n",
       "\n",
       "    .dataframe thead th {\n",
       "        text-align: right;\n",
       "    }\n",
       "</style>\n",
       "<table border=\"1\" class=\"dataframe\">\n",
       "  <thead>\n",
       "    <tr style=\"text-align: right;\">\n",
       "      <th></th>\n",
       "      <th>reviews_rating</th>\n",
       "    </tr>\n",
       "  </thead>\n",
       "  <tbody>\n",
       "    <tr>\n",
       "      <th>count</th>\n",
       "      <td>9575.000000</td>\n",
       "    </tr>\n",
       "    <tr>\n",
       "      <th>mean</th>\n",
       "      <td>3.763446</td>\n",
       "    </tr>\n",
       "    <tr>\n",
       "      <th>std</th>\n",
       "      <td>1.531345</td>\n",
       "    </tr>\n",
       "    <tr>\n",
       "      <th>min</th>\n",
       "      <td>1.000000</td>\n",
       "    </tr>\n",
       "    <tr>\n",
       "      <th>25%</th>\n",
       "      <td>3.000000</td>\n",
       "    </tr>\n",
       "    <tr>\n",
       "      <th>50%</th>\n",
       "      <td>4.000000</td>\n",
       "    </tr>\n",
       "    <tr>\n",
       "      <th>75%</th>\n",
       "      <td>5.000000</td>\n",
       "    </tr>\n",
       "    <tr>\n",
       "      <th>max</th>\n",
       "      <td>5.000000</td>\n",
       "    </tr>\n",
       "  </tbody>\n",
       "</table>\n",
       "</div>"
      ],
      "text/plain": [
       "       reviews_rating\n",
       "count     9575.000000\n",
       "mean         3.763446\n",
       "std          1.531345\n",
       "min          1.000000\n",
       "25%          3.000000\n",
       "50%          4.000000\n",
       "75%          5.000000\n",
       "max          5.000000"
      ]
     },
     "execution_count": 50,
     "metadata": {},
     "output_type": "execute_result"
    }
   ],
   "source": [
    "df2.describe()"
   ]
  },
  {
   "cell_type": "code",
   "execution_count": 51,
   "id": "19529726",
   "metadata": {},
   "outputs": [
    {
     "data": {
      "image/png": "[encoded data removed]",
      "text/plain": [
       "<Figure size 432x288 with 1 Axes>"
      ]
     },
     "metadata": {
      "needs_background": "light"
     },
     "output_type": "display_data"
    }
   ],
   "source": [
    "ax = sns.boxplot(data=df2[['reviews_rating']])"
   ]
  },
  {
   "cell_type": "markdown",
   "id": "ca7ecc47",
   "metadata": {},
   "source": [
    "##### Судя по графикам, надо использовать микро-скоринги (несбалансированные графики)"
   ]
  },
  {
   "cell_type": "code",
   "execution_count": 52,
   "id": "faee42b4",
   "metadata": {},
   "outputs": [
    {
     "data": {
      "text/plain": [
       "<AxesSubplot:>"
      ]
     },
     "execution_count": 52,
     "metadata": {},
     "output_type": "execute_result"
    },
    {
     "data": {
      "image/png": "[encoded data removed]",
      "text/plain": [
       "<Figure size 432x288 with 1 Axes>"
      ]
     },
     "metadata": {
      "needs_background": "light"
     },
     "output_type": "display_data"
    }
   ],
   "source": [
    "df2['reviews_rating'].value_counts().sort_index().plot.bar()"
   ]
  },
  {
   "cell_type": "code",
   "execution_count": 53,
   "id": "ff47c6c6",
   "metadata": {},
   "outputs": [
    {
     "name": "stderr",
     "output_type": "stream",
     "text": [
      "9575it [00:12, 762.84it/s] \n"
     ]
    }
   ],
   "source": [
    "for ind, descr in tqdm(enumerate(df2['reviews'])):\n",
    "    descr = [word.lower().strip().strip(punctuation) for word in nltk.word_tokenize(descr)]\n",
    "    descr = [lemmatizer.lemmatize(w) for w in descr]\n",
    "    descr = [word for word in descr if word != '' or word != ' ']\n",
    "    descr = ' '.join([x for x in descr if x not in stopwords.words('english')])   \n",
    "    df2['reviews'][ind] = descr\n",
    "    if df2['reviews'][ind] == '':\n",
    "        df2 = df2.drop(ind)\n",
    "\n",
    "df2 = df2.reset_index(drop=True)"
   ]
  },
  {
   "cell_type": "markdown",
   "id": "1769329f",
   "metadata": {},
   "source": [
    "Попробовав разные варианты, я решил, что лучше ничего особо не чистить. Могут встречаться смайлики, а они вполне влияют на отзыв (например, смайлики ❤😍 показывают, что отзыв вероятно положительный).<br>\n",
    "Было бы вообще интересно поизучать это."
   ]
  },
  {
   "cell_type": "code",
   "execution_count": 54,
   "id": "95bd300e",
   "metadata": {},
   "outputs": [],
   "source": [
    "def scoring2(predicted,  y2_test):\n",
    "    acc = accuracy_score(predicted, y2_test)\n",
    "    micro_f1 = f1_score(predicted, y2_test, average = 'micro')\n",
    "    micro_p = precision_score(predicted, y2_test, average = 'micro')\n",
    "    micro_r = recall_score(predicted, y2_test, average = 'micro')\n",
    "    macro_f1 = f1_score(predicted, y2_test, average = 'macro')\n",
    "    macro_p = precision_score(predicted, y2_test, average = 'macro')\n",
    "    macro_r = recall_score(predicted, y2_test, average = 'macro')\n",
    "    print('acc={0:1.4f}'.format(acc))\n",
    "    print('micro F1={0:1.4f}, micro P={1:1.4f}, micro R={2:1.4f}'.format(micro_f1, micro_p, micro_r))\n",
    "    print('macro F1={0:1.4f}, macro P={1:1.4f}, macro R={2:1.4f}\\n'.format(macro_f1, macro_p, macro_r))"
   ]
  },
  {
   "cell_type": "code",
   "execution_count": 55,
   "id": "05d1dc09",
   "metadata": {},
   "outputs": [],
   "source": [
    "corpus2 = []\n",
    "for row in df2['reviews']:\n",
    "    corpus2.append(row)"
   ]
  },
  {
   "cell_type": "code",
   "execution_count": 56,
   "id": "5ae16516",
   "metadata": {},
   "outputs": [],
   "source": [
    "y2 = np.array(df2['reviews_rating'])"
   ]
  },
  {
   "cell_type": "markdown",
   "id": "f7217ea1",
   "metadata": {},
   "source": [
    "### TF IDF"
   ]
  },
  {
   "cell_type": "code",
   "execution_count": 150,
   "id": "f6bccfd6",
   "metadata": {},
   "outputs": [],
   "source": [
    "vect2 = TfidfVectorizer()\n",
    "X2 = vect2.fit_transform(corpus2)\n",
    "X2_train, X2_test, y2_train, y2_test = train_test_split(X2, y2, random_state=42)"
   ]
  },
  {
   "cell_type": "markdown",
   "id": "5f184730",
   "metadata": {},
   "source": [
    "### CountVectorizer"
   ]
  },
  {
   "cell_type": "code",
   "execution_count": 151,
   "id": "bc6d617b",
   "metadata": {},
   "outputs": [],
   "source": [
    "from sklearn.feature_extraction.text import CountVectorizer\n",
    "vect3 = CountVectorizer()\n",
    "X3 = vect3.fit_transform(corpus2)\n",
    "X3_train, X3_test, y3_train, y3_test = train_test_split(X3, y2, random_state=42)"
   ]
  },
  {
   "cell_type": "markdown",
   "id": "8dc83de1",
   "metadata": {},
   "source": [
    "### KNN"
   ]
  },
  {
   "cell_type": "code",
   "execution_count": 136,
   "id": "f8c1e7d8",
   "metadata": {},
   "outputs": [],
   "source": [
    "from sklearn.neighbors import KNeighborsClassifier"
   ]
  },
  {
   "cell_type": "code",
   "execution_count": 152,
   "id": "afe7556f",
   "metadata": {},
   "outputs": [],
   "source": [
    "def KNC_TFIDF(x_train, y_train):\n",
    "    model = KNeighborsClassifier()\n",
    "    cv = RepeatedKFold(n_splits=5, n_repeats=3, random_state=1)\n",
    "\n",
    "    space = dict()\n",
    "    space['n_neighbors'] = [1, 2, 3, 4, 5, 6, 7, 8, 9, 10]\n",
    "    space['weights'] = ['uniform', 'distance']\n",
    "    space['p'] = [1, 2]\n",
    "    space['metric'] = ['euclidean', 'manhattan', 'chebyshev', 'minkowski', 'wminkowski', 'seuclidean', 'mahalanobis']\n",
    "\n",
    "    search = GridSearchCV(model, space, scoring='f1_micro', n_jobs=-1, cv=cv)\n",
    "    result = search.fit(x_train, y_train)\n",
    "    print('Best Score: %s' % result.best_score_)\n",
    "    print('Best Hyperparameters: %s' % result.best_params_)"
   ]
  },
  {
   "cell_type": "code",
   "execution_count": 153,
   "id": "45058ff8",
   "metadata": {},
   "outputs": [
    {
     "name": "stdout",
     "output_type": "stream",
     "text": [
      "Best Score: 0.6138045629692094\n",
      "Best Hyperparameters: {'metric': 'euclidean', 'n_neighbors': 10, 'p': 1, 'weights': 'distance'}\n"
     ]
    }
   ],
   "source": [
    "KNC(X2_train, y2_train)"
   ]
  },
  {
   "cell_type": "code",
   "execution_count": 154,
   "id": "9a234e67",
   "metadata": {},
   "outputs": [
    {
     "name": "stdout",
     "output_type": "stream",
     "text": [
      "Best Score: 0.6130596514788919\n",
      "Best Hyperparameters: {'metric': 'manhattan', 'n_neighbors': 10, 'p': 1, 'weights': 'distance'}\n"
     ]
    }
   ],
   "source": [
    "KNC(X3_train, y3_train)"
   ]
  },
  {
   "cell_type": "code",
   "execution_count": 157,
   "id": "6c70a9bb",
   "metadata": {},
   "outputs": [
    {
     "name": "stdout",
     "output_type": "stream",
     "text": [
      "acc=0.6287\n",
      "micro F1=0.6287, micro P=0.6287, micro R=0.6287\n",
      "macro F1=0.4889, macro P=0.4480, macro R=0.6088\n",
      "\n"
     ]
    }
   ],
   "source": [
    "KNC_TFIDF = KNeighborsClassifier(metric='euclidean', n_neighbors=10, p=1, weights='distance').fit(X2_train, y2_train)\n",
    "KNC_TFIDF_predicted = KNC_TFIDF.predict(X2_test)\n",
    "scoring2(KNC_TFIDF_predicted, y2_test)"
   ]
  },
  {
   "cell_type": "code",
   "execution_count": 158,
   "id": "23eebbf8",
   "metadata": {},
   "outputs": [
    {
     "name": "stdout",
     "output_type": "stream",
     "text": [
      "acc=0.6287\n",
      "micro F1=0.6287, micro P=0.6287, micro R=0.6287\n",
      "macro F1=0.4876, macro P=0.4504, macro R=0.5960\n",
      "\n"
     ]
    }
   ],
   "source": [
    "KNC_TFIDF_BoW = KNeighborsClassifier(metric='euclidean', n_neighbors=10, p=1, weights='distance').fit(X3_train, y3_train)\n",
    "KNC_TFIDF_BoW_predicted = KNC_TFIDF_BoW.predict(X3_test)\n",
    "scoring2(KNC_TFIDF_BoW_predicted, y3_test)"
   ]
  },
  {
   "cell_type": "code",
   "execution_count": 180,
   "id": "25914c49",
   "metadata": {},
   "outputs": [
    {
     "data": {
      "image/png": "[encoded data removed]",
      "text/plain": [
       "<Figure size 432x288 with 1 Axes>"
      ]
     },
     "metadata": {
      "needs_background": "light"
     },
     "output_type": "display_data"
    }
   ],
   "source": [
    "knc_cm = confusion_matrix(KNC_TFIDF_predicted, y2_test)\n",
    "cm_df = pd.DataFrame(knc_cm,\n",
    "                     index = [1, 2, 3, 4, 5], \n",
    "                     columns = [1, 2, 3, 4, 5])\n",
    "sns.heatmap(cm_df, annot=True, fmt=\"d\", cbar=False)\n",
    "plt.title(\"KNC_TFIDF Confusion matrix\")\n",
    "plt.show()"
   ]
  },
  {
   "cell_type": "code",
   "execution_count": 181,
   "id": "d2db26a2",
   "metadata": {},
   "outputs": [
    {
     "data": {
      "image/png": "[encoded data removed]",
      "text/plain": [
       "<Figure size 432x288 with 1 Axes>"
      ]
     },
     "metadata": {
      "needs_background": "light"
     },
     "output_type": "display_data"
    }
   ],
   "source": [
    "knc_cm = confusion_matrix(KNC_TFIDF_BoW_predicted, y2_test)\n",
    "cm_df = pd.DataFrame(knc_cm,\n",
    "                     index = [1, 2, 3, 4, 5], \n",
    "                     columns = [1, 2, 3, 4, 5])\n",
    "sns.heatmap(cm_df, annot=True, fmt=\"d\", cbar=False)\n",
    "plt.title(\"KNC_TFIDF Confusion matrix\")\n",
    "plt.show()"
   ]
  },
  {
   "cell_type": "markdown",
   "id": "b6d69ebc",
   "metadata": {},
   "source": [
    "На глаз получше будет TF IDF"
   ]
  },
  {
   "cell_type": "markdown",
   "id": "a15c6d41",
   "metadata": {},
   "source": [
    "# MultinomialNB"
   ]
  },
  {
   "cell_type": "code",
   "execution_count": 159,
   "id": "fe421992",
   "metadata": {},
   "outputs": [],
   "source": [
    "from sklearn.naive_bayes import MultinomialNB\n",
    "\n",
    "def MNB(x_train, y_train):\n",
    "    model = MultinomialNB()\n",
    "    cv = RepeatedKFold(n_splits=5, n_repeats=3, random_state=1)\n",
    "\n",
    "    space = dict()\n",
    "    space['class_prior'] = [None, 0, 1, 2]\n",
    "    space['alpha'] = [1e-5, 1e-4, 1e-3, 1e-2, 1e-1, 1, 10, 100]\n",
    "    space['fit_prior'] = [True, False]\n",
    "\n",
    "    search = GridSearchCV(model, space, scoring='f1_micro', n_jobs=-1, cv=cv)\n",
    "    result = search.fit(x_train, y_train)\n",
    "    print('Best Score: %s' % result.best_score_)\n",
    "    print('Best Hyperparameters: %s' % result.best_params_)"
   ]
  },
  {
   "cell_type": "code",
   "execution_count": 160,
   "id": "e6b44a19",
   "metadata": {},
   "outputs": [
    {
     "name": "stdout",
     "output_type": "stream",
     "text": [
      "Best Score: 0.6219554178752732\n",
      "Best Hyperparameters: {'alpha': 0.1, 'class_prior': None, 'fit_prior': True}\n"
     ]
    }
   ],
   "source": [
    "MNB(X2_train, y2_train)"
   ]
  },
  {
   "cell_type": "code",
   "execution_count": 161,
   "id": "01662b24",
   "metadata": {},
   "outputs": [
    {
     "name": "stdout",
     "output_type": "stream",
     "text": [
      "Best Score: 0.6211172013164213\n",
      "Best Hyperparameters: {'alpha': 1, 'class_prior': None, 'fit_prior': True}\n"
     ]
    }
   ],
   "source": [
    "MNB(X3_train, y3_train)"
   ]
  },
  {
   "cell_type": "code",
   "execution_count": 162,
   "id": "7017a4e8",
   "metadata": {},
   "outputs": [
    {
     "name": "stdout",
     "output_type": "stream",
     "text": [
      "acc=0.6442\n",
      "micro F1=0.6442, micro P=0.6442, micro R=0.6442\n",
      "macro F1=0.4513, macro P=0.4364, macro R=0.5312\n",
      "\n"
     ]
    }
   ],
   "source": [
    "MultinomialNB_TFIDF = MultinomialNB(alpha=0.1, class_prior=None, fit_prior=True).fit(X2_train, y2_train)\n",
    "MultinomialNB_TFIDF_predicted = MultinomialNB_TFIDF.predict(X2_test)\n",
    "scoring2(MultinomialNB_TFIDF_predicted, y2_test)"
   ]
  },
  {
   "cell_type": "code",
   "execution_count": 163,
   "id": "4d875fd7",
   "metadata": {},
   "outputs": [
    {
     "name": "stdout",
     "output_type": "stream",
     "text": [
      "acc=0.6362\n",
      "micro F1=0.6362, micro P=0.6362, micro R=0.6362\n",
      "macro F1=0.4083, macro P=0.4040, macro R=0.5382\n",
      "\n"
     ]
    }
   ],
   "source": [
    "MultinomialNB_BoW = MultinomialNB(alpha=1, class_prior=None, fit_prior=True).fit(X3_train, y3_train)\n",
    "MultinomialNB_BoW_predicted = MultinomialNB_BoW.predict(X3_test)\n",
    "scoring2(MultinomialNB_BoW_predicted, y3_test)"
   ]
  },
  {
   "cell_type": "markdown",
   "id": "4ee33e4d",
   "metadata": {},
   "source": [
    "# Logistic Regression"
   ]
  },
  {
   "cell_type": "markdown",
   "id": "19fc1e1b",
   "metadata": {},
   "source": [
    "Я тестировал разные параметры, убрал очень ресурсоемкие и незначительные"
   ]
  },
  {
   "cell_type": "code",
   "execution_count": 164,
   "id": "ea7d905e",
   "metadata": {},
   "outputs": [],
   "source": [
    "from sklearn.linear_model import LogisticRegression\n",
    "\n",
    "def LR(x_train, y_train):\n",
    "    model = LogisticRegression()\n",
    "    cv = RepeatedKFold(n_splits=5, n_repeats=3, random_state=1)\n",
    "\n",
    "    space = dict()\n",
    "    space['penalty'] = ['l1', 'l2', 'elasticnet']\n",
    "    #space['dual'] = [True, False]\n",
    "    space['C'] = [1e-2, 1e-1, 1, 10, 100]\n",
    "    #space['fit_intercept'] = [True, False]\n",
    "    space['solver'] = ['newton-cg', 'lbfgs', 'sag', 'saga']\n",
    "    #space['warm_start'] = [True, False]\n",
    "    #space['l1_ratio'] = [1e-5, 1e-4, 1e-3, 1e-2, 1e-1, 1]\n",
    " \n",
    "    \n",
    "    search = GridSearchCV(model, space, scoring='f1_micro', n_jobs=-1, cv=cv)\n",
    "    result = search.fit(x_train, y_train)\n",
    "    print('Best Score: %s' % result.best_score_)\n",
    "    print('Best Hyperparameters: %s' % result.best_params_)"
   ]
  },
  {
   "cell_type": "code",
   "execution_count": 165,
   "id": "8d2f1d67",
   "metadata": {},
   "outputs": [
    {
     "name": "stdout",
     "output_type": "stream",
     "text": [
      "Best Score: 0.6305245514654882\n",
      "Best Hyperparameters: {'C': 10, 'penalty': 'l2', 'solver': 'newton-cg'}\n"
     ]
    }
   ],
   "source": [
    "LR(X2_train, y2_train)"
   ]
  },
  {
   "cell_type": "code",
   "execution_count": 166,
   "id": "9c8cc8c4",
   "metadata": {},
   "outputs": [
    {
     "name": "stdout",
     "output_type": "stream",
     "text": [
      "Best Score: 0.6304784194615893\n",
      "Best Hyperparameters: {'C': 10, 'penalty': 'l2', 'solver': 'saga'}\n"
     ]
    }
   ],
   "source": [
    "LR(X3_train, y3_train)"
   ]
  },
  {
   "cell_type": "code",
   "execution_count": 167,
   "id": "21eeaff3",
   "metadata": {},
   "outputs": [
    {
     "name": "stdout",
     "output_type": "stream",
     "text": [
      "acc=0.6391\n",
      "micro F1=0.6391, micro P=0.6391, micro R=0.6391\n",
      "macro F1=0.4639, macro P=0.4438, macro R=0.5499\n",
      "\n"
     ]
    }
   ],
   "source": [
    "Log_R_TFIDF = LogisticRegression(C=10, penalty='l2', solver='newton-cg').fit(X2_train, y2_train)\n",
    "Log_R_TFIDF_predicted = Log_R_TFIDF.predict(X2_test)\n",
    "scoring2(Log_R_TFIDF_predicted, y2_test)"
   ]
  },
  {
   "cell_type": "code",
   "execution_count": 168,
   "id": "62a7c4e9",
   "metadata": {},
   "outputs": [
    {
     "name": "stdout",
     "output_type": "stream",
     "text": [
      "acc=0.6391\n",
      "micro F1=0.6391, micro P=0.6391, micro R=0.6391\n",
      "macro F1=0.4652, macro P=0.4460, macro R=0.5383\n",
      "\n"
     ]
    }
   ],
   "source": [
    "Log_R_BoW = LogisticRegression(C=10, penalty='l2', solver='saga').fit(X3_train, y3_train)\n",
    "Log_R_BoW_predicted = Log_R_BoW.predict(X3_test)\n",
    "scoring2(Log_R_BoW_predicted, y3_test)"
   ]
  },
  {
   "cell_type": "code",
   "execution_count": 182,
   "id": "a9724ba6",
   "metadata": {},
   "outputs": [
    {
     "data": {
      "image/png": "[encoded data removed]",
      "text/plain": [
       "<Figure size 432x288 with 1 Axes>"
      ]
     },
     "metadata": {
      "needs_background": "light"
     },
     "output_type": "display_data"
    }
   ],
   "source": [
    "lr_cm = confusion_matrix(Log_R_TFIDF_predicted, y2_test)\n",
    "cm_df = pd.DataFrame(lr_cm,\n",
    "                     index = [1, 2, 3, 4, 5], \n",
    "                     columns = [1, 2, 3, 4, 5])\n",
    "sns.heatmap(cm_df, annot=True, fmt=\"d\", cbar=False)\n",
    "plt.title(\"Log_R_BoW Confusion matrix\")\n",
    "plt.show()"
   ]
  },
  {
   "cell_type": "code",
   "execution_count": 183,
   "id": "281f31c9",
   "metadata": {},
   "outputs": [
    {
     "data": {
      "image/png": "[encoded data removed]",
      "text/plain": [
       "<Figure size 432x288 with 1 Axes>"
      ]
     },
     "metadata": {
      "needs_background": "light"
     },
     "output_type": "display_data"
    }
   ],
   "source": [
    "lr_cm = confusion_matrix(Log_R_BoW_predicted, y2_test)\n",
    "cm_df = pd.DataFrame(lr_cm,\n",
    "                     index = [1, 2, 3, 4, 5], \n",
    "                     columns = [1, 2, 3, 4, 5])\n",
    "sns.heatmap(cm_df, annot=True, fmt=\"d\", cbar=False)\n",
    "plt.title(\"Log_R_BoW Confusion matrix\")\n",
    "plt.show()"
   ]
  },
  {
   "cell_type": "markdown",
   "id": "da3fc14f",
   "metadata": {},
   "source": [
    "На глаз будет получше BoW"
   ]
  },
  {
   "cell_type": "markdown",
   "id": "4aed48f2",
   "metadata": {},
   "source": [
    "# RidgeCl"
   ]
  },
  {
   "cell_type": "code",
   "execution_count": 169,
   "id": "ec2942a4",
   "metadata": {},
   "outputs": [],
   "source": [
    "from sklearn.linear_model import RidgeClassifier"
   ]
  },
  {
   "cell_type": "code",
   "execution_count": 170,
   "id": "2041106d",
   "metadata": {},
   "outputs": [],
   "source": [
    "def RidgeCl(x_train, y_train):\n",
    "    model = RidgeClassifier()\n",
    "    cv = RepeatedKFold(n_splits=5, n_repeats=3, random_state=1)\n",
    "\n",
    "    space = dict()\n",
    "    space['alpha'] = [0.001, 0.01, 0.1, 1, 10, 100, 1000]\n",
    "    space['fit_intercept'] = [True, False]\n",
    "    space['normalize'] = [True, False]\n",
    "    space['solver'] = ['auto', 'svd', 'cholesky', 'lsqr', 'sparse_cg', 'sag', 'saga', 'lbfgs']\n",
    "    #space['warm_start'] = [True, False]\n",
    "    #space['l1_ratio'] = [1e-5, 1e-4, 1e-3, 1e-2, 1e-1, 1]\n",
    " \n",
    "    \n",
    "    search = GridSearchCV(model, space, scoring='f1_micro', n_jobs=-1, cv=cv)\n",
    "    result = search.fit(x_train, y_train)\n",
    "    print('Best Score: %s' % result.best_score_)\n",
    "    print('Best Hyperparameters: %s' % result.best_params_)"
   ]
  },
  {
   "cell_type": "code",
   "execution_count": 171,
   "id": "822129c8",
   "metadata": {},
   "outputs": [
    {
     "name": "stdout",
     "output_type": "stream",
     "text": [
      "Best Score: 0.6279162713889181\n",
      "Best Hyperparameters: {'alpha': 1, 'fit_intercept': True, 'normalize': False, 'solver': 'auto'}\n"
     ]
    }
   ],
   "source": [
    "RidgeCl(X2_train, y2_train)"
   ]
  },
  {
   "cell_type": "code",
   "execution_count": 172,
   "id": "c03661c7",
   "metadata": {},
   "outputs": [
    {
     "name": "stdout",
     "output_type": "stream",
     "text": [
      "Best Score: 0.6283357212663984\n",
      "Best Hyperparameters: {'alpha': 1, 'fit_intercept': True, 'normalize': False, 'solver': 'sag'}\n"
     ]
    }
   ],
   "source": [
    "RidgeCl(X3_train, y3_train)"
   ]
  },
  {
   "cell_type": "code",
   "execution_count": 173,
   "id": "8295008d",
   "metadata": {},
   "outputs": [
    {
     "name": "stdout",
     "output_type": "stream",
     "text": [
      "acc=0.6316\n",
      "micro F1=0.6316, micro P=0.6316, micro R=0.6316\n",
      "macro F1=0.4261, macro P=0.4125, macro R=0.5408\n",
      "\n"
     ]
    }
   ],
   "source": [
    "RC_TFIDF = RidgeClassifier(alpha=1, fit_intercept=True, solver='auto', normalize=False).fit(X2_train, y2_train)\n",
    "RC_TFIDF_predicted = RC_TFIDF.predict(X2_test)\n",
    "scoring2(RC_TFIDF_predicted, y2_test)"
   ]
  },
  {
   "cell_type": "code",
   "execution_count": 174,
   "id": "9a195b3a",
   "metadata": {},
   "outputs": [
    {
     "name": "stdout",
     "output_type": "stream",
     "text": [
      "acc=0.6337\n",
      "micro F1=0.6337, micro P=0.6337, micro R=0.6337\n",
      "macro F1=0.4427, macro P=0.4243, macro R=0.5417\n",
      "\n"
     ]
    }
   ],
   "source": [
    "RC_BoW = RidgeClassifier(alpha=1, fit_intercept=True, solver='sag', normalize=False).fit(X3_train, y3_train)\n",
    "RC_BoW_predicted = RC_BoW.predict(X3_test)\n",
    "scoring2(RC_BoW_predicted, y3_test)"
   ]
  },
  {
   "cell_type": "markdown",
   "id": "73af2e52",
   "metadata": {},
   "source": [
    "Визуализация"
   ]
  },
  {
   "cell_type": "code",
   "execution_count": 185,
   "id": "f77174cd",
   "metadata": {},
   "outputs": [
    {
     "data": {
      "image/png": "[encoded data removed]",
      "text/plain": [
       "<Figure size 432x288 with 1 Axes>"
      ]
     },
     "metadata": {
      "needs_background": "light"
     },
     "output_type": "display_data"
    }
   ],
   "source": [
    "knc_cm = confusion_matrix(KNC_TFIDF_predicted, y2_test)\n",
    "cm_df = pd.DataFrame(knc_cm,\n",
    "                     index = [1, 2, 3, 4, 5], \n",
    "                     columns = [1, 2, 3, 4, 5])\n",
    "sns.heatmap(cm_df, annot=True, fmt=\"d\", cbar=False)\n",
    "plt.title(\"KNC_TFIDF Confusion matrix\")\n",
    "plt.show()"
   ]
  },
  {
   "cell_type": "code",
   "execution_count": 184,
   "id": "fd8b936d",
   "metadata": {},
   "outputs": [
    {
     "data": {
      "image/png": "[encoded data removed]",
      "text/plain": [
       "<Figure size 432x288 with 1 Axes>"
      ]
     },
     "metadata": {
      "needs_background": "light"
     },
     "output_type": "display_data"
    }
   ],
   "source": [
    "rc_cm = confusion_matrix(RC_BoW_predicted, y2_test)\n",
    "cm_df = pd.DataFrame(rc_cm,\n",
    "                     index = [1, 2, 3, 4, 5], \n",
    "                     columns = [1, 2, 3, 4, 5])\n",
    "sns.heatmap(cm_df, annot=True, fmt=\"d\", cbar=False)\n",
    "plt.title(\"RC_TFIDF Confusion matrix\")\n",
    "plt.show()"
   ]
  },
  {
   "cell_type": "code",
   "execution_count": 186,
   "id": "34a09677",
   "metadata": {},
   "outputs": [
    {
     "data": {
      "image/png": "[encoded data removed]",
      "text/plain": [
       "<Figure size 432x288 with 1 Axes>"
      ]
     },
     "metadata": {
      "needs_background": "light"
     },
     "output_type": "display_data"
    }
   ],
   "source": [
    "mnb_cm = confusion_matrix(MultinomialNB_TFIDF_predicted, y2_test)\n",
    "cm_df = pd.DataFrame(mnb_cm,\n",
    "                     index = [1, 2, 3, 4, 5], \n",
    "                     columns = [1, 2, 3, 4, 5])\n",
    "sns.heatmap(cm_df, annot=True, fmt=\"d\", cbar=False)\n",
    "plt.title(\"MultinomialNB Confusion matrix\")\n",
    "plt.show()"
   ]
  },
  {
   "cell_type": "code",
   "execution_count": 187,
   "id": "2f1f86bd",
   "metadata": {},
   "outputs": [
    {
     "data": {
      "image/png": "[encoded data removed]",
      "text/plain": [
       "<Figure size 432x288 with 1 Axes>"
      ]
     },
     "metadata": {
      "needs_background": "light"
     },
     "output_type": "display_data"
    }
   ],
   "source": [
    "lr_cm = confusion_matrix(Log_R_BoW_predicted, y2_test)\n",
    "cm_df = pd.DataFrame(lr_cm,\n",
    "                     index = [1, 2, 3, 4, 5], \n",
    "                     columns = [1, 2, 3, 4, 5])\n",
    "sns.heatmap(cm_df, annot=True, fmt=\"d\", cbar=False)\n",
    "plt.title(\"Log_R_BoW Confusion matrix\")\n",
    "plt.show()"
   ]
  },
  {
   "cell_type": "markdown",
   "id": "b43bede9",
   "metadata": {},
   "source": [
    "Лучше всего справились <b>логистическая регрессия</b> и <b>MultinomialNB</b> - у них меньше всего неправильно предсказанных классов."
   ]
  },
  {
   "cell_type": "markdown",
   "id": "05c6d2e5",
   "metadata": {},
   "source": [
    "Наблюдения:<br>\n",
    "* Разница между векторайзерами мизерная"
   ]
  },
  {
   "cell_type": "markdown",
   "id": "11a17032",
   "metadata": {},
   "source": [
    "Минусы:\n",
    "* Неправильно предсказывается 4 звезды вместо 5 + вместо 1 звезды ставится 5\n",
    "* Долгий серч"
   ]
  },
  {
   "cell_type": "markdown",
   "id": "526f914a",
   "metadata": {},
   "source": [
    "Плюсы:\n",
    "* В основном они предсказывают правильно (то есть хорошо различает плохие отзывы и нормально хорошие)\n",
    "* Хороший микро критерий"
   ]
  },
  {
   "cell_type": "markdown",
   "id": "06e65ecf",
   "metadata": {},
   "source": [
    "Что улучшить? <br>\n",
    "* Нормализовать классы\n",
    "* Не удалять стопслова\n",
    "* Попробовать нграммы в OneVsRestClassifier\n"
   ]
  }
 ],
 "metadata": {
  "kernelspec": {
   "display_name": "Python 3",
   "language": "python",
   "name": "python3"
  },
  "language_info": {
   "codemirror_mode": {
    "name": "ipython",
    "version": 3
   },
   "file_extension": ".py",
   "mimetype": "text/x-python",
   "name": "python",
   "nbconvert_exporter": "python",
   "pygments_lexer": "ipython3",
   "version": "3.8.5"
  }
 },
 "nbformat": 4,
 "nbformat_minor": 5
}
