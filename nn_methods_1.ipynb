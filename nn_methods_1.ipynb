{
 "cells": [
  {
   "cell_type": "code",
   "execution_count": 1,
   "id": "54b28b2e",
   "metadata": {},
   "outputs": [
    {
     "data": {
      "text/html": [
       "        <script type=\"text/javascript\">\n",
       "        window.PlotlyConfig = {MathJaxConfig: 'local'};\n",
       "        if (window.MathJax) {MathJax.Hub.Config({SVG: {font: \"STIX-Web\"}});}\n",
       "        if (typeof require !== 'undefined') {\n",
       "        require.undef(\"plotly\");\n",
       "        requirejs.config({\n",
       "            paths: {\n",
       "                'plotly': ['https://cdn.plot.ly/plotly-2.4.2.min']\n",
       "            }\n",
       "        });\n",
       "        require(['plotly'], function(Plotly) {\n",
       "            window._Plotly = Plotly;\n",
       "        });\n",
       "        }\n",
       "        </script>\n",
       "        "
      ]
     },
     "metadata": {},
     "output_type": "display_data"
    }
   ],
   "source": [
    "import numpy as np\n",
    "import pandas as pd\n",
    "pd.set_option('max_columns', None)\n",
    "import matplotlib.pyplot as plt\n",
    "import seaborn\n",
    "import plotly.offline as py\n",
    "py.init_notebook_mode(connected=True)\n",
    "import plotly.graph_objs as go\n",
    "import plotly.tools as tls\n",
    "from langdetect import detect\n",
    "%matplotlib inline"
   ]
  },
  {
   "cell_type": "code",
   "execution_count": 2,
   "id": "303aeb9c",
   "metadata": {},
   "outputs": [],
   "source": [
    "df = pd.read_csv('Shoes_Data.csv')"
   ]
  },
  {
   "cell_type": "code",
   "execution_count": 3,
   "id": "65a41695",
   "metadata": {},
   "outputs": [
    {
     "data": {
      "text/html": [
       "<div>\n",
       "<style scoped>\n",
       "    .dataframe tbody tr th:only-of-type {\n",
       "        vertical-align: middle;\n",
       "    }\n",
       "\n",
       "    .dataframe tbody tr th {\n",
       "        vertical-align: top;\n",
       "    }\n",
       "\n",
       "    .dataframe thead th {\n",
       "        text-align: right;\n",
       "    }\n",
       "</style>\n",
       "<table border=\"1\" class=\"dataframe\">\n",
       "  <thead>\n",
       "    <tr style=\"text-align: right;\">\n",
       "      <th></th>\n",
       "      <th>title</th>\n",
       "      <th>price</th>\n",
       "      <th>rating</th>\n",
       "      <th>total_reviews</th>\n",
       "      <th>product_description</th>\n",
       "      <th>reviews</th>\n",
       "      <th>reviews_rating</th>\n",
       "      <th>Shoe Type</th>\n",
       "    </tr>\n",
       "  </thead>\n",
       "  <tbody>\n",
       "    <tr>\n",
       "      <th>0</th>\n",
       "      <td>CLYMB Outdoor Sports Running Shoes for Mens Boy</td>\n",
       "      <td>₹279.00</td>\n",
       "      <td>2.9 out of 5 stars</td>\n",
       "      <td>2389 ratings</td>\n",
       "      <td>Elevate your style with this classy pair of Ru...</td>\n",
       "      <td>Not happy with product|| It's not as expected....</td>\n",
       "      <td>1.0 out of 5 stars|| 1.0 out of 5 stars|| 3.0 ...</td>\n",
       "      <td>Men</td>\n",
       "    </tr>\n",
       "    <tr>\n",
       "      <th>1</th>\n",
       "      <td>Bourge Men's Loire-z126 Running Shoes</td>\n",
       "      <td>₹479.00</td>\n",
       "      <td>3.9 out of 5 stars</td>\n",
       "      <td>11520 ratings</td>\n",
       "      <td>The product will be an excellent pick for you....</td>\n",
       "      <td>Memory cushioning in these shoes is the best f...</td>\n",
       "      <td>5.0 out of 5 stars|| 1.0 out of 5 stars|| 5.0 ...</td>\n",
       "      <td>Men</td>\n",
       "    </tr>\n",
       "    <tr>\n",
       "      <th>2</th>\n",
       "      <td>T-Rock Men's Sneaker</td>\n",
       "      <td>₹430.00</td>\n",
       "      <td>3.3 out of 5 stars</td>\n",
       "      <td>1251 ratings</td>\n",
       "      <td>Flaunt with these stylish and unique red casua...</td>\n",
       "      <td>Worth to its amount|| Go for it|| Perfect|| 5 ...</td>\n",
       "      <td>5.0 out of 5 stars|| 5.0 out of 5 stars|| 5.0 ...</td>\n",
       "      <td>Men</td>\n",
       "    </tr>\n",
       "    <tr>\n",
       "      <th>3</th>\n",
       "      <td>Robbie jones Sneakers Casual Canvas Fabric Col...</td>\n",
       "      <td>₹499.00</td>\n",
       "      <td>4.2 out of 5 stars</td>\n",
       "      <td>3 ratings</td>\n",
       "      <td>Robbie Jones Shoes Are Designed To Keeping In ...</td>\n",
       "      <td>Sup quality|| Good but not expected|| Awesome 👌.!</td>\n",
       "      <td>5.0 out of 5 stars|| 3.0 out of 5 stars|| 5.0 ...</td>\n",
       "      <td>Men</td>\n",
       "    </tr>\n",
       "    <tr>\n",
       "      <th>4</th>\n",
       "      <td>Sparx Men's Sd0323g Sneakers</td>\n",
       "      <td>₹499.00</td>\n",
       "      <td>4.2 out of 5 stars</td>\n",
       "      <td>20110 ratings</td>\n",
       "      <td>Sparx is a spectacular range of footwear from ...</td>\n",
       "      <td>Best|| Satisfied!|| Affordable beauty 😘😘😘😘 the...</td>\n",
       "      <td>5.0 out of 5 stars|| 5.0 out of 5 stars|| 5.0 ...</td>\n",
       "      <td>Men</td>\n",
       "    </tr>\n",
       "    <tr>\n",
       "      <th>...</th>\n",
       "      <td>...</td>\n",
       "      <td>...</td>\n",
       "      <td>...</td>\n",
       "      <td>...</td>\n",
       "      <td>...</td>\n",
       "      <td>...</td>\n",
       "      <td>...</td>\n",
       "      <td>...</td>\n",
       "    </tr>\n",
       "    <tr>\n",
       "      <th>1225</th>\n",
       "      <td>Nike Men's React Vision Running Shoes</td>\n",
       "      <td>₹7256.00</td>\n",
       "      <td>4.4 out of 5 stars</td>\n",
       "      <td>200 ratings</td>\n",
       "      <td>The Nike react vision is a STORY of surreal co...</td>\n",
       "      <td>Must buy|| not have a great fiting but great q...</td>\n",
       "      <td>5.0 out of 5 stars|| 3.0 out of 5 stars|| 5.0 ...</td>\n",
       "      <td>Women</td>\n",
       "    </tr>\n",
       "    <tr>\n",
       "      <th>1226</th>\n",
       "      <td>Puma Men's B.O.G Limitless Hi Evoknit Sneakers</td>\n",
       "      <td>₹5822.00</td>\n",
       "      <td>4.3 out of 5 stars</td>\n",
       "      <td>25 ratings</td>\n",
       "      <td>The B.O.G limitless is Puma's key style for th...</td>\n",
       "      <td>Worth buying !|| Classy Bold and Stylish !!|| ...</td>\n",
       "      <td>4.0 out of 5 stars|| 5.0 out of 5 stars|| 3.0 ...</td>\n",
       "      <td>Women</td>\n",
       "    </tr>\n",
       "    <tr>\n",
       "      <th>1227</th>\n",
       "      <td>new balance Women's FuelCell Echolucent Runnin...</td>\n",
       "      <td>₹5362.00</td>\n",
       "      <td>4.5 out of 5 stars</td>\n",
       "      <td>817 ratings</td>\n",
       "      <td>Lead the pack in New Balance’s Echolucent snea...</td>\n",
       "      <td>size variation in product recd n size chart|| ...</td>\n",
       "      <td>5.0 out of 5 stars|| 5.0 out of 5 stars|| 5.0 ...</td>\n",
       "      <td>Women</td>\n",
       "    </tr>\n",
       "    <tr>\n",
       "      <th>1228</th>\n",
       "      <td>Nike Women's WMNS Air Zoom Pegasus 37 Running ...</td>\n",
       "      <td>₹7480.00</td>\n",
       "      <td>4.5 out of 5 stars</td>\n",
       "      <td>67 ratings</td>\n",
       "      <td>Nike మహిళల రన్నింగ్ షూ ఫీల్స్ మరియు రూపం మృదువ...</td>\n",
       "      <td>Verified Purchase|| Verified Purchase|| Verifi...</td>\n",
       "      <td>5.0 out of 5 stars|| 5.0 out of 5 stars|| 4.0 ...</td>\n",
       "      <td>Women</td>\n",
       "    </tr>\n",
       "    <tr>\n",
       "      <th>1229</th>\n",
       "      <td>ASICS Women Gt-2000 7 Lite-Show Running Shoes</td>\n",
       "      <td>₹5719.00</td>\n",
       "      <td>4.1 out of 5 stars</td>\n",
       "      <td>210 ratings</td>\n",
       "      <td>The GT-2000 7 achieves a reassuringly firm rid...</td>\n",
       "      <td>Great shoe|| excellent quality|| Old manufactu...</td>\n",
       "      <td>5.0 out of 5 stars|| 5.0 out of 5 stars|| 3.0 ...</td>\n",
       "      <td>Women</td>\n",
       "    </tr>\n",
       "  </tbody>\n",
       "</table>\n",
       "<p>1230 rows × 8 columns</p>\n",
       "</div>"
      ],
      "text/plain": [
       "                                                  title     price  \\\n",
       "0       CLYMB Outdoor Sports Running Shoes for Mens Boy   ₹279.00   \n",
       "1                 Bourge Men's Loire-z126 Running Shoes   ₹479.00   \n",
       "2                                  T-Rock Men's Sneaker   ₹430.00   \n",
       "3     Robbie jones Sneakers Casual Canvas Fabric Col...   ₹499.00   \n",
       "4                          Sparx Men's Sd0323g Sneakers   ₹499.00   \n",
       "...                                                 ...       ...   \n",
       "1225              Nike Men's React Vision Running Shoes  ₹7256.00   \n",
       "1226     Puma Men's B.O.G Limitless Hi Evoknit Sneakers  ₹5822.00   \n",
       "1227  new balance Women's FuelCell Echolucent Runnin...  ₹5362.00   \n",
       "1228  Nike Women's WMNS Air Zoom Pegasus 37 Running ...  ₹7480.00   \n",
       "1229      ASICS Women Gt-2000 7 Lite-Show Running Shoes  ₹5719.00   \n",
       "\n",
       "                  rating  total_reviews  \\\n",
       "0     2.9 out of 5 stars   2389 ratings   \n",
       "1     3.9 out of 5 stars  11520 ratings   \n",
       "2     3.3 out of 5 stars   1251 ratings   \n",
       "3     4.2 out of 5 stars      3 ratings   \n",
       "4     4.2 out of 5 stars  20110 ratings   \n",
       "...                  ...            ...   \n",
       "1225  4.4 out of 5 stars    200 ratings   \n",
       "1226  4.3 out of 5 stars     25 ratings   \n",
       "1227  4.5 out of 5 stars    817 ratings   \n",
       "1228  4.5 out of 5 stars     67 ratings   \n",
       "1229  4.1 out of 5 stars    210 ratings   \n",
       "\n",
       "                                    product_description  \\\n",
       "0     Elevate your style with this classy pair of Ru...   \n",
       "1     The product will be an excellent pick for you....   \n",
       "2     Flaunt with these stylish and unique red casua...   \n",
       "3     Robbie Jones Shoes Are Designed To Keeping In ...   \n",
       "4     Sparx is a spectacular range of footwear from ...   \n",
       "...                                                 ...   \n",
       "1225  The Nike react vision is a STORY of surreal co...   \n",
       "1226  The B.O.G limitless is Puma's key style for th...   \n",
       "1227  Lead the pack in New Balance’s Echolucent snea...   \n",
       "1228  Nike మహిళల రన్నింగ్ షూ ఫీల్స్ మరియు రూపం మృదువ...   \n",
       "1229  The GT-2000 7 achieves a reassuringly firm rid...   \n",
       "\n",
       "                                                reviews  \\\n",
       "0     Not happy with product|| It's not as expected....   \n",
       "1     Memory cushioning in these shoes is the best f...   \n",
       "2     Worth to its amount|| Go for it|| Perfect|| 5 ...   \n",
       "3     Sup quality|| Good but not expected|| Awesome 👌.!   \n",
       "4     Best|| Satisfied!|| Affordable beauty 😘😘😘😘 the...   \n",
       "...                                                 ...   \n",
       "1225  Must buy|| not have a great fiting but great q...   \n",
       "1226  Worth buying !|| Classy Bold and Stylish !!|| ...   \n",
       "1227  size variation in product recd n size chart|| ...   \n",
       "1228  Verified Purchase|| Verified Purchase|| Verifi...   \n",
       "1229  Great shoe|| excellent quality|| Old manufactu...   \n",
       "\n",
       "                                         reviews_rating Shoe Type  \n",
       "0     1.0 out of 5 stars|| 1.0 out of 5 stars|| 3.0 ...       Men  \n",
       "1     5.0 out of 5 stars|| 1.0 out of 5 stars|| 5.0 ...       Men  \n",
       "2     5.0 out of 5 stars|| 5.0 out of 5 stars|| 5.0 ...       Men  \n",
       "3     5.0 out of 5 stars|| 3.0 out of 5 stars|| 5.0 ...       Men  \n",
       "4     5.0 out of 5 stars|| 5.0 out of 5 stars|| 5.0 ...       Men  \n",
       "...                                                 ...       ...  \n",
       "1225  5.0 out of 5 stars|| 3.0 out of 5 stars|| 5.0 ...     Women  \n",
       "1226  4.0 out of 5 stars|| 5.0 out of 5 stars|| 3.0 ...     Women  \n",
       "1227  5.0 out of 5 stars|| 5.0 out of 5 stars|| 5.0 ...     Women  \n",
       "1228  5.0 out of 5 stars|| 5.0 out of 5 stars|| 4.0 ...     Women  \n",
       "1229  5.0 out of 5 stars|| 5.0 out of 5 stars|| 3.0 ...     Women  \n",
       "\n",
       "[1230 rows x 8 columns]"
      ]
     },
     "execution_count": 3,
     "metadata": {},
     "output_type": "execute_result"
    }
   ],
   "source": [
    "df"
   ]
  },
  {
   "cell_type": "markdown",
   "id": "8c23f7e8",
   "metadata": {},
   "source": [
    "Преобразую числовые столбики в числа (откидываю кое-где части, т.к. они нули везде)"
   ]
  },
  {
   "cell_type": "code",
   "execution_count": null,
   "id": "58e23bda",
   "metadata": {},
   "outputs": [],
   "source": [
    "df['rating'] = [float(row.split()[0]) for row in df['rating']]\n",
    "\n",
    "for ind, row in enumerate(df['reviews_rating']):\n",
    "    splitted_row = row.split('|| ')\n",
    "    score = []\n",
    "    for review in splitted_row:\n",
    "        review = int(review[0:1])\n",
    "        score.append(review)\n",
    "    df['reviews_rating'][ind] = score"
   ]
  },
  {
   "cell_type": "code",
   "execution_count": 5,
   "id": "7e698c38",
   "metadata": {},
   "outputs": [],
   "source": [
    "df['price'] = [float(row[1:].split('.')[0]) for row in df['price']]"
   ]
  },
  {
   "cell_type": "markdown",
   "id": "c187e84f",
   "metadata": {},
   "source": [
    "А также разобью отзывы на один продукт на отдельные отзывы"
   ]
  },
  {
   "cell_type": "code",
   "execution_count": null,
   "id": "0adea4b2",
   "metadata": {},
   "outputs": [],
   "source": [
    "for ind, row in enumerate(df['reviews']):\n",
    "    splitted_row = row.split('|| ')\n",
    "    score = []\n",
    "    for review in splitted_row:\n",
    "        score.append(review)\n",
    "    df['reviews'][ind] = score"
   ]
  },
  {
   "cell_type": "code",
   "execution_count": 7,
   "id": "42b985a9",
   "metadata": {},
   "outputs": [
    {
     "data": {
      "text/html": [
       "<div>\n",
       "<style scoped>\n",
       "    .dataframe tbody tr th:only-of-type {\n",
       "        vertical-align: middle;\n",
       "    }\n",
       "\n",
       "    .dataframe tbody tr th {\n",
       "        vertical-align: top;\n",
       "    }\n",
       "\n",
       "    .dataframe thead th {\n",
       "        text-align: right;\n",
       "    }\n",
       "</style>\n",
       "<table border=\"1\" class=\"dataframe\">\n",
       "  <thead>\n",
       "    <tr style=\"text-align: right;\">\n",
       "      <th></th>\n",
       "      <th>title</th>\n",
       "      <th>price</th>\n",
       "      <th>rating</th>\n",
       "      <th>total_reviews</th>\n",
       "      <th>product_description</th>\n",
       "      <th>reviews</th>\n",
       "      <th>reviews_rating</th>\n",
       "      <th>Shoe Type</th>\n",
       "    </tr>\n",
       "  </thead>\n",
       "  <tbody>\n",
       "    <tr>\n",
       "      <th>0</th>\n",
       "      <td>CLYMB Outdoor Sports Running Shoes for Mens Boy</td>\n",
       "      <td>279.0</td>\n",
       "      <td>2.9</td>\n",
       "      <td>2389 ratings</td>\n",
       "      <td>Elevate your style with this classy pair of Ru...</td>\n",
       "      <td>[Not happy with product, It's not as expected....</td>\n",
       "      <td>[1, 1, 3, 3, 3, 2, 1, 2, 1, 1]</td>\n",
       "      <td>Men</td>\n",
       "    </tr>\n",
       "    <tr>\n",
       "      <th>1</th>\n",
       "      <td>Bourge Men's Loire-z126 Running Shoes</td>\n",
       "      <td>479.0</td>\n",
       "      <td>3.9</td>\n",
       "      <td>11520 ratings</td>\n",
       "      <td>The product will be an excellent pick for you....</td>\n",
       "      <td>[Memory cushioning in these shoes is the best ...</td>\n",
       "      <td>[5, 1, 5, 5, 4, 5, 5, 5, 4, 5]</td>\n",
       "      <td>Men</td>\n",
       "    </tr>\n",
       "    <tr>\n",
       "      <th>2</th>\n",
       "      <td>T-Rock Men's Sneaker</td>\n",
       "      <td>430.0</td>\n",
       "      <td>3.3</td>\n",
       "      <td>1251 ratings</td>\n",
       "      <td>Flaunt with these stylish and unique red casua...</td>\n",
       "      <td>[Worth to its amount, Go for it, Perfect, 5 st...</td>\n",
       "      <td>[5, 5, 5, 5, 1, 1, 5, 4, 1, 1]</td>\n",
       "      <td>Men</td>\n",
       "    </tr>\n",
       "    <tr>\n",
       "      <th>3</th>\n",
       "      <td>Robbie jones Sneakers Casual Canvas Fabric Col...</td>\n",
       "      <td>499.0</td>\n",
       "      <td>4.2</td>\n",
       "      <td>3 ratings</td>\n",
       "      <td>Robbie Jones Shoes Are Designed To Keeping In ...</td>\n",
       "      <td>[Sup quality, Good but not expected, Awesome 👌.!]</td>\n",
       "      <td>[5, 3, 5]</td>\n",
       "      <td>Men</td>\n",
       "    </tr>\n",
       "    <tr>\n",
       "      <th>4</th>\n",
       "      <td>Sparx Men's Sd0323g Sneakers</td>\n",
       "      <td>499.0</td>\n",
       "      <td>4.2</td>\n",
       "      <td>20110 ratings</td>\n",
       "      <td>Sparx is a spectacular range of footwear from ...</td>\n",
       "      <td>[Best, Satisfied!, Affordable beauty 😘😘😘😘 the ...</td>\n",
       "      <td>[5, 5, 5, 5, 5, 5, 1, 3, 2, 5]</td>\n",
       "      <td>Men</td>\n",
       "    </tr>\n",
       "    <tr>\n",
       "      <th>...</th>\n",
       "      <td>...</td>\n",
       "      <td>...</td>\n",
       "      <td>...</td>\n",
       "      <td>...</td>\n",
       "      <td>...</td>\n",
       "      <td>...</td>\n",
       "      <td>...</td>\n",
       "      <td>...</td>\n",
       "    </tr>\n",
       "    <tr>\n",
       "      <th>1225</th>\n",
       "      <td>Nike Men's React Vision Running Shoes</td>\n",
       "      <td>7256.0</td>\n",
       "      <td>4.4</td>\n",
       "      <td>200 ratings</td>\n",
       "      <td>The Nike react vision is a STORY of surreal co...</td>\n",
       "      <td>[Must buy, not have a great fiting but great q...</td>\n",
       "      <td>[5, 3, 5, 5, 5, 5, 5, 2, 4, 5]</td>\n",
       "      <td>Women</td>\n",
       "    </tr>\n",
       "    <tr>\n",
       "      <th>1226</th>\n",
       "      <td>Puma Men's B.O.G Limitless Hi Evoknit Sneakers</td>\n",
       "      <td>5822.0</td>\n",
       "      <td>4.3</td>\n",
       "      <td>25 ratings</td>\n",
       "      <td>The B.O.G limitless is Puma's key style for th...</td>\n",
       "      <td>[Worth buying !, Classy Bold and Stylish !!, N...</td>\n",
       "      <td>[4, 5, 3, 5, 5, 5, 5, 5, 5, 5]</td>\n",
       "      <td>Women</td>\n",
       "    </tr>\n",
       "    <tr>\n",
       "      <th>1227</th>\n",
       "      <td>new balance Women's FuelCell Echolucent Runnin...</td>\n",
       "      <td>5362.0</td>\n",
       "      <td>4.5</td>\n",
       "      <td>817 ratings</td>\n",
       "      <td>Lead the pack in New Balance’s Echolucent snea...</td>\n",
       "      <td>[size variation in product recd n size chart, ...</td>\n",
       "      <td>[5, 5, 5, 5, 1, 5, 3, 2, 5, 5]</td>\n",
       "      <td>Women</td>\n",
       "    </tr>\n",
       "    <tr>\n",
       "      <th>1228</th>\n",
       "      <td>Nike Women's WMNS Air Zoom Pegasus 37 Running ...</td>\n",
       "      <td>7480.0</td>\n",
       "      <td>4.5</td>\n",
       "      <td>67 ratings</td>\n",
       "      <td>Nike మహిళల రన్నింగ్ షూ ఫీల్స్ మరియు రూపం మృదువ...</td>\n",
       "      <td>[Verified Purchase, Verified Purchase, Verifie...</td>\n",
       "      <td>[5, 5, 4, 5, 5, 5, 5, 3, 5, 1]</td>\n",
       "      <td>Women</td>\n",
       "    </tr>\n",
       "    <tr>\n",
       "      <th>1229</th>\n",
       "      <td>ASICS Women Gt-2000 7 Lite-Show Running Shoes</td>\n",
       "      <td>5719.0</td>\n",
       "      <td>4.1</td>\n",
       "      <td>210 ratings</td>\n",
       "      <td>The GT-2000 7 achieves a reassuringly firm rid...</td>\n",
       "      <td>[Great shoe, excellent quality, Old manufactur...</td>\n",
       "      <td>[5, 5, 3, 5, 1, 5, 5, 5, 5, 5]</td>\n",
       "      <td>Women</td>\n",
       "    </tr>\n",
       "  </tbody>\n",
       "</table>\n",
       "<p>1230 rows × 8 columns</p>\n",
       "</div>"
      ],
      "text/plain": [
       "                                                  title   price  rating  \\\n",
       "0       CLYMB Outdoor Sports Running Shoes for Mens Boy   279.0     2.9   \n",
       "1                 Bourge Men's Loire-z126 Running Shoes   479.0     3.9   \n",
       "2                                  T-Rock Men's Sneaker   430.0     3.3   \n",
       "3     Robbie jones Sneakers Casual Canvas Fabric Col...   499.0     4.2   \n",
       "4                          Sparx Men's Sd0323g Sneakers   499.0     4.2   \n",
       "...                                                 ...     ...     ...   \n",
       "1225              Nike Men's React Vision Running Shoes  7256.0     4.4   \n",
       "1226     Puma Men's B.O.G Limitless Hi Evoknit Sneakers  5822.0     4.3   \n",
       "1227  new balance Women's FuelCell Echolucent Runnin...  5362.0     4.5   \n",
       "1228  Nike Women's WMNS Air Zoom Pegasus 37 Running ...  7480.0     4.5   \n",
       "1229      ASICS Women Gt-2000 7 Lite-Show Running Shoes  5719.0     4.1   \n",
       "\n",
       "      total_reviews                                product_description  \\\n",
       "0      2389 ratings  Elevate your style with this classy pair of Ru...   \n",
       "1     11520 ratings  The product will be an excellent pick for you....   \n",
       "2      1251 ratings  Flaunt with these stylish and unique red casua...   \n",
       "3         3 ratings  Robbie Jones Shoes Are Designed To Keeping In ...   \n",
       "4     20110 ratings  Sparx is a spectacular range of footwear from ...   \n",
       "...             ...                                                ...   \n",
       "1225    200 ratings  The Nike react vision is a STORY of surreal co...   \n",
       "1226     25 ratings  The B.O.G limitless is Puma's key style for th...   \n",
       "1227    817 ratings  Lead the pack in New Balance’s Echolucent snea...   \n",
       "1228     67 ratings  Nike మహిళల రన్నింగ్ షూ ఫీల్స్ మరియు రూపం మృదువ...   \n",
       "1229    210 ratings  The GT-2000 7 achieves a reassuringly firm rid...   \n",
       "\n",
       "                                                reviews  \\\n",
       "0     [Not happy with product, It's not as expected....   \n",
       "1     [Memory cushioning in these shoes is the best ...   \n",
       "2     [Worth to its amount, Go for it, Perfect, 5 st...   \n",
       "3     [Sup quality, Good but not expected, Awesome 👌.!]   \n",
       "4     [Best, Satisfied!, Affordable beauty 😘😘😘😘 the ...   \n",
       "...                                                 ...   \n",
       "1225  [Must buy, not have a great fiting but great q...   \n",
       "1226  [Worth buying !, Classy Bold and Stylish !!, N...   \n",
       "1227  [size variation in product recd n size chart, ...   \n",
       "1228  [Verified Purchase, Verified Purchase, Verifie...   \n",
       "1229  [Great shoe, excellent quality, Old manufactur...   \n",
       "\n",
       "                      reviews_rating Shoe Type  \n",
       "0     [1, 1, 3, 3, 3, 2, 1, 2, 1, 1]       Men  \n",
       "1     [5, 1, 5, 5, 4, 5, 5, 5, 4, 5]       Men  \n",
       "2     [5, 5, 5, 5, 1, 1, 5, 4, 1, 1]       Men  \n",
       "3                          [5, 3, 5]       Men  \n",
       "4     [5, 5, 5, 5, 5, 5, 1, 3, 2, 5]       Men  \n",
       "...                              ...       ...  \n",
       "1225  [5, 3, 5, 5, 5, 5, 5, 2, 4, 5]     Women  \n",
       "1226  [4, 5, 3, 5, 5, 5, 5, 5, 5, 5]     Women  \n",
       "1227  [5, 5, 5, 5, 1, 5, 3, 2, 5, 5]     Women  \n",
       "1228  [5, 5, 4, 5, 5, 5, 5, 3, 5, 1]     Women  \n",
       "1229  [5, 5, 3, 5, 1, 5, 5, 5, 5, 5]     Women  \n",
       "\n",
       "[1230 rows x 8 columns]"
      ]
     },
     "execution_count": 7,
     "metadata": {},
     "output_type": "execute_result"
    }
   ],
   "source": [
    "df"
   ]
  },
  {
   "cell_type": "code",
   "execution_count": 8,
   "id": "0e04222e",
   "metadata": {},
   "outputs": [],
   "source": [
    "df = df.drop(['total_reviews'], axis=1)\n",
    "df = df.drop(['Shoe Type'], axis=1)"
   ]
  },
  {
   "cell_type": "markdown",
   "id": "37460dc2",
   "metadata": {},
   "source": [
    "Сразу уберу неанлийский язык, потому что размер дф не оч большой, так что лангдетек простой и удобный способ"
   ]
  },
  {
   "cell_type": "code",
   "execution_count": 9,
   "id": "a9ad786d",
   "metadata": {},
   "outputs": [],
   "source": [
    "for ind, descr in enumerate(df['product_description']):\n",
    "    try:\n",
    "        if detect(descr) != 'en':\n",
    "            df = df.drop(ind)\n",
    "    except: # может быть LangDetectException, но она не встает на место исключения как ошибка\n",
    "        pass\n",
    "df = df.reset_index(drop=True)"
   ]
  },
  {
   "cell_type": "markdown",
   "id": "f26ec40b",
   "metadata": {},
   "source": [
    "Средний рейтинг тяготеет к 4, цена к 2000"
   ]
  },
  {
   "cell_type": "code",
   "execution_count": 10,
   "id": "059ba8e6",
   "metadata": {},
   "outputs": [
    {
     "data": {
      "text/html": [
       "<div>\n",
       "<style scoped>\n",
       "    .dataframe tbody tr th:only-of-type {\n",
       "        vertical-align: middle;\n",
       "    }\n",
       "\n",
       "    .dataframe tbody tr th {\n",
       "        vertical-align: top;\n",
       "    }\n",
       "\n",
       "    .dataframe thead th {\n",
       "        text-align: right;\n",
       "    }\n",
       "</style>\n",
       "<table border=\"1\" class=\"dataframe\">\n",
       "  <thead>\n",
       "    <tr style=\"text-align: right;\">\n",
       "      <th></th>\n",
       "      <th>price</th>\n",
       "      <th>rating</th>\n",
       "    </tr>\n",
       "  </thead>\n",
       "  <tbody>\n",
       "    <tr>\n",
       "      <th>count</th>\n",
       "      <td>1176.000000</td>\n",
       "      <td>1176.000000</td>\n",
       "    </tr>\n",
       "    <tr>\n",
       "      <th>mean</th>\n",
       "      <td>1965.300170</td>\n",
       "      <td>3.955357</td>\n",
       "    </tr>\n",
       "    <tr>\n",
       "      <th>std</th>\n",
       "      <td>1681.920662</td>\n",
       "      <td>0.460570</td>\n",
       "    </tr>\n",
       "    <tr>\n",
       "      <th>min</th>\n",
       "      <td>127.000000</td>\n",
       "      <td>1.000000</td>\n",
       "    </tr>\n",
       "    <tr>\n",
       "      <th>25%</th>\n",
       "      <td>608.000000</td>\n",
       "      <td>3.800000</td>\n",
       "    </tr>\n",
       "    <tr>\n",
       "      <th>50%</th>\n",
       "      <td>1509.000000</td>\n",
       "      <td>4.000000</td>\n",
       "    </tr>\n",
       "    <tr>\n",
       "      <th>75%</th>\n",
       "      <td>2748.250000</td>\n",
       "      <td>4.200000</td>\n",
       "    </tr>\n",
       "    <tr>\n",
       "      <th>max</th>\n",
       "      <td>7992.000000</td>\n",
       "      <td>5.000000</td>\n",
       "    </tr>\n",
       "  </tbody>\n",
       "</table>\n",
       "</div>"
      ],
      "text/plain": [
       "             price       rating\n",
       "count  1176.000000  1176.000000\n",
       "mean   1965.300170     3.955357\n",
       "std    1681.920662     0.460570\n",
       "min     127.000000     1.000000\n",
       "25%     608.000000     3.800000\n",
       "50%    1509.000000     4.000000\n",
       "75%    2748.250000     4.200000\n",
       "max    7992.000000     5.000000"
      ]
     },
     "execution_count": 10,
     "metadata": {},
     "output_type": "execute_result"
    }
   ],
   "source": [
    "df.describe()"
   ]
  },
  {
   "cell_type": "markdown",
   "id": "e95b318b",
   "metadata": {},
   "source": [
    "У цен есть заметные выбросы в высоком ценовом сегменте. Предполагаю, что для модели это создат трудности"
   ]
  },
  {
   "cell_type": "code",
   "execution_count": 11,
   "id": "de166ef8",
   "metadata": {},
   "outputs": [
    {
     "data": {
      "text/plain": [
       "<AxesSubplot:>"
      ]
     },
     "execution_count": 11,
     "metadata": {},
     "output_type": "execute_result"
    },
    {
     "data": {
      "image/png": "[encoded data removed]",
      "text/plain": [
       "<Figure size 432x288 with 1 Axes>"
      ]
     },
     "metadata": {
      "needs_background": "light"
     },
     "output_type": "display_data"
    }
   ],
   "source": [
    "import seaborn as sns\n",
    "\n",
    "sns.boxplot(data=df[['price']])"
   ]
  },
  {
   "cell_type": "markdown",
   "id": "e1f0810b",
   "metadata": {},
   "source": [
    "Рейтинги сосредоточены в 3-5 баллах, с выбросами в 1"
   ]
  },
  {
   "cell_type": "code",
   "execution_count": 12,
   "id": "3c362998",
   "metadata": {},
   "outputs": [
    {
     "data": {
      "image/png": "[encoded data removed]",
      "text/plain": [
       "<Figure size 432x288 with 1 Axes>"
      ]
     },
     "metadata": {
      "needs_background": "light"
     },
     "output_type": "display_data"
    }
   ],
   "source": [
    "ax = sns.boxplot(data=df[['rating']])"
   ]
  },
  {
   "cell_type": "markdown",
   "id": "c2868b3c",
   "metadata": {},
   "source": [
    "Я бы не назвал распределение оценок нормальным, но ничего критичного."
   ]
  },
  {
   "cell_type": "code",
   "execution_count": 13,
   "id": "cf74e087",
   "metadata": {},
   "outputs": [
    {
     "data": {
      "text/plain": [
       "<AxesSubplot:>"
      ]
     },
     "execution_count": 13,
     "metadata": {},
     "output_type": "execute_result"
    },
    {
     "data": {
      "image/png": "[encoded data removed]",
      "text/plain": [
       "<Figure size 432x288 with 1 Axes>"
      ]
     },
     "metadata": {
      "needs_background": "light"
     },
     "output_type": "display_data"
    }
   ],
   "source": [
    "df['rating'].value_counts().sort_index().plot.bar()"
   ]
  },
  {
   "cell_type": "markdown",
   "id": "9a79bcdb",
   "metadata": {},
   "source": [
    "А вот распределение цен сосредоточено в диапозоне 100-1000 евро.<br>\n",
    "Могу предположить, что для дорогих товаров будут какие-то специальные слова.<br>\n",
    "Или наоборот, дорогие товары не смогут предсказываться."
   ]
  },
  {
   "cell_type": "code",
   "execution_count": 14,
   "id": "5a181669",
   "metadata": {},
   "outputs": [
    {
     "data": {
      "text/plain": [
       "<AxesSubplot:>"
      ]
     },
     "execution_count": 14,
     "metadata": {},
     "output_type": "execute_result"
    },
    {
     "data": {
      "image/png": "[encoded data removed]",
      "text/plain": [
       "<Figure size 432x288 with 1 Axes>"
      ]
     },
     "metadata": {
      "needs_background": "light"
     },
     "output_type": "display_data"
    }
   ],
   "source": [
    "df['price'].value_counts().sort_index().plot()"
   ]
  },
  {
   "cell_type": "markdown",
   "id": "f3db8cd4",
   "metadata": {},
   "source": [
    "Длина описания ожидаема похожа на другие графики.<p>"
   ]
  },
  {
   "cell_type": "code",
   "execution_count": 15,
   "id": "a326a15e",
   "metadata": {},
   "outputs": [],
   "source": [
    "df['product_description_len'] = [len(descr) for descr in df['product_description']]"
   ]
  },
  {
   "cell_type": "code",
   "execution_count": 16,
   "id": "5a7b4c71",
   "metadata": {},
   "outputs": [
    {
     "data": {
      "text/plain": [
       "<AxesSubplot:>"
      ]
     },
     "execution_count": 16,
     "metadata": {},
     "output_type": "execute_result"
    },
    {
     "data": {
      "image/png": "[encoded data removed]",
      "text/plain": [
       "<Figure size 432x288 with 1 Axes>"
      ]
     },
     "metadata": {
      "needs_background": "light"
     },
     "output_type": "display_data"
    }
   ],
   "source": [
    "df['product_description_len'].value_counts().sort_index().plot()"
   ]
  },
  {
   "cell_type": "markdown",
   "id": "749de9cd",
   "metadata": {},
   "source": [
    "Длина отзывов обычно короткая, но с выбросами по несколько тысяч знаков"
   ]
  },
  {
   "cell_type": "code",
   "execution_count": 17,
   "id": "398cf062",
   "metadata": {},
   "outputs": [
    {
     "data": {
      "image/png": "[encoded data removed]",
      "text/plain": [
       "<Figure size 432x288 with 1 Axes>"
      ]
     },
     "metadata": {
      "needs_background": "light"
     },
     "output_type": "display_data"
    }
   ],
   "source": [
    "ax = sns.boxplot(data=df[['product_description_len']])"
   ]
  },
  {
   "cell_type": "markdown",
   "id": "20f92329",
   "metadata": {},
   "source": [
    "Корреляции довольно интересные (но они очень слабые!).<p>\n",
    "Чем больше цена, тем больше рейтинг.<p>\n",
    "Чем больше отзывов, тем меньше цена (массовость продукта)<p>\n",
    "Но чем больше пишут про продукт (в длине), тем он дороже."
   ]
  },
  {
   "cell_type": "code",
   "execution_count": 18,
   "id": "7e0f8561",
   "metadata": {},
   "outputs": [
    {
     "data": {
      "text/html": [
       "<div>\n",
       "<style scoped>\n",
       "    .dataframe tbody tr th:only-of-type {\n",
       "        vertical-align: middle;\n",
       "    }\n",
       "\n",
       "    .dataframe tbody tr th {\n",
       "        vertical-align: top;\n",
       "    }\n",
       "\n",
       "    .dataframe thead th {\n",
       "        text-align: right;\n",
       "    }\n",
       "</style>\n",
       "<table border=\"1\" class=\"dataframe\">\n",
       "  <thead>\n",
       "    <tr style=\"text-align: right;\">\n",
       "      <th></th>\n",
       "      <th>price</th>\n",
       "      <th>rating</th>\n",
       "      <th>product_description_len</th>\n",
       "    </tr>\n",
       "  </thead>\n",
       "  <tbody>\n",
       "    <tr>\n",
       "      <th>price</th>\n",
       "      <td>1.000000</td>\n",
       "      <td>0.206340</td>\n",
       "      <td>0.100968</td>\n",
       "    </tr>\n",
       "    <tr>\n",
       "      <th>rating</th>\n",
       "      <td>0.206340</td>\n",
       "      <td>1.000000</td>\n",
       "      <td>0.028269</td>\n",
       "    </tr>\n",
       "    <tr>\n",
       "      <th>product_description_len</th>\n",
       "      <td>0.100968</td>\n",
       "      <td>0.028269</td>\n",
       "      <td>1.000000</td>\n",
       "    </tr>\n",
       "  </tbody>\n",
       "</table>\n",
       "</div>"
      ],
      "text/plain": [
       "                            price    rating  product_description_len\n",
       "price                    1.000000  0.206340                 0.100968\n",
       "rating                   0.206340  1.000000                 0.028269\n",
       "product_description_len  0.100968  0.028269                 1.000000"
      ]
     },
     "execution_count": 18,
     "metadata": {},
     "output_type": "execute_result"
    }
   ],
   "source": [
    "df.corr()"
   ]
  },
  {
   "cell_type": "markdown",
   "id": "3cb12a9d",
   "metadata": {},
   "source": [
    "Подготовлю раздел описания. Очищу стопслова, лемматзирую. Мне кажется, вполне достаточно, это позволит найти уникальные слова для групп отзывов."
   ]
  },
  {
   "cell_type": "code",
   "execution_count": 19,
   "id": "2fbf4ec8",
   "metadata": {},
   "outputs": [
    {
     "name": "stderr",
     "output_type": "stream",
     "text": [
      "[nltk_data] Downloading package stopwords to\n",
      "[nltk_data]     C:\\Users\\trekc\\AppData\\Roaming\\nltk_data...\n",
      "[nltk_data]   Package stopwords is already up-to-date!\n"
     ]
    }
   ],
   "source": [
    "from string import punctuation\n",
    "punctuation += '...' + '—' + '…' + '«»'\n",
    "import nltk\n",
    "from nltk.corpus import stopwords\n",
    "import re\n",
    "nltk.download('stopwords')\n",
    "from sklearn.feature_extraction.text import TfidfVectorizer\n",
    "from sklearn.linear_model import LinearRegression, Ridge, Lasso, ElasticNet\n",
    "from sklearn.model_selection import train_test_split, KFold, cross_val_score, RepeatedKFold, GridSearchCV"
   ]
  },
  {
   "cell_type": "code",
   "execution_count": null,
   "id": "36e8f254",
   "metadata": {},
   "outputs": [],
   "source": [
    "from nltk.stem import WordNetLemmatizer\n",
    "lemmatizer = WordNetLemmatizer()\n",
    "from tqdm import tqdm\n",
    "\n",
    "\n",
    "for ind, descr in tqdm(enumerate(df['product_description'])):\n",
    "    descr = [word.lower().strip().strip(punctuation) for word in nltk.word_tokenize(descr)]\n",
    "    descr = [lemmatizer.lemmatize(w) for w in descr]\n",
    "    descr = [word for word in descr if word != '' or word != ' ']\n",
    "    descr = ' '.join([x for x in descr if x not in stopwords.words('english')])   \n",
    "    df['product_description'][ind] = descr\n",
    "    if df['product_description'][ind] == '':\n",
    "        df = df.drop(ind)\n",
    "\n",
    "df = df.reset_index(drop=True)"
   ]
  },
  {
   "cell_type": "markdown",
   "id": "31be92fb",
   "metadata": {},
   "source": [
    "Train либо автоматом ставится, либо 0.75, т.к. довольно мало данных"
   ]
  },
  {
   "cell_type": "code",
   "execution_count": 21,
   "id": "9a432ec3",
   "metadata": {},
   "outputs": [],
   "source": [
    "corpus = []\n",
    "for row in df['product_description']:\n",
    "    corpus.append(row)"
   ]
  },
  {
   "cell_type": "code",
   "execution_count": 22,
   "id": "479015bc",
   "metadata": {},
   "outputs": [],
   "source": [
    "y = np.array(df['price'])"
   ]
  },
  {
   "cell_type": "code",
   "execution_count": 23,
   "id": "7cc5b6f7",
   "metadata": {},
   "outputs": [],
   "source": [
    "from sklearn.feature_extraction.text import CountVectorizer\n",
    "\n",
    "vect1 = CountVectorizer()\n",
    "X1 = vect1.fit_transform(corpus)\n",
    "\n",
    "X1_train, X1_test, y1_train, y1_test = train_test_split(X1, y, test_size=0.70, random_state=42)"
   ]
  },
  {
   "cell_type": "code",
   "execution_count": 24,
   "id": "71c22f98",
   "metadata": {},
   "outputs": [],
   "source": [
    "vect = TfidfVectorizer()\n",
    "X = vect.fit_transform(corpus)\n",
    "\n",
    "X_train, X_test, y_train, y_test = train_test_split(X, y, test_size=0.70, random_state=42)"
   ]
  },
  {
   "cell_type": "markdown",
   "id": "0afbf06e",
   "metadata": {},
   "source": [
    "### Функция скоринга"
   ]
  },
  {
   "cell_type": "code",
   "execution_count": 25,
   "id": "c6236194",
   "metadata": {},
   "outputs": [],
   "source": [
    "from sklearn.metrics import *\n",
    "def scoring(y_test, y_pred):\n",
    "    print('MRSE (0 is better): ', mean_squared_error(y_test, y_pred, squared=False))\n",
    "    print('MAE (0 is better): ', mean_absolute_error(y_test, y_pred))\n",
    "    print('EVS (1 is better): ', explained_variance_score(y_test, y_pred)) # 1 is better\n",
    "    print('ME (0 is better): ', max_error(y_test, y_pred)) #shock\n",
    "    print('R2 (1 is better): ', r2_score(y_test, y_pred)) # 1 is better\n",
    "    print('MAPE (0 is better): ', mean_absolute_percentage_error(y_test, y_pred)) # 0 is better"
   ]
  },
  {
   "cell_type": "code",
   "execution_count": 26,
   "id": "a75c61bd",
   "metadata": {},
   "outputs": [],
   "source": [
    "def get_cv_scores(model):\n",
    "    scores = cross_val_score(model,\n",
    "                             X_train,\n",
    "                             y_train,\n",
    "                             cv=3,\n",
    "                             scoring='r2')\n",
    "    \n",
    "    print('CV Mean: ', np.mean(scores))\n",
    "    print('STD: ', np.std(scores))\n",
    "    print('\\n')"
   ]
  },
  {
   "cell_type": "markdown",
   "id": "326681e0",
   "metadata": {},
   "source": [
    "Далее будет проблема того, как сказать модели, что нельзя негативные значения. Я хз"
   ]
  },
  {
   "cell_type": "markdown",
   "id": "fa352421",
   "metadata": {},
   "source": [
    "# LR"
   ]
  },
  {
   "cell_type": "code",
   "execution_count": 27,
   "id": "c331b1d7",
   "metadata": {},
   "outputs": [],
   "source": [
    "# почему-то возникала ошибка UserWarning:\n",
    "# One or more of the test scores are non-finite\n",
    "# но в трейне нет таких значений\n",
    "import warnings\n",
    "warnings.filterwarnings(\"ignore\")\n",
    "\n",
    "def LR(X_train, y_train):\n",
    "    model = LinearRegression()\n",
    "\n",
    "    cv = RepeatedKFold(n_splits=5, n_repeats=3, random_state=1)\n",
    "\n",
    "    space = dict()\n",
    "    space['fit_intercept'] = [True, False]\n",
    "    space['positive'] = [True, False]\n",
    "    space['normalize'] = [True, False]\n",
    "\n",
    "    search = GridSearchCV(model, space, scoring='r2', n_jobs=-1, cv=cv)\n",
    "\n",
    "    result = search.fit(X_train, y_train)\n",
    "\n",
    "    print('Best Score: %s' % result.best_score_)\n",
    "    print('Best Hyperparameters: %s' % result.best_params_)"
   ]
  },
  {
   "cell_type": "code",
   "execution_count": 28,
   "id": "3c4d38aa",
   "metadata": {},
   "outputs": [
    {
     "name": "stdout",
     "output_type": "stream",
     "text": [
      "Best Score: 0.537043381619609\n",
      "Best Hyperparameters: {'fit_intercept': False, 'normalize': True, 'positive': False}\n"
     ]
    }
   ],
   "source": [
    "LR(X_train, y_train)"
   ]
  },
  {
   "cell_type": "code",
   "execution_count": 29,
   "id": "69f04b8c",
   "metadata": {},
   "outputs": [
    {
     "name": "stdout",
     "output_type": "stream",
     "text": [
      "Best Score: 0.2434798782176462\n",
      "Best Hyperparameters: {'fit_intercept': True, 'normalize': False, 'positive': False}\n"
     ]
    }
   ],
   "source": [
    "LR(X1_train, y1_train)"
   ]
  },
  {
   "cell_type": "code",
   "execution_count": 30,
   "id": "41638232",
   "metadata": {},
   "outputs": [
    {
     "name": "stdout",
     "output_type": "stream",
     "text": [
      "MRSE (0 is better):  1203.3122050657703\n",
      "MAE (0 is better):  734.8921403573532\n",
      "EVS (1 is better):  0.4785885806710012\n",
      "ME (0 is better):  6713.9420095092155\n",
      "R2 (1 is better):  0.45969010496724816\n",
      "MAPE (0 is better):  0.5511970068207365\n",
      "CV Mean:  0.5140333696734344\n",
      "STD:  0.07980263689521454\n",
      "\n",
      "\n"
     ]
    }
   ],
   "source": [
    "lr_TFIDF = LinearRegression(fit_intercept=False, normalize=True, positive=False).fit(X_train, y_train)\n",
    "lr_TFIDF_pred = lr_TFIDF.predict(X_test)\n",
    "scoring(y_test, lr_TFIDF_pred)\n",
    "get_cv_scores(lr_TFIDF)"
   ]
  },
  {
   "cell_type": "code",
   "execution_count": 31,
   "id": "47909b84",
   "metadata": {},
   "outputs": [
    {
     "name": "stdout",
     "output_type": "stream",
     "text": [
      "MRSE (0 is better):  1720.132284688193\n",
      "MAE (0 is better):  1077.3903641834934\n",
      "EVS (1 is better):  -0.1013631343679684\n",
      "ME (0 is better):  7538.187792208311\n",
      "R2 (1 is better):  -0.1041039709330891\n",
      "MAPE (0 is better):  0.9426595568707552\n",
      "CV Mean:  0.5140333696734344\n",
      "STD:  0.07980263689521454\n",
      "\n",
      "\n"
     ]
    }
   ],
   "source": [
    "lr_BoW = LinearRegression(fit_intercept=False, normalize=True, positive=False).fit(X1_train, y1_train)\n",
    "lr_BoW_pred = lr_BoW.predict(X1_test)\n",
    "scoring(y1_test, lr_BoW_pred)\n",
    "get_cv_scores(lr_BoW)"
   ]
  },
  {
   "cell_type": "markdown",
   "id": "4a7eb936",
   "metadata": {},
   "source": [
    "# Ridge"
   ]
  },
  {
   "cell_type": "code",
   "execution_count": 32,
   "id": "fef12322",
   "metadata": {},
   "outputs": [],
   "source": [
    "def RG(X_train, y_train):\n",
    "    model = Ridge()\n",
    "    cv = RepeatedKFold(n_splits=5, n_repeats=3, random_state=1)\n",
    "\n",
    "    space = dict()\n",
    "    space['solver'] = ['svd', 'cholesky', 'lsqr', 'sag']\n",
    "    space['alpha'] = [1e-5, 1e-4, 1e-3, 1e-2, 1e-1, 1, 10, 100]\n",
    "    space['fit_intercept'] = [True, False]\n",
    "    space['normalize'] = [True, False]\n",
    "\n",
    "    search = GridSearchCV(model, space, scoring='r2', n_jobs=-1, cv=cv)\n",
    "    result = search.fit(X_train, y_train)\n",
    "    \n",
    "    print('Best Score: %s' % result.best_score_)\n",
    "    print('Best Hyperparameters: %s' % result.best_params_)"
   ]
  },
  {
   "cell_type": "code",
   "execution_count": 33,
   "id": "dc2617a4",
   "metadata": {},
   "outputs": [
    {
     "name": "stdout",
     "output_type": "stream",
     "text": [
      "Best Score: 0.6453824476952522\n",
      "Best Hyperparameters: {'alpha': 0.1, 'fit_intercept': True, 'normalize': False, 'solver': 'sag'}\n"
     ]
    }
   ],
   "source": [
    "RG(X_train, y_train)"
   ]
  },
  {
   "cell_type": "code",
   "execution_count": 34,
   "id": "1733b676",
   "metadata": {},
   "outputs": [
    {
     "name": "stdout",
     "output_type": "stream",
     "text": [
      "Best Score: 0.5484019830860433\n",
      "Best Hyperparameters: {'alpha': 10, 'fit_intercept': True, 'normalize': False, 'solver': 'sag'}\n"
     ]
    }
   ],
   "source": [
    "RG(X1_train, y1_train)"
   ]
  },
  {
   "cell_type": "code",
   "execution_count": 35,
   "id": "c74eccda",
   "metadata": {},
   "outputs": [
    {
     "name": "stdout",
     "output_type": "stream",
     "text": [
      "MRSE (0 is better):  1061.4911849502612\n",
      "MAE (0 is better):  697.9356642544857\n",
      "EVS (1 is better):  0.5795479154443175\n",
      "ME (0 is better):  5472.941995387163\n",
      "R2 (1 is better):  0.5795454451817321\n",
      "MAPE (0 is better):  0.6204467733819815\n",
      "CV Mean:  0.6314791137971346\n",
      "STD:  0.0820828059944758\n",
      "\n",
      "\n"
     ]
    }
   ],
   "source": [
    "ridge_TFIDF = Ridge(alpha=0.1, fit_intercept=True, normalize=False, solver='sag').fit(X_train, y_train)\n",
    "ridge_TFIDF_pred = ridge_TFIDF.predict(X_test)\n",
    "scoring(y_test, ridge_TFIDF_pred)\n",
    "get_cv_scores(ridge_TFIDF)"
   ]
  },
  {
   "cell_type": "code",
   "execution_count": 36,
   "id": "210896e2",
   "metadata": {},
   "outputs": [
    {
     "name": "stdout",
     "output_type": "stream",
     "text": [
      "MRSE (0 is better):  1140.2525470435749\n",
      "MAE (0 is better):  797.5034768646688\n",
      "EVS (1 is better):  0.517035782576049\n",
      "ME (0 is better):  5939.408855042497\n",
      "R2 (1 is better):  0.5148362103406723\n",
      "MAPE (0 is better):  0.7470091805379785\n",
      "CV Mean:  0.23913531931795137\n",
      "STD:  0.029004668745643183\n",
      "\n",
      "\n"
     ]
    }
   ],
   "source": [
    "ridge_BoW = Ridge(alpha=10, fit_intercept=True, normalize=False, solver='sag').fit(X1_train, y1_train)\n",
    "ridge_BoW_pred = ridge_BoW.predict(X1_test)\n",
    "scoring(y1_test, ridge_BoW_pred)\n",
    "get_cv_scores(ridge_BoW)"
   ]
  },
  {
   "cell_type": "markdown",
   "id": "9305f71c",
   "metadata": {},
   "source": [
    "# Lasso"
   ]
  },
  {
   "cell_type": "markdown",
   "id": "e622bb39",
   "metadata": {},
   "source": [
    "Я взял все параметры, но кроме альфы ничего не важно.\n",
    "Использовал R2, потому что при логарифме модель не работает."
   ]
  },
  {
   "cell_type": "code",
   "execution_count": 37,
   "id": "4cf92216",
   "metadata": {},
   "outputs": [],
   "source": [
    "from sklearn.linear_model import Lasso\n",
    "\n",
    "def lss(X_train, y_train):\n",
    "    model = Lasso()\n",
    "    cv = RepeatedKFold(n_splits=5, n_repeats=3, random_state=1)\n",
    "\n",
    "    space = dict()\n",
    "    #space['positive'] = [True, False]\n",
    "    space['alpha'] = [1e-5, 1e-4, 1e-3, 1e-2, 1e-1, 1, 10, 100]\n",
    "    #space['fit_intercept'] = [True, False]\n",
    "    #space['normalize'] = [True, False]\n",
    "    #space['precompute'] = [True, False]\n",
    "    #space['selection'] = ['cyclic', 'random']\n",
    "\n",
    "    search = GridSearchCV(model, space, scoring='r2', n_jobs=-1, cv=cv)\n",
    "    result = search.fit(X_train, y_train)\n",
    "\n",
    "    print('Best Score: %s' % result.best_score_)\n",
    "    print('Best Hyperparameters: %s' % result.best_params_)"
   ]
  },
  {
   "cell_type": "code",
   "execution_count": 38,
   "id": "576f959c",
   "metadata": {},
   "outputs": [
    {
     "name": "stdout",
     "output_type": "stream",
     "text": [
      "Best Score: 0.6485960311534225\n",
      "Best Hyperparameters: {'alpha': 1}\n"
     ]
    }
   ],
   "source": [
    "lss(X_train, y_train)"
   ]
  },
  {
   "cell_type": "code",
   "execution_count": 39,
   "id": "a4126481",
   "metadata": {},
   "outputs": [
    {
     "name": "stdout",
     "output_type": "stream",
     "text": [
      "Best Score: 0.3677588081833993\n",
      "Best Hyperparameters: {'alpha': 10}\n"
     ]
    }
   ],
   "source": [
    "lss(X1_train, y1_train)"
   ]
  },
  {
   "cell_type": "code",
   "execution_count": 40,
   "id": "868cbba8",
   "metadata": {},
   "outputs": [
    {
     "name": "stdout",
     "output_type": "stream",
     "text": [
      "MRSE (0 is better):  1150.2008743853075\n",
      "MAE (0 is better):  762.8272375792524\n",
      "EVS (1 is better):  0.5165709414515178\n",
      "ME (0 is better):  5976.493370601433\n",
      "R2 (1 is better):  0.5063334916856879\n",
      "MAPE (0 is better):  0.6044346266374392\n",
      "CV Mean:  0.6282661178063907\n",
      "STD:  0.116930013880448\n",
      "\n",
      "\n"
     ]
    }
   ],
   "source": [
    "lasso_TFIDF = Lasso(alpha=1).fit(X_train, y_train)\n",
    "lasso_TFIDF_pred = lasso_TFIDF.predict(X_test)\n",
    "scoring(y_test, lasso_TFIDF_pred)\n",
    "get_cv_scores(lasso_TFIDF)"
   ]
  },
  {
   "cell_type": "code",
   "execution_count": 41,
   "id": "4f12b503",
   "metadata": {},
   "outputs": [
    {
     "name": "stdout",
     "output_type": "stream",
     "text": [
      "MRSE (0 is better):  1225.8850454343224\n",
      "MAE (0 is better):  850.4454176996754\n",
      "EVS (1 is better):  0.4469531259642503\n",
      "ME (0 is better):  6208.184067398684\n",
      "R2 (1 is better):  0.43922870857570506\n",
      "MAPE (0 is better):  0.7461661062199298\n",
      "CV Mean:  0.322141348245128\n",
      "STD:  0.080483470536653\n",
      "\n",
      "\n"
     ]
    }
   ],
   "source": [
    "lasso_BoW = Lasso(alpha=10).fit(X1_train, y1_train)\n",
    "lasso_BoW_pred = lasso_BoW.predict(X1_test)\n",
    "scoring(y1_test, lasso_BoW_pred)\n",
    "get_cv_scores(lasso_BoW)"
   ]
  },
  {
   "cell_type": "markdown",
   "id": "7d6f2774",
   "metadata": {},
   "source": [
    "# Elastic"
   ]
  },
  {
   "cell_type": "code",
   "execution_count": 42,
   "id": "fafff108",
   "metadata": {},
   "outputs": [],
   "source": [
    "from sklearn.linear_model import ElasticNet\n",
    "\n",
    "def els(X_train, y_train):\n",
    "    model = ElasticNet()\n",
    "    param_grid = dict()\n",
    "    param_grid['alpha'] = [0.001, 0.01, 0.1, 1, 10, 100, 1000]\n",
    "    param_grid['l1_ratio'] = [0, 0.1, 0.2, 0.3, 0.4, 0.5, 0.6, 0.7, 0.8, 0.9, 1]\n",
    "    #param_grid['fit_intercept'] = [True, False]\n",
    "    #param_grid['normalize'] = [True, False]\n",
    "    #param_grid['precompute'] = [True, False]\n",
    "    #param_grid['selection'] = ['cyclic', 'random']\n",
    "    #param_grid['positive'] = [True, False]\n",
    "\n",
    "    grid = GridSearchCV(estimator=model, param_grid=param_grid, scoring='r2', verbose=1, n_jobs=-1)\n",
    "    grid_result = grid.fit(X_train, y_train)\n",
    "    print('Best Score: ', grid_result.best_score_)\n",
    "    print('Best Params: ', grid_result.best_params_)"
   ]
  },
  {
   "cell_type": "code",
   "execution_count": 43,
   "id": "bdc0ba29",
   "metadata": {},
   "outputs": [
    {
     "name": "stdout",
     "output_type": "stream",
     "text": [
      "Fitting 5 folds for each of 77 candidates, totalling 385 fits\n",
      "Best Score:  0.5972370716495059\n",
      "Best Params:  {'alpha': 0.01, 'l1_ratio': 1}\n"
     ]
    }
   ],
   "source": [
    "els(X_train, y_train)"
   ]
  },
  {
   "cell_type": "code",
   "execution_count": 44,
   "id": "557cf954",
   "metadata": {},
   "outputs": [
    {
     "name": "stdout",
     "output_type": "stream",
     "text": [
      "Fitting 5 folds for each of 77 candidates, totalling 385 fits\n",
      "Best Score:  0.4718984438160013\n",
      "Best Params:  {'alpha': 10, 'l1_ratio': 1}\n"
     ]
    }
   ],
   "source": [
    "els(X1_train, y1_train)"
   ]
  },
  {
   "cell_type": "code",
   "execution_count": 47,
   "id": "3e76e1e7",
   "metadata": {},
   "outputs": [
    {
     "name": "stdout",
     "output_type": "stream",
     "text": [
      "MRSE (0 is better):  1191.0006773520338\n",
      "MAE (0 is better):  747.1323906521096\n",
      "EVS (1 is better):  0.473666867447748\n",
      "ME (0 is better):  6036.794894123247\n",
      "R2 (1 is better):  0.47068976156388587\n",
      "MAPE (0 is better):  0.6096799820571905\n",
      "CV Mean:  0.6392475194345265\n",
      "STD:  0.0586393352541853\n",
      "\n",
      "\n"
     ]
    }
   ],
   "source": [
    "elastic_TFIDF = ElasticNet(alpha=0.01, l1_ratio=1).fit(X_train, y_train)\n",
    "elastic_TFIDF_pred = elastic_TFIDF.predict(X_test)\n",
    "scoring(y_test, elastic_TFIDF_pred)\n",
    "get_cv_scores(elastic_TFIDF)"
   ]
  },
  {
   "cell_type": "code",
   "execution_count": 48,
   "id": "441a057e",
   "metadata": {},
   "outputs": [
    {
     "name": "stdout",
     "output_type": "stream",
     "text": [
      "MRSE (0 is better):  1225.8850454343224\n",
      "MAE (0 is better):  850.4454176996754\n",
      "EVS (1 is better):  0.4469531259642503\n",
      "ME (0 is better):  6208.184067398684\n",
      "R2 (1 is better):  0.43922870857570506\n",
      "MAPE (0 is better):  0.7461661062199298\n",
      "CV Mean:  0.322141348245128\n",
      "STD:  0.080483470536653\n",
      "\n",
      "\n"
     ]
    }
   ],
   "source": [
    "elastic_BoW = ElasticNet(alpha=10, l1_ratio=1).fit(X1_train, y1_train)\n",
    "elastic_BoW_pred = elastic_BoW.predict(X1_test)\n",
    "scoring(y1_test, elastic_BoW_pred)\n",
    "get_cv_scores(elastic_BoW)"
   ]
  },
  {
   "cell_type": "markdown",
   "id": "b8607688",
   "metadata": {},
   "source": [
    "TF IDF лучше по всем показателям, поэтому буду рассматривать дальше только его"
   ]
  },
  {
   "cell_type": "markdown",
   "id": "c54c697c",
   "metadata": {},
   "source": [
    "По показателям лучшая модель <b>Ridge</b>, <b>Lasso</b> и <b>Elastic</b>. Без понятия, почему именно они справились лучше (нам не поясняли про эти модели), но, учитывая, что на самом деле все модели показали схожий результат, это не так важно."
   ]
  },
  {
   "cell_type": "code",
   "execution_count": 49,
   "id": "ab22ab57",
   "metadata": {},
   "outputs": [],
   "source": [
    "ridge_df={'price': ridge_TFIDF_pred}\n",
    "lr_df={'price': lr_TFIDF_pred}\n",
    "lasso_df={'price': lasso_TFIDF_pred}\n",
    "elastic_df={'price': elastic_TFIDF_pred}"
   ]
  },
  {
   "cell_type": "code",
   "execution_count": 50,
   "id": "43b913ee",
   "metadata": {},
   "outputs": [],
   "source": [
    "ridge_df = pd.DataFrame.from_dict(ridge_df)\n",
    "lr_df = pd.DataFrame.from_dict(lr_df)\n",
    "lasso_df = pd.DataFrame.from_dict(lasso_df)\n",
    "elastic_df = pd.DataFrame.from_dict(elastic_df)"
   ]
  },
  {
   "cell_type": "markdown",
   "id": "1c20e9f8",
   "metadata": {},
   "source": [
    "Если сравнивать с исходными данными, то результаты очень даже ничего.<br>\n",
    "Основная масса данных в 1-3к, выбросы после 6к<br>\n",
    "Основной массив данных чуть сузился, выбросов стало поменьше (но они не исчезли - то есть модель умеет их предсказывать, что очень даже хорошо)! <br>\n",
    "Все модели справляются хорошо, но поточнее будет Ridge, Lasso и Elastic."
   ]
  },
  {
   "cell_type": "code",
   "execution_count": 52,
   "id": "5383093d",
   "metadata": {},
   "outputs": [
    {
     "data": {
      "image/png": "[encoded data removed]",
      "text/plain": [
       "<Figure size 1080x432 with 1 Axes>"
      ]
     },
     "metadata": {
      "needs_background": "light"
     },
     "output_type": "display_data"
    }
   ],
   "source": [
    "plt.figure(figsize=(15, 6))\n",
    "plt.boxplot([df['price'], ridge_df['price'], lr_df['price'], lasso_df['price'], elastic_df['price']])\n",
    "plt.show()"
   ]
  },
  {
   "cell_type": "markdown",
   "id": "5f8d5364",
   "metadata": {},
   "source": [
    "Если посмотреть на линейный график, то все в принципе тоже похоже. Но я предположу, что все же небольшие выбросы моя модель не всегда угадывает, поэтому общий результат не очень.<br>\n",
    "Пик между 4-5к более или менее уловила вышеупомянутая троица:"
   ]
  },
  {
   "cell_type": "code",
   "execution_count": 53,
   "id": "2f0be696",
   "metadata": {},
   "outputs": [
    {
     "data": {
      "text/plain": [
       "<AxesSubplot:>"
      ]
     },
     "execution_count": 53,
     "metadata": {},
     "output_type": "execute_result"
    },
    {
     "data": {
      "image/png": "[encoded data removed]",
      "text/plain": [
       "<Figure size 432x288 with 1 Axes>"
      ]
     },
     "metadata": {
      "needs_background": "light"
     },
     "output_type": "display_data"
    }
   ],
   "source": [
    "df['price'].value_counts().sort_index().plot()"
   ]
  },
  {
   "cell_type": "code",
   "execution_count": 54,
   "id": "b30e3311",
   "metadata": {},
   "outputs": [
    {
     "data": {
      "text/plain": [
       "<AxesSubplot:>"
      ]
     },
     "execution_count": 54,
     "metadata": {},
     "output_type": "execute_result"
    },
    {
     "data": {
      "image/png": "[encoded data removed]",
      "text/plain": [
       "<Figure size 432x288 with 1 Axes>"
      ]
     },
     "metadata": {
      "needs_background": "light"
     },
     "output_type": "display_data"
    }
   ],
   "source": [
    "lr_df['price'].value_counts().sort_index().plot()"
   ]
  },
  {
   "cell_type": "code",
   "execution_count": 55,
   "id": "b1fd1c59",
   "metadata": {},
   "outputs": [
    {
     "data": {
      "text/plain": [
       "<AxesSubplot:>"
      ]
     },
     "execution_count": 55,
     "metadata": {},
     "output_type": "execute_result"
    },
    {
     "data": {
      "image/png": "[encoded data removed]",
      "text/plain": [
       "<Figure size 432x288 with 1 Axes>"
      ]
     },
     "metadata": {
      "needs_background": "light"
     },
     "output_type": "display_data"
    }
   ],
   "source": [
    "ridge_df['price'].value_counts().sort_index().plot()"
   ]
  },
  {
   "cell_type": "code",
   "execution_count": 56,
   "id": "fc5759e7",
   "metadata": {},
   "outputs": [
    {
     "data": {
      "text/plain": [
       "<AxesSubplot:>"
      ]
     },
     "execution_count": 56,
     "metadata": {},
     "output_type": "execute_result"
    },
    {
     "data": {
      "image/png": "[encoded data removed]",
      "text/plain": [
       "<Figure size 432x288 with 1 Axes>"
      ]
     },
     "metadata": {
      "needs_background": "light"
     },
     "output_type": "display_data"
    }
   ],
   "source": [
    "lasso_df['price'].value_counts().sort_index().plot()"
   ]
  },
  {
   "cell_type": "code",
   "execution_count": 57,
   "id": "44108d22",
   "metadata": {},
   "outputs": [
    {
     "data": {
      "text/plain": [
       "<AxesSubplot:>"
      ]
     },
     "execution_count": 57,
     "metadata": {},
     "output_type": "execute_result"
    },
    {
     "data": {
      "image/png": "[encoded data removed]",
      "text/plain": [
       "<Figure size 432x288 with 1 Axes>"
      ]
     },
     "metadata": {
      "needs_background": "light"
     },
     "output_type": "display_data"
    }
   ],
   "source": [
    "elastic_df['price'].value_counts().sort_index().plot()"
   ]
  },
  {
   "cell_type": "markdown",
   "id": "509c649d",
   "metadata": {},
   "source": [
    "Все модели предсказали отрицательные значения, но лучше всего справился Ridge:"
   ]
  },
  {
   "cell_type": "code",
   "execution_count": 58,
   "id": "8657719e",
   "metadata": {},
   "outputs": [
    {
     "name": "stdout",
     "output_type": "stream",
     "text": [
      "127.0\n",
      "-343.85417379621686\n",
      "-1497.9555914850202\n",
      "-954.9791103678876\n",
      "-937.8509922075477\n"
     ]
    }
   ],
   "source": [
    "print(df['price'].min())\n",
    "print(ridge_df['price'].min())\n",
    "print(lr_df['price'].min())\n",
    "print(lasso_df['price'].min())\n",
    "print(elastic_df['price'].min())"
   ]
  },
  {
   "cell_type": "markdown",
   "id": "248e61e4",
   "metadata": {},
   "source": [
    "С макс значениями все близки, но получше будет линейная регрессия."
   ]
  },
  {
   "cell_type": "code",
   "execution_count": 59,
   "id": "1b3aebb3",
   "metadata": {},
   "outputs": [
    {
     "name": "stdout",
     "output_type": "stream",
     "text": [
      "7992.0\n",
      "7552.955930731997\n",
      "7701.999948933658\n",
      "7493.609618304199\n",
      "7700.054246289668\n"
     ]
    }
   ],
   "source": [
    "print(df['price'].max())\n",
    "print(ridge_df['price'].max())\n",
    "print(lr_df['price'].max())\n",
    "print(lasso_df['price'].max())\n",
    "print(elastic_df['price'].max())"
   ]
  },
  {
   "cell_type": "markdown",
   "id": "7a45203a",
   "metadata": {},
   "source": [
    "Я бы выбрал <b>Ridge</b>, потому что в общем плане он же все же ближе к истине, судя по графикам. Да и оценки модели у него почти лучшие.<br> Хотя, от раза в раз, показатели меняются, и иногда лучше себя показывает <b>Elastic</b> или <b>Lasso</b>"
   ]
  },
  {
   "cell_type": "markdown",
   "id": "28795c2d",
   "metadata": {},
   "source": [
    "* Улучшить модели можно было бы, если сказать им, что нельзя предсказывать отрицательные значения\n",
    "* Можно иначе лемматизировать (не убирать стопслова, например)"
   ]
  },
  {
   "cell_type": "markdown",
   "id": "2c6eae08",
   "metadata": {},
   "source": [
    "Слабые места: <br>\n",
    "* Отрицательные значения\n",
    "* Выбросы <p>"
   ]
  },
  {
   "cell_type": "markdown",
   "id": "6f8b82fe",
   "metadata": {},
   "source": [
    "Сильные места: <br>\n",
    "* В общем предсказывает правильно\n",
    "* Некоторые высокие цены все же отгадала"
   ]
  },
  {
   "cell_type": "markdown",
   "id": "d0bebcfb",
   "metadata": {},
   "source": [
    "# Часть 2"
   ]
  },
  {
   "cell_type": "markdown",
   "id": "be26afce",
   "metadata": {},
   "source": [
    "Конвертирую дф во что-то более удобное"
   ]
  },
  {
   "cell_type": "code",
   "execution_count": 60,
   "id": "9e512926",
   "metadata": {},
   "outputs": [],
   "source": [
    "df2 = df[['reviews', 'reviews_rating']].copy()"
   ]
  },
  {
   "cell_type": "code",
   "execution_count": 61,
   "id": "44b56eea",
   "metadata": {},
   "outputs": [],
   "source": [
    "revs = list()\n",
    "revs = [rev for li in df2['reviews'] for rev in li]\n",
    "\n",
    "rats = list()\n",
    "rats = [rev for li in df2['reviews_rating'] for rev in li]"
   ]
  },
  {
   "cell_type": "code",
   "execution_count": 62,
   "id": "e39991e4",
   "metadata": {},
   "outputs": [],
   "source": [
    "df2 = pd.DataFrame(list(zip(revs, rats)),\n",
    "                  columns=['reviews', 'reviews_rating'])"
   ]
  },
  {
   "cell_type": "code",
   "execution_count": 63,
   "id": "982fcf01",
   "metadata": {},
   "outputs": [
    {
     "data": {
      "text/html": [
       "<div>\n",
       "<style scoped>\n",
       "    .dataframe tbody tr th:only-of-type {\n",
       "        vertical-align: middle;\n",
       "    }\n",
       "\n",
       "    .dataframe tbody tr th {\n",
       "        vertical-align: top;\n",
       "    }\n",
       "\n",
       "    .dataframe thead th {\n",
       "        text-align: right;\n",
       "    }\n",
       "</style>\n",
       "<table border=\"1\" class=\"dataframe\">\n",
       "  <thead>\n",
       "    <tr style=\"text-align: right;\">\n",
       "      <th></th>\n",
       "      <th>reviews</th>\n",
       "      <th>reviews_rating</th>\n",
       "    </tr>\n",
       "  </thead>\n",
       "  <tbody>\n",
       "    <tr>\n",
       "      <th>0</th>\n",
       "      <td>Not happy with product</td>\n",
       "      <td>1</td>\n",
       "    </tr>\n",
       "    <tr>\n",
       "      <th>1</th>\n",
       "      <td>It's not as expected.</td>\n",
       "      <td>1</td>\n",
       "    </tr>\n",
       "    <tr>\n",
       "      <th>2</th>\n",
       "      <td>AVERAGE PRODUCT</td>\n",
       "      <td>3</td>\n",
       "    </tr>\n",
       "    <tr>\n",
       "      <th>3</th>\n",
       "      <td>Pic more beautiful</td>\n",
       "      <td>3</td>\n",
       "    </tr>\n",
       "    <tr>\n",
       "      <th>4</th>\n",
       "      <td>Got damage product. But quality is average for...</td>\n",
       "      <td>3</td>\n",
       "    </tr>\n",
       "    <tr>\n",
       "      <th>...</th>\n",
       "      <td>...</td>\n",
       "      <td>...</td>\n",
       "    </tr>\n",
       "    <tr>\n",
       "      <th>9560</th>\n",
       "      <td>Go for it!</td>\n",
       "      <td>5</td>\n",
       "    </tr>\n",
       "    <tr>\n",
       "      <th>9561</th>\n",
       "      <td>Excellent product</td>\n",
       "      <td>5</td>\n",
       "    </tr>\n",
       "    <tr>\n",
       "      <th>9562</th>\n",
       "      <td>Nice shoe</td>\n",
       "      <td>5</td>\n",
       "    </tr>\n",
       "    <tr>\n",
       "      <th>9563</th>\n",
       "      <td>Nice</td>\n",
       "      <td>5</td>\n",
       "    </tr>\n",
       "    <tr>\n",
       "      <th>9564</th>\n",
       "      <td>Asics shoes are the best</td>\n",
       "      <td>5</td>\n",
       "    </tr>\n",
       "  </tbody>\n",
       "</table>\n",
       "<p>9565 rows × 2 columns</p>\n",
       "</div>"
      ],
      "text/plain": [
       "                                                reviews  reviews_rating\n",
       "0                                Not happy with product               1\n",
       "1                                 It's not as expected.               1\n",
       "2                                       AVERAGE PRODUCT               3\n",
       "3                                    Pic more beautiful               3\n",
       "4     Got damage product. But quality is average for...               3\n",
       "...                                                 ...             ...\n",
       "9560                                         Go for it!               5\n",
       "9561                                  Excellent product               5\n",
       "9562                                          Nice shoe               5\n",
       "9563                                               Nice               5\n",
       "9564                           Asics shoes are the best               5\n",
       "\n",
       "[9565 rows x 2 columns]"
      ]
     },
     "execution_count": 63,
     "metadata": {},
     "output_type": "execute_result"
    }
   ],
   "source": [
    "df2"
   ]
  },
  {
   "cell_type": "markdown",
   "id": "8179db85",
   "metadata": {},
   "source": [
    "Что можно сказать? Обычно оценки либо очень хорошие, либо очень плохие. Но истина как всегда чуть больше середины"
   ]
  },
  {
   "cell_type": "code",
   "execution_count": 64,
   "id": "176a31ca",
   "metadata": {},
   "outputs": [
    {
     "data": {
      "text/html": [
       "<div>\n",
       "<style scoped>\n",
       "    .dataframe tbody tr th:only-of-type {\n",
       "        vertical-align: middle;\n",
       "    }\n",
       "\n",
       "    .dataframe tbody tr th {\n",
       "        vertical-align: top;\n",
       "    }\n",
       "\n",
       "    .dataframe thead th {\n",
       "        text-align: right;\n",
       "    }\n",
       "</style>\n",
       "<table border=\"1\" class=\"dataframe\">\n",
       "  <thead>\n",
       "    <tr style=\"text-align: right;\">\n",
       "      <th></th>\n",
       "      <th>reviews_rating</th>\n",
       "    </tr>\n",
       "  </thead>\n",
       "  <tbody>\n",
       "    <tr>\n",
       "      <th>count</th>\n",
       "      <td>9565.000000</td>\n",
       "    </tr>\n",
       "    <tr>\n",
       "      <th>mean</th>\n",
       "      <td>3.763722</td>\n",
       "    </tr>\n",
       "    <tr>\n",
       "      <th>std</th>\n",
       "      <td>1.531491</td>\n",
       "    </tr>\n",
       "    <tr>\n",
       "      <th>min</th>\n",
       "      <td>1.000000</td>\n",
       "    </tr>\n",
       "    <tr>\n",
       "      <th>25%</th>\n",
       "      <td>3.000000</td>\n",
       "    </tr>\n",
       "    <tr>\n",
       "      <th>50%</th>\n",
       "      <td>4.000000</td>\n",
       "    </tr>\n",
       "    <tr>\n",
       "      <th>75%</th>\n",
       "      <td>5.000000</td>\n",
       "    </tr>\n",
       "    <tr>\n",
       "      <th>max</th>\n",
       "      <td>5.000000</td>\n",
       "    </tr>\n",
       "  </tbody>\n",
       "</table>\n",
       "</div>"
      ],
      "text/plain": [
       "       reviews_rating\n",
       "count     9565.000000\n",
       "mean         3.763722\n",
       "std          1.531491\n",
       "min          1.000000\n",
       "25%          3.000000\n",
       "50%          4.000000\n",
       "75%          5.000000\n",
       "max          5.000000"
      ]
     },
     "execution_count": 64,
     "metadata": {},
     "output_type": "execute_result"
    }
   ],
   "source": [
    "df2.describe()"
   ]
  },
  {
   "cell_type": "code",
   "execution_count": 65,
   "id": "19529726",
   "metadata": {},
   "outputs": [
    {
     "data": {
      "image/png": "[encoded data removed]",
      "text/plain": [
       "<Figure size 432x288 with 1 Axes>"
      ]
     },
     "metadata": {
      "needs_background": "light"
     },
     "output_type": "display_data"
    }
   ],
   "source": [
    "ax = sns.boxplot(data=df2[['reviews_rating']])"
   ]
  },
  {
   "cell_type": "markdown",
   "id": "cf1a58b3",
   "metadata": {},
   "source": [
    "##### Судя по графикам, надо использовать микро-скоринги (несбалансированные графики)"
   ]
  },
  {
   "cell_type": "code",
   "execution_count": 66,
   "id": "faee42b4",
   "metadata": {},
   "outputs": [
    {
     "data": {
      "text/plain": [
       "<AxesSubplot:>"
      ]
     },
     "execution_count": 66,
     "metadata": {},
     "output_type": "execute_result"
    },
    {
     "data": {
      "image/png": "[encoded data removed]",
      "text/plain": [
       "<Figure size 432x288 with 1 Axes>"
      ]
     },
     "metadata": {
      "needs_background": "light"
     },
     "output_type": "display_data"
    }
   ],
   "source": [
    "df2['reviews_rating'].value_counts().sort_index().plot.bar()"
   ]
  },
  {
   "cell_type": "code",
   "execution_count": 67,
   "id": "ff47c6c6",
   "metadata": {},
   "outputs": [
    {
     "name": "stderr",
     "output_type": "stream",
     "text": [
      "9565it [00:12, 748.56it/s]\n"
     ]
    }
   ],
   "source": [
    "for ind, descr in tqdm(enumerate(df2['reviews'])):\n",
    "    descr = [word.lower().strip().strip(punctuation) for word in nltk.word_tokenize(descr)]\n",
    "    descr = [lemmatizer.lemmatize(w) for w in descr]\n",
    "    descr = [word for word in descr if word != '' or word != ' ']\n",
    "    descr = ' '.join([x for x in descr if x not in stopwords.words('english')])   \n",
    "    df2['reviews'][ind] = descr\n",
    "    if df2['reviews'][ind] == '':\n",
    "        df2 = df2.drop(ind)\n",
    "\n",
    "df2 = df2.reset_index(drop=True)"
   ]
  },
  {
   "cell_type": "markdown",
   "id": "1769329f",
   "metadata": {},
   "source": [
    "Попробовав разные варианты, я решил, что лучше ничего особо не чистить. Могут встречаться смайлики, а они вполне влияют на отзыв (например, смайлики ❤😍 показывают, что отзыв вероятно положительный).<br>\n",
    "Было бы вообще интересно поизучать это."
   ]
  },
  {
   "cell_type": "code",
   "execution_count": 68,
   "id": "918978fb",
   "metadata": {},
   "outputs": [],
   "source": [
    "def scoring2(predicted,  y2_test):\n",
    "    acc = accuracy_score(predicted, y2_test)\n",
    "    micro_f1 = f1_score(predicted, y2_test, average = 'micro')\n",
    "    micro_p = precision_score(predicted, y2_test, average = 'micro')\n",
    "    micro_r = recall_score(predicted, y2_test, average = 'micro')\n",
    "    macro_f1 = f1_score(predicted, y2_test, average = 'macro')\n",
    "    macro_p = precision_score(predicted, y2_test, average = 'macro')\n",
    "    macro_r = recall_score(predicted, y2_test, average = 'macro')\n",
    "    print('acc={0:1.4f}'.format(acc))\n",
    "    print('micro F1={0:1.4f}, micro P={1:1.4f}, micro R={2:1.4f}'.format(micro_f1, micro_p, micro_r))\n",
    "    print('macro F1={0:1.4f}, macro P={1:1.4f}, macro R={2:1.4f}\\n'.format(macro_f1, macro_p, macro_r))"
   ]
  },
  {
   "cell_type": "code",
   "execution_count": 69,
   "id": "05d1dc09",
   "metadata": {},
   "outputs": [],
   "source": [
    "corpus2 = []\n",
    "for row in df2['reviews']:\n",
    "    corpus2.append(row)"
   ]
  },
  {
   "cell_type": "code",
   "execution_count": 70,
   "id": "7baf2411",
   "metadata": {},
   "outputs": [],
   "source": [
    "y2 = np.array(df2['reviews_rating'])"
   ]
  },
  {
   "cell_type": "markdown",
   "id": "de7ecd33",
   "metadata": {},
   "source": [
    "### TF IDF"
   ]
  },
  {
   "cell_type": "code",
   "execution_count": 71,
   "id": "f6bccfd6",
   "metadata": {},
   "outputs": [],
   "source": [
    "vect2 = TfidfVectorizer()\n",
    "X2 = vect2.fit_transform(corpus2)\n",
    "X2_train, X2_test, y2_train, y2_test = train_test_split(X2, y2, random_state=42)"
   ]
  },
  {
   "cell_type": "markdown",
   "id": "05015765",
   "metadata": {},
   "source": [
    "### CountVectorizer"
   ]
  },
  {
   "cell_type": "code",
   "execution_count": 72,
   "id": "bc6d617b",
   "metadata": {},
   "outputs": [],
   "source": [
    "vect3 = CountVectorizer()\n",
    "X3 = vect3.fit_transform(corpus2)\n",
    "X3_train, X3_test, y3_train, y3_test = train_test_split(X3, y2, random_state=42)"
   ]
  },
  {
   "cell_type": "markdown",
   "id": "ec3b4da0",
   "metadata": {},
   "source": [
    "### KNN"
   ]
  },
  {
   "cell_type": "code",
   "execution_count": 73,
   "id": "c7d86d22",
   "metadata": {},
   "outputs": [],
   "source": [
    "from sklearn.neighbors import KNeighborsClassifier"
   ]
  },
  {
   "cell_type": "code",
   "execution_count": 91,
   "id": "afe7556f",
   "metadata": {},
   "outputs": [],
   "source": [
    "def KNC(x_train, y_train):\n",
    "    model = KNeighborsClassifier()\n",
    "    cv = RepeatedKFold(n_splits=5, n_repeats=3, random_state=1)\n",
    "\n",
    "    space = dict()\n",
    "    space['n_neighbors'] = [1, 2, 3, 4, 5, 6, 7, 8, 9, 10]\n",
    "    space['weights'] = ['uniform', 'distance']\n",
    "    space['p'] = [1, 2]\n",
    "    space['metric'] = ['euclidean', 'manhattan', 'chebyshev', 'minkowski', 'wminkowski', 'seuclidean', 'mahalanobis']\n",
    "\n",
    "    search = GridSearchCV(model, space, scoring='f1_micro', n_jobs=-1, cv=cv)\n",
    "    result = search.fit(x_train, y_train)\n",
    "    print('Best Score: %s' % result.best_score_)\n",
    "    print('Best Hyperparameters: %s' % result.best_params_)"
   ]
  },
  {
   "cell_type": "code",
   "execution_count": 78,
   "id": "08af53c7",
   "metadata": {},
   "outputs": [
    {
     "name": "stdout",
     "output_type": "stream",
     "text": [
      "Best Score: 0.6085706176259011\n",
      "Best Hyperparameters: {'metric': 'euclidean', 'n_neighbors': 9, 'p': 1, 'weights': 'distance'}\n"
     ]
    }
   ],
   "source": [
    "KNC(X2_train, y2_train)"
   ]
  },
  {
   "cell_type": "code",
   "execution_count": 79,
   "id": "a956a652",
   "metadata": {},
   "outputs": [
    {
     "name": "stdout",
     "output_type": "stream",
     "text": [
      "Best Score: 0.6201337920302231\n",
      "Best Hyperparameters: {'metric': 'manhattan', 'n_neighbors': 10, 'p': 1, 'weights': 'distance'}\n"
     ]
    }
   ],
   "source": [
    "KNC(X3_train, y3_train)"
   ]
  },
  {
   "cell_type": "code",
   "execution_count": 93,
   "id": "5f2512bf",
   "metadata": {},
   "outputs": [
    {
     "name": "stdout",
     "output_type": "stream",
     "text": [
      "acc=0.6145\n",
      "micro F1=0.6145, micro P=0.6145, micro R=0.6145\n",
      "macro F1=0.4720, macro P=0.4373, macro R=0.5645\n",
      "\n"
     ]
    }
   ],
   "source": [
    "KNC_TFIDF = KNeighborsClassifier(metric='euclidean', n_neighbors=9, p=1, weights='distance').fit(X2_train, y2_train)\n",
    "KNC_TFIDF_predicted = KNC_TFIDF.predict(X2_test)\n",
    "scoring2(KNC_TFIDF_predicted, y2_test)"
   ]
  },
  {
   "cell_type": "code",
   "execution_count": 90,
   "id": "4ba33ef7",
   "metadata": {},
   "outputs": [
    {
     "name": "stdout",
     "output_type": "stream",
     "text": [
      "acc=0.6221\n",
      "micro F1=0.6221, micro P=0.6221, micro R=0.6221\n",
      "macro F1=0.4849, macro P=0.4475, macro R=0.5993\n",
      "\n"
     ]
    }
   ],
   "source": [
    "KNC_BoW = KNeighborsClassifier(metric='euclidean', n_neighbors=10, p=1, weights='distance').fit(X3_train, y3_train)\n",
    "KNC_BoW_predicted = KNC_BoW.predict(X3_test)\n",
    "scoring2(KNC_BoW_predicted, y3_test)"
   ]
  },
  {
   "cell_type": "markdown",
   "id": "1d517bb2",
   "metadata": {},
   "source": [
    "# MultinomialNB"
   ]
  },
  {
   "cell_type": "code",
   "execution_count": 94,
   "id": "0f801b43",
   "metadata": {},
   "outputs": [],
   "source": [
    "from sklearn.naive_bayes import MultinomialNB\n",
    "\n",
    "def MNB(x_train, y_train):\n",
    "    model = MultinomialNB()\n",
    "    cv = RepeatedKFold(n_splits=5, n_repeats=3, random_state=1)\n",
    "\n",
    "    space = dict()\n",
    "    space['class_prior'] = [None, 0, 1, 2]\n",
    "    space['alpha'] = [1e-5, 1e-4, 1e-3, 1e-2, 1e-1, 1, 10, 100]\n",
    "    space['fit_prior'] = [True, False]\n",
    "\n",
    "    search = GridSearchCV(model, space, scoring='f1_micro', n_jobs=-1, cv=cv)\n",
    "    result = search.fit(x_train, y_train)\n",
    "    print('Best Score: %s' % result.best_score_)\n",
    "    print('Best Hyperparameters: %s' % result.best_params_)"
   ]
  },
  {
   "cell_type": "code",
   "execution_count": 95,
   "id": "89f05a54",
   "metadata": {},
   "outputs": [
    {
     "name": "stdout",
     "output_type": "stream",
     "text": [
      "Best Score: 0.6240035821421406\n",
      "Best Hyperparameters: {'alpha': 0.1, 'class_prior': None, 'fit_prior': True}\n"
     ]
    }
   ],
   "source": [
    "MNB(X2_train, y2_train)"
   ]
  },
  {
   "cell_type": "code",
   "execution_count": 96,
   "id": "ea7d4cac",
   "metadata": {},
   "outputs": [
    {
     "name": "stdout",
     "output_type": "stream",
     "text": [
      "Best Score: 0.6250761694568553\n",
      "Best Hyperparameters: {'alpha': 1, 'class_prior': None, 'fit_prior': True}\n"
     ]
    }
   ],
   "source": [
    "MNB(X3_train, y3_train)"
   ]
  },
  {
   "cell_type": "code",
   "execution_count": 97,
   "id": "8bb191f7",
   "metadata": {},
   "outputs": [
    {
     "name": "stdout",
     "output_type": "stream",
     "text": [
      "acc=0.6292\n",
      "micro F1=0.6292, micro P=0.6292, micro R=0.6292\n",
      "macro F1=0.4326, macro P=0.4167, macro R=0.5099\n",
      "\n"
     ]
    }
   ],
   "source": [
    "MultinomialNB_TFIDF = MultinomialNB(alpha=0.1, class_prior=None, fit_prior=True).fit(X2_train, y2_train)\n",
    "MultinomialNB_TFIDF_predicted = MultinomialNB_TFIDF.predict(X2_test)\n",
    "scoring2(MultinomialNB_TFIDF_predicted, y2_test)"
   ]
  },
  {
   "cell_type": "code",
   "execution_count": 98,
   "id": "c4f85ea1",
   "metadata": {},
   "outputs": [
    {
     "name": "stdout",
     "output_type": "stream",
     "text": [
      "acc=0.6216\n",
      "micro F1=0.6216, micro P=0.6216, micro R=0.6216\n",
      "macro F1=0.3945, macro P=0.3857, macro R=0.5363\n",
      "\n"
     ]
    }
   ],
   "source": [
    "MultinomialNB_BoW = MultinomialNB(alpha=1, class_prior=None, fit_prior=True).fit(X3_train, y3_train)\n",
    "MultinomialNB_BoW_predicted = MultinomialNB_BoW.predict(X3_test)\n",
    "scoring2(MultinomialNB_BoW_predicted, y3_test)"
   ]
  },
  {
   "cell_type": "markdown",
   "id": "d4c61759",
   "metadata": {},
   "source": [
    "# Logistic Regression"
   ]
  },
  {
   "cell_type": "markdown",
   "id": "cec048f7",
   "metadata": {},
   "source": [
    "Я тестировал разные параметры, убрал очень ресурсоемкие и незначительные"
   ]
  },
  {
   "cell_type": "code",
   "execution_count": 99,
   "id": "6cff145b",
   "metadata": {},
   "outputs": [],
   "source": [
    "from sklearn.linear_model import LogisticRegression\n",
    "\n",
    "def LR(x_train, y_train):\n",
    "    model = LogisticRegression()\n",
    "    cv = RepeatedKFold(n_splits=5, n_repeats=3, random_state=1)\n",
    "\n",
    "    space = dict()\n",
    "    space['penalty'] = ['l1', 'l2', 'elasticnet']\n",
    "    #space['dual'] = [True, False]\n",
    "    space['C'] = [1e-2, 1e-1, 1, 10, 100]\n",
    "    #space['fit_intercept'] = [True, False]\n",
    "    space['solver'] = ['newton-cg', 'lbfgs', 'sag', 'saga']\n",
    "    #space['warm_start'] = [True, False]\n",
    "    #space['l1_ratio'] = [1e-5, 1e-4, 1e-3, 1e-2, 1e-1, 1]\n",
    " \n",
    "    \n",
    "    search = GridSearchCV(model, space, scoring='f1_micro', n_jobs=-1, cv=cv)\n",
    "    result = search.fit(x_train, y_train)\n",
    "    print('Best Score: %s' % result.best_score_)\n",
    "    print('Best Hyperparameters: %s' % result.best_params_)"
   ]
  },
  {
   "cell_type": "code",
   "execution_count": 100,
   "id": "244aaaac",
   "metadata": {},
   "outputs": [
    {
     "name": "stdout",
     "output_type": "stream",
     "text": [
      "Best Score: 0.6315570410461943\n",
      "Best Hyperparameters: {'C': 10, 'penalty': 'l2', 'solver': 'lbfgs'}\n"
     ]
    }
   ],
   "source": [
    "LR(X2_train, y2_train)"
   ]
  },
  {
   "cell_type": "code",
   "execution_count": 101,
   "id": "19eb210c",
   "metadata": {},
   "outputs": [
    {
     "name": "stdout",
     "output_type": "stream",
     "text": [
      "Best Score: 0.6358008028826784\n",
      "Best Hyperparameters: {'C': 1, 'penalty': 'l2', 'solver': 'newton-cg'}\n"
     ]
    }
   ],
   "source": [
    "LR(X3_train, y3_train)"
   ]
  },
  {
   "cell_type": "code",
   "execution_count": 102,
   "id": "0cc56d0d",
   "metadata": {},
   "outputs": [
    {
     "name": "stdout",
     "output_type": "stream",
     "text": [
      "acc=0.6384\n",
      "micro F1=0.6384, micro P=0.6384, micro R=0.6384\n",
      "macro F1=0.4515, macro P=0.4312, macro R=0.5407\n",
      "\n"
     ]
    }
   ],
   "source": [
    "Log_R_TFIDF = LogisticRegression(C=10, penalty='l2', solver='lbfgs').fit(X2_train, y2_train)\n",
    "Log_R_TFIDF_predicted = Log_R_TFIDF.predict(X2_test)\n",
    "scoring2(Log_R_TFIDF_predicted, y2_test)"
   ]
  },
  {
   "cell_type": "code",
   "execution_count": 104,
   "id": "49ca8585",
   "metadata": {},
   "outputs": [
    {
     "name": "stdout",
     "output_type": "stream",
     "text": [
      "acc=0.6305\n",
      "micro F1=0.6305, micro P=0.6305, micro R=0.6305\n",
      "macro F1=0.4178, macro P=0.4011, macro R=0.5616\n",
      "\n"
     ]
    }
   ],
   "source": [
    "Log_R_BoW = LogisticRegression(C=1, penalty='l2', solver='newton-cg').fit(X3_train, y3_train)\n",
    "Log_R_BoW_predicted = Log_R_BoW.predict(X3_test)\n",
    "scoring2(Log_R_BoW_predicted, y3_test)"
   ]
  },
  {
   "cell_type": "markdown",
   "id": "4f510455",
   "metadata": {},
   "source": [
    "# RidgeCl"
   ]
  },
  {
   "cell_type": "code",
   "execution_count": 105,
   "id": "ea59d424",
   "metadata": {},
   "outputs": [],
   "source": [
    "from sklearn.linear_model import RidgeClassifier"
   ]
  },
  {
   "cell_type": "code",
   "execution_count": 106,
   "id": "f45bb4f4",
   "metadata": {},
   "outputs": [],
   "source": [
    "def RidgeCl(x_train, y_train):\n",
    "    model = RidgeClassifier()\n",
    "    cv = RepeatedKFold(n_splits=5, n_repeats=3, random_state=1)\n",
    "\n",
    "    space = dict()\n",
    "    space['alpha'] = [0.001, 0.01, 0.1, 1, 10, 100, 1000]\n",
    "    space['fit_intercept'] = [True, False]\n",
    "    space['normalize'] = [True, False]\n",
    "    space['solver'] = ['auto', 'svd', 'cholesky', 'lsqr', 'sparse_cg', 'sag', 'saga', 'lbfgs']\n",
    "    #space['warm_start'] = [True, False]\n",
    "    #space['l1_ratio'] = [1e-5, 1e-4, 1e-3, 1e-2, 1e-1, 1]\n",
    " \n",
    "    \n",
    "    search = GridSearchCV(model, space, scoring='f1_micro', n_jobs=-1, cv=cv)\n",
    "    result = search.fit(x_train, y_train)\n",
    "    print('Best Score: %s' % result.best_score_)\n",
    "    print('Best Hyperparameters: %s' % result.best_params_)"
   ]
  },
  {
   "cell_type": "code",
   "execution_count": 107,
   "id": "a1fd7c86",
   "metadata": {},
   "outputs": [
    {
     "name": "stdout",
     "output_type": "stream",
     "text": [
      "Best Score: 0.6349618377889895\n",
      "Best Hyperparameters: {'alpha': 1, 'fit_intercept': True, 'normalize': False, 'solver': 'sag'}\n"
     ]
    }
   ],
   "source": [
    "RidgeCl(X2_train, y2_train)"
   ]
  },
  {
   "cell_type": "code",
   "execution_count": 108,
   "id": "9eb75954",
   "metadata": {},
   "outputs": [
    {
     "name": "stdout",
     "output_type": "stream",
     "text": [
      "Best Score: 0.6316509988728324\n",
      "Best Hyperparameters: {'alpha': 1, 'fit_intercept': True, 'normalize': False, 'solver': 'sag'}\n"
     ]
    }
   ],
   "source": [
    "RidgeCl(X3_train, y3_train)"
   ]
  },
  {
   "cell_type": "code",
   "execution_count": 109,
   "id": "38743636",
   "metadata": {},
   "outputs": [
    {
     "name": "stdout",
     "output_type": "stream",
     "text": [
      "acc=0.6313\n",
      "micro F1=0.6313, micro P=0.6313, micro R=0.6313\n",
      "macro F1=0.4277, macro P=0.4102, macro R=0.5398\n",
      "\n"
     ]
    }
   ],
   "source": [
    "RC_TFIDF = RidgeClassifier(alpha=1, fit_intercept=True, solver='sag', normalize=False).fit(X2_train, y2_train)\n",
    "RC_TFIDF_predicted = RC_TFIDF.predict(X2_test)\n",
    "scoring2(RC_TFIDF_predicted, y2_test)"
   ]
  },
  {
   "cell_type": "code",
   "execution_count": 110,
   "id": "388e5e15",
   "metadata": {},
   "outputs": [
    {
     "name": "stdout",
     "output_type": "stream",
     "text": [
      "acc=0.6267\n",
      "micro F1=0.6267, micro P=0.6267, micro R=0.6267\n",
      "macro F1=0.4261, macro P=0.4070, macro R=0.5329\n",
      "\n"
     ]
    }
   ],
   "source": [
    "RC_BoW = RidgeClassifier(alpha=1, fit_intercept=True, solver='sag', normalize=False).fit(X3_train, y3_train)\n",
    "RC_BoW_predicted = RC_BoW.predict(X3_test)\n",
    "scoring2(RC_BoW_predicted, y3_test)"
   ]
  },
  {
   "cell_type": "markdown",
   "id": "96f28914",
   "metadata": {},
   "source": [
    "Визуализация"
   ]
  },
  {
   "cell_type": "code",
   "execution_count": 111,
   "id": "adfd2eff",
   "metadata": {},
   "outputs": [
    {
     "data": {
      "image/png": "[encoded data removed]",
      "text/plain": [
       "<Figure size 432x288 with 1 Axes>"
      ]
     },
     "metadata": {
      "needs_background": "light"
     },
     "output_type": "display_data"
    }
   ],
   "source": [
    "knc_cm = confusion_matrix(KNC_BoW_predicted, y2_test)\n",
    "cm_df = pd.DataFrame(knc_cm,\n",
    "                     index = [1, 2, 3, 4, 5], \n",
    "                     columns = [1, 2, 3, 4, 5])\n",
    "sns.heatmap(cm_df, annot=True, fmt=\"d\", cbar=False)\n",
    "plt.title(\"KNC_TFIDF Confusion matrix\")\n",
    "plt.show()"
   ]
  },
  {
   "cell_type": "code",
   "execution_count": 112,
   "id": "9c9d2c59",
   "metadata": {},
   "outputs": [
    {
     "data": {
      "image/png": "[encoded data removed]",
      "text/plain": [
       "<Figure size 432x288 with 1 Axes>"
      ]
     },
     "metadata": {
      "needs_background": "light"
     },
     "output_type": "display_data"
    }
   ],
   "source": [
    "rc_cm = confusion_matrix(RC_BoW_predicted, y2_test)\n",
    "cm_df = pd.DataFrame(rc_cm,\n",
    "                     index = [1, 2, 3, 4, 5], \n",
    "                     columns = [1, 2, 3, 4, 5])\n",
    "sns.heatmap(cm_df, annot=True, fmt=\"d\", cbar=False)\n",
    "plt.title(\"RC_TFIDF Confusion matrix\")\n",
    "plt.show()"
   ]
  },
  {
   "cell_type": "code",
   "execution_count": 113,
   "id": "a677866b",
   "metadata": {},
   "outputs": [
    {
     "data": {
      "image/png": "[encoded data removed]",
      "text/plain": [
       "<Figure size 432x288 with 1 Axes>"
      ]
     },
     "metadata": {
      "needs_background": "light"
     },
     "output_type": "display_data"
    }
   ],
   "source": [
    "mnb_cm = confusion_matrix(MultinomialNB_TFIDF_predicted, y2_test)\n",
    "cm_df = pd.DataFrame(mnb_cm,\n",
    "                     index = [1, 2, 3, 4, 5], \n",
    "                     columns = [1, 2, 3, 4, 5])\n",
    "sns.heatmap(cm_df, annot=True, fmt=\"d\", cbar=False)\n",
    "plt.title(\"MultinomialNB Confusion matrix\")\n",
    "plt.show()"
   ]
  },
  {
   "cell_type": "code",
   "execution_count": 114,
   "id": "e1bf1200",
   "metadata": {},
   "outputs": [
    {
     "data": {
      "image/png": "[encoded data removed]",
      "text/plain": [
       "<Figure size 432x288 with 1 Axes>"
      ]
     },
     "metadata": {
      "needs_background": "light"
     },
     "output_type": "display_data"
    }
   ],
   "source": [
    "lr_cm = confusion_matrix(Log_R_TFIDF_predicted, y2_test)\n",
    "cm_df = pd.DataFrame(lr_cm,\n",
    "                     index = [1, 2, 3, 4, 5], \n",
    "                     columns = [1, 2, 3, 4, 5])\n",
    "sns.heatmap(cm_df, annot=True, fmt=\"d\", cbar=False)\n",
    "plt.title(\"Log_R_BoW Confusion matrix\")\n",
    "plt.show()"
   ]
  },
  {
   "cell_type": "markdown",
   "id": "225e9b5a",
   "metadata": {},
   "source": [
    "Лучше всего справились <b>логистическая регрессия</b> и <b>MultinomialNB</b> - у них меньше всего неправильно предсказанных классов.<br>\n",
    "На других моделях есть небольшие смазы с другими классами."
   ]
  },
  {
   "cell_type": "markdown",
   "id": "a9e08920",
   "metadata": {},
   "source": [
    "Наблюдения:<br>\n",
    "* Разница между векторайзерами мизерная"
   ]
  },
  {
   "cell_type": "markdown",
   "id": "8d808f4e",
   "metadata": {},
   "source": [
    "Минусы:\n",
    "* Неправильно предсказывается 4 звезды вместо 5 + вместо 1 звезды ставится 5\n",
    "* Долгий серч"
   ]
  },
  {
   "cell_type": "markdown",
   "id": "70b2cc19",
   "metadata": {},
   "source": [
    "Плюсы:\n",
    "* В основном они предсказывают правильно (то есть хорошо различает плохие отзывы и нормально хорошие)\n",
    "* Хороший микро критерий"
   ]
  },
  {
   "cell_type": "markdown",
   "id": "600721f9",
   "metadata": {},
   "source": [
    "Что улучшить? <br>\n",
    "* Нормализовать классы\n",
    "* Не удалять стопслова\n",
    "* Попробовать нграммы в OneVsRestClassifier\n"
   ]
  }
 ],
 "metadata": {
  "kernelspec": {
   "display_name": "Python 3",
   "language": "python",
   "name": "python3"
  },
  "language_info": {
   "codemirror_mode": {
    "name": "ipython",
    "version": 3
   },
   "file_extension": ".py",
   "mimetype": "text/x-python",
   "name": "python",
   "nbconvert_exporter": "python",
   "pygments_lexer": "ipython3",
   "version": "3.8.5"
  }
 },
 "nbformat": 4,
 "nbformat_minor": 5
}
